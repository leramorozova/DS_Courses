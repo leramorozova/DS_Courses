{
 "cells": [
  {
   "cell_type": "code",
   "execution_count": 7,
   "metadata": {
    "colab": {
     "base_uri": "https://localhost:8080/",
     "height": 122
    },
    "colab_type": "code",
    "id": "iVcAFa5pMIGZ",
    "outputId": "2e59a641-ca7e-4ce7-a6cc-a7716d831502"
   },
   "outputs": [
    {
     "ename": "ImportError",
     "evalue": "No module named 'pandas'",
     "output_type": "error",
     "traceback": [
      "\u001b[0;31m---------------------------------------------------------------------------\u001b[0m",
      "\u001b[0;31mImportError\u001b[0m                               Traceback (most recent call last)",
      "\u001b[0;32m<ipython-input-7-f5f44a2ba3b4>\u001b[0m in \u001b[0;36m<module>\u001b[0;34m\u001b[0m\n\u001b[0;32m----> 1\u001b[0;31m \u001b[0;32mimport\u001b[0m \u001b[0mpandas\u001b[0m \u001b[0;32mas\u001b[0m \u001b[0mpd\u001b[0m\u001b[0;34m\u001b[0m\u001b[0m\n\u001b[0m\u001b[1;32m      2\u001b[0m \u001b[0mget_ipython\u001b[0m\u001b[0;34m(\u001b[0m\u001b[0;34m)\u001b[0m\u001b[0;34m.\u001b[0m\u001b[0msystem\u001b[0m\u001b[0;34m(\u001b[0m\u001b[0;34m'pip3 install pandas'\u001b[0m\u001b[0;34m)\u001b[0m\u001b[0;34m\u001b[0m\u001b[0m\n\u001b[1;32m      3\u001b[0m \u001b[0;32mimport\u001b[0m \u001b[0mnumpy\u001b[0m \u001b[0;32mas\u001b[0m \u001b[0mnp\u001b[0m\u001b[0;34m\u001b[0m\u001b[0m\n\u001b[1;32m      4\u001b[0m \u001b[0;32mimport\u001b[0m \u001b[0mmatplotlib\u001b[0m\u001b[0;34m.\u001b[0m\u001b[0mpyplot\u001b[0m \u001b[0;32mas\u001b[0m \u001b[0mplt\u001b[0m\u001b[0;34m\u001b[0m\u001b[0m\n\u001b[1;32m      5\u001b[0m \u001b[0;32mimport\u001b[0m \u001b[0mrandom\u001b[0m\u001b[0;34m\u001b[0m\u001b[0m\n",
      "\u001b[0;31mImportError\u001b[0m: No module named 'pandas'"
     ]
    }
   ],
   "source": [
    "import pandas as pd\n",
    "!pip3 install pandas\n",
    "import numpy as np\n",
    "import matplotlib.pyplot as plt\n",
    "import random\n",
    "%matplotlib inline\n",
    "\n",
    "df = pd.read_csv('data.csv')\n"
   ]
  },
  {
   "cell_type": "code",
   "execution_count": 5,
   "metadata": {
    "colab": {},
    "colab_type": "code",
    "id": "n08ebNTCdZi0"
   },
   "outputs": [
    {
     "ename": "NameError",
     "evalue": "name 'random' is not defined",
     "output_type": "error",
     "traceback": [
      "\u001b[0;31m---------------------------------------------------------------------------\u001b[0m",
      "\u001b[0;31mNameError\u001b[0m                                 Traceback (most recent call last)",
      "\u001b[0;32m<ipython-input-5-8860a275674a>\u001b[0m in \u001b[0;36m<module>\u001b[0;34m\u001b[0m\n\u001b[0;32m----> 1\u001b[0;31m \u001b[0mrandom\u001b[0m\u001b[0;34m.\u001b[0m\u001b[0mseed\u001b[0m\u001b[0;34m(\u001b[0m\u001b[0;36m42\u001b[0m\u001b[0;34m)\u001b[0m\u001b[0;34m\u001b[0m\u001b[0m\n\u001b[0m",
      "\u001b[0;31mNameError\u001b[0m: name 'random' is not defined"
     ]
    }
   ],
   "source": [
    "random.seed(42)"
   ]
  },
  {
   "cell_type": "code",
   "execution_count": 6,
   "metadata": {
    "colab": {
     "base_uri": "https://localhost:8080/",
     "height": 270
    },
    "colab_type": "code",
    "id": "G5zyj9DRPgYY",
    "outputId": "870c3a78-7516-4023-cf16-53af32365a32"
   },
   "outputs": [
    {
     "ename": "NameError",
     "evalue": "name 'df' is not defined",
     "output_type": "error",
     "traceback": [
      "\u001b[0;31m---------------------------------------------------------------------------\u001b[0m",
      "\u001b[0;31mNameError\u001b[0m                                 Traceback (most recent call last)",
      "\u001b[0;32m<ipython-input-6-c42a15b2c7cf>\u001b[0m in \u001b[0;36m<module>\u001b[0;34m\u001b[0m\n\u001b[0;32m----> 1\u001b[0;31m \u001b[0mdf\u001b[0m\u001b[0;34m.\u001b[0m\u001b[0mhead\u001b[0m\u001b[0;34m(\u001b[0m\u001b[0;34m)\u001b[0m\u001b[0;34m\u001b[0m\u001b[0m\n\u001b[0m",
      "\u001b[0;31mNameError\u001b[0m: name 'df' is not defined"
     ]
    }
   ],
   "source": [
    "df.head()"
   ]
  },
  {
   "cell_type": "code",
   "execution_count": null,
   "metadata": {
    "colab": {
     "base_uri": "https://localhost:8080/",
     "height": 34
    },
    "colab_type": "code",
    "id": "lVbzY8d8XQM2",
    "outputId": "cfcd2906-57f9-4f03-8907-c32455b8e803"
   },
   "outputs": [],
   "source": [
    "df.shape"
   ]
  },
  {
   "cell_type": "code",
   "execution_count": null,
   "metadata": {
    "colab": {
     "base_uri": "https://localhost:8080/",
     "height": 34
    },
    "colab_type": "code",
    "id": "jfupAUmTXZJ1",
    "outputId": "ace7a056-9b8a-44ba-d4ab-45cc31cfff35"
   },
   "outputs": [],
   "source": [
    "df[df['y'] == 0].shape, df[df['y'] == 1].shape"
   ]
  },
  {
   "cell_type": "code",
   "execution_count": null,
   "metadata": {
    "colab": {
     "base_uri": "https://localhost:8080/",
     "height": 34
    },
    "colab_type": "code",
    "id": "dp-jiNkWYTjb",
    "outputId": "a2e64812-5ff8-4015-ea2c-1d641dc3cb4f"
   },
   "outputs": [],
   "source": [
    "df1 = df[df['y'] == 1].sample(n = df[df['y'] == 0].shape[0])\n",
    "df2 = df[df['y'] == 0]\n",
    "df1.shape, df2.shape"
   ]
  },
  {
   "cell_type": "code",
   "execution_count": null,
   "metadata": {
    "colab": {},
    "colab_type": "code",
    "id": "_4DZuOjGdVsN"
   },
   "outputs": [],
   "source": [
    "df = pd.concat([df1, df2])"
   ]
  },
  {
   "cell_type": "code",
   "execution_count": null,
   "metadata": {
    "colab": {},
    "colab_type": "code",
    "id": "fcSO5lzQgPOd"
   },
   "outputs": [],
   "source": [
    "df = df.fillna(df.mean())"
   ]
  },
  {
   "cell_type": "code",
   "execution_count": null,
   "metadata": {
    "colab": {
     "base_uri": "https://localhost:8080/",
     "height": 34
    },
    "colab_type": "code",
    "id": "tIwJ_EhP0ua8",
    "outputId": "4d13a629-1a7f-47a2-ae0d-f4779e1a6f9d"
   },
   "outputs": [],
   "source": [
    "df[df['y'] == 0].shape, df[df['y'] == 1].shape"
   ]
  },
  {
   "cell_type": "code",
   "execution_count": null,
   "metadata": {
    "colab": {},
    "colab_type": "code",
    "id": "5IIiZLykl0IT"
   },
   "outputs": [],
   "source": [
    "df = df.sample(frac = 1.)"
   ]
  },
  {
   "cell_type": "code",
   "execution_count": null,
   "metadata": {
    "colab": {},
    "colab_type": "code",
    "id": "Urao8SpciGSQ"
   },
   "outputs": [],
   "source": [
    "x = np.array(df.iloc[:, :-1])\n",
    "y = np.array(df.iloc[:, -1:])"
   ]
  },
  {
   "cell_type": "code",
   "execution_count": null,
   "metadata": {
    "colab": {},
    "colab_type": "code",
    "id": "a2yGBdXMd1O0"
   },
   "outputs": [],
   "source": [
    "from sklearn.model_selection import train_test_split\n",
    "\n",
    "X_train, X_test, y_train, y_test = train_test_split(x, y, test_size=0.33, random_state=21)\n",
    "X_train = np.array(X_train)\n",
    "X_test = np.array(X_test)\n",
    "y_train = np.array(y_train)\n",
    "y_test = np.array(y_test)"
   ]
  },
  {
   "cell_type": "code",
   "execution_count": null,
   "metadata": {
    "colab": {
     "base_uri": "https://localhost:8080/",
     "height": 34
    },
    "colab_type": "code",
    "id": "fOfqx3tJhLCL",
    "outputId": "66a175fc-29a5-4f87-9af0-0250057f40aa"
   },
   "outputs": [],
   "source": [
    "sum(np.isnan(y_train))"
   ]
  },
  {
   "cell_type": "code",
   "execution_count": null,
   "metadata": {
    "colab": {
     "base_uri": "https://localhost:8080/",
     "height": 2397
    },
    "colab_type": "code",
    "id": "fSXRSj5scRHa",
    "outputId": "479ead82-3818-47ea-8783-61b21ee098aa"
   },
   "outputs": [],
   "source": [
    "import sklearn.preprocessing as sp\n",
    "\n",
    "scaler = sp.StandardScaler()\n",
    "X_train = scaler.fit_transform(X_train)\n",
    "X_test = scaler.fit_transform(X_test)\n",
    "\n",
    "X_train[:10]"
   ]
  },
  {
   "cell_type": "code",
   "execution_count": null,
   "metadata": {
    "colab": {
     "base_uri": "https://localhost:8080/",
     "height": 313
    },
    "colab_type": "code",
    "id": "acw1CQSuXttz",
    "outputId": "7bebe78b-a605-4343-e59a-3ccb07db27ae"
   },
   "outputs": [],
   "source": [
    "import sklearn.linear_model as lm\n",
    "import sklearn.metrics as sm\n",
    "from sklearn.metrics import roc_auc_score, auc\n",
    "from sklearn.metrics import accuracy_score\n",
    "\n",
    "N = [x for x in range(1000, 46000, 1000)]\n",
    "\n",
    "ERRs = []\n",
    "\n",
    "for n in N:\n",
    "    LR = lm.LinearRegression()\n",
    "    LR.fit(X_train[:n], y_train[:n])\n",
    "    y_pred = LR.predict(X_test[:n])\n",
    "    pos_feat = np.array([i for i in y_pred])\n",
    "    ERRs.append(sm.mean_squared_error(pos_feat, y_test[:n]))\n",
    "\n",
    "print('ROC-AUC: ', roc_auc_score(y_test, pos_feat))\n",
    "pos_feat = [1 if i > 0.5 else 0 for i in pos_feat]\n",
    "print('Accuracy: ', accuracy_score(y_test, pos_feat))\n",
    "    \n",
    "    \n",
    "plt.plot(N, ERRs)\n",
    "plt.xlabel(\"Nubmer of elements in a train set\")\n",
    "plt.ylabel(\"MSE\")\n",
    "plt.show()"
   ]
  },
  {
   "cell_type": "code",
   "execution_count": null,
   "metadata": {
    "colab": {},
    "colab_type": "code",
    "id": "RMWdgKCp2JSM"
   },
   "outputs": [],
   "source": [
    "# plt.scatter(X_test[:, 1].shape, y_test.shape, c=\"black\", alpha = 0.2)\n",
    "# X_test[:, :1].shape, y_test.shape"
   ]
  },
  {
   "cell_type": "code",
   "execution_count": null,
   "metadata": {
    "colab": {
     "base_uri": "https://localhost:8080/",
     "height": 313
    },
    "colab_type": "code",
    "id": "BXwFLZkiQkDI",
    "outputId": "3763e971-0496-4930-9b18-be5f1cf841d1"
   },
   "outputs": [],
   "source": [
    "from sklearn.neighbors import KNeighborsRegressor\n",
    "\n",
    "N = [x for x in range(1000, 16000, 1000)]\n",
    "\n",
    "ERRs = []\n",
    "\n",
    "for n in N:\n",
    "    KNR = KNeighborsRegressor()\n",
    "    KNR.fit(X_train[:n], y_train[:n])\n",
    "    y_pred = KNR.predict(X_test[:n])\n",
    "    pos_feat = np.array([i for i in y_pred])\n",
    "    ERRs.append(sm.mean_squared_error(pos_feat, y_test[:n]))\n",
    "\n",
    "print('ROC-AUC: ', roc_auc_score(y_test[:n], pos_feat))\n",
    "pos_feat = [1 if i > 0.5 else 0 for i in pos_feat]\n",
    "print('Accuracy: ', accuracy_score(y_test[:n], pos_feat))\n",
    "    \n",
    "    \n",
    "plt.plot(N, ERRs)\n",
    "plt.xlabel(\"Nubmer of elements in a train set\")\n",
    "plt.ylabel(\"MSE\")\n",
    "plt.show()"
   ]
  },
  {
   "cell_type": "code",
   "execution_count": null,
   "metadata": {
    "colab": {
     "base_uri": "https://localhost:8080/",
     "height": 324
    },
    "colab_type": "code",
    "id": "c2xEamQUsAN9",
    "outputId": "f392117f-db09-462b-eea4-a2e9b6bd2902"
   },
   "outputs": [],
   "source": [
    "import sklearn.preprocessing as pp\n",
    "PP = pp.PolynomialFeatures(degree=2)\n",
    "X_new = PP.fit_transform(X_train)\n",
    "\n",
    "X_test_new = PP.fit_transform(X_test)\n",
    "\n",
    "N = [x for x in range(1000, 46000, 1000)]\n",
    "\n",
    "ERRs = []\n",
    "\n",
    "for n in N:\n",
    "    LR = lm.LinearRegression()\n",
    "    LR.fit(X_new[:n], y_train[:n])\n",
    "    y_pred = LR.predict(X_test_new[:n])\n",
    "    pos_feat = np.array([i for i in y_pred])\n",
    "    ERRs.append(sm.mean_squared_error(pos_feat, y_test[:n]))\n",
    "\n",
    "print('ROC-AUC: ', roc_auc_score(y_test, pos_feat))\n",
    "pos_feat = [1 if i > 0.5 else 0 for i in pos_feat]\n",
    "print('Accuracy: ', accuracy_score(y_test, pos_feat))\n",
    "    \n",
    "    \n",
    "plt.plot(N, ERRs)\n",
    "plt.xlabel(\"Nubmer of elements in a train set\")\n",
    "plt.ylabel(\"MSE\")\n",
    "plt.show()"
   ]
  },
  {
   "cell_type": "code",
   "execution_count": null,
   "metadata": {
    "colab": {},
    "colab_type": "code",
    "id": "mHWFjdwXx0ZO"
   },
   "outputs": [],
   "source": [
    "features = []\n",
    "for elem in df:\n",
    "     features.append(elem)"
   ]
  },
  {
   "cell_type": "code",
   "execution_count": null,
   "metadata": {
    "colab": {},
    "colab_type": "code",
    "id": "3krhmckiyFJu"
   },
   "outputs": [],
   "source": [
    "features = features[1:]"
   ]
  },
  {
   "cell_type": "code",
   "execution_count": null,
   "metadata": {
    "colab": {
     "base_uri": "https://localhost:8080/",
     "height": 105
    },
    "colab_type": "code",
    "id": "mj6pK2J4j9Dr",
    "outputId": "b13dabc9-06d4-4b4c-eb8b-0d2d2b7fd16a"
   },
   "outputs": [],
   "source": [
    "logit = lm.LogisticRegression()\n",
    "logit.fit(X_train, y_train)\n",
    "y_pred = logit.predict(X_test)\n",
    "pos_feat = np.array([i for i in y_pred])\n",
    "\n",
    "print('ROC-AUC: ', roc_auc_score(y_test, pos_feat))\n",
    "print('Accuracy: ', accuracy_score(y_test, pos_feat))"
   ]
  },
  {
   "cell_type": "code",
   "execution_count": null,
   "metadata": {
    "colab": {
     "base_uri": "https://localhost:8080/",
     "height": 294
    },
    "colab_type": "code",
    "id": "bY3JScuvWmgU",
    "outputId": "156b0205-03fb-4910-c0da-96dd0f9be14b"
   },
   "outputs": [],
   "source": [
    "from sklearn.metrics import roc_curve\n",
    "\n",
    "fpr, tpr, threshold = roc_curve(y_test, pos_feat)\n",
    "roc_auc = auc(fpr, tpr)\n",
    "\n",
    "plt.title('ROC-curve')\n",
    "plt.plot(fpr, tpr, 'r', label = 'AUC = %0.2f' % roc_auc)\n",
    "plt.legend(loc = 'lower right')\n",
    "plt.plot([0, 1], [0, 1],'g--')\n",
    "plt.xlim([0, 1])\n",
    "plt.ylim([0, 1])\n",
    "plt.ylabel('True Positive Rate')\n",
    "plt.xlabel('False Positive Rate')\n",
    "plt.show()"
   ]
  },
  {
   "cell_type": "code",
   "execution_count": null,
   "metadata": {
    "colab": {
     "base_uri": "https://localhost:8080/",
     "height": 51
    },
    "colab_type": "code",
    "id": "GNxzRJFKHdES",
    "outputId": "1bf1f6af-db2d-46a8-c874-80e6e3af888b"
   },
   "outputs": [],
   "source": [
    "from sklearn.tree import DecisionTreeClassifier\n",
    "\n",
    "DTC = DecisionTreeClassifier(random_state=1)\n",
    "DTC.fit(X_train, y_train)\n",
    "y_pred = DTC.predict_proba(X_test)\n",
    "\n",
    "pos_feat = np.array([i[1] for i in y_pred])\n",
    "\n",
    "print('ROC-AUC: ', roc_auc_score(y_test, pos_feat))\n",
    "print('Accuracy: ', accuracy_score(y_test, pos_feat))"
   ]
  },
  {
   "cell_type": "code",
   "execution_count": null,
   "metadata": {
    "colab": {
     "base_uri": "https://localhost:8080/",
     "height": 878
    },
    "colab_type": "code",
    "id": "PpXyxRRAXOzw",
    "outputId": "a155f5fb-c9bd-43f0-e267-97e366b89bc0"
   },
   "outputs": [],
   "source": [
    "from sklearn.tree import export_graphviz\n",
    "!pip install imageio\n",
    "from imageio import imread\n",
    "\n",
    "features = df.iloc[:, :-1]\n",
    "feature_names = features.columns\n",
    "\n",
    "def visualize_tree(tree, feature_names, fh=10, fw=10):\n",
    "    \"\"\"Create tree png using graphviz.\n",
    "\n",
    "    Args\n",
    "    ----\n",
    "    tree -- scikit-learn DecsisionTree.\n",
    "    feature_names -- list of feature names.\n",
    "    \"\"\"\n",
    "    with open(\"/content/drive/My Drive/data/dt.dot\", 'w') as f:\n",
    "        export_graphviz(tree, out_file=f, feature_names=feature_names)\n",
    "\n",
    "    command = [\"dot\", \"-Tpng\", \"/content/drive/My Drive/data/dt.dot\", \\\n",
    "               \"-o /content/drive/My Drive/data/dt.png\"]\n",
    "    try:\n",
    "        subprocess.check_call(command)\n",
    "    except:\n",
    "        exit(\"Could not run dot, ie graphviz, to \"\n",
    "             \"produce visualization\")\n",
    "    plt.figure(figsize=(fh, fw))\n",
    "    plt.imshow(imread(\"/content/drive/My Drive/data/dt.png\"))\n",
    "    plt.axis(\"off\")\n",
    "    \n",
    "visualize_tree(DTC, feature_names)"
   ]
  },
  {
   "cell_type": "code",
   "execution_count": null,
   "metadata": {
    "colab": {
     "base_uri": "https://localhost:8080/",
     "height": 51
    },
    "colab_type": "code",
    "id": "DYsjKU_MXc38",
    "outputId": "c7018d72-4db2-4a98-de89-05ea3b24cd87"
   },
   "outputs": [],
   "source": [
    "np.random.seed(123)  # для одинакового бутстрапа в каждом запуске\n",
    "\n",
    "summary = np.zeros((17034, 2))\n",
    "\n",
    "DTC = DecisionTreeClassifier(random_state=1)\n",
    "\n",
    "for i in range(100):\n",
    "    choice = np.random.randint(0, 1400, size=len(X_train))\n",
    "    X_train_boot = [X_train[n] for n in choice]\n",
    "    y_train_boot = [y_train[n] for n in choice]\n",
    "    DTC.fit(X_train_boot, y_train_boot)\n",
    "    summary += DTC.predict_proba(X_test)\n",
    "\n",
    "result = summary / 100\n",
    "\n",
    "pos_feat = np.array([i[1] for i in result])\n",
    "\n",
    "print('ROC-AUC: ', roc_auc_score(y_test, pos_feat))\n",
    "print('Accuracy: ', accuracy_score(y_test, pos_feat))"
   ]
  },
  {
   "cell_type": "code",
   "execution_count": null,
   "metadata": {
    "colab": {
     "base_uri": "https://localhost:8080/",
     "height": 105
    },
    "colab_type": "code",
    "id": "Y2hKLmiIJYFW",
    "outputId": "6178bf49-858c-45c6-ce97-e84f10b19f23"
   },
   "outputs": [],
   "source": [
    "from sklearn.ensemble import RandomForestClassifier\n",
    "\n",
    "forest = RandomForestClassifier(n_estimators=100)\n",
    "\n",
    "forest.fit(X_train, y_train)\n",
    "\n",
    "y_pred = forest.predict_proba(X_test)\n",
    "\n",
    "pos_feat = np.array([i[1] for i in y_pred])\n",
    "\n",
    "print('ROC-AUC: ', roc_auc_score(y_test, pos_feat))\n",
    "pos_feat = [1 if i > 0.5 else 0 for i in pos_feat]\n",
    "print('Accuracy: ', accuracy_score(y_test, pos_feat))"
   ]
  },
  {
   "cell_type": "code",
   "execution_count": null,
   "metadata": {
    "colab": {},
    "colab_type": "code",
    "id": "neXxukO1bwkT"
   },
   "outputs": [],
   "source": []
  }
 ],
 "metadata": {
  "colab": {
   "collapsed_sections": [],
   "name": "DS_Project.ipynb",
   "provenance": [],
   "version": "0.3.2"
  },
  "kernelspec": {
   "display_name": "Python 3",
   "language": "python",
   "name": "python3"
  },
  "language_info": {
   "codemirror_mode": {
    "name": "ipython",
    "version": 3
   },
   "file_extension": ".py",
   "mimetype": "text/x-python",
   "name": "python",
   "nbconvert_exporter": "python",
   "pygments_lexer": "ipython3",
   "version": "3.5.2"
  }
 },
 "nbformat": 4,
 "nbformat_minor": 1
}
