{
  "nbformat": 4,
  "nbformat_minor": 0,
  "metadata": {
    "colab": {
      "name": "MorozovaValeriaAlexeevna_3_notebook.ipynb",
      "version": "0.3.2",
      "provenance": [],
      "collapsed_sections": []
    },
    "kernelspec": {
      "name": "python3",
      "display_name": "Python 3"
    },
    "accelerator": "GPU"
  },
  "cells": [
    {
      "metadata": {
        "id": "1gp3zdw62d31",
        "colab_type": "code",
        "colab": {
          "base_uri": "https://localhost:8080/",
          "height": 417
        },
        "outputId": "06b5832b-e096-4fa1-d6fe-56c5ae3d49d1"
      },
      "cell_type": "code",
      "source": [
        "# downloading dataset from kaggle\n",
        "\n",
        "! pip3 install keras\n",
        "\n",
        "! pip install kaggle --upgrade\n",
        " \n",
        "! KAGGLE_USERNAME=\"ephobia\" KAGGLE_KEY=\"5b1e884343d9f9b18bb2dd73299f3086\" kaggle competitions download -c quickdraw-doodle-recognition -f train_simplified.zip --force"
      ],
      "execution_count": 138,
      "outputs": [
        {
          "output_type": "stream",
          "text": [
            "Requirement already satisfied: keras in /usr/local/lib/python3.6/dist-packages (2.2.4)\n",
            "Requirement already satisfied: pyyaml in /usr/local/lib/python3.6/dist-packages (from keras) (3.13)\n",
            "Requirement already satisfied: six>=1.9.0 in /usr/local/lib/python3.6/dist-packages (from keras) (1.11.0)\n",
            "Requirement already satisfied: keras-preprocessing>=1.0.5 in /usr/local/lib/python3.6/dist-packages (from keras) (1.0.5)\n",
            "Requirement already satisfied: numpy>=1.9.1 in /usr/local/lib/python3.6/dist-packages (from keras) (1.14.6)\n",
            "Requirement already satisfied: h5py in /usr/local/lib/python3.6/dist-packages (from keras) (2.8.0)\n",
            "Requirement already satisfied: scipy>=0.14 in /usr/local/lib/python3.6/dist-packages (from keras) (1.1.0)\n",
            "Requirement already satisfied: keras-applications>=1.0.6 in /usr/local/lib/python3.6/dist-packages (from keras) (1.0.6)\n",
            "Requirement already up-to-date: kaggle in /usr/local/lib/python3.6/dist-packages (1.5.0)\n",
            "Requirement already satisfied, skipping upgrade: certifi in /usr/local/lib/python3.6/dist-packages (from kaggle) (2018.10.15)\n",
            "Requirement already satisfied, skipping upgrade: tqdm in /usr/local/lib/python3.6/dist-packages (from kaggle) (4.28.1)\n",
            "Requirement already satisfied, skipping upgrade: python-slugify in /usr/local/lib/python3.6/dist-packages (from kaggle) (1.2.6)\n",
            "Requirement already satisfied, skipping upgrade: python-dateutil in /usr/local/lib/python3.6/dist-packages (from kaggle) (2.5.3)\n",
            "Requirement already satisfied, skipping upgrade: requests in /usr/local/lib/python3.6/dist-packages (from kaggle) (2.18.4)\n",
            "Requirement already satisfied, skipping upgrade: six>=1.10 in /usr/local/lib/python3.6/dist-packages (from kaggle) (1.11.0)\n",
            "Requirement already satisfied, skipping upgrade: urllib3<1.23.0,>=1.15 in /usr/local/lib/python3.6/dist-packages (from kaggle) (1.22)\n",
            "Requirement already satisfied, skipping upgrade: Unidecode>=0.04.16 in /usr/local/lib/python3.6/dist-packages (from python-slugify->kaggle) (1.0.22)\n",
            "Requirement already satisfied, skipping upgrade: idna<2.7,>=2.5 in /usr/local/lib/python3.6/dist-packages (from requests->kaggle) (2.6)\n",
            "Requirement already satisfied, skipping upgrade: chardet<3.1.0,>=3.0.2 in /usr/local/lib/python3.6/dist-packages (from requests->kaggle) (3.0.4)\n",
            "Downloading train_simplified.zip to /content\n",
            "100% 7.36G/7.37G [01:23<00:00, 122MB/s]\n",
            "100% 7.37G/7.37G [01:23<00:00, 94.3MB/s]\n"
          ],
          "name": "stdout"
        }
      ]
    },
    {
      "metadata": {
        "id": "ef88OdJOj5to",
        "colab_type": "code",
        "colab": {
          "base_uri": "https://localhost:8080/",
          "height": 5762
        },
        "outputId": "ce2afa9a-a1d0-44e8-c030-a01fb58fddca"
      },
      "cell_type": "code",
      "source": [
        "! unzip train_simplified.zip -d train_data\n",
        "! ls"
      ],
      "execution_count": 5,
      "outputs": [
        {
          "output_type": "stream",
          "text": [
            "Archive:  train_simplified.zip\n",
            "  inflating: train_data/fence.csv    \n",
            "  inflating: train_data/yoga.csv     \n",
            "  inflating: train_data/horse.csv    \n",
            "  inflating: train_data/sandwich.csv  \n",
            "  inflating: train_data/cat.csv      \n",
            "  inflating: train_data/camouflage.csv  \n",
            "  inflating: train_data/mosquito.csv  \n",
            "  inflating: train_data/see saw.csv  \n",
            "  inflating: train_data/onion.csv    \n",
            "  inflating: train_data/grapes.csv   \n",
            "  inflating: train_data/chandelier.csv  \n",
            "  inflating: train_data/stitches.csv  \n",
            "  inflating: train_data/sink.csv     \n",
            "  inflating: train_data/trumpet.csv  \n",
            "  inflating: train_data/cell phone.csv  \n",
            "  inflating: train_data/skyscraper.csv  \n",
            "  inflating: train_data/hourglass.csv  \n",
            "  inflating: train_data/donut.csv    \n",
            "  inflating: train_data/ceiling fan.csv  \n",
            "  inflating: train_data/bowtie.csv   \n",
            "  inflating: train_data/lipstick.csv  \n",
            "  inflating: train_data/suitcase.csv  \n",
            "  inflating: train_data/moon.csv     \n",
            "  inflating: train_data/dishwasher.csv  \n",
            "  inflating: train_data/mermaid.csv  \n",
            "  inflating: train_data/crocodile.csv  \n",
            "  inflating: train_data/tiger.csv    \n",
            "  inflating: train_data/trombone.csv  \n",
            "  inflating: train_data/hot air balloon.csv  \n",
            "  inflating: train_data/bread.csv    \n",
            "  inflating: train_data/bottlecap.csv  \n",
            "  inflating: train_data/mountain.csv  \n",
            "  inflating: train_data/pool.csv     \n",
            "  inflating: train_data/snake.csv    \n",
            "  inflating: train_data/dog.csv      \n",
            "  inflating: train_data/ambulance.csv  \n",
            "  inflating: train_data/backpack.csv  \n",
            "  inflating: train_data/dumbbell.csv  \n",
            "  inflating: train_data/elbow.csv    \n",
            "  inflating: train_data/frog.csv     \n",
            "  inflating: train_data/screwdriver.csv  \n",
            "  inflating: train_data/fire hydrant.csv  \n",
            "  inflating: train_data/squiggle.csv  \n",
            "  inflating: train_data/dresser.csv  \n",
            "  inflating: train_data/axe.csv      \n",
            "  inflating: train_data/mailbox.csv  \n",
            "  inflating: train_data/cannon.csv   \n",
            "  inflating: train_data/bear.csv     \n",
            "  inflating: train_data/hand.csv     \n",
            "  inflating: train_data/toilet.csv   \n",
            "  inflating: train_data/garden hose.csv  \n",
            "  inflating: train_data/tennis racquet.csv  \n",
            "  inflating: train_data/cup.csv      \n",
            "  inflating: train_data/drums.csv    \n",
            "  inflating: train_data/hat.csv      \n",
            "  inflating: train_data/bucket.csv   \n",
            "  inflating: train_data/stop sign.csv  \n",
            "  inflating: train_data/remote control.csv  \n",
            "  inflating: train_data/key.csv      \n",
            "  inflating: train_data/penguin.csv  \n",
            "  inflating: train_data/cookie.csv   \n",
            "  inflating: train_data/blackberry.csv  \n",
            "  inflating: train_data/shoe.csv     \n",
            "  inflating: train_data/popsicle.csv  \n",
            "  inflating: train_data/cruise ship.csv  \n",
            "  inflating: train_data/rabbit.csv   \n",
            "  inflating: train_data/spreadsheet.csv  \n",
            "  inflating: train_data/microwave.csv  \n",
            "  inflating: train_data/ant.csv      \n",
            "  inflating: train_data/parrot.csv   \n",
            "  inflating: train_data/wine bottle.csv  \n",
            "  inflating: train_data/bat.csv      \n",
            "  inflating: train_data/traffic light.csv  \n",
            "  inflating: train_data/whale.csv    \n",
            "  inflating: train_data/wheel.csv    \n",
            "  inflating: train_data/hockey stick.csv  \n",
            "  inflating: train_data/squirrel.csv  \n",
            "  inflating: train_data/panda.csv    \n",
            "  inflating: train_data/line.csv     \n",
            "  inflating: train_data/picture frame.csv  \n",
            "  inflating: train_data/finger.csv   \n",
            "  inflating: train_data/sailboat.csv  \n",
            "  inflating: train_data/compass.csv  \n",
            "  inflating: train_data/mouth.csv    \n",
            "  inflating: train_data/eraser.csv   \n",
            "  inflating: train_data/ladder.csv   \n",
            "  inflating: train_data/bench.csv    \n",
            "  inflating: train_data/frying pan.csv  \n",
            "  inflating: train_data/goatee.csv   \n",
            "  inflating: train_data/school bus.csv  \n",
            "  inflating: train_data/camel.csv    \n",
            "  inflating: train_data/flamingo.csv  \n",
            "  inflating: train_data/baseball bat.csv  \n",
            "  inflating: train_data/floor lamp.csv  \n",
            "  inflating: train_data/hedgehog.csv  \n",
            "  inflating: train_data/stereo.csv   \n",
            "  inflating: train_data/bridge.csv   \n",
            "  inflating: train_data/broccoli.csv  \n",
            "  inflating: train_data/blueberry.csv  \n",
            "  inflating: train_data/bathtub.csv  \n",
            "  inflating: train_data/cooler.csv   \n",
            "  inflating: train_data/coffee cup.csv  \n",
            "  inflating: train_data/grass.csv    \n",
            "  inflating: train_data/pickup truck.csv  \n",
            "  inflating: train_data/toe.csv      \n",
            "  inflating: train_data/monkey.csv   \n",
            "  inflating: train_data/string bean.csv  \n",
            "  inflating: train_data/soccer ball.csv  \n",
            "  inflating: train_data/zigzag.csv   \n",
            "  inflating: train_data/helicopter.csv  \n",
            "  inflating: train_data/smiley face.csv  \n",
            "  inflating: train_data/pig.csv      \n",
            "  inflating: train_data/octagon.csv  \n",
            "  inflating: train_data/skull.csv    \n",
            "  inflating: train_data/hospital.csv  \n",
            "  inflating: train_data/firetruck.csv  \n",
            "  inflating: train_data/leaf.csv     \n",
            "  inflating: train_data/megaphone.csv  \n",
            "  inflating: train_data/apple.csv    \n",
            "  inflating: train_data/stove.csv    \n",
            "  inflating: train_data/lightning.csv  \n",
            "  inflating: train_data/fireplace.csv  \n",
            "  inflating: train_data/banana.csv   \n",
            "  inflating: train_data/fork.csv     \n",
            "  inflating: train_data/foot.csv     \n",
            "  inflating: train_data/saw.csv      \n",
            "  inflating: train_data/purse.csv    \n",
            "  inflating: train_data/sword.csv    \n",
            "  inflating: train_data/saxophone.csv  \n",
            "  inflating: train_data/washing machine.csv  \n",
            "  inflating: train_data/parachute.csv  \n",
            "  inflating: train_data/alarm clock.csv  \n",
            "  inflating: train_data/anvil.csv    \n",
            "  inflating: train_data/birthday cake.csv  \n",
            "  inflating: train_data/snowman.csv  \n",
            "  inflating: train_data/beach.csv    \n",
            "  inflating: train_data/boomerang.csv  \n",
            "  inflating: train_data/snorkel.csv  \n",
            "  inflating: train_data/underwear.csv  \n",
            "  inflating: train_data/pillow.csv   \n",
            "  inflating: train_data/keyboard.csv  \n",
            "  inflating: train_data/sleeping bag.csv  \n",
            "  inflating: train_data/pear.csv     \n",
            "  inflating: train_data/church.csv   \n",
            "  inflating: train_data/ocean.csv    \n",
            "  inflating: train_data/headphones.csv  \n",
            "  inflating: train_data/lighthouse.csv  \n",
            "  inflating: train_data/star.csv     \n",
            "  inflating: train_data/campfire.csv  \n",
            "  inflating: train_data/rake.csv     \n",
            "  inflating: train_data/shark.csv    \n",
            "  inflating: train_data/camera.csv   \n",
            "  inflating: train_data/guitar.csv   \n",
            "  inflating: train_data/rain.csv     \n",
            "  inflating: train_data/calendar.csv  \n",
            "  inflating: train_data/vase.csv     \n",
            "  inflating: train_data/flower.csv   \n",
            "  inflating: train_data/sweater.csv  \n",
            "  inflating: train_data/mug.csv      \n",
            "  inflating: train_data/jail.csv     \n",
            "  inflating: train_data/telephone.csv  \n",
            "  inflating: train_data/pencil.csv   \n",
            "  inflating: train_data/speedboat.csv  \n",
            "  inflating: train_data/scorpion.csv  \n",
            "  inflating: train_data/flying saucer.csv  \n",
            "  inflating: train_data/jacket.csv   \n",
            "  inflating: train_data/microphone.csv  \n",
            "  inflating: train_data/cloud.csv    \n",
            "  inflating: train_data/marker.csv   \n",
            "  inflating: train_data/shovel.csv   \n",
            "  inflating: train_data/raccoon.csv  \n",
            "  inflating: train_data/steak.csv    \n",
            "  inflating: train_data/face.csv     \n",
            "  inflating: train_data/brain.csv    \n",
            "  inflating: train_data/passport.csv  \n",
            "  inflating: train_data/basketball.csv  \n",
            "  inflating: train_data/diamond.csv  \n",
            "  inflating: train_data/train.csv    \n",
            "  inflating: train_data/tent.csv     \n",
            "  inflating: train_data/beard.csv    \n",
            "  inflating: train_data/flip flops.csv  \n",
            "  inflating: train_data/kangaroo.csv  \n",
            "  inflating: train_data/tornado.csv  \n",
            "  inflating: train_data/house plant.csv  \n",
            "  inflating: train_data/lantern.csv  \n",
            "  inflating: train_data/canoe.csv    \n",
            "  inflating: train_data/castle.csv   \n",
            "  inflating: train_data/diving board.csv  \n",
            "  inflating: train_data/barn.csv     \n",
            "  inflating: train_data/bed.csv      \n",
            "  inflating: train_data/nail.csv     \n",
            "  inflating: train_data/hockey puck.csv  \n",
            "  inflating: train_data/peanut.csv   \n",
            "  inflating: train_data/bush.csv     \n",
            "  inflating: train_data/bus.csv      \n",
            "  inflating: train_data/animal migration.csv  \n",
            "  inflating: train_data/book.csv     \n",
            "  inflating: train_data/river.csv    \n",
            "  inflating: train_data/pizza.csv    \n",
            "  inflating: train_data/sheep.csv    \n",
            "  inflating: train_data/lion.csv     \n",
            "  inflating: train_data/postcard.csv  \n",
            "  inflating: train_data/sea turtle.csv  \n",
            "  inflating: train_data/roller coaster.csv  \n",
            "  inflating: train_data/ice cream.csv  \n",
            "  inflating: train_data/cello.csv    \n",
            "  inflating: train_data/strawberry.csv  \n",
            "  inflating: train_data/fan.csv      \n",
            "  inflating: train_data/drill.csv    \n",
            "  inflating: train_data/calculator.csv  \n",
            "  inflating: train_data/octopus.csv  \n",
            "  inflating: train_data/pineapple.csv  \n",
            "  inflating: train_data/hexagon.csv  \n",
            "  inflating: train_data/dragon.csv   \n",
            "  inflating: train_data/bicycle.csv  \n",
            "  inflating: train_data/square.csv   \n",
            "  inflating: train_data/tractor.csv  \n",
            "  inflating: train_data/toaster.csv  \n",
            "  inflating: train_data/butterfly.csv  \n",
            "  inflating: train_data/harp.csv     \n",
            "  inflating: train_data/crayon.csv   \n",
            "  inflating: train_data/t-shirt.csv  \n",
            "  inflating: train_data/necklace.csv  \n",
            "  inflating: train_data/paintbrush.csv  \n",
            "  inflating: train_data/bandage.csv  \n",
            "  inflating: train_data/arm.csv      \n",
            "  inflating: train_data/paint can.csv  \n",
            "  inflating: train_data/hot dog.csv  \n",
            "  inflating: train_data/swing set.csv  \n",
            "  inflating: train_data/door.csv     \n",
            "  inflating: train_data/dolphin.csv  \n",
            "  inflating: train_data/mouse.csv    \n",
            "  inflating: train_data/piano.csv    \n",
            "  inflating: train_data/mushroom.csv  \n",
            "  inflating: train_data/nose.csv     \n",
            "  inflating: train_data/bird.csv     \n",
            "  inflating: train_data/fish.csv     \n",
            "  inflating: train_data/table.csv    \n",
            "  inflating: train_data/light bulb.csv  \n",
            "  inflating: train_data/crown.csv    \n",
            "  inflating: train_data/duck.csv     \n",
            "  inflating: train_data/The Eiffel Tower.csv  \n",
            "  inflating: train_data/house.csv    \n",
            "  inflating: train_data/palm tree.csv  \n",
            "  inflating: train_data/cactus.csv   \n",
            "  inflating: train_data/hot tub.csv  \n",
            "  inflating: train_data/bee.csv      \n",
            "  inflating: train_data/bracelet.csv  \n",
            "  inflating: train_data/wine glass.csv  \n",
            "  inflating: train_data/The Mona Lisa.csv  \n",
            "  inflating: train_data/bulldozer.csv  \n",
            "  inflating: train_data/scissors.csv  \n",
            "  inflating: train_data/moustache.csv  \n",
            "  inflating: train_data/owl.csv      \n",
            "  inflating: train_data/eyeglasses.csv  \n",
            "  inflating: train_data/helmet.csv   \n",
            "  inflating: train_data/teapot.csv   \n",
            "  inflating: train_data/streetlight.csv  \n",
            "  inflating: train_data/candle.csv   \n",
            "  inflating: train_data/swan.csv     \n",
            "  inflating: train_data/map.csv      \n",
            "  inflating: train_data/angel.csv    \n",
            "  inflating: train_data/sock.csv     \n",
            "  inflating: train_data/rhinoceros.csv  \n",
            "  inflating: train_data/wristwatch.csv  \n",
            "  inflating: train_data/garden.csv   \n",
            "  inflating: train_data/leg.csv      \n",
            "  inflating: train_data/golf club.csv  \n",
            "  inflating: train_data/hurricane.csv  \n",
            "  inflating: train_data/matches.csv  \n",
            "  inflating: train_data/umbrella.csv  \n",
            "  inflating: train_data/pants.csv    \n",
            "  inflating: train_data/laptop.csv   \n",
            "  inflating: train_data/pond.csv     \n",
            "  inflating: train_data/spoon.csv    \n",
            "  inflating: train_data/asparagus.csv  \n",
            "  inflating: train_data/stairs.csv   \n",
            "  inflating: train_data/eye.csv      \n",
            "  inflating: train_data/submarine.csv  \n",
            "  inflating: train_data/cow.csv      \n",
            "  inflating: train_data/couch.csv    \n",
            "  inflating: train_data/broom.csv    \n",
            "  inflating: train_data/flashlight.csv  \n",
            "  inflating: train_data/potato.csv   \n",
            "  inflating: train_data/baseball.csv  \n",
            "  inflating: train_data/tree.csv     \n",
            "  inflating: train_data/circle.csv   \n",
            "  inflating: train_data/radio.csv    \n",
            "  inflating: train_data/clock.csv    \n",
            "  inflating: train_data/hammer.csv   \n",
            "  inflating: train_data/sun.csv      \n",
            "  inflating: train_data/stethoscope.csv  \n",
            "  inflating: train_data/ear.csv      \n",
            "  inflating: train_data/watermelon.csv  \n",
            "  inflating: train_data/cake.csv     \n",
            "  inflating: train_data/paper clip.csv  \n",
            "  inflating: train_data/windmill.csv  \n",
            "  inflating: train_data/violin.csv   \n",
            "  inflating: train_data/belt.csv     \n",
            "  inflating: train_data/pliers.csv   \n",
            "  inflating: train_data/elephant.csv  \n",
            "  inflating: train_data/knee.csv     \n",
            "  inflating: train_data/triangle.csv  \n",
            "  inflating: train_data/feather.csv  \n",
            "  inflating: train_data/computer.csv  \n",
            "  inflating: train_data/rainbow.csv  \n",
            "  inflating: train_data/lollipop.csv  \n",
            "  inflating: train_data/police car.csv  \n",
            "  inflating: train_data/shorts.csv   \n",
            "  inflating: train_data/skateboard.csv  \n",
            "  inflating: train_data/rollerskates.csv  \n",
            "  inflating: train_data/zebra.csv    \n",
            "  inflating: train_data/motorbike.csv  \n",
            "  inflating: train_data/spider.csv   \n",
            "  inflating: train_data/snail.csv    \n",
            "  inflating: train_data/toothbrush.csv  \n",
            "  inflating: train_data/binoculars.csv  \n",
            "  inflating: train_data/waterslide.csv  \n",
            "  inflating: train_data/truck.csv    \n",
            "  inflating: train_data/chair.csv    \n",
            "  inflating: train_data/airplane.csv  \n",
            "  inflating: train_data/peas.csv     \n",
            "  inflating: train_data/envelope.csv  \n",
            "  inflating: train_data/tooth.csv    \n",
            "  inflating: train_data/The Great Wall of China.csv  \n",
            "  inflating: train_data/crab.csv     \n",
            "  inflating: train_data/van.csv      \n",
            "  inflating: train_data/clarinet.csv  \n",
            "  inflating: train_data/car.csv      \n",
            "  inflating: train_data/carrot.csv   \n",
            "  inflating: train_data/basket.csv   \n",
            "  inflating: train_data/snowflake.csv  \n",
            "  inflating: train_data/power outlet.csv  \n",
            "  inflating: train_data/hamburger.csv  \n",
            "  inflating: train_data/lobster.csv  \n",
            "  inflating: train_data/toothpaste.csv  \n",
            "  inflating: train_data/teddy-bear.csv  \n",
            "  inflating: train_data/television.csv  \n",
            "  inflating: train_data/oven.csv     \n",
            "  inflating: train_data/giraffe.csv  \n",
            "sample_data  train_data  train_simplified.zip\n"
          ],
          "name": "stdout"
        }
      ]
    },
    {
      "metadata": {
        "id": "v4RwgJoPwrER",
        "colab_type": "code",
        "colab": {}
      },
      "cell_type": "code",
      "source": [
        "import numpy as np\n",
        "import zipfile\n",
        "import pandas as pd\n",
        "import tqdm\n",
        "import matplotlib \n",
        "import matplotlib.pyplot as plt\n",
        "import csv\n",
        "import os\n",
        "\n",
        "\n",
        "zf = zipfile.ZipFile(\"train_simplified.zip\")\n",
        "\n",
        "class_labels = [x.replace(\".csv\", \"\") for x in zf.namelist()]\n",
        "\n",
        "\n",
        "# loop through file eternally\n",
        "def get_eternal_csv_generator(fn, debug=False):\n",
        "  while True:\n",
        "    with open(os.path.join('train_data', fn), \"r\") as f:\n",
        "      f.readline()  # skip header\n",
        "      lines = csv.reader(f, delimiter=',', quotechar='\"')\n",
        "      for line in lines:\n",
        "        yield line[1], line[5]\n",
        "      if debug:\n",
        "        print(fn, \"is done, starting from the beginning...\")\n"
      ],
      "execution_count": 0,
      "outputs": []
    },
    {
      "metadata": {
        "colab_type": "code",
        "id": "3s1fXDIw-ICr",
        "colab": {}
      },
      "cell_type": "code",
      "source": [
        "def raw_batch_generator(batch_size, debug=False):\n",
        "    generators = np.array([get_eternal_csv_generator(fn, debug) for fn in zf.namelist()])\n",
        "    while True:\n",
        "        np.random.seed(42)\n",
        "        random_indices = np.random.randint(0, len(generators), size=batch_size)\n",
        "        yield [next(gen) for gen in generators[random_indices]]\n"
      ],
      "execution_count": 0,
      "outputs": []
    },
    {
      "metadata": {
        "id": "kDlVYD2rjZXg",
        "colab_type": "code",
        "colab": {}
      },
      "cell_type": "code",
      "source": [
        "import ast\n",
        "from PIL import Image, ImageDraw\n",
        "\n",
        "IMG_SIZE = 224\n",
        "\n",
        "# faster conversion function\n",
        "def draw_it(strokes):\n",
        "    image = Image.new(\"P\", (256, 256), color=255)\n",
        "    image_draw = ImageDraw.Draw(image)\n",
        "    for stroke in ast.literal_eval(strokes):\n",
        "        for i in range(len(stroke[0]) - 1):\n",
        "            image_draw.line([stroke[0][i], \n",
        "                             stroke[1][i],\n",
        "                             stroke[0][i + 1], \n",
        "                             stroke[1][i + 1]],\n",
        "                            fill=0, width=5)\n",
        "    image = image.resize((IMG_SIZE, IMG_SIZE))\n",
        "    return np.array(image, dtype=np.uint8)\n",
        "\n",
        "  \n",
        "def vector_output(csvs):\n",
        "  outputs = {}\n",
        "  for i, name in enumerate(csvs):\n",
        "    vec = np.zeros(340)\n",
        "    vec[i] = 1\n",
        "    outputs[name[:-4]] = vec\n",
        "  return outputs\n",
        "\n",
        "  \n",
        "def images_and_labels_generator(batch_size):\n",
        "  #outputs = vector_output(os.listdir(\"train_data\"))\n",
        "  for batch in raw_batch_generator(batch_size):\n",
        "    batch_images = []\n",
        "    batch_labels = []\n",
        "    for e in batch:\n",
        "      batch_images.append(draw_it(e[0]))\n",
        "      batch_labels.append(e[1])\n",
        "    batch_images = np.stack(batch_images, axis=0)\n",
        "    yield batch_images, batch_labels  "
      ],
      "execution_count": 0,
      "outputs": []
    },
    {
      "metadata": {
        "id": "hHyiXINgjk_A",
        "colab_type": "code",
        "colab": {}
      },
      "cell_type": "code",
      "source": [
        "import tensorflow as tf\n",
        "import keras\n",
        "from keras import backend as K\n",
        "\n",
        "\n",
        "# reset graph when you change architecture!\n",
        "def reset_tf_session():\n",
        "    curr_session = tf.get_default_session()\n",
        "    # close current session\n",
        "    if curr_session is not None:\n",
        "        curr_session.close()\n",
        "    # reset graph\n",
        "    K.clear_session()\n",
        "    # create new session\n",
        "    config = tf.ConfigProto()\n",
        "    config.gpu_options.allow_growth = True\n",
        "    s = tf.InteractiveSession(config=config)\n",
        "    K.set_session(s)\n",
        "    return s"
      ],
      "execution_count": 0,
      "outputs": []
    },
    {
      "metadata": {
        "id": "uostt7X3Ml-M",
        "colab_type": "code",
        "colab": {}
      },
      "cell_type": "code",
      "source": [
        "NUM_CLASSES = len(class_labels)\n",
        "class_to_idx = {c: idx for idx, c in enumerate(class_labels)}\n",
        "\n",
        "def train_iterator(batch_size):\n",
        "    for batch in images_and_labels_generator(batch_size):\n",
        "        images = batch[0].astype('float32')\n",
        "        images = images / 255 - 0.5\n",
        "        images = np.expand_dims(images, -1)\n",
        "        labels = keras.utils.to_categorical(list(map(class_to_idx.get, batch[1])), NUM_CLASSES)\n",
        "        yield images, labels"
      ],
      "execution_count": 0,
      "outputs": []
    },
    {
      "metadata": {
        "id": "J4NUIZfhBsUQ",
        "colab_type": "code",
        "colab": {}
      },
      "cell_type": "code",
      "source": [
        "# import necessary building blocks\n",
        "from keras.models import Sequential\n",
        "from keras.layers import Conv2D, MaxPooling2D, Flatten, Dense, Activation, Dropout, GlobalAveragePooling2D, \\\n",
        "    BatchNormalization\n",
        "\n",
        "\n",
        "def make_model():\n",
        "    \"\"\"\n",
        "    Define your model architecture here.\n",
        "    Returns `Sequential` model.\n",
        "    \"\"\"\n",
        "    model = Sequential() \n",
        "    \n",
        "    model.add(Conv2D(32, kernel_size=(3, 3), strides=(1, 1), activation='relu', input_shape=(IMG_SIZE, IMG_SIZE, 1))) \n",
        "    model.add(Conv2D(64, (3, 3), activation='relu')) \n",
        "    model.add(BatchNormalization())\n",
        "    model.add(MaxPooling2D()) \n",
        "    \n",
        "    model.add(Conv2D(16, (5, 5), activation='relu', border_mode='same'))\n",
        "    model.add(BatchNormalization())\n",
        "    model.add(Activation(\"relu\")) \n",
        "    model.add(MaxPooling2D()) \n",
        "    model.add(Flatten()) \n",
        "    model.add(Dense(64, activation='relu')) \n",
        "    model.add(Dense(NUM_CLASSES, activation='softmax'))\n",
        "    \n",
        "    return model"
      ],
      "execution_count": 0,
      "outputs": []
    },
    {
      "metadata": {
        "id": "K8Ecu5yvVPgx",
        "colab_type": "code",
        "colab": {
          "base_uri": "https://localhost:8080/",
          "height": 549
        },
        "outputId": "94c8a323-2f21-4960-85fe-317b68f3e098"
      },
      "cell_type": "code",
      "source": [
        "# describe model\n",
        "s = reset_tf_session()  # clear default graph\n",
        "model = make_model()\n",
        "model.summary()"
      ],
      "execution_count": 12,
      "outputs": [
        {
          "output_type": "stream",
          "text": [
            "_________________________________________________________________\n",
            "Layer (type)                 Output Shape              Param #   \n",
            "=================================================================\n",
            "conv2d_1 (Conv2D)            (None, 222, 222, 32)      320       \n",
            "_________________________________________________________________\n",
            "conv2d_2 (Conv2D)            (None, 220, 220, 64)      18496     \n",
            "_________________________________________________________________\n",
            "batch_normalization_1 (Batch (None, 220, 220, 64)      256       \n",
            "_________________________________________________________________\n",
            "max_pooling2d_1 (MaxPooling2 (None, 110, 110, 64)      0         \n",
            "_________________________________________________________________\n",
            "conv2d_3 (Conv2D)            (None, 110, 110, 16)      25616     \n",
            "_________________________________________________________________\n",
            "batch_normalization_2 (Batch (None, 110, 110, 16)      64        \n",
            "_________________________________________________________________\n",
            "activation_1 (Activation)    (None, 110, 110, 16)      0         \n",
            "_________________________________________________________________\n",
            "max_pooling2d_2 (MaxPooling2 (None, 55, 55, 16)        0         \n",
            "_________________________________________________________________\n",
            "flatten_1 (Flatten)          (None, 48400)             0         \n",
            "_________________________________________________________________\n",
            "dense_1 (Dense)              (None, 64)                3097664   \n",
            "_________________________________________________________________\n",
            "dense_2 (Dense)              (None, 340)               22100     \n",
            "=================================================================\n",
            "Total params: 3,164,516\n",
            "Trainable params: 3,164,356\n",
            "Non-trainable params: 160\n",
            "_________________________________________________________________\n"
          ],
          "name": "stdout"
        },
        {
          "output_type": "stream",
          "text": [
            "/usr/local/lib/python3.6/dist-packages/ipykernel_launcher.py:17: UserWarning: Update your `Conv2D` call to the Keras 2 API: `Conv2D(16, (5, 5), activation=\"relu\", padding=\"same\")`\n"
          ],
          "name": "stderr"
        }
      ]
    },
    {
      "metadata": {
        "id": "K9rfD165VfcO",
        "colab_type": "code",
        "colab": {}
      },
      "cell_type": "code",
      "source": [
        "# custom metrics we need\n",
        "from keras.metrics import categorical_accuracy, top_k_categorical_accuracy\n",
        "\n",
        "METRICS = []\n",
        "\n",
        "def top_3_accuracy(y_true, y_pred):\n",
        "  value = top_k_categorical_accuracy(y_true, y_pred, k=3)\n",
        "  METRICS.append(value)\n",
        "  return value"
      ],
      "execution_count": 0,
      "outputs": []
    },
    {
      "metadata": {
        "id": "bLYm2_o3Vqfe",
        "colab_type": "code",
        "colab": {
          "base_uri": "https://localhost:8080/",
          "height": 62
        },
        "outputId": "09c4a707-ba87-4982-a6ce-b4e8bed5ffa5"
      },
      "cell_type": "code",
      "source": [
        "BATCH_SIZE = 32\n",
        "STEPS_PER_EPOCH = 150\n",
        "EPOCHS = 10\n",
        "\n",
        "s = reset_tf_session()  # clear default graph\n",
        "model = make_model()  # define our model\n",
        "\n",
        "# prepare model for fitting (loss, optimizer, etc)\n",
        "model.compile(\n",
        "    loss='categorical_crossentropy',\n",
        "    optimizer=keras.optimizers.adam(clipnorm=5.),  # gradient clipping just in case\n",
        "    metrics=[categorical_accuracy, top_3_accuracy]  # report top 3 accuracy, correlates with MAP@3!\n",
        ")"
      ],
      "execution_count": 14,
      "outputs": [
        {
          "output_type": "stream",
          "text": [
            "/usr/local/lib/python3.6/dist-packages/ipykernel_launcher.py:17: UserWarning: Update your `Conv2D` call to the Keras 2 API: `Conv2D(16, (5, 5), activation=\"relu\", padding=\"same\")`\n"
          ],
          "name": "stderr"
        }
      ]
    },
    {
      "metadata": {
        "id": "iqwMLIvWVyug",
        "colab_type": "code",
        "colab": {}
      },
      "cell_type": "code",
      "source": [
        "# for saving the model after every epoch\n",
        "from keras.models import save_model\n",
        "\n",
        "class ModelSaveCallback(keras.callbacks.Callback):\n",
        "    def __init__(self, file_name):\n",
        "        super(ModelSaveCallback, self).__init__()\n",
        "        self.file_name = file_name\n",
        "\n",
        "    def on_epoch_end(self, epoch, logs=None):\n",
        "        model_filename = self.file_name.format(epoch)\n",
        "        save_model(self.model, model_filename)\n",
        "        print(\"Model saved in {}\".format(model_filename))"
      ],
      "execution_count": 0,
      "outputs": []
    },
    {
      "metadata": {
        "id": "LW_7HLcBV2i4",
        "colab_type": "code",
        "colab": {}
      },
      "cell_type": "code",
      "source": [
        "last_finished_epoch = 0"
      ],
      "execution_count": 0,
      "outputs": []
    },
    {
      "metadata": {
        "id": "tg219S3SV-c7",
        "colab_type": "code",
        "colab": {
          "base_uri": "https://localhost:8080/",
          "height": 521
        },
        "outputId": "f0b3ce25-cc18-4e73-9895-128884a7ff0a"
      },
      "cell_type": "code",
      "source": [
        "# fit the model with our eternal generator!\n",
        "hist = model.fit_generator(\n",
        "    train_iterator(BATCH_SIZE), \n",
        "    steps_per_epoch=STEPS_PER_EPOCH,\n",
        "    epochs=EPOCHS,\n",
        "    verbose=1,\n",
        "    initial_epoch=last_finished_epoch\n",
        ")"
      ],
      "execution_count": 17,
      "outputs": [
        {
          "output_type": "stream",
          "text": [
            "Epoch 1/10\n",
            "150/150 [==============================] - 54s 358ms/step - loss: 2.9935 - categorical_accuracy: 0.2858 - top_3_accuracy: 0.4744\n",
            "Model saved in model_0\n",
            "Epoch 2/10\n",
            "150/150 [==============================] - 49s 327ms/step - loss: 1.9360 - categorical_accuracy: 0.4762 - top_3_accuracy: 0.7021\n",
            "Model saved in model_1\n",
            "Epoch 3/10\n",
            "150/150 [==============================] - 49s 327ms/step - loss: 1.7024 - categorical_accuracy: 0.5340 - top_3_accuracy: 0.7504\n",
            "Model saved in model_2\n",
            "Epoch 4/10\n",
            "150/150 [==============================] - 49s 327ms/step - loss: 1.5382 - categorical_accuracy: 0.5777 - top_3_accuracy: 0.7863\n",
            "Model saved in model_3\n",
            "Epoch 5/10\n",
            "150/150 [==============================] - 49s 326ms/step - loss: 1.4443 - categorical_accuracy: 0.6085 - top_3_accuracy: 0.8025\n",
            "Model saved in model_4\n",
            "Epoch 6/10\n",
            "150/150 [==============================] - 49s 327ms/step - loss: 1.4160 - categorical_accuracy: 0.6102 - top_3_accuracy: 0.8065\n",
            "Model saved in model_5\n",
            "Epoch 7/10\n",
            "150/150 [==============================] - 49s 327ms/step - loss: 1.3631 - categorical_accuracy: 0.6275 - top_3_accuracy: 0.8148\n",
            "Model saved in model_6\n",
            "Epoch 8/10\n",
            "150/150 [==============================] - 49s 327ms/step - loss: 1.3226 - categorical_accuracy: 0.6354 - top_3_accuracy: 0.8279\n",
            "Model saved in model_7\n",
            "Epoch 9/10\n",
            "150/150 [==============================] - 49s 326ms/step - loss: 1.3376 - categorical_accuracy: 0.6352 - top_3_accuracy: 0.8210\n",
            "Model saved in model_8\n",
            "Epoch 10/10\n",
            "150/150 [==============================] - 49s 327ms/step - loss: 1.2899 - categorical_accuracy: 0.6452 - top_3_accuracy: 0.8287\n",
            "Model saved in model_9\n"
          ],
          "name": "stdout"
        }
      ]
    },
    {
      "metadata": {
        "id": "fZMpVYc4GPkM",
        "colab_type": "text"
      },
      "cell_type": "markdown",
      "source": [
        "# Эксперименты с моделью"
      ]
    },
    {
      "metadata": {
        "id": "9fvAmGDjrIQu",
        "colab_type": "code",
        "colab": {
          "base_uri": "https://localhost:8080/",
          "height": 532
        },
        "outputId": "682d72e6-9046-4b18-f3fc-d27ea493d25d"
      },
      "cell_type": "code",
      "source": [
        "def make_model2():\n",
        "\n",
        "    model = Sequential()\n",
        "    \n",
        "    model.add(Conv2D(32, kernel_size=(3, 3), strides=(1, 1), activation='relu', input_shape=(IMG_SIZE, IMG_SIZE, 1))) \n",
        "    model.add(Conv2D(64, (3, 3), activation='relu')) \n",
        "    model.add(BatchNormalization())\n",
        "    model.add(MaxPooling2D()) \n",
        "    \n",
        "    model.add(Conv2D(16, (5, 5), activation='relu', border_mode='same'))\n",
        "    model.add(BatchNormalization())\n",
        "    model.add(Activation(\"relu\")) \n",
        "    model.add(GlobalAveragePooling2D())  \n",
        "    model.add(Dense(64, activation='relu')) \n",
        "    model.add(Dense(NUM_CLASSES, activation='softmax'))\n",
        "    \n",
        "    return model\n",
        "\n",
        "BATCH_SIZE = 32\n",
        "STEPS_PER_EPOCH = 150\n",
        "EPOCHS = 10\n",
        "\n",
        "s = reset_tf_session()\n",
        "model2 = make_model2()\n",
        "model2.summary()\n",
        "\n",
        "model2.compile(\n",
        "    loss='categorical_crossentropy',\n",
        "    optimizer=keras.optimizers.adam(clipnorm=5.),\n",
        "    metrics=[categorical_accuracy, top_3_accuracy]\n",
        ")"
      ],
      "execution_count": 18,
      "outputs": [
        {
          "output_type": "stream",
          "text": [
            "/usr/local/lib/python3.6/dist-packages/ipykernel_launcher.py:10: UserWarning: Update your `Conv2D` call to the Keras 2 API: `Conv2D(16, (5, 5), activation=\"relu\", padding=\"same\")`\n",
            "  # Remove the CWD from sys.path while we load stuff.\n"
          ],
          "name": "stderr"
        },
        {
          "output_type": "stream",
          "text": [
            "_________________________________________________________________\n",
            "Layer (type)                 Output Shape              Param #   \n",
            "=================================================================\n",
            "conv2d_1 (Conv2D)            (None, 222, 222, 32)      320       \n",
            "_________________________________________________________________\n",
            "conv2d_2 (Conv2D)            (None, 220, 220, 64)      18496     \n",
            "_________________________________________________________________\n",
            "batch_normalization_1 (Batch (None, 220, 220, 64)      256       \n",
            "_________________________________________________________________\n",
            "max_pooling2d_1 (MaxPooling2 (None, 110, 110, 64)      0         \n",
            "_________________________________________________________________\n",
            "conv2d_3 (Conv2D)            (None, 110, 110, 16)      25616     \n",
            "_________________________________________________________________\n",
            "batch_normalization_2 (Batch (None, 110, 110, 16)      64        \n",
            "_________________________________________________________________\n",
            "activation_1 (Activation)    (None, 110, 110, 16)      0         \n",
            "_________________________________________________________________\n",
            "global_average_pooling2d_1 ( (None, 16)                0         \n",
            "_________________________________________________________________\n",
            "dense_1 (Dense)              (None, 64)                1088      \n",
            "_________________________________________________________________\n",
            "dense_2 (Dense)              (None, 340)               22100     \n",
            "=================================================================\n",
            "Total params: 67,940\n",
            "Trainable params: 67,780\n",
            "Non-trainable params: 160\n",
            "_________________________________________________________________\n"
          ],
          "name": "stdout"
        }
      ]
    },
    {
      "metadata": {
        "id": "XWiOOqZGr2hG",
        "colab_type": "code",
        "colab": {
          "base_uri": "https://localhost:8080/",
          "height": 521
        },
        "outputId": "8092b106-89a6-468f-f7fc-0d20158cee7b"
      },
      "cell_type": "code",
      "source": [
        "hist2 = model2.fit_generator(\n",
        "    train_iterator(BATCH_SIZE), \n",
        "    steps_per_epoch=STEPS_PER_EPOCH,\n",
        "    epochs=EPOCHS,\n",
        "    verbose=1,\n",
        "    initial_epoch=last_finished_epoch\n",
        ")"
      ],
      "execution_count": 19,
      "outputs": [
        {
          "output_type": "stream",
          "text": [
            "Epoch 1/10\n",
            "150/150 [==============================] - 49s 327ms/step - loss: 4.0245 - categorical_accuracy: 0.0627 - top_3_accuracy: 0.1498\n",
            "Model saved in model_0\n",
            "Epoch 2/10\n",
            "150/150 [==============================] - 48s 322ms/step - loss: 3.0340 - categorical_accuracy: 0.1446 - top_3_accuracy: 0.3552\n",
            "Model saved in model_1\n",
            "Epoch 3/10\n",
            "150/150 [==============================] - 49s 324ms/step - loss: 2.6456 - categorical_accuracy: 0.2454 - top_3_accuracy: 0.4898\n",
            "Model saved in model_2\n",
            "Epoch 4/10\n",
            "150/150 [==============================] - 50s 333ms/step - loss: 2.4954 - categorical_accuracy: 0.2840 - top_3_accuracy: 0.5217\n",
            "Model saved in model_3\n",
            "Epoch 5/10\n",
            "150/150 [==============================] - 50s 336ms/step - loss: 2.4595 - categorical_accuracy: 0.2892 - top_3_accuracy: 0.5387\n",
            "Model saved in model_4\n",
            "Epoch 6/10\n",
            "150/150 [==============================] - 55s 368ms/step - loss: 2.4025 - categorical_accuracy: 0.2994 - top_3_accuracy: 0.5556\n",
            "Model saved in model_5\n",
            "Epoch 7/10\n",
            "150/150 [==============================] - 49s 324ms/step - loss: 2.3525 - categorical_accuracy: 0.3254 - top_3_accuracy: 0.5785\n",
            "Model saved in model_6\n",
            "Epoch 8/10\n",
            "150/150 [==============================] - 48s 323ms/step - loss: 2.3274 - categorical_accuracy: 0.3229 - top_3_accuracy: 0.5833\n",
            "Model saved in model_7\n",
            "Epoch 9/10\n",
            "150/150 [==============================] - 48s 323ms/step - loss: 2.2724 - categorical_accuracy: 0.3327 - top_3_accuracy: 0.5985\n",
            "Model saved in model_8\n",
            "Epoch 10/10\n",
            "150/150 [==============================] - 71s 474ms/step - loss: 2.2629 - categorical_accuracy: 0.3521 - top_3_accuracy: 0.6052\n",
            "Model saved in model_9\n"
          ],
          "name": "stdout"
        }
      ]
    },
    {
      "metadata": {
        "id": "KZKSdndsz1yp",
        "colab_type": "code",
        "colab": {
          "base_uri": "https://localhost:8080/",
          "height": 599
        },
        "outputId": "99fee5e6-8ae3-4e03-de03-989bc601a9ac"
      },
      "cell_type": "code",
      "source": [
        "def make_model3():\n",
        "\n",
        "    model = Sequential()\n",
        "\n",
        "    model.add(Conv2D(32, kernel_size=(3, 3), strides=(1, 1), activation='relu', input_shape=(IMG_SIZE, IMG_SIZE, 1))) \n",
        "    model.add(Conv2D(64, (3, 3), activation='relu')) \n",
        "    model.add(BatchNormalization())\n",
        "    model.add(MaxPooling2D()) \n",
        "    \n",
        "    model.add(Conv2D(16, (5, 5), activation='relu', border_mode='same'))\n",
        "    model.add(BatchNormalization())\n",
        "    model.add(Activation(\"relu\")) \n",
        "    model.add(MaxPooling2D()) \n",
        "    model.add(Flatten()) \n",
        "    model.add(Dropout(0.30))\n",
        "    model.add(Dense(64, activation='relu')) \n",
        "    model.add(Dense(NUM_CLASSES, activation='softmax'))\n",
        "    \n",
        "    return model\n",
        "\n",
        "BATCH_SIZE = 32\n",
        "STEPS_PER_EPOCH = 150\n",
        "EPOCHS = 10\n",
        "\n",
        "s = reset_tf_session()\n",
        "model3 = make_model3()\n",
        "model3.summary()\n",
        "\n",
        "model3.compile(\n",
        "    loss='categorical_crossentropy',\n",
        "    optimizer=keras.optimizers.adam(clipnorm=5.),\n",
        "    metrics=[categorical_accuracy, top_3_accuracy]\n",
        ")"
      ],
      "execution_count": 20,
      "outputs": [
        {
          "output_type": "stream",
          "text": [
            "/usr/local/lib/python3.6/dist-packages/ipykernel_launcher.py:10: UserWarning: Update your `Conv2D` call to the Keras 2 API: `Conv2D(16, (5, 5), activation=\"relu\", padding=\"same\")`\n",
            "  # Remove the CWD from sys.path while we load stuff.\n"
          ],
          "name": "stderr"
        },
        {
          "output_type": "stream",
          "text": [
            "_________________________________________________________________\n",
            "Layer (type)                 Output Shape              Param #   \n",
            "=================================================================\n",
            "conv2d_1 (Conv2D)            (None, 222, 222, 32)      320       \n",
            "_________________________________________________________________\n",
            "conv2d_2 (Conv2D)            (None, 220, 220, 64)      18496     \n",
            "_________________________________________________________________\n",
            "batch_normalization_1 (Batch (None, 220, 220, 64)      256       \n",
            "_________________________________________________________________\n",
            "max_pooling2d_1 (MaxPooling2 (None, 110, 110, 64)      0         \n",
            "_________________________________________________________________\n",
            "conv2d_3 (Conv2D)            (None, 110, 110, 16)      25616     \n",
            "_________________________________________________________________\n",
            "batch_normalization_2 (Batch (None, 110, 110, 16)      64        \n",
            "_________________________________________________________________\n",
            "activation_1 (Activation)    (None, 110, 110, 16)      0         \n",
            "_________________________________________________________________\n",
            "max_pooling2d_2 (MaxPooling2 (None, 55, 55, 16)        0         \n",
            "_________________________________________________________________\n",
            "flatten_1 (Flatten)          (None, 48400)             0         \n",
            "_________________________________________________________________\n",
            "dropout_1 (Dropout)          (None, 48400)             0         \n",
            "_________________________________________________________________\n",
            "dense_1 (Dense)              (None, 64)                3097664   \n",
            "_________________________________________________________________\n",
            "dense_2 (Dense)              (None, 340)               22100     \n",
            "=================================================================\n",
            "Total params: 3,164,516\n",
            "Trainable params: 3,164,356\n",
            "Non-trainable params: 160\n",
            "_________________________________________________________________\n"
          ],
          "name": "stdout"
        }
      ]
    },
    {
      "metadata": {
        "id": "_y7NJ2Yez2Ky",
        "colab_type": "code",
        "colab": {
          "base_uri": "https://localhost:8080/",
          "height": 521
        },
        "outputId": "0d4f6df2-6ae3-4d88-9105-b2380256ac41"
      },
      "cell_type": "code",
      "source": [
        "hist3 = model3.fit_generator(\n",
        "    train_iterator(BATCH_SIZE), \n",
        "    steps_per_epoch=STEPS_PER_EPOCH,\n",
        "    epochs=EPOCHS,\n",
        "    verbose=1,\n",
        "    initial_epoch=last_finished_epoch\n",
        ")"
      ],
      "execution_count": 21,
      "outputs": [
        {
          "output_type": "stream",
          "text": [
            "Epoch 1/10\n",
            "150/150 [==============================] - 80s 535ms/step - loss: 3.0254 - categorical_accuracy: 0.2929 - top_3_accuracy: 0.4908\n",
            "Model saved in model_0\n",
            "Epoch 2/10\n",
            "150/150 [==============================] - 78s 522ms/step - loss: 1.8657 - categorical_accuracy: 0.4960 - top_3_accuracy: 0.7215\n",
            "Model saved in model_1\n",
            "Epoch 3/10\n",
            "150/150 [==============================] - 49s 328ms/step - loss: 1.5953 - categorical_accuracy: 0.5581 - top_3_accuracy: 0.7704\n",
            "Model saved in model_2\n",
            "Epoch 4/10\n",
            "150/150 [==============================] - 49s 329ms/step - loss: 1.4532 - categorical_accuracy: 0.6021 - top_3_accuracy: 0.7965\n",
            "Model saved in model_3\n",
            "Epoch 5/10\n",
            "150/150 [==============================] - 49s 328ms/step - loss: 1.3811 - categorical_accuracy: 0.6238 - top_3_accuracy: 0.8173\n",
            "Model saved in model_4\n",
            "Epoch 6/10\n",
            "150/150 [==============================] - 50s 330ms/step - loss: 1.3341 - categorical_accuracy: 0.6333 - top_3_accuracy: 0.8231\n",
            "Model saved in model_5\n",
            "Epoch 7/10\n",
            "150/150 [==============================] - 49s 330ms/step - loss: 1.3096 - categorical_accuracy: 0.6392 - top_3_accuracy: 0.8285\n",
            "Model saved in model_6\n",
            "Epoch 8/10\n",
            "150/150 [==============================] - 50s 330ms/step - loss: 1.2612 - categorical_accuracy: 0.6596 - top_3_accuracy: 0.8390\n",
            "Model saved in model_7\n",
            "Epoch 9/10\n",
            "150/150 [==============================] - 50s 330ms/step - loss: 1.2501 - categorical_accuracy: 0.6556 - top_3_accuracy: 0.8383\n",
            "Model saved in model_8\n",
            "Epoch 10/10\n",
            "150/150 [==============================] - 49s 328ms/step - loss: 1.2101 - categorical_accuracy: 0.6633 - top_3_accuracy: 0.8473\n",
            "Model saved in model_9\n"
          ],
          "name": "stdout"
        }
      ]
    },
    {
      "metadata": {
        "id": "3nJvEbfoQJ0l",
        "colab_type": "code",
        "colab": {
          "base_uri": "https://localhost:8080/",
          "height": 599
        },
        "outputId": "ad2293e6-b610-43c0-bd54-2f7bfba2c3d0"
      },
      "cell_type": "code",
      "source": [
        "def make_model4():\n",
        "\n",
        "    model = Sequential()\n",
        "    \n",
        "    model.add(Conv2D(64, kernel_size=(3, 3), strides=(1, 1), activation='relu', input_shape=(IMG_SIZE, IMG_SIZE, 1))) \n",
        "    model.add(Conv2D(64, (3, 3), activation='relu')) \n",
        "    model.add(BatchNormalization())\n",
        "    model.add(MaxPooling2D()) \n",
        "    \n",
        "    model.add(Conv2D(64, (3, 3), activation='relu', border_mode='same'))\n",
        "    model.add(BatchNormalization())\n",
        "    model.add(Activation(\"relu\")) \n",
        "    model.add(MaxPooling2D()) \n",
        "    model.add(Flatten()) \n",
        "    model.add(Dropout(0.30))\n",
        "    model.add(Dense(64, activation='relu')) \n",
        "    model.add(Dense(NUM_CLASSES, activation='softmax'))\n",
        "    \n",
        "    return model\n",
        "\n",
        "BATCH_SIZE = 32\n",
        "STEPS_PER_EPOCH = 150\n",
        "EPOCHS = 10\n",
        "\n",
        "s = reset_tf_session()\n",
        "model4 = make_model4()\n",
        "model4.summary()\n",
        "\n",
        "model4.compile(\n",
        "    loss='categorical_crossentropy',\n",
        "    optimizer=keras.optimizers.adam(clipnorm=5.),\n",
        "    metrics=[categorical_accuracy, top_3_accuracy]\n",
        ")\n"
      ],
      "execution_count": 22,
      "outputs": [
        {
          "output_type": "stream",
          "text": [
            "/usr/local/lib/python3.6/dist-packages/ipykernel_launcher.py:10: UserWarning: Update your `Conv2D` call to the Keras 2 API: `Conv2D(64, (3, 3), activation=\"relu\", padding=\"same\")`\n",
            "  # Remove the CWD from sys.path while we load stuff.\n"
          ],
          "name": "stderr"
        },
        {
          "output_type": "stream",
          "text": [
            "_________________________________________________________________\n",
            "Layer (type)                 Output Shape              Param #   \n",
            "=================================================================\n",
            "conv2d_1 (Conv2D)            (None, 222, 222, 64)      640       \n",
            "_________________________________________________________________\n",
            "conv2d_2 (Conv2D)            (None, 220, 220, 64)      36928     \n",
            "_________________________________________________________________\n",
            "batch_normalization_1 (Batch (None, 220, 220, 64)      256       \n",
            "_________________________________________________________________\n",
            "max_pooling2d_1 (MaxPooling2 (None, 110, 110, 64)      0         \n",
            "_________________________________________________________________\n",
            "conv2d_3 (Conv2D)            (None, 110, 110, 64)      36928     \n",
            "_________________________________________________________________\n",
            "batch_normalization_2 (Batch (None, 110, 110, 64)      256       \n",
            "_________________________________________________________________\n",
            "activation_1 (Activation)    (None, 110, 110, 64)      0         \n",
            "_________________________________________________________________\n",
            "max_pooling2d_2 (MaxPooling2 (None, 55, 55, 64)        0         \n",
            "_________________________________________________________________\n",
            "flatten_1 (Flatten)          (None, 193600)            0         \n",
            "_________________________________________________________________\n",
            "dropout_1 (Dropout)          (None, 193600)            0         \n",
            "_________________________________________________________________\n",
            "dense_1 (Dense)              (None, 64)                12390464  \n",
            "_________________________________________________________________\n",
            "dense_2 (Dense)              (None, 340)               22100     \n",
            "=================================================================\n",
            "Total params: 12,487,572\n",
            "Trainable params: 12,487,316\n",
            "Non-trainable params: 256\n",
            "_________________________________________________________________\n"
          ],
          "name": "stdout"
        }
      ]
    },
    {
      "metadata": {
        "id": "yrzxI2BmQKHu",
        "colab_type": "code",
        "colab": {
          "base_uri": "https://localhost:8080/",
          "height": 521
        },
        "outputId": "fffb501d-f485-4f23-db60-19c931ea711b"
      },
      "cell_type": "code",
      "source": [
        "hist4 = model4.fit_generator(\n",
        "    train_iterator(BATCH_SIZE), \n",
        "    steps_per_epoch=STEPS_PER_EPOCH,\n",
        "    epochs=EPOCHS,\n",
        "    verbose=1,\n",
        "    initial_epoch=last_finished_epoch\n",
        ")"
      ],
      "execution_count": 40,
      "outputs": [
        {
          "output_type": "stream",
          "text": [
            "Epoch 1/10\n",
            "150/150 [==============================] - 70s 470ms/step - loss: 2.4480 - categorical_accuracy: 0.2571 - top_3_accuracy: 0.5248\n",
            "Model saved in model_0\n",
            "Epoch 2/10\n",
            "150/150 [==============================] - 70s 468ms/step - loss: 2.4374 - categorical_accuracy: 0.2579 - top_3_accuracy: 0.5337\n",
            "Model saved in model_1\n",
            "Epoch 3/10\n",
            "150/150 [==============================] - 70s 468ms/step - loss: 2.3929 - categorical_accuracy: 0.2708 - top_3_accuracy: 0.5440\n",
            "Model saved in model_2\n",
            "Epoch 4/10\n",
            "150/150 [==============================] - 70s 469ms/step - loss: 2.3718 - categorical_accuracy: 0.2765 - top_3_accuracy: 0.5521\n",
            "Model saved in model_3\n",
            "Epoch 5/10\n",
            "150/150 [==============================] - 70s 469ms/step - loss: 2.3536 - categorical_accuracy: 0.2900 - top_3_accuracy: 0.5583\n",
            "Model saved in model_4\n",
            "Epoch 6/10\n",
            "150/150 [==============================] - 70s 469ms/step - loss: 2.3372 - categorical_accuracy: 0.2931 - top_3_accuracy: 0.5779\n",
            "Model saved in model_5\n",
            "Epoch 7/10\n",
            "150/150 [==============================] - 70s 469ms/step - loss: 2.3133 - categorical_accuracy: 0.2965 - top_3_accuracy: 0.5590\n",
            "Model saved in model_6\n",
            "Epoch 8/10\n",
            "150/150 [==============================] - 70s 468ms/step - loss: 2.2984 - categorical_accuracy: 0.2954 - top_3_accuracy: 0.5767\n",
            "Model saved in model_7\n",
            "Epoch 9/10\n",
            "150/150 [==============================] - 70s 469ms/step - loss: 2.2758 - categorical_accuracy: 0.3050 - top_3_accuracy: 0.5787\n",
            "Model saved in model_8\n",
            "Epoch 10/10\n",
            "150/150 [==============================] - 70s 469ms/step - loss: 2.2376 - categorical_accuracy: 0.3108 - top_3_accuracy: 0.5892\n",
            "Model saved in model_9\n"
          ],
          "name": "stdout"
        }
      ]
    },
    {
      "metadata": {
        "id": "RaV8GOh79sOr",
        "colab_type": "code",
        "colab": {
          "base_uri": "https://localhost:8080/",
          "height": 918
        },
        "outputId": "330255b2-80ae-4631-9123-04f41967f684"
      },
      "cell_type": "code",
      "source": [
        "def make_model5():\n",
        "\n",
        "    model = Sequential()\n",
        "\n",
        "    model.add(Conv2D(32, kernel_size=(3, 3), strides=(1, 1), activation='relu', input_shape=(IMG_SIZE, IMG_SIZE, 1))) \n",
        "    model.add(Conv2D(64, (3, 3), activation='relu')) \n",
        "    model.add(BatchNormalization())\n",
        "    model.add(MaxPooling2D()) \n",
        "    \n",
        "    model.add(Conv2D(16, (5, 5), activation='relu', border_mode='same'))\n",
        "    model.add(BatchNormalization())\n",
        "    model.add(Activation(\"relu\")) \n",
        "    model.add(MaxPooling2D()) \n",
        "    \n",
        "    model.add(Conv2D(16, (5, 5), activation='relu', border_mode='same'))\n",
        "    model.add(BatchNormalization())\n",
        "    model.add(Activation(\"relu\")) \n",
        "    model.add(MaxPooling2D()) \n",
        "    \n",
        "    model.add(Conv2D(16, (5, 5), activation='relu', border_mode='same'))\n",
        "    model.add(BatchNormalization())\n",
        "    model.add(Activation(\"relu\")) \n",
        "    model.add(MaxPooling2D()) \n",
        "    \n",
        "    model.add(Flatten()) \n",
        "    model.add(Dropout(0.30))\n",
        "    model.add(Dense(64, activation='relu')) \n",
        "    model.add(Dense(NUM_CLASSES, activation='softmax'))\n",
        "    \n",
        "    return model\n",
        "\n",
        "BATCH_SIZE = 32\n",
        "STEPS_PER_EPOCH = 150\n",
        "EPOCHS = 10\n",
        "\n",
        "s = reset_tf_session()\n",
        "model5 = make_model5()\n",
        "model5.summary()\n",
        "\n",
        "model5.compile(\n",
        "    loss='categorical_crossentropy',\n",
        "    optimizer=keras.optimizers.adam(clipnorm=5.),\n",
        "    metrics=[categorical_accuracy, top_3_accuracy]\n",
        ")"
      ],
      "execution_count": 129,
      "outputs": [
        {
          "output_type": "stream",
          "text": [
            "/usr/local/lib/python3.6/dist-packages/ipykernel_launcher.py:10: UserWarning: Update your `Conv2D` call to the Keras 2 API: `Conv2D(16, (5, 5), activation=\"relu\", padding=\"same\")`\n",
            "  # Remove the CWD from sys.path while we load stuff.\n",
            "/usr/local/lib/python3.6/dist-packages/ipykernel_launcher.py:15: UserWarning: Update your `Conv2D` call to the Keras 2 API: `Conv2D(16, (5, 5), activation=\"relu\", padding=\"same\")`\n",
            "  from ipykernel import kernelapp as app\n",
            "/usr/local/lib/python3.6/dist-packages/ipykernel_launcher.py:20: UserWarning: Update your `Conv2D` call to the Keras 2 API: `Conv2D(16, (5, 5), activation=\"relu\", padding=\"same\")`\n"
          ],
          "name": "stderr"
        },
        {
          "output_type": "stream",
          "text": [
            "_________________________________________________________________\n",
            "Layer (type)                 Output Shape              Param #   \n",
            "=================================================================\n",
            "conv2d_1 (Conv2D)            (None, 222, 222, 32)      320       \n",
            "_________________________________________________________________\n",
            "conv2d_2 (Conv2D)            (None, 220, 220, 64)      18496     \n",
            "_________________________________________________________________\n",
            "batch_normalization_1 (Batch (None, 220, 220, 64)      256       \n",
            "_________________________________________________________________\n",
            "max_pooling2d_1 (MaxPooling2 (None, 110, 110, 64)      0         \n",
            "_________________________________________________________________\n",
            "conv2d_3 (Conv2D)            (None, 110, 110, 16)      25616     \n",
            "_________________________________________________________________\n",
            "batch_normalization_2 (Batch (None, 110, 110, 16)      64        \n",
            "_________________________________________________________________\n",
            "activation_1 (Activation)    (None, 110, 110, 16)      0         \n",
            "_________________________________________________________________\n",
            "max_pooling2d_2 (MaxPooling2 (None, 55, 55, 16)        0         \n",
            "_________________________________________________________________\n",
            "conv2d_4 (Conv2D)            (None, 55, 55, 16)        6416      \n",
            "_________________________________________________________________\n",
            "batch_normalization_3 (Batch (None, 55, 55, 16)        64        \n",
            "_________________________________________________________________\n",
            "activation_2 (Activation)    (None, 55, 55, 16)        0         \n",
            "_________________________________________________________________\n",
            "max_pooling2d_3 (MaxPooling2 (None, 27, 27, 16)        0         \n",
            "_________________________________________________________________\n",
            "conv2d_5 (Conv2D)            (None, 27, 27, 16)        6416      \n",
            "_________________________________________________________________\n",
            "batch_normalization_4 (Batch (None, 27, 27, 16)        64        \n",
            "_________________________________________________________________\n",
            "activation_3 (Activation)    (None, 27, 27, 16)        0         \n",
            "_________________________________________________________________\n",
            "max_pooling2d_4 (MaxPooling2 (None, 13, 13, 16)        0         \n",
            "_________________________________________________________________\n",
            "flatten_1 (Flatten)          (None, 2704)              0         \n",
            "_________________________________________________________________\n",
            "dropout_1 (Dropout)          (None, 2704)              0         \n",
            "_________________________________________________________________\n",
            "dense_1 (Dense)              (None, 64)                173120    \n",
            "_________________________________________________________________\n",
            "dense_2 (Dense)              (None, 340)               22100     \n",
            "=================================================================\n",
            "Total params: 252,932\n",
            "Trainable params: 252,708\n",
            "Non-trainable params: 224\n",
            "_________________________________________________________________\n"
          ],
          "name": "stdout"
        }
      ]
    },
    {
      "metadata": {
        "id": "9pOVFM3X9snS",
        "colab_type": "code",
        "colab": {
          "base_uri": "https://localhost:8080/",
          "height": 521
        },
        "outputId": "022050a2-0305-4338-e39e-5ba0ae32b151"
      },
      "cell_type": "code",
      "source": [
        "hist5 = model5.fit_generator(\n",
        "    train_iterator(BATCH_SIZE), \n",
        "    steps_per_epoch=STEPS_PER_EPOCH,\n",
        "    epochs=EPOCHS,\n",
        "    callbacks=[ModelSaveCallback(\"model_{}\")],\n",
        "    verbose=1,\n",
        "    initial_epoch=last_finished_epoch\n",
        ")"
      ],
      "execution_count": 133,
      "outputs": [
        {
          "output_type": "stream",
          "text": [
            "Epoch 1/10\n",
            "150/150 [==============================] - 51s 338ms/step - loss: 1.3367 - categorical_accuracy: 0.6231 - top_3_accuracy: 0.8142\n",
            "Model saved in model_0\n",
            "Epoch 2/10\n",
            "150/150 [==============================] - 51s 338ms/step - loss: 1.3829 - categorical_accuracy: 0.6269 - top_3_accuracy: 0.8100\n",
            "Model saved in model_1\n",
            "Epoch 3/10\n",
            "150/150 [==============================] - 51s 338ms/step - loss: 1.2502 - categorical_accuracy: 0.6573 - top_3_accuracy: 0.8333\n",
            "Model saved in model_2\n",
            "Epoch 4/10\n",
            "150/150 [==============================] - 51s 337ms/step - loss: 1.1765 - categorical_accuracy: 0.6756 - top_3_accuracy: 0.8490\n",
            "Model saved in model_3\n",
            "Epoch 5/10\n",
            "150/150 [==============================] - 51s 338ms/step - loss: 1.0847 - categorical_accuracy: 0.6967 - top_3_accuracy: 0.8598\n",
            "Model saved in model_4\n",
            "Epoch 6/10\n",
            "150/150 [==============================] - 51s 338ms/step - loss: 1.0523 - categorical_accuracy: 0.7071 - top_3_accuracy: 0.8688\n",
            "Model saved in model_5\n",
            "Epoch 7/10\n",
            "150/150 [==============================] - 51s 338ms/step - loss: 1.0323 - categorical_accuracy: 0.7175 - top_3_accuracy: 0.8746\n",
            "Model saved in model_6\n",
            "Epoch 8/10\n",
            "150/150 [==============================] - 51s 339ms/step - loss: 0.9885 - categorical_accuracy: 0.7315 - top_3_accuracy: 0.8779\n",
            "Model saved in model_7\n",
            "Epoch 9/10\n",
            "150/150 [==============================] - 51s 338ms/step - loss: 0.9823 - categorical_accuracy: 0.7317 - top_3_accuracy: 0.8788\n",
            "Model saved in model_8\n",
            "Epoch 10/10\n",
            "150/150 [==============================] - 51s 338ms/step - loss: 0.9311 - categorical_accuracy: 0.7460 - top_3_accuracy: 0.8829\n",
            "Model saved in model_9\n"
          ],
          "name": "stdout"
        }
      ]
    },
    {
      "metadata": {
        "id": "B0TH7ZdqsEhU",
        "colab_type": "text"
      },
      "cell_type": "markdown",
      "source": [
        "**ВЫВОДЫ ОБ АРХИТЕКТУРЕ:**\n",
        "\n",
        "\n",
        "---\n",
        "\n",
        "1) Наличие дополнительного сверточного слоя не влияет на качество существенно\n",
        "\n",
        "2) Наличие Flatten сильно улучшает качество метрик\n",
        "\n",
        "3) Dropout 25% нейронов не влияет на качество метрик, а 30% немного их повышает\n",
        "\n",
        "4) Если увеличить размер фильтра, то очень сильно понижается скорость и качество обучения\n",
        "\n",
        "5) Добавление сверточных слоев очень сильно уменьшает количество параметров и улучшает качество"
      ]
    },
    {
      "metadata": {
        "id": "P3ZGQY1UNpBg",
        "colab_type": "code",
        "colab": {
          "base_uri": "https://localhost:8080/",
          "height": 573
        },
        "outputId": "43bf74e9-a4b2-428e-8e92-eba257673ae3"
      },
      "cell_type": "code",
      "source": [
        "fig, (ax1, ax2, ax3, ax4, ax5) = plt.subplots(\n",
        "    nrows=1, ncols=5,\n",
        "    figsize=(22, 4),\n",
        "    sharey = True\n",
        ")\n",
        "\n",
        "ax1.set_title('3 conv, flatten, no dropout')\n",
        "ax1.plot(hist.history['top_3_accuracy'])\n",
        "ax1.set_xlabel('Epocs')\n",
        "ax1.set_ylabel('Top 3 Accuracy')\n",
        "\n",
        "ax2.set_title('3 conv, no flatten, no dropout')\n",
        "ax2.plot(hist2.history['top_3_accuracy'])\n",
        "ax2.set_xlabel('Epocs')\n",
        "ax2.set_ylabel('Top 3 Accuracy')\n",
        "\n",
        "ax3.set_title('3 conv, flatten, dropout')\n",
        "ax3.plot(hist3.history['top_3_accuracy'])\n",
        "ax3.set_xlabel('Epocs')\n",
        "ax3.set_ylabel('Top 3 Accuracy')\n",
        "\n",
        "ax4.set_title('3 conv, flatten, dropout, filter surplus')\n",
        "ax4.plot(hist4.history['top_3_accuracy'])\n",
        "ax4.set_xlabel('Epocs')\n",
        "ax4.set_ylabel('Top 3 Accuracy')\n",
        "\n",
        "ax5.set_title('5 conv, flatten, dropout')\n",
        "ax5.plot(hist5.history['top_3_accuracy'])\n",
        "ax5.set_xlabel('Epocs')\n",
        "ax5.set_ylabel('Top 3 Accuracy')\n",
        "\n",
        "\n",
        "fig2, (ax6, ax7, ax8, ax9, ax10) = plt.subplots(\n",
        "    nrows=1, ncols=5,\n",
        "    figsize=(22, 4),\n",
        "    sharey = True\n",
        ")\n",
        "\n",
        "\n",
        "ax6.plot(hist.history['loss'])\n",
        "ax6.set_xlabel('Epocs')\n",
        "ax6.set_ylabel('Loss')\n",
        "\n",
        "ax7.plot(hist2.history['loss'])\n",
        "ax7.set_xlabel('Epocs')\n",
        "ax7.set_ylabel('Loss')\n",
        "\n",
        "ax8.plot(hist3.history['loss'])\n",
        "ax8.set_xlabel('Epocs')\n",
        "ax8.set_ylabel('Loss')\n",
        "\n",
        "ax9.plot(hist4.history['loss'])\n",
        "ax9.set_xlabel('Epocs')\n",
        "ax9.set_ylabel('Loss')\n",
        "\n",
        "ax10.plot(hist5.history['loss'])\n",
        "ax10.set_xlabel('Epocs')\n",
        "ax10.set_ylabel('Loss')"
      ],
      "execution_count": 49,
      "outputs": [
        {
          "output_type": "execute_result",
          "data": {
            "text/plain": [
              "Text(0,0.5,'Loss')"
            ]
          },
          "metadata": {
            "tags": []
          },
          "execution_count": 49
        },
        {
          "output_type": "display_data",
          "data": {
            "image/png": "[encoded data removed]",
            "text/plain": [
              "<matplotlib.figure.Figure at 0x7f6902f80908>"
            ]
          },
          "metadata": {
            "tags": []
          }
        },
        {
          "output_type": "display_data",
          "data": {
            "image/png": "[encoded data removed]",
            "text/plain": [
              "<matplotlib.figure.Figure at 0x7f6900824b70>"
            ]
          },
          "metadata": {
            "tags": []
          }
        }
      ]
    },
    {
      "metadata": {
        "id": "nOrKi3qOF59v",
        "colab_type": "text"
      },
      "cell_type": "markdown",
      "source": [
        "# **Эксперименты с Аугментацией**"
      ]
    },
    {
      "metadata": {
        "id": "0XbA3RghF4Rz",
        "colab_type": "code",
        "colab": {
          "base_uri": "https://localhost:8080/",
          "height": 366
        },
        "outputId": "8b068485-c3c8-4547-9129-715574e36e8b"
      },
      "cell_type": "code",
      "source": [
        "from keras.preprocessing.image import ImageDataGenerator\n",
        "\n",
        "image_gen = ImageDataGenerator(\n",
        "    rotation_range=40,\n",
        "    shear_range=0.2,\n",
        "    zoom_range=0.2,\n",
        "    fill_mode='constant',\n",
        "    cval=255\n",
        ")\n",
        "\n",
        "def augmentated_generator(batch_size):\n",
        "    for batch in raw_batch_generator(batch_size):\n",
        "        batch_images = []\n",
        "        batch_labels = []\n",
        "        for e in batch:\n",
        "            img = draw_it(e[0])\n",
        "            img = np.tile(np.expand_dims(img, axis=2), (1, 1, 3))\n",
        "            img = image_gen.random_transform(img)\n",
        "            batch_images.append(img)\n",
        "            batch_labels.append(e[1])\n",
        "        batch_images = np.stack(batch_images, axis=0)\n",
        "        yield batch_images, batch_labels\n",
        "\n",
        "\n",
        "b = next(augmentated_generator(32))\n",
        "\n",
        "plt.imshow(b[0][10, :, :])"
      ],
      "execution_count": 107,
      "outputs": [
        {
          "output_type": "execute_result",
          "data": {
            "text/plain": [
              "<matplotlib.image.AxesImage at 0x7f68f44efdd8>"
            ]
          },
          "metadata": {
            "tags": []
          },
          "execution_count": 107
        },
        {
          "output_type": "display_data",
          "data": {
            "image/png": "[encoded data removed]",
            "text/plain": [
              "<matplotlib.figure.Figure at 0x7f68f35e5d68>"
            ]
          },
          "metadata": {
            "tags": []
          }
        }
      ]
    },
    {
      "metadata": {
        "id": "eq-vbpNpLdd0",
        "colab_type": "code",
        "colab": {}
      },
      "cell_type": "code",
      "source": [
        "def aug_train_iterator(batch_size):\n",
        "    for batch in augmentated_generator(batch_size):\n",
        "        images = batch[0].astype('float32')\n",
        "        images = images / 255 - 0.5\n",
        "        labels = keras.utils.to_categorical(list(map(class_to_idx.get, batch[1])), NUM_CLASSES)\n",
        "        yield images, labels"
      ],
      "execution_count": 0,
      "outputs": []
    },
    {
      "metadata": {
        "colab_type": "code",
        "outputId": "ab7b9b80-e31d-4446-a961-b4489f4c05f3",
        "id": "E5X8f3T8QohT",
        "colab": {
          "base_uri": "https://localhost:8080/",
          "height": 910
        }
      },
      "cell_type": "code",
      "source": [
        "def make_model6():\n",
        "\n",
        "    model = Sequential()\n",
        "\n",
        "    model.add(Conv2D(32, kernel_size=(3, 3), strides=(1, 1), activation='relu', input_shape=(IMG_SIZE, IMG_SIZE, 3))) \n",
        "    model.add(Conv2D(64, (3, 3), activation='relu')) \n",
        "    model.add(BatchNormalization())\n",
        "    model.add(MaxPooling2D()) \n",
        "    \n",
        "    model.add(Conv2D(16, (5, 5), activation='relu', border_mode='same'))\n",
        "    model.add(BatchNormalization())\n",
        "    model.add(Activation(\"relu\")) \n",
        "    model.add(MaxPooling2D()) \n",
        "    \n",
        "    model.add(Conv2D(16, (5, 5), activation='relu', border_mode='same'))\n",
        "    model.add(BatchNormalization())\n",
        "    model.add(Activation(\"relu\")) \n",
        "    model.add(MaxPooling2D()) \n",
        "    \n",
        "    model.add(Conv2D(16, (5, 5), activation='relu', border_mode='same'))\n",
        "    model.add(BatchNormalization())\n",
        "    model.add(Activation(\"relu\")) \n",
        "    model.add(MaxPooling2D()) \n",
        "    \n",
        "    model.add(Flatten()) \n",
        "    model.add(Dropout(0.30))\n",
        "    model.add(Dense(64, activation='relu')) \n",
        "    model.add(Dense(NUM_CLASSES, activation='softmax'))\n",
        "    \n",
        "    return model\n",
        "\n",
        "BATCH_SIZE = 32\n",
        "STEPS_PER_EPOCH = 150\n",
        "EPOCHS = 10\n",
        "\n",
        "s = reset_tf_session()\n",
        "model6 = make_model6()\n",
        "model6.summary()\n",
        "\n",
        "model6.compile(\n",
        "    loss='categorical_crossentropy',\n",
        "    optimizer=keras.optimizers.adam(clipnorm=5.),\n",
        "    metrics=[categorical_accuracy, top_3_accuracy]\n",
        ")"
      ],
      "execution_count": 109,
      "outputs": [
        {
          "output_type": "stream",
          "text": [
            "/usr/local/lib/python3.6/dist-packages/ipykernel_launcher.py:10: UserWarning: Update your `Conv2D` call to the Keras 2 API: `Conv2D(16, (5, 5), activation=\"relu\", padding=\"same\")`\n",
            "  # Remove the CWD from sys.path while we load stuff.\n",
            "/usr/local/lib/python3.6/dist-packages/ipykernel_launcher.py:15: UserWarning: Update your `Conv2D` call to the Keras 2 API: `Conv2D(16, (5, 5), activation=\"relu\", padding=\"same\")`\n",
            "  from ipykernel import kernelapp as app\n",
            "/usr/local/lib/python3.6/dist-packages/ipykernel_launcher.py:20: UserWarning: Update your `Conv2D` call to the Keras 2 API: `Conv2D(16, (5, 5), activation=\"relu\", padding=\"same\")`\n"
          ],
          "name": "stderr"
        },
        {
          "output_type": "stream",
          "text": [
            "_________________________________________________________________\n",
            "Layer (type)                 Output Shape              Param #   \n",
            "=================================================================\n",
            "conv2d_1 (Conv2D)            (None, 222, 222, 32)      896       \n",
            "_________________________________________________________________\n",
            "conv2d_2 (Conv2D)            (None, 220, 220, 64)      18496     \n",
            "_________________________________________________________________\n",
            "batch_normalization_1 (Batch (None, 220, 220, 64)      256       \n",
            "_________________________________________________________________\n",
            "max_pooling2d_1 (MaxPooling2 (None, 110, 110, 64)      0         \n",
            "_________________________________________________________________\n",
            "conv2d_3 (Conv2D)            (None, 110, 110, 16)      25616     \n",
            "_________________________________________________________________\n",
            "batch_normalization_2 (Batch (None, 110, 110, 16)      64        \n",
            "_________________________________________________________________\n",
            "activation_1 (Activation)    (None, 110, 110, 16)      0         \n",
            "_________________________________________________________________\n",
            "max_pooling2d_2 (MaxPooling2 (None, 55, 55, 16)        0         \n",
            "_________________________________________________________________\n",
            "conv2d_4 (Conv2D)            (None, 55, 55, 16)        6416      \n",
            "_________________________________________________________________\n",
            "batch_normalization_3 (Batch (None, 55, 55, 16)        64        \n",
            "_________________________________________________________________\n",
            "activation_2 (Activation)    (None, 55, 55, 16)        0         \n",
            "_________________________________________________________________\n",
            "max_pooling2d_3 (MaxPooling2 (None, 27, 27, 16)        0         \n",
            "_________________________________________________________________\n",
            "conv2d_5 (Conv2D)            (None, 27, 27, 16)        6416      \n",
            "_________________________________________________________________\n",
            "batch_normalization_4 (Batch (None, 27, 27, 16)        64        \n",
            "_________________________________________________________________\n",
            "activation_3 (Activation)    (None, 27, 27, 16)        0         \n",
            "_________________________________________________________________\n",
            "max_pooling2d_4 (MaxPooling2 (None, 13, 13, 16)        0         \n",
            "_________________________________________________________________\n",
            "flatten_1 (Flatten)          (None, 2704)              0         \n",
            "_________________________________________________________________\n",
            "dropout_1 (Dropout)          (None, 2704)              0         \n",
            "_________________________________________________________________\n",
            "dense_1 (Dense)              (None, 64)                173120    \n",
            "_________________________________________________________________\n",
            "dense_2 (Dense)              (None, 340)               22100     \n",
            "=================================================================\n",
            "Total params: 253,508\n",
            "Trainable params: 253,284\n",
            "Non-trainable params: 224\n",
            "_________________________________________________________________\n"
          ],
          "name": "stdout"
        }
      ]
    },
    {
      "metadata": {
        "id": "1CMNsaRkLQNi",
        "colab_type": "code",
        "colab": {
          "base_uri": "https://localhost:8080/",
          "height": 521
        },
        "outputId": "d236e5cb-5fc8-41f8-c481-ff3af58403ad"
      },
      "cell_type": "code",
      "source": [
        "hist6 = model6.fit_generator(\n",
        "    aug_train_iterator(BATCH_SIZE), \n",
        "    steps_per_epoch=STEPS_PER_EPOCH,\n",
        "    epochs=EPOCHS,\n",
        "    verbose=1,\n",
        "    initial_epoch=last_finished_epoch\n",
        ")"
      ],
      "execution_count": 110,
      "outputs": [
        {
          "output_type": "stream",
          "text": [
            "Epoch 1/10\n",
            "150/150 [==============================] - 75s 497ms/step - loss: 2.0292 - categorical_accuracy: 0.5019 - top_3_accuracy: 0.6608\n",
            "Model saved in model_0\n",
            "Epoch 2/10\n",
            "150/150 [==============================] - 73s 484ms/step - loss: 0.8373 - categorical_accuracy: 0.7612 - top_3_accuracy: 0.8960\n",
            "Model saved in model_1\n",
            "Epoch 3/10\n",
            "150/150 [==============================] - 73s 489ms/step - loss: 0.5518 - categorical_accuracy: 0.8377 - top_3_accuracy: 0.9460\n",
            "Model saved in model_2\n",
            "Epoch 4/10\n",
            "150/150 [==============================] - 73s 489ms/step - loss: 0.4302 - categorical_accuracy: 0.8792 - top_3_accuracy: 0.9656\n",
            "Model saved in model_3\n",
            "Epoch 5/10\n",
            "150/150 [==============================] - 73s 489ms/step - loss: 0.3413 - categorical_accuracy: 0.8975 - top_3_accuracy: 0.9729\n",
            "Model saved in model_4\n",
            "Epoch 6/10\n",
            "150/150 [==============================] - 74s 491ms/step - loss: 0.2733 - categorical_accuracy: 0.9146 - top_3_accuracy: 0.9850\n",
            "Model saved in model_5\n",
            "Epoch 7/10\n",
            "150/150 [==============================] - 73s 488ms/step - loss: 0.2303 - categorical_accuracy: 0.9292 - top_3_accuracy: 0.9860\n",
            "Model saved in model_6\n",
            "Epoch 8/10\n",
            "150/150 [==============================] - 73s 489ms/step - loss: 0.2322 - categorical_accuracy: 0.9275 - top_3_accuracy: 0.9877\n",
            "Model saved in model_7\n",
            "Epoch 9/10\n",
            "150/150 [==============================] - 73s 487ms/step - loss: 0.2094 - categorical_accuracy: 0.9369 - top_3_accuracy: 0.9890\n",
            "Model saved in model_8\n",
            "Epoch 10/10\n",
            "150/150 [==============================] - 74s 491ms/step - loss: 0.1682 - categorical_accuracy: 0.9462 - top_3_accuracy: 0.9917\n",
            "Model saved in model_9\n"
          ],
          "name": "stdout"
        }
      ]
    },
    {
      "metadata": {
        "id": "3g15ldWrMwZR",
        "colab_type": "code",
        "colab": {
          "base_uri": "https://localhost:8080/",
          "height": 573
        },
        "outputId": "06535b88-5c06-49aa-8444-50c331241a25"
      },
      "cell_type": "code",
      "source": [
        "fig3, (ax11, ax12) = plt.subplots(\n",
        "    nrows=1, ncols=2,\n",
        "    figsize=(10, 4),\n",
        "    sharey = True\n",
        ")\n",
        "\n",
        "ax11.set_title('No augmentation')\n",
        "ax11.plot(hist5.history['top_3_accuracy'])\n",
        "ax11.set_xlabel('Epocs')\n",
        "ax11.set_ylabel('Top 3 Accuracy')\n",
        "\n",
        "ax12.set_title('Augmentation')\n",
        "ax12.plot(hist6.history['top_3_accuracy'])\n",
        "ax12.set_xlabel('Epocs')\n",
        "ax12.set_ylabel('Top 3 Accuracy')\n",
        "\n",
        "\n",
        "fig4, (ax21, ax22) = plt.subplots(\n",
        "    nrows=1, ncols=2,\n",
        "    figsize=(10, 4),\n",
        "    sharey = True\n",
        ")\n",
        "\n",
        "ax21.plot(hist5.history['top_3_accuracy'])\n",
        "ax21.set_xlabel('Epocs')\n",
        "ax21.set_ylabel('Top 3 Accuracy')\n",
        "\n",
        "ax22.plot(hist6.history['top_3_accuracy'])\n",
        "ax22.set_xlabel('Epocs')\n",
        "ax22.set_ylabel('Top 3 Accuracy')"
      ],
      "execution_count": 112,
      "outputs": [
        {
          "output_type": "execute_result",
          "data": {
            "text/plain": [
              "Text(0,0.5,'Top 3 Accuracy')"
            ]
          },
          "metadata": {
            "tags": []
          },
          "execution_count": 112
        },
        {
          "output_type": "display_data",
          "data": {
            "image/png": "[encoded data removed]",
            "text/plain": [
              "<matplotlib.figure.Figure at 0x7f68f2b3e4a8>"
            ]
          },
          "metadata": {
            "tags": []
          }
        },
        {
          "output_type": "display_data",
          "data": {
            "image/png": "[encoded data removed]",
            "text/plain": [
              "<matplotlib.figure.Figure at 0x7f68f2a46c50>"
            ]
          },
          "metadata": {
            "tags": []
          }
        }
      ]
    },
    {
      "metadata": {
        "id": "MMsJ1s6vRAbR",
        "colab_type": "text"
      },
      "cell_type": "markdown",
      "source": [
        "# Тестируем"
      ]
    },
    {
      "metadata": {
        "id": "D-cMNe80Q60T",
        "colab_type": "code",
        "colab": {
          "base_uri": "https://localhost:8080/",
          "height": 98
        },
        "outputId": "7721a8e7-2aa3-4117-c948-464949fed6ec"
      },
      "cell_type": "code",
      "source": [
        "# download test set\n",
        "! KAGGLE_USERNAME=\"ephobia\" KAGGLE_KEY=\"5b1e884343d9f9b18bb2dd73299f3086\" kaggle competitions download -c quickdraw-doodle-recognition -f test_simplified.csv"
      ],
      "execution_count": 113,
      "outputs": [
        {
          "output_type": "stream",
          "text": [
            "Downloading test_simplified.csv to /content\n",
            " 83% 49.0M/59.0M [00:00<00:00, 35.1MB/s]\n",
            "100% 59.0M/59.0M [00:00<00:00, 73.2MB/s]\n"
          ],
          "name": "stdout"
        }
      ]
    },
    {
      "metadata": {
        "id": "QE5sygWUQ7Ga",
        "colab_type": "code",
        "colab": {}
      },
      "cell_type": "code",
      "source": [
        "def test_csv_iterator(batch_size):\n",
        "    with open(\"test_simplified.csv\", \"r\") as f:\n",
        "        batch_keys = []\n",
        "        batch_images = []\n",
        "        f.readline()  # skip header\n",
        "        for line in csv.reader(f, delimiter=',', quotechar='\"'):\n",
        "            batch_keys.append(line[0])\n",
        "            batch_images.append(draw_it(line[2]))\n",
        "            if len(batch_images) == batch_size:\n",
        "                batch_images = np.stack(batch_images, axis=0)\n",
        "                batch_images = np.expand_dims(batch_images, -1)\n",
        "                batch_images = batch_images.astype('float32')\n",
        "                batch_images = batch_images / 255 - 0.5\n",
        "                yield batch_keys, batch_images\n",
        "                batch_keys = []\n",
        "                batch_images = []\n",
        "        if batch_images:  # last batch\n",
        "            batch_images = np.stack(batch_images, axis=0)\n",
        "            batch_images = np.expand_dims(batch_images, -1)\n",
        "            batch_images = batch_images.astype('float32')\n",
        "            batch_images = batch_images / 255 - 0.5\n",
        "            yield batch_keys, batch_images"
      ],
      "execution_count": 0,
      "outputs": []
    },
    {
      "metadata": {
        "id": "Q4S2-AGAQ7OE",
        "colab_type": "code",
        "colab": {
          "base_uri": "https://localhost:8080/",
          "height": 64
        },
        "outputId": "46a0ba50-9787-4192-b7b1-87359dee3eaf"
      },
      "cell_type": "code",
      "source": [
        "! wc -l test_simplified.csv"
      ],
      "execution_count": 115,
      "outputs": [
        {
          "output_type": "stream",
          "text": [
            "112200 test_simplified.csv\n"
          ],
          "name": "stdout"
        }
      ]
    },
    {
      "metadata": {
        "id": "WDzPBnKPQ7RP",
        "colab_type": "code",
        "colab": {
          "base_uri": "https://localhost:8080/",
          "height": 1008
        },
        "outputId": "a32fd534-0816-4e29-f9af-e54c16e37ae1"
      },
      "cell_type": "code",
      "source": [
        "# you can continue from snapshot!!!\n",
        "from keras.models import load_model\n",
        "s = reset_tf_session()\n",
        "last_finished_epoch = 9\n",
        "test_model = load_model(\"model_{}\".format(last_finished_epoch), \n",
        "                    custom_objects={\"top_3_accuracy\": top_3_accuracy})\n",
        "global graph\n",
        "graph = tf.get_default_graph()\n",
        "\n",
        "with open(\"submission.csv\", \"w\", buffering=1*1024*1024) as f:\n",
        "    f.write(\"key_id,word\\n\")\n",
        "    for batch_keys, batch_images in tqdm.tqdm(test_csv_iterator(BATCH_SIZE), total=np.ceil(112200./BATCH_SIZE)):\n",
        "        with graph.as_default():\n",
        "          probas = test_model.predict_proba(batch_images, BATCH_SIZE)\n",
        "          top_3_classes = np.argsort(probas, axis=1)[:, [-1, -2, -3]]\n",
        "          labels = map(lambda x: \" \".join(\"_\".join(class_labels[idx].split()) for idx in x), top_3_classes)\n",
        "          for key, labels in zip(batch_keys, labels):\n",
        "              f.write(key + \",\" + labels + \"\\n\")"
      ],
      "execution_count": 134,
      "outputs": [
        {
          "output_type": "stream",
          "text": [
            "  3%|▎         | 101/3507.0 [00:16<09:21,  6.06it/s]Exception ignored in: <bound method BaseSession._Callable.__del__ of <tensorflow.python.client.session.BaseSession._Callable object at 0x7f6904933278>>\n",
            "Traceback (most recent call last):\n",
            "  File \"/usr/local/lib/python3.6/dist-packages/tensorflow/python/client/session.py\", line 1455, in __del__\n",
            "    self._session._session, self._handle, status)\n",
            "  File \"/usr/local/lib/python3.6/dist-packages/tensorflow/python/framework/errors_impl.py\", line 528, in __exit__\n",
            "    c_api.TF_GetCode(self.status.status))\n",
            "tensorflow.python.framework.errors_impl.CancelledError: Session has been closed.\n",
            "Exception ignored in: <bound method BaseSession._Callable.__del__ of <tensorflow.python.client.session.BaseSession._Callable object at 0x7f68fa324828>>\n",
            "Traceback (most recent call last):\n",
            "  File \"/usr/local/lib/python3.6/dist-packages/tensorflow/python/client/session.py\", line 1455, in __del__\n",
            "    self._session._session, self._handle, status)\n",
            "  File \"/usr/local/lib/python3.6/dist-packages/tensorflow/python/framework/errors_impl.py\", line 528, in __exit__\n",
            "    c_api.TF_GetCode(self.status.status))\n",
            "tensorflow.python.framework.errors_impl.CancelledError: Session has been closed.\n",
            "100%|██████████| 3507/3507.0 [09:37<00:00,  5.24it/s]\n"
          ],
          "name": "stderr"
        }
      ]
    },
    {
      "metadata": {
        "id": "u4_TIvKsRZea",
        "colab_type": "code",
        "colab": {
          "base_uri": "https://localhost:8080/",
          "height": 64
        },
        "outputId": "5faf90b9-7db9-4144-b78f-fc9589ecb670"
      },
      "cell_type": "code",
      "source": [
        "! wc -l submission.csv"
      ],
      "execution_count": 135,
      "outputs": [
        {
          "output_type": "stream",
          "text": [
            "112200 submission.csv\n"
          ],
          "name": "stdout"
        }
      ]
    },
    {
      "metadata": {
        "id": "T0kXxbRsRZkJ",
        "colab_type": "code",
        "colab": {
          "base_uri": "https://localhost:8080/",
          "height": 64
        },
        "outputId": "bfc0e090-9dfa-4aec-e1eb-c43eabbbe8b7"
      },
      "cell_type": "code",
      "source": [
        "# submit to kaggle\n",
        "! KAGGLE_USERNAME=\"ephobia\" KAGGLE_KEY=\"5b1e884343d9f9b18bb2dd73299f3086\" kaggle competitions submit quickdraw-doodle-recognition -f submission.csv -m \"My precious\""
      ],
      "execution_count": 136,
      "outputs": [
        {
          "output_type": "stream",
          "text": [
            "100% 4.31M/4.31M [00:04<00:00, 915kB/s]\n",
            "Successfully submitted to Quick, Draw! Doodle Recognition Challenge"
          ],
          "name": "stdout"
        }
      ]
    }
  ]
}