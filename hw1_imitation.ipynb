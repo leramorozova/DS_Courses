{
 "cells": [
  {
   "cell_type": "markdown",
   "metadata": {},
   "source": [
    "# ДЗ1 - имитационное обучение\n",
    "Крайний срок сдачи - 20.02.2019 23:59."
   ]
  },
  {
   "cell_type": "markdown",
   "metadata": {},
   "source": [
    "***\n",
    "Задача будет заключаться в том, чтобы провести эксперименты с имитационным обучением: смотреть, что такое клонирование поведеня и разобраться с алгоритмом DAgger.\n",
    "Вместо человека-демонстранта демонстрации будут даваться специальной предобученной \"экспертной\" стартегией. Ваша задача будет заключаться в реализации алгоритма клонирования и DAgger, сравнения их произвоодительости на нескольких простых задачах управления из пакета OpenAI Gym. Ваше решение в виде Jupyter тетрадки *с комментариями* нужно загрузить по [ссылке](https://www.dropbox.com/request/uNq18mDY284JdI7o5KgJ) с шаблоном имени \"Фамилия>\\_ИАД<номер группы>.ipynb\", например Панов_ИАД1.ipynb. Указывать ту группу, которую вы посещаете на семинарах.\n",
    "\n",
    "__Будьте винимательны!__ В заготовках кода ниже могут быть неточности! Их правка входит в задачу выполнения ДЗ! Как минимум, вам нужно дописывать строчик кода ниже пометок __Ваш код здесь__."
   ]
  },
  {
   "cell_type": "markdown",
   "metadata": {},
   "source": [
    "## Требования:\n",
    "### 1. __TensorFlow:__\n",
    "Инструкции-напоминания по установке здесь - https://www.tensorflow.org/get_started/os_setup. GPU не будет требоваться для выполнения ДЗ.\n",
    "### 2. __OpenAI Gym:__  \n",
    "Напоминание-инструкции по OpenAI Gym - https://gym.openai.com/docs. Используйте версию 0.10.5.\n",
    "### 3. __MuJoCo:__<br>\n",
    "Будем использовать набор симуляционных сред MuJoCo.  Загружайте версию 1.50 с http://mujoco.org/,  и версию  1.50.1.56  с https://github.com/openai/mujoco-py/. Для активации доступа можно испоьзовать ваше университетский аккаунт -  https://www.roboti.us/license.html.\n",
    "***"
   ]
  },
  {
   "cell_type": "markdown",
   "metadata": {},
   "source": [
    "Импортируем все необходимое:"
   ]
  },
  {
   "cell_type": "code",
   "execution_count": 1,
   "metadata": {},
   "outputs": [
    {
     "name": "stderr",
     "output_type": "stream",
     "text": [
      "C:\\Users\\lenovo\\Anaconda3\\lib\\site-packages\\h5py\\__init__.py:36: FutureWarning: Conversion of the second argument of issubdtype from `float` to `np.floating` is deprecated. In future, it will be treated as `np.float64 == np.dtype(float).type`.\n",
      "  from ._conv import register_converters as _register_converters\n"
     ]
    },
    {
     "name": "stdout",
     "output_type": "stream",
     "text": [
      "TensorFlow version : 1.10.0\n",
      "Gym version : 0.10.9\n"
     ]
    }
   ],
   "source": [
    "import os\n",
    "import pickle\n",
    "import tensorflow as tf\n",
    "print(\"TensorFlow version :\",tf.__version__)\n",
    "\n",
    "import numpy as np\n",
    "import tf_util\n",
    "import gym\n",
    "print(\"Gym version :\",gym.__version__)\n",
    "\n",
    "import glfw\n",
    "import load_policy"
   ]
  },
  {
   "cell_type": "markdown",
   "metadata": {},
   "source": [
    "***\n",
    "## Сборием статистику"
   ]
  },
  {
   "cell_type": "markdown",
   "metadata": {},
   "source": [
    " Генерируем статистику (roll-outs) по заданной экспертной стратегии в 3 шага:\n",
    " 1. Загружаем стратегию из файла и инициализируем окружение.\n",
    " 2. Начинаем сессию tensorflow.\n",
    " 3. В рамках сессии собираем данные: до конца эпизода в цикле выбираем экспертное действие, применяем его и сохраняем результаты."
   ]
  },
  {
   "cell_type": "code",
   "execution_count": 2,
   "metadata": {},
   "outputs": [
    {
     "name": "stdout",
     "output_type": "stream",
     "text": [
      "loading and building expert policy\n",
      "obs (1, 376) (1, 376)\n",
      "loaded and built\n"
     ]
    }
   ],
   "source": [
    "#choose environment (Uncomment choosed one)\n",
    "env_name=\"Humanoid-v2\"\n",
    "#env_name=\"Ant-v2\"\n",
    "#env_name=\"HalfCheetah-v2\"\n",
    "#env_name=\"Hopper-v2\"\n",
    "#env_name=\"Reacher-v2\"\n",
    "#env_name=\"Walker2d-v2\"\n",
    "\n",
    "# choose expert policy file from /expert file\n",
    "expert_policy_file=\"experts/\"+env_name+\".pkl\"\n",
    "\n",
    "# load the policy\n",
    "print('loading and building expert policy')\n",
    "policy_fn = load_policy.load_policy(expert_policy_file)\n",
    "print('loaded and built')\n",
    "\n",
    "# make the environment\n",
    "env = gym.make(env_name)\n",
    "\n",
    "# function to generate rollouts from the expert policies \n",
    "def generate_rollouts(num_rollouts,max_steps,render=False):\n",
    "    \n",
    "    # initialize tensoflow session (tf stuff)\n",
    "    with tf.Session():\n",
    "        tf_util.initialize()\n",
    "\n",
    "        # collect rollouts\n",
    "        # firstly, define the arrays\n",
    "        returns = []\n",
    "        observations = []\n",
    "        actions = []\n",
    "\n",
    "        # loop to collect data\n",
    "        for i in range(num_rollouts):\n",
    "            #number of iteration (episode)\n",
    "            #print('iter', i)\n",
    "            # parameters to initial values\n",
    "            obs = env.reset()\n",
    "            done = False\n",
    "            totalr = 0.\n",
    "            steps = 0\n",
    "            # loop until the end of the episode\n",
    "            while not done:\n",
    "                # choose an action depending on the observation\n",
    "                action = policy_fn(obs[None,:])\n",
    "                # append sample to arrays\n",
    "                observations.append(obs)\n",
    "                actions.append(action)\n",
    "                # apply the action on the environment\n",
    "                obs, r, done, _ = env.step(action)\n",
    "                # calculate the total reward\n",
    "                totalr += r\n",
    "                steps += 1\n",
    "                # render the environment\n",
    "                if render==True:\n",
    "                    env.render()\n",
    "                #if steps % 100 == 0: print(\"%i/%i\"%(steps, max_steps))\n",
    "                if steps >= max_steps:\n",
    "                    break\n",
    "            # append the total reward\n",
    "            returns.append(totalr)\n",
    "        \n",
    "        # print the reward information\n",
    "        print('returns', returns)\n",
    "        print('mean return', np.mean(returns))\n",
    "        print('std of return', np.std(returns))\n",
    "\n",
    "        expert_data = {'observations': np.array(observations),'actions': np.array(actions)}\n",
    "            \n",
    "        return expert_data"
   ]
  },
  {
   "cell_type": "markdown",
   "metadata": {},
   "source": [
    "Тестируем реализованную функцию: num_rollouts=4,max_steps=100,render=True"
   ]
  },
  {
   "cell_type": "markdown",
   "metadata": {},
   "source": [
    "Notes:\n",
    "- If the camera doesn't track the agent, prss __Tab__ to change the viewpoint\n",
    "- In some cases the jupyter notebok kernel will crash if you close the rendering window, __don't close the windows until finishing the execution of the whole notebook.__"
   ]
  },
  {
   "cell_type": "code",
   "execution_count": 3,
   "metadata": {},
   "outputs": [
    {
     "name": "stdout",
     "output_type": "stream",
     "text": [
      "WARNING:tensorflow:From C:\\Users\\lenovo\\Desktop\\прогаем с удобством\\иад_конец\\hse-tasks\\minor-module4\\hw1\\tf_util.py:91: all_variables (from tensorflow.python.ops.variables) is deprecated and will be removed after 2017-03-02.\n",
      "Instructions for updating:\n",
      "Please use tf.global_variables instead.\n",
      "WARNING:tensorflow:From C:\\Users\\lenovo\\Anaconda3\\lib\\site-packages\\tensorflow\\python\\util\\tf_should_use.py:118: initialize_variables (from tensorflow.python.ops.variables) is deprecated and will be removed after 2017-03-02.\n",
      "Instructions for updating:\n",
      "Use `tf.variables_initializer` instead.\n",
      "Creating window glfw\n",
      "returns [3843.9711847766057, 3807.6875412586596, 3713.2955085228273, 3846.8636918030275]\n",
      "mean return 3802.95448159028\n",
      "std of return 54.01740920091651\n"
     ]
    }
   ],
   "source": [
    "generate_rollouts(num_rollouts=4,max_steps=400,render=True);"
   ]
  },
  {
   "cell_type": "markdown",
   "metadata": {},
   "source": [
    "***\n",
    "## 1. Клонирование поведения"
   ]
  },
  {
   "cell_type": "markdown",
   "metadata": {},
   "source": [
    "Клонирование поведения (Behavioural cloning, BC) - метод, с помощью когорого компьютерная программа обучается воспроизводить действия эксперта (человека). Действия эксперта записываются, а затем эта статистика используется как входные данные для алгоритма обучения. Этот алгоритм в результате формирует последовательность действий, по которым воспроизводится поведение эксперта."
   ]
  },
  {
   "cell_type": "markdown",
   "metadata": {},
   "source": [
    "Будем использовать стандартное обучение с учителем и использовать нейронную сеть для этого."
   ]
  },
  {
   "cell_type": "markdown",
   "metadata": {},
   "source": [
    "Кроме конструктора, вам нужно дореализовать метод __train__ класса __BC_Model__:"
   ]
  },
  {
   "cell_type": "code",
   "execution_count": 8,
   "metadata": {},
   "outputs": [],
   "source": [
    "def conv2d(x, W):\n",
    "    return tf.nn.conv2d(x, W, strides=[1,1,1,1], padding='SAME')\n",
    "\n",
    "def maxpool2d(x):\n",
    "        #                        size of window         movement of window\n",
    "    return tf.nn.max_pool(x, ksize=[1,2,2,1], strides=[1,2,2,1], padding='SAME')"
   ]
  },
  {
   "cell_type": "code",
   "execution_count": 19,
   "metadata": {},
   "outputs": [],
   "source": [
    "from sklearn.utils import shuffle\n",
    "from tensorflow.contrib import rnn\n",
    "class BC_Model(object):\n",
    "    def __init__(self, input_data, output_data, batch_size = 64):\n",
    "        tf.reset_default_graph()                \n",
    "        # define tensorflow session\n",
    "        self.sess = tf.Session()\n",
    "        #tf.reset_default_graph()        \n",
    "\n",
    "        # input and output data , and their shapes\n",
    "        self.batch_size = batch_size\n",
    "        self.input_data = input_data\n",
    "        self.output_data = np.reshape(output_data, (output_data.shape[0], output_data.shape[2]))\n",
    "        self.input_shape = [self.batch_size, self.input_data.shape[-1]]\n",
    "        self.output_shape = [self.batch_size, self.output_data.shape[-1]]\n",
    "        # placeholders for the neural network (input, model output and the expert output)\n",
    "        self.input_placeholder = tf.placeholder(tf.float32, shape = self.input_shape)\n",
    "        self.output_placeholder_expert = tf.placeholder(tf.float32, shape = self.output_shape)\n",
    "        self.output_placeholder_model = self.build_model(self.input_placeholder)\n",
    "        \n",
    "        # the loss function Mean squared error, (L2 stands for Least Square Errors)\n",
    "        ### Ваш код здесь - нужно добавить функцию потерь l2_loss ###\n",
    "        # self.loss = tf...\n",
    "        self.loss = tf.nn.l2_loss(self.output_placeholder_model)\n",
    "\n",
    "    def build_model(self, input_placeholder):\n",
    "        # build the neural network  (you can try another architecture)\n",
    "        ### Ваш код здесь - нужно реализовать свою архитектуру ###\n",
    "        # x= tf.layers....\n",
    "        #tf.reset_default_graph()\n",
    "        n_nodes_hl1 = 500\n",
    "        n_nodes_hl2 = 500\n",
    "        n_nodes_hl3 = 500\n",
    "\n",
    "        n_classes = 17\n",
    "        batch_size = 64\n",
    "\n",
    "        #x = tf.placeholder('float', [None, 784])\n",
    "        x = self.input_placeholder\n",
    "        #y = tf.placeholder('float')\n",
    "        keep_rate = 0.8\n",
    "        keep_prob = tf.placeholder(tf.float32)\n",
    "        weights = {'W_conv1':tf.Variable(tf.random_normal([5,5,1,32])),\n",
    "                   'W_conv2':tf.Variable(tf.random_normal([5,5,32,64])),\n",
    "                   'W_fc':tf.Variable(tf.random_normal([7*7*64,1024])),\n",
    "                   'out':tf.Variable(tf.random_normal([1024, n_classes]))}\n",
    "\n",
    "        biases = {'b_conv1':tf.Variable(tf.random_normal([32])),\n",
    "                   'b_conv2':tf.Variable(tf.random_normal([64])),\n",
    "                   'b_fc':tf.Variable(tf.random_normal([1024])),\n",
    "                   'out':tf.Variable(tf.random_normal([n_classes]))}\n",
    "\n",
    "        x = tf.reshape(x, shape=[-1, self.input_shape[0], self.input_shape[1], 1])\n",
    "\n",
    "        conv1 = tf.nn.relu(conv2d(x, weights['W_conv1']) + biases['b_conv1'])\n",
    "        conv1 = maxpool2d(conv1)\n",
    "\n",
    "        conv2 = tf.nn.relu(conv2d(conv1, weights['W_conv2']) + biases['b_conv2'])\n",
    "        conv2 = maxpool2d(conv2)\n",
    "\n",
    "        fc = tf.reshape(conv2,[-1, 7*7*64])\n",
    "        fc = tf.nn.relu(tf.matmul(fc, weights['W_fc'])+biases['b_fc'])\n",
    "        fc = tf.nn.dropout(fc, keep_rate)\n",
    "\n",
    "        output = tf.matmul(fc, weights['out'])+biases['out']\n",
    "\n",
    "        return output       \n",
    "#return outputs\n",
    "\n",
    "    def train(self, epochs = 200, train_data = None, test_data = None):\n",
    "        # check train and test data\n",
    "        if train_data is None and test_data is None :\n",
    "            # split the input data to train and test if test and train data are not given\n",
    "            train_data, test_data = shuffle(self.input_data, self.output_data, random_state = 0)\n",
    "        else:\n",
    "            #reshape test data\n",
    "            test_data = np.reshape(test_data, (test_data.shape[0], test_data.shape[2]))\n",
    "        \n",
    "        # using Adam optimizer\n",
    "        optimizer = tf.train.AdamOptimizer().minimize(self.loss)\n",
    "        # define a saver\n",
    "        saver = tf.train.Saver()\n",
    "        \n",
    "        # number of batches\n",
    "        batch_idxs = len(train_data) // self.batch_size\n",
    "\n",
    "        # define a writer ()\n",
    "        writer = tf.summary.FileWriter(\"exp\")\n",
    "        \n",
    "        # add the graph (The model and all the variables) to the writer\n",
    "        writer.add_graph(self.sess.graph)\n",
    "\n",
    "        #initialize network variables\n",
    "        #tf.reset_default_graph()\n",
    "        init_op = tf.global_variables_initializer()\n",
    "        self.sess.run(init_op)\n",
    "\n",
    "        #loop over epochs\n",
    "        for epoch in range(epochs):\n",
    "            #for each epoch loop over batches\n",
    "            for idx in range(batch_idxs):\n",
    "                # take a batch from training and test data\n",
    "                batch_train = train_data[idx * self.batch_size : (idx + 1) * self.batch_size]\n",
    "                batch_value = test_data[idx * self.batch_size : (idx + 1) * self.batch_size]\n",
    "                # run the optimizer to reduce the loss (we train the model to give us the same output for specific input)\n",
    "                feed_train = {self.input_placeholder : batch_train, self.output_placeholder_expert : batch_value}\n",
    "                #tf.get_default_graph().get_tensor_by_name(self.output_placeholder_model)\n",
    "                self.sess.run([optimizer, self.output_placeholder_model], feed_dict = feed_train)\n",
    "                #_, l, predictions = self.sess.run([optimizer, self.loss, self.output_placeholder_model], feed_dict = feed_train)\n",
    "                #print(l)\n",
    "                    \n",
    "        # save the model\n",
    "        saver.save(self.sess, \"exp\" + \"/behavior_cloning_model\")\n",
    "\n",
    "    def sample(self, input):\n",
    "        #sample an action for a specified input\n",
    "        output = self.sess.run(self.output_placeholder_model, feed_dict = {self.input_placeholder : np.repeat(input[None, :], self.batch_size, axis = 0)})\n",
    "        return output[0]"
   ]
  },
  {
   "cell_type": "markdown",
   "metadata": {},
   "source": [
    "## trying to make an lstm"
   ]
  },
  {
   "cell_type": "code",
   "execution_count": null,
   "metadata": {},
   "outputs": [],
   "source": [
    "        num_input = 376 # MNIST data input (img shape: 28*28)\n",
    "        timesteps = 28 # timesteps\n",
    "        num_hidden = 128 # hidden layer num of features\n",
    "        num_classes = 17 # MNIST total classes (0-9 digits)\n",
    "\n",
    "# tf Graph input\n",
    "        X = tf.placeholder(\"float\", [None, timesteps, num_input])\n",
    "        Y = tf.placeholder(\"float\", [None, num_classes])\n",
    "\n",
    "# Define weights\n",
    "        weights = {\n",
    "            'out': tf.Variable(tf.random_normal([num_hidden, num_classes]))\n",
    "        }\n",
    "        biases = {\n",
    "            'out': tf.Variable(tf.random_normal([num_classes]))\n",
    "        }\n",
    "\n",
    "\n",
    "#def RNN(x, weights, biases):\n",
    "\n",
    "    # Prepare data shape to match `rnn` function requirements\n",
    "    # Current data input shape: (batch_size, timesteps, n_input)\n",
    "    # Required shape: 'timesteps' tensors list of shape (batch_size, n_input)\n",
    "\n",
    "    # Unstack to get a list of 'timesteps' tensors of shape (batch_size, n_input)\n",
    "        x = tf.unstack(X, timesteps, 1)\n",
    "    \n",
    "    # Define a lstm cell with tensorflow\n",
    "        lstm_cell = rnn.BasicLSTMCell(num_hidden, forget_bias=1.0)\n",
    "\n",
    "    # Get lstm cell output\n",
    "        outputs, states = rnn.static_rnn(lstm_cell, x, dtype=tf.float32)\n",
    "\n",
    "    # Linear activation, using rnn inner loop last output\n",
    "        logits = tf.matmul(outputs[-1], weights['out']) + biases['out']\n",
    "\n",
    "       # logits \n",
    "        prediction = tf.nn.softmax(logits)\n",
    "\n",
    "# Define loss and optimizer\n",
    "        loss_op = tf.nn.l2_loss(tf.nn.softmax_cross_entropy_with_logits(\n",
    "            logits=logits, labels=Y))\n",
    "        #optimizer = tf.train.GradientDescentOptimizer(learning_rate=learning_rate)\n",
    "        #train_op = optimizer.minimize(loss_op)\n",
    "\n",
    "# Evaluate model (with test logits, for dropout to be disabled)\n",
    "        correct_pred = tf.equal(tf.argmax(prediction, 1), tf.argmax(Y, 1))\n",
    "        accuracy = tf.reduce_mean(tf.cast(correct_pred, tf.float32))\n",
    "\n",
    "# Initialize the variables (i.e. assign their default value)\n",
    "        #init = tf.global_variables_initializer()\n",
    "        return outputs\n"
   ]
  },
  {
   "cell_type": "markdown",
   "metadata": {},
   "source": [
    "## trying to make a simple mlp"
   ]
  },
  {
   "cell_type": "code",
   "execution_count": null,
   "metadata": {},
   "outputs": [],
   "source": [
    "        n_hidden_1 = 128 # 1st layer number of neurons\n",
    "        n_hidden_2 = 128 # 2nd layer number of neurons\n",
    "        num_input = 376 \n",
    "        num_classes = 17 \n",
    "        weights = {\n",
    "            'h1': tf.Variable(tf.random_normal([num_input, n_hidden_1])),\n",
    "            'h2': tf.Variable(tf.random_normal([n_hidden_1, n_hidden_2])), #, dtype=tf.float64\n",
    "            'out': tf.Variable(tf.random_normal([n_hidden_2, num_classes]))\n",
    "        }\n",
    "        biases = {\n",
    "            'b1': tf.Variable(tf.random_normal([n_hidden_1])),\n",
    "            'b2': tf.Variable(tf.random_normal([n_hidden_2])),\n",
    "            'out': tf.Variable(tf.random_normal([num_classes]))\n",
    "        }\n",
    "               # Hidden fully connected layer with 256 neurons\n",
    "        #x = tf.cast(x, tf.float32)\n",
    "        ###input_placeholder = tf.cast(input_placeholder, tf.float32)\n",
    "        ###layer_1 = tf.add(tf.matmul(input_placeholder, weights['h1']), biases['b1'])\n",
    "        #Hidden fully connected layer with 256 neurons\n",
    "        ###layer_1 = tf.cast(layer_1, tf.float32)\n",
    "        ###layer_2 = tf.add(tf.matmul(layer_1, weights['h2']), biases['b2'])\n",
    "        # Output fully connected layer with a neuron for each class\n",
    "        ###out_layer = tf.matmul(layer_2, weights['out']) + biases['out']\n",
    "        #W = tf.Variable(tf.random_uniform([376, 64], 0, 0.01))\n",
    "        #out_placeholder_model = tf.matmul(input_placeholder, W)\n",
    "        layer_1 = tf.add(tf.matmul(input_placeholder, weights['h1']), biases['b1'])\n",
    "        layer_1 = tf.nn.relu(layer_1)\n",
    "        #layer_1 = tf.nn.dropout(layer_1, 0.25)\n",
    "        layer_2 = tf.add(tf.matmul(layer_1, weights['h2']), biases['b2'])\n",
    "        layer_2 = tf.nn.relu(layer_2)\n",
    "        #layer_2 = tf.nn.dropout(layer_2, 0.25)\n",
    "\n",
    "        #layer_1 = tf.nn.dropout(layer_1, keep_prob)\n",
    "        out_layer = tf.matmul(layer_1, weights['out']) + biases['out']\n",
    "        #out_placeholder_model = tf.layers.dense(inputs=out_placeholder_model, units=17, activation=tf.nn.relu)\n",
    "        #loss = tf.nn.l2_loss(out_placeholder_model)        \n"
   ]
  },
  {
   "cell_type": "markdown",
   "metadata": {},
   "source": [
    "### Обучем модель на экспертных данных"
   ]
  },
  {
   "cell_type": "code",
   "execution_count": 4,
   "metadata": {},
   "outputs": [
    {
     "name": "stdout",
     "output_type": "stream",
     "text": [
      "WARNING:tensorflow:From C:\\Users\\lenovo\\Desktop\\прогаем с удобством\\иад_конец\\hw1\\tf_util.py:91: all_variables (from tensorflow.python.ops.variables) is deprecated and will be removed after 2017-03-02.\n",
      "Instructions for updating:\n",
      "Please use tf.global_variables instead.\n",
      "WARNING:tensorflow:From C:\\Users\\lenovo\\Anaconda3\\lib\\site-packages\\tensorflow\\python\\util\\tf_should_use.py:118: initialize_variables (from tensorflow.python.ops.variables) is deprecated and will be removed after 2017-03-02.\n",
      "Instructions for updating:\n",
      "Use `tf.variables_initializer` instead.\n",
      "Creating window glfw\n",
      "returns [644.4550234462138, 646.2445097770599, 639.293789943844, 644.2479546217577, 659.7014478056071]\n",
      "mean return 646.7885451188965\n",
      "std of return 6.857263431641435\n",
      "dimension of obs : (500, 376)\n",
      "dimension of actions : (500, 1, 17)\n"
     ]
    }
   ],
   "source": [
    "# generate expert data\n",
    "data=generate_rollouts(num_rollouts=5,max_steps=100,render=True);\n",
    "x = data['observations']\n",
    "y = data['actions']\n",
    "print ('dimension of obs :', x.shape)\n",
    "print('dimension of actions :', y.shape)\n",
    "\n"
   ]
  },
  {
   "cell_type": "code",
   "execution_count": 20,
   "metadata": {},
   "outputs": [
    {
     "ename": "ValueError",
     "evalue": "Dimension size must be evenly divisible by 3136 but is 96256 for 'Reshape_1' (op: 'Reshape') with input shapes: [1,16,94,64], [2] and with input tensors computed as partial shapes: input[1] = [?,3136].",
     "output_type": "error",
     "traceback": [
      "\u001b[1;31m---------------------------------------------------------------------------\u001b[0m",
      "\u001b[1;31mInvalidArgumentError\u001b[0m                      Traceback (most recent call last)",
      "\u001b[1;32m~\\Anaconda3\\lib\\site-packages\\tensorflow\\python\\framework\\ops.py\u001b[0m in \u001b[0;36m_create_c_op\u001b[1;34m(graph, node_def, inputs, control_inputs)\u001b[0m\n\u001b[0;32m   1575\u001b[0m   \u001b[1;32mtry\u001b[0m\u001b[1;33m:\u001b[0m\u001b[1;33m\u001b[0m\u001b[0m\n\u001b[1;32m-> 1576\u001b[1;33m     \u001b[0mc_op\u001b[0m \u001b[1;33m=\u001b[0m \u001b[0mc_api\u001b[0m\u001b[1;33m.\u001b[0m\u001b[0mTF_FinishOperation\u001b[0m\u001b[1;33m(\u001b[0m\u001b[0mop_desc\u001b[0m\u001b[1;33m)\u001b[0m\u001b[1;33m\u001b[0m\u001b[0m\n\u001b[0m\u001b[0;32m   1577\u001b[0m   \u001b[1;32mexcept\u001b[0m \u001b[0merrors\u001b[0m\u001b[1;33m.\u001b[0m\u001b[0mInvalidArgumentError\u001b[0m \u001b[1;32mas\u001b[0m \u001b[0me\u001b[0m\u001b[1;33m:\u001b[0m\u001b[1;33m\u001b[0m\u001b[0m\n",
      "\u001b[1;31mInvalidArgumentError\u001b[0m: Dimension size must be evenly divisible by 3136 but is 96256 for 'Reshape_1' (op: 'Reshape') with input shapes: [1,16,94,64], [2] and with input tensors computed as partial shapes: input[1] = [?,3136].",
      "\nDuring handling of the above exception, another exception occurred:\n",
      "\u001b[1;31mValueError\u001b[0m                                Traceback (most recent call last)",
      "\u001b[1;32m<ipython-input-20-00274f9cb2ed>\u001b[0m in \u001b[0;36m<module>\u001b[1;34m()\u001b[0m\n\u001b[0;32m      3\u001b[0m \u001b[1;33m\u001b[0m\u001b[0m\n\u001b[0;32m      4\u001b[0m \u001b[1;31m# create an object from BC_Model class, and train it\u001b[0m\u001b[1;33m\u001b[0m\u001b[1;33m\u001b[0m\u001b[0m\n\u001b[1;32m----> 5\u001b[1;33m \u001b[0mcloner\u001b[0m\u001b[1;33m=\u001b[0m\u001b[0mBC_Model\u001b[0m\u001b[1;33m(\u001b[0m\u001b[0mx\u001b[0m\u001b[1;33m,\u001b[0m\u001b[0my\u001b[0m\u001b[1;33m)\u001b[0m\u001b[1;33m\u001b[0m\u001b[0m\n\u001b[0m\u001b[0;32m      6\u001b[0m \u001b[0mprint\u001b[0m\u001b[1;33m(\u001b[0m\u001b[0mcloner\u001b[0m\u001b[1;33m.\u001b[0m\u001b[0mbatch_size\u001b[0m\u001b[1;33m)\u001b[0m\u001b[1;33m\u001b[0m\u001b[0m\n\u001b[0;32m      7\u001b[0m \u001b[0mprint\u001b[0m\u001b[1;33m(\u001b[0m\u001b[0mcloner\u001b[0m\u001b[1;33m.\u001b[0m\u001b[0minput_data\u001b[0m\u001b[1;33m.\u001b[0m\u001b[0mshape\u001b[0m\u001b[1;33m)\u001b[0m\u001b[1;33m\u001b[0m\u001b[0m\n",
      "\u001b[1;32m<ipython-input-19-038b083f1796>\u001b[0m in \u001b[0;36m__init__\u001b[1;34m(self, input_data, output_data, batch_size)\u001b[0m\n\u001b[0;32m     17\u001b[0m         \u001b[0mself\u001b[0m\u001b[1;33m.\u001b[0m\u001b[0minput_placeholder\u001b[0m \u001b[1;33m=\u001b[0m \u001b[0mtf\u001b[0m\u001b[1;33m.\u001b[0m\u001b[0mplaceholder\u001b[0m\u001b[1;33m(\u001b[0m\u001b[0mtf\u001b[0m\u001b[1;33m.\u001b[0m\u001b[0mfloat32\u001b[0m\u001b[1;33m,\u001b[0m \u001b[0mshape\u001b[0m \u001b[1;33m=\u001b[0m \u001b[0mself\u001b[0m\u001b[1;33m.\u001b[0m\u001b[0minput_shape\u001b[0m\u001b[1;33m)\u001b[0m\u001b[1;33m\u001b[0m\u001b[0m\n\u001b[0;32m     18\u001b[0m         \u001b[0mself\u001b[0m\u001b[1;33m.\u001b[0m\u001b[0moutput_placeholder_expert\u001b[0m \u001b[1;33m=\u001b[0m \u001b[0mtf\u001b[0m\u001b[1;33m.\u001b[0m\u001b[0mplaceholder\u001b[0m\u001b[1;33m(\u001b[0m\u001b[0mtf\u001b[0m\u001b[1;33m.\u001b[0m\u001b[0mfloat32\u001b[0m\u001b[1;33m,\u001b[0m \u001b[0mshape\u001b[0m \u001b[1;33m=\u001b[0m \u001b[0mself\u001b[0m\u001b[1;33m.\u001b[0m\u001b[0moutput_shape\u001b[0m\u001b[1;33m)\u001b[0m\u001b[1;33m\u001b[0m\u001b[0m\n\u001b[1;32m---> 19\u001b[1;33m         \u001b[0mself\u001b[0m\u001b[1;33m.\u001b[0m\u001b[0moutput_placeholder_model\u001b[0m \u001b[1;33m=\u001b[0m \u001b[0mself\u001b[0m\u001b[1;33m.\u001b[0m\u001b[0mbuild_model\u001b[0m\u001b[1;33m(\u001b[0m\u001b[0mself\u001b[0m\u001b[1;33m.\u001b[0m\u001b[0minput_placeholder\u001b[0m\u001b[1;33m)\u001b[0m\u001b[1;33m\u001b[0m\u001b[0m\n\u001b[0m\u001b[0;32m     20\u001b[0m \u001b[1;33m\u001b[0m\u001b[0m\n\u001b[0;32m     21\u001b[0m         \u001b[1;31m# the loss function Mean squared error, (L2 stands for Least Square Errors)\u001b[0m\u001b[1;33m\u001b[0m\u001b[1;33m\u001b[0m\u001b[0m\n",
      "\u001b[1;32m<ipython-input-19-038b083f1796>\u001b[0m in \u001b[0;36mbuild_model\u001b[1;34m(self, input_placeholder)\u001b[0m\n\u001b[0;32m     59\u001b[0m         \u001b[0mconv2\u001b[0m \u001b[1;33m=\u001b[0m \u001b[0mmaxpool2d\u001b[0m\u001b[1;33m(\u001b[0m\u001b[0mconv2\u001b[0m\u001b[1;33m)\u001b[0m\u001b[1;33m\u001b[0m\u001b[0m\n\u001b[0;32m     60\u001b[0m \u001b[1;33m\u001b[0m\u001b[0m\n\u001b[1;32m---> 61\u001b[1;33m         \u001b[0mfc\u001b[0m \u001b[1;33m=\u001b[0m \u001b[0mtf\u001b[0m\u001b[1;33m.\u001b[0m\u001b[0mreshape\u001b[0m\u001b[1;33m(\u001b[0m\u001b[0mconv2\u001b[0m\u001b[1;33m,\u001b[0m\u001b[1;33m[\u001b[0m\u001b[1;33m-\u001b[0m\u001b[1;36m1\u001b[0m\u001b[1;33m,\u001b[0m \u001b[1;36m7\u001b[0m\u001b[1;33m*\u001b[0m\u001b[1;36m7\u001b[0m\u001b[1;33m*\u001b[0m\u001b[1;36m64\u001b[0m\u001b[1;33m]\u001b[0m\u001b[1;33m)\u001b[0m\u001b[1;33m\u001b[0m\u001b[0m\n\u001b[0m\u001b[0;32m     62\u001b[0m         \u001b[0mfc\u001b[0m \u001b[1;33m=\u001b[0m \u001b[0mtf\u001b[0m\u001b[1;33m.\u001b[0m\u001b[0mnn\u001b[0m\u001b[1;33m.\u001b[0m\u001b[0mrelu\u001b[0m\u001b[1;33m(\u001b[0m\u001b[0mtf\u001b[0m\u001b[1;33m.\u001b[0m\u001b[0mmatmul\u001b[0m\u001b[1;33m(\u001b[0m\u001b[0mfc\u001b[0m\u001b[1;33m,\u001b[0m \u001b[0mweights\u001b[0m\u001b[1;33m[\u001b[0m\u001b[1;34m'W_fc'\u001b[0m\u001b[1;33m]\u001b[0m\u001b[1;33m)\u001b[0m\u001b[1;33m+\u001b[0m\u001b[0mbiases\u001b[0m\u001b[1;33m[\u001b[0m\u001b[1;34m'b_fc'\u001b[0m\u001b[1;33m]\u001b[0m\u001b[1;33m)\u001b[0m\u001b[1;33m\u001b[0m\u001b[0m\n\u001b[0;32m     63\u001b[0m         \u001b[0mfc\u001b[0m \u001b[1;33m=\u001b[0m \u001b[0mtf\u001b[0m\u001b[1;33m.\u001b[0m\u001b[0mnn\u001b[0m\u001b[1;33m.\u001b[0m\u001b[0mdropout\u001b[0m\u001b[1;33m(\u001b[0m\u001b[0mfc\u001b[0m\u001b[1;33m,\u001b[0m \u001b[0mkeep_rate\u001b[0m\u001b[1;33m)\u001b[0m\u001b[1;33m\u001b[0m\u001b[0m\n",
      "\u001b[1;32m~\\Anaconda3\\lib\\site-packages\\tensorflow\\python\\ops\\gen_array_ops.py\u001b[0m in \u001b[0;36mreshape\u001b[1;34m(tensor, shape, name)\u001b[0m\n\u001b[0;32m   7432\u001b[0m   \u001b[1;32mif\u001b[0m \u001b[0m_ctx\u001b[0m \u001b[1;32mis\u001b[0m \u001b[1;32mNone\u001b[0m \u001b[1;32mor\u001b[0m \u001b[1;32mnot\u001b[0m \u001b[0m_ctx\u001b[0m\u001b[1;33m.\u001b[0m\u001b[0m_eager_context\u001b[0m\u001b[1;33m.\u001b[0m\u001b[0mis_eager\u001b[0m\u001b[1;33m:\u001b[0m\u001b[1;33m\u001b[0m\u001b[0m\n\u001b[0;32m   7433\u001b[0m     _, _, _op = _op_def_lib._apply_op_helper(\n\u001b[1;32m-> 7434\u001b[1;33m         \"Reshape\", tensor=tensor, shape=shape, name=name)\n\u001b[0m\u001b[0;32m   7435\u001b[0m     \u001b[0m_result\u001b[0m \u001b[1;33m=\u001b[0m \u001b[0m_op\u001b[0m\u001b[1;33m.\u001b[0m\u001b[0moutputs\u001b[0m\u001b[1;33m[\u001b[0m\u001b[1;33m:\u001b[0m\u001b[1;33m]\u001b[0m\u001b[1;33m\u001b[0m\u001b[0m\n\u001b[0;32m   7436\u001b[0m     \u001b[0m_inputs_flat\u001b[0m \u001b[1;33m=\u001b[0m \u001b[0m_op\u001b[0m\u001b[1;33m.\u001b[0m\u001b[0minputs\u001b[0m\u001b[1;33m\u001b[0m\u001b[0m\n",
      "\u001b[1;32m~\\Anaconda3\\lib\\site-packages\\tensorflow\\python\\framework\\op_def_library.py\u001b[0m in \u001b[0;36m_apply_op_helper\u001b[1;34m(self, op_type_name, name, **keywords)\u001b[0m\n\u001b[0;32m    785\u001b[0m         op = g.create_op(op_type_name, inputs, output_types, name=scope,\n\u001b[0;32m    786\u001b[0m                          \u001b[0minput_types\u001b[0m\u001b[1;33m=\u001b[0m\u001b[0minput_types\u001b[0m\u001b[1;33m,\u001b[0m \u001b[0mattrs\u001b[0m\u001b[1;33m=\u001b[0m\u001b[0mattr_protos\u001b[0m\u001b[1;33m,\u001b[0m\u001b[1;33m\u001b[0m\u001b[0m\n\u001b[1;32m--> 787\u001b[1;33m                          op_def=op_def)\n\u001b[0m\u001b[0;32m    788\u001b[0m       \u001b[1;32mreturn\u001b[0m \u001b[0moutput_structure\u001b[0m\u001b[1;33m,\u001b[0m \u001b[0mop_def\u001b[0m\u001b[1;33m.\u001b[0m\u001b[0mis_stateful\u001b[0m\u001b[1;33m,\u001b[0m \u001b[0mop\u001b[0m\u001b[1;33m\u001b[0m\u001b[0m\n\u001b[0;32m    789\u001b[0m \u001b[1;33m\u001b[0m\u001b[0m\n",
      "\u001b[1;32m~\\Anaconda3\\lib\\site-packages\\tensorflow\\python\\util\\deprecation.py\u001b[0m in \u001b[0;36mnew_func\u001b[1;34m(*args, **kwargs)\u001b[0m\n\u001b[0;32m    452\u001b[0m                 \u001b[1;34m'in a future version'\u001b[0m \u001b[1;32mif\u001b[0m \u001b[0mdate\u001b[0m \u001b[1;32mis\u001b[0m \u001b[1;32mNone\u001b[0m \u001b[1;32melse\u001b[0m \u001b[1;33m(\u001b[0m\u001b[1;34m'after %s'\u001b[0m \u001b[1;33m%\u001b[0m \u001b[0mdate\u001b[0m\u001b[1;33m)\u001b[0m\u001b[1;33m,\u001b[0m\u001b[1;33m\u001b[0m\u001b[0m\n\u001b[0;32m    453\u001b[0m                 instructions)\n\u001b[1;32m--> 454\u001b[1;33m       \u001b[1;32mreturn\u001b[0m \u001b[0mfunc\u001b[0m\u001b[1;33m(\u001b[0m\u001b[1;33m*\u001b[0m\u001b[0margs\u001b[0m\u001b[1;33m,\u001b[0m \u001b[1;33m**\u001b[0m\u001b[0mkwargs\u001b[0m\u001b[1;33m)\u001b[0m\u001b[1;33m\u001b[0m\u001b[0m\n\u001b[0m\u001b[0;32m    455\u001b[0m     return tf_decorator.make_decorator(func, new_func, 'deprecated',\n\u001b[0;32m    456\u001b[0m                                        _add_deprecated_arg_notice_to_docstring(\n",
      "\u001b[1;32m~\\Anaconda3\\lib\\site-packages\\tensorflow\\python\\framework\\ops.py\u001b[0m in \u001b[0;36mcreate_op\u001b[1;34m(***failed resolving arguments***)\u001b[0m\n\u001b[0;32m   3153\u001b[0m           \u001b[0minput_types\u001b[0m\u001b[1;33m=\u001b[0m\u001b[0minput_types\u001b[0m\u001b[1;33m,\u001b[0m\u001b[1;33m\u001b[0m\u001b[0m\n\u001b[0;32m   3154\u001b[0m           \u001b[0moriginal_op\u001b[0m\u001b[1;33m=\u001b[0m\u001b[0mself\u001b[0m\u001b[1;33m.\u001b[0m\u001b[0m_default_original_op\u001b[0m\u001b[1;33m,\u001b[0m\u001b[1;33m\u001b[0m\u001b[0m\n\u001b[1;32m-> 3155\u001b[1;33m           op_def=op_def)\n\u001b[0m\u001b[0;32m   3156\u001b[0m       \u001b[0mself\u001b[0m\u001b[1;33m.\u001b[0m\u001b[0m_create_op_helper\u001b[0m\u001b[1;33m(\u001b[0m\u001b[0mret\u001b[0m\u001b[1;33m,\u001b[0m \u001b[0mcompute_device\u001b[0m\u001b[1;33m=\u001b[0m\u001b[0mcompute_device\u001b[0m\u001b[1;33m)\u001b[0m\u001b[1;33m\u001b[0m\u001b[0m\n\u001b[0;32m   3157\u001b[0m     \u001b[1;32mreturn\u001b[0m \u001b[0mret\u001b[0m\u001b[1;33m\u001b[0m\u001b[0m\n",
      "\u001b[1;32m~\\Anaconda3\\lib\\site-packages\\tensorflow\\python\\framework\\ops.py\u001b[0m in \u001b[0;36m__init__\u001b[1;34m(self, node_def, g, inputs, output_types, control_inputs, input_types, original_op, op_def)\u001b[0m\n\u001b[0;32m   1729\u001b[0m           op_def, inputs, node_def.attr)\n\u001b[0;32m   1730\u001b[0m       self._c_op = _create_c_op(self._graph, node_def, grouped_inputs,\n\u001b[1;32m-> 1731\u001b[1;33m                                 control_input_ops)\n\u001b[0m\u001b[0;32m   1732\u001b[0m \u001b[1;33m\u001b[0m\u001b[0m\n\u001b[0;32m   1733\u001b[0m     \u001b[1;31m# Initialize self._outputs.\u001b[0m\u001b[1;33m\u001b[0m\u001b[1;33m\u001b[0m\u001b[0m\n",
      "\u001b[1;32m~\\Anaconda3\\lib\\site-packages\\tensorflow\\python\\framework\\ops.py\u001b[0m in \u001b[0;36m_create_c_op\u001b[1;34m(graph, node_def, inputs, control_inputs)\u001b[0m\n\u001b[0;32m   1577\u001b[0m   \u001b[1;32mexcept\u001b[0m \u001b[0merrors\u001b[0m\u001b[1;33m.\u001b[0m\u001b[0mInvalidArgumentError\u001b[0m \u001b[1;32mas\u001b[0m \u001b[0me\u001b[0m\u001b[1;33m:\u001b[0m\u001b[1;33m\u001b[0m\u001b[0m\n\u001b[0;32m   1578\u001b[0m     \u001b[1;31m# Convert to ValueError for backwards compatibility.\u001b[0m\u001b[1;33m\u001b[0m\u001b[1;33m\u001b[0m\u001b[0m\n\u001b[1;32m-> 1579\u001b[1;33m     \u001b[1;32mraise\u001b[0m \u001b[0mValueError\u001b[0m\u001b[1;33m(\u001b[0m\u001b[0mstr\u001b[0m\u001b[1;33m(\u001b[0m\u001b[0me\u001b[0m\u001b[1;33m)\u001b[0m\u001b[1;33m)\u001b[0m\u001b[1;33m\u001b[0m\u001b[0m\n\u001b[0m\u001b[0;32m   1580\u001b[0m \u001b[1;33m\u001b[0m\u001b[0m\n\u001b[0;32m   1581\u001b[0m   \u001b[1;32mreturn\u001b[0m \u001b[0mc_op\u001b[0m\u001b[1;33m\u001b[0m\u001b[0m\n",
      "\u001b[1;31mValueError\u001b[0m: Dimension size must be evenly divisible by 3136 but is 96256 for 'Reshape_1' (op: 'Reshape') with input shapes: [1,16,94,64], [2] and with input tensors computed as partial shapes: input[1] = [?,3136]."
     ]
    }
   ],
   "source": [
    "# shuffle data\n",
    "x,y = shuffle(x,y)\n",
    "\n",
    "# create an object from BC_Model class, and train it\n",
    "cloner=BC_Model(x,y)\n",
    "print(cloner.batch_size)\n",
    "print(cloner.input_data.shape)\n",
    "cloner.train()"
   ]
  },
  {
   "cell_type": "code",
   "execution_count": 10,
   "metadata": {},
   "outputs": [
    {
     "name": "stdout",
     "output_type": "stream",
     "text": [
      "Tensor(\"L2Loss:0\", shape=(), dtype=float32)\n"
     ]
    }
   ],
   "source": [
    "#from 25451213000.0 to 932890.7"
   ]
  },
  {
   "cell_type": "markdown",
   "metadata": {},
   "source": [
    "### Испытываем модель"
   ]
  },
  {
   "cell_type": "code",
   "execution_count": 21,
   "metadata": {},
   "outputs": [
    {
     "name": "stdout",
     "output_type": "stream",
     "text": [
      "[78.40317552437696, 84.02719095187153, 94.4677385011751, 100.53352647666432, 80.36763227997048, 136.88796166329502, 103.85728169007291, 168.8122481164002, 78.57987093100606, 88.6454975992719, 78.91222461787967, 88.86797862798551, 107.43926607846785, 84.5815780527388, 113.24598330792172, 105.193399045507, 96.97422511218517, 131.94266374028143, 85.1195210237275, 92.45121325030982, 224.3147053154392, 89.41632284043854, 130.11418590434587, 85.66299029410679, 160.70574678166918, 106.84117629882155, 118.41511217833606, 90.01550702526612, 127.12645943997656, 87.85610490389284, 93.28748909919197, 145.02813121320824, 130.02253714060888, 86.41541649778239, 94.37642521562397, 132.85147568863118, 179.75809093259792, 89.23906821747262, 96.69715852876816, 75.28684874692958, 112.05321741152775, 104.68929255735945, 86.65851958456008, 113.5527823120745, 79.63456935898577, 93.85637552268885, 147.36740258094792, 89.80995011092882, 88.35340892247655, 89.5160104343571, 162.557642939849, 85.17683846775296, 104.40120410321404, 75.95445345260647, 130.19635902200687, 259.5502940334988, 94.89743666332822, 173.85160641481448, 67.30881031368673, 132.87793749549544, 81.89495622744752, 87.46434560486604, 151.1608777384267, 73.61554960601485, 155.1186987395772, 176.4381296415218, 90.44659239272477, 83.8719509074071, 197.1560377845534, 140.82074015256154, 90.74934473180092, 146.53108718840485, 89.33378731364354, 143.76941274437377, 93.35004459394418, 103.95953277445595, 94.56760038358307, 141.90055262221625, 90.84707476780578, 118.32203480160892, 101.87044266204906, 80.63031081252123, 82.39201581714102, 126.11881680093197, 89.43239621223013, 90.57156886755064, 155.97227546747132, 128.00363421403327, 135.18068690446972, 88.94831606675544, 176.13631300464976, 126.44600379791683, 127.34494412024792, 128.7180306208347, 184.85728873239782, 144.2827308801884, 123.15322948323012, 88.45854151151272, 81.19615057260424, 117.01064640915163]\n",
      "mean return 113.63047934231204\n",
      "std of return 35.08638323795936\n"
     ]
    }
   ],
   "source": [
    "num_eval_rollouts=100\n",
    "# loop over runouts\n",
    "returns=[]\n",
    "#totalr = 0\n",
    "for i in range(num_eval_rollouts):\n",
    "    # reset variables in each iteration\n",
    "    totalr=0\n",
    "    done=False\n",
    "    obs=env.reset()\n",
    "    # loop until the end of the episode\n",
    "    while not done:\n",
    "        # get an action from the trained model (output for specific observation as input)\n",
    "        action=cloner.sample(obs)\n",
    "        # implement the action\n",
    "        obs,r,done,_=env.step(action)\n",
    "        totalr+=r\n",
    "        #if render == True:\n",
    "        env.render()\n",
    "    returns.append(totalr)\n",
    "print(returns)\n",
    "print('mean return', np.mean(returns))\n",
    "print('std of return', np.std(returns))\n"
   ]
  },
  {
   "cell_type": "code",
   "execution_count": 25,
   "metadata": {},
   "outputs": [],
   "source": [
    "def generate_eval_rollouts(num_rollouts,max_steps,render=False):\n",
    "    \n",
    "    # initialize tensoflow session (tf stuff)\n",
    "    with tf.Session():\n",
    "        tf_util.initialize()\n",
    "\n",
    "        # collect rollouts\n",
    "        # firstly, define the arrays\n",
    "        returns = []\n",
    "        observations = []\n",
    "        actions = []\n",
    "\n",
    "        # loop to collect data\n",
    "        for i in range(num_rollouts):\n",
    "            #number of iteration (episode)\n",
    "            #print('iter', i)\n",
    "            # parameters to initial values\n",
    "            obs = env.reset()\n",
    "            done = False\n",
    "            totalr = 0.\n",
    "            steps = 0\n",
    "            # loop until the end of the episode\n",
    "            while not done:\n",
    "                # choose an action depending on the observation\n",
    "                action=cloner.sample(obs)\n",
    "                # append sample to arrays\n",
    "                observations.append(obs)\n",
    "                actions.append(action)\n",
    "                # apply the action on the environment\n",
    "                obs, r, done, _ = env.step(action)\n",
    "                # calculate the total reward\n",
    "                totalr += r\n",
    "                steps += 1\n",
    "                # render the environment\n",
    "                if render == True:\n",
    "                    env.render()\n",
    "                #if steps % 100 == 0: print(\"%i/%i\"%(steps, max_steps))\n",
    "                if steps >= max_steps:\n",
    "                    break\n",
    "            # append the total reward\n",
    "            returns.append(totalr)\n",
    "        \n",
    "        # print the reward information\n",
    "        #print('returns', returns)\n",
    "        print('mean return', np.mean(returns))\n",
    "        print('std of return', np.std(returns))\n",
    "\n",
    "        expert_data = {'observations': np.array(observations),'actions': np.array(actions)}\n",
    "            \n",
    "        return expert_data, totalr"
   ]
  },
  {
   "cell_type": "code",
   "execution_count": 26,
   "metadata": {},
   "outputs": [
    {
     "name": "stdout",
     "output_type": "stream",
     "text": [
      "mean return 117.01804042466111\n",
      "std of return 39.34010619447041\n"
     ]
    },
    {
     "data": {
      "text/plain": [
       "({'observations': array([[ 1.40929949e+00,  9.99978949e-01, -1.72931325e-03, ...,\n",
       "           0.00000000e+00,  0.00000000e+00,  0.00000000e+00],\n",
       "         [ 1.40736043e+00,  9.99560047e-01,  1.01749239e-03, ...,\n",
       "           0.00000000e+00,  0.00000000e+00,  0.00000000e+00],\n",
       "         [ 1.40116160e+00,  9.98112920e-01,  8.28881484e-04, ...,\n",
       "           0.00000000e+00,  0.00000000e+00,  0.00000000e+00],\n",
       "         ...,\n",
       "         [ 1.05022618e+00,  9.85447981e-01,  1.56652514e-01, ...,\n",
       "           0.00000000e+00,  0.00000000e+00,  0.00000000e+00],\n",
       "         [ 1.02337633e+00,  9.84774250e-01,  1.52736547e-01, ...,\n",
       "           0.00000000e+00,  0.00000000e+00,  0.00000000e+00],\n",
       "         [ 1.00433487e+00,  9.84933873e-01,  1.37623945e-01, ...,\n",
       "           0.00000000e+00,  0.00000000e+00,  0.00000000e+00]]),\n",
       "  'actions': array([[-3.9612489e+00, -1.3394644e+00, -8.3105450e+00, ...,\n",
       "           2.9425142e+00, -3.0926723e+00,  1.1976047e+00],\n",
       "         [ 2.9288916e+01, -6.4309090e+01,  1.1183698e+02, ...,\n",
       "           6.0467056e+01, -9.6638021e+00, -2.3514627e+02],\n",
       "         [-7.3840256e+01,  8.8125740e+01,  2.5047287e+01, ...,\n",
       "          -1.2071369e+01, -3.0791130e+01,  2.4006512e+01],\n",
       "         ...,\n",
       "         [-6.0326481e+01, -3.6732915e+03,  3.1189871e+03, ...,\n",
       "          -8.1677600e+02,  1.4686761e+03,  3.3742036e+03],\n",
       "         [-2.7199146e+01, -3.2520801e+03,  2.7355906e+03, ...,\n",
       "          -6.0928070e+02,  1.1835210e+03,  2.6760820e+03],\n",
       "         [ 2.8215863e+02, -8.2400793e+02,  1.1224720e+03, ...,\n",
       "          -1.4899630e+03,  2.1073276e+02,  1.3459606e+03]], dtype=float32)},\n",
       " 101.33330305839274)"
      ]
     },
     "execution_count": 26,
     "metadata": {},
     "output_type": "execute_result"
    }
   ],
   "source": [
    "generate_eval_rollouts(100,100,render=True)"
   ]
  },
  {
   "cell_type": "code",
   "execution_count": 29,
   "metadata": {},
   "outputs": [
    {
     "name": "stdout",
     "output_type": "stream",
     "text": [
      "mean return 138.23343435725315\n",
      "std of return 64.01891770634363\n",
      "mean return 114.27617212069444\n",
      "std of return 36.9763500905697\n",
      "mean return 117.34893427975364\n",
      "std of return 39.735514883198924\n",
      "mean return 119.38760163380233\n",
      "std of return 44.34371269397573\n",
      "mean return 114.41931182540031\n",
      "std of return 35.05989731038525\n",
      "mean return 116.09066972065818\n",
      "std of return 36.524378195656936\n",
      "mean return 111.11186944131833\n",
      "std of return 35.882784080974126\n",
      "mean return 118.7697296007147\n",
      "std of return 41.4305463414085\n",
      "mean return 118.21369231831011\n",
      "std of return 42.54309412664493\n"
     ]
    },
    {
     "data": {
      "image/png": "[encoded data removed]",
      "text/plain": [
       "<Figure size 432x288 with 1 Axes>"
      ]
     },
     "metadata": {},
     "output_type": "display_data"
    }
   ],
   "source": [
    "different_rollouts=[10, 25, 50, 75, 100, 150, 200, 250, 300]\n",
    "d={}\n",
    "for r in different_rollouts:\n",
    "    d[r] = generate_eval_rollouts(r, 100, render=True)[1]\n",
    "import matplotlib.pyplot as plt\n",
    "plt.scatter(d.keys(), d.values())\n",
    "plt.show()"
   ]
  },
  {
   "cell_type": "code",
   "execution_count": 28,
   "metadata": {},
   "outputs": [
    {
     "name": "stdout",
     "output_type": "stream",
     "text": [
      "{10: ({'observations': array([[ 1.40407187,  0.99995135,  0.00974743, ...,  0.        ,\n",
      "         0.        ,  0.        ],\n",
      "       [ 1.40217132,  0.9996303 ,  0.01239585, ...,  0.        ,\n",
      "         0.        ,  0.        ],\n",
      "       [ 1.39603325,  0.99835189,  0.01206059, ...,  0.        ,\n",
      "         0.        ,  0.        ],\n",
      "       ...,\n",
      "       [ 1.10280701,  0.98692264, -0.15698957, ..., -1.16213185,\n",
      "         4.62233649,  5.10291799],\n",
      "       [ 1.06657913,  0.98364696, -0.1747132 , ...,  0.        ,\n",
      "         0.        ,  0.        ],\n",
      "       [ 1.02873859,  0.98102511, -0.1893139 , ...,  0.        ,\n",
      "         0.        ,  0.        ]]), 'actions': array([[-3.64687395e+00, -6.74803019e-01, -9.09231091e+00, ...,\n",
      "         3.34894824e+00, -4.22546387e+00,  1.20359373e+00],\n",
      "       [ 2.94591885e+01, -6.99882050e+01,  1.15044052e+02, ...,\n",
      "         6.20499496e+01, -1.35870733e+01, -2.35124893e+02],\n",
      "       [-7.40429916e+01,  8.65465775e+01,  2.78625202e+01, ...,\n",
      "        -1.36262693e+01, -2.72390442e+01,  2.57125053e+01],\n",
      "       ...,\n",
      "       [ 3.76287323e+02, -1.15043526e+01, -2.12088989e+02, ...,\n",
      "        -1.01866684e+02, -2.72080650e+01, -3.46571869e+02],\n",
      "       [-7.33571960e+02,  2.75752625e+02,  1.07480322e+03, ...,\n",
      "         7.79574966e+01,  1.42021667e+03, -3.64200378e+02],\n",
      "       [-1.09193127e+03, -1.46810120e+02,  1.54331287e+03, ...,\n",
      "         2.26982300e+02,  1.20731482e+03, -5.28866005e+01]], dtype=float32)}, 175.5838340110342), 25: ({'observations': array([[ 1.40919443,  0.99995398,  0.00568846, ...,  0.        ,\n",
      "         0.        ,  0.        ],\n",
      "       [ 1.40720484,  0.99964603,  0.00820091, ...,  0.        ,\n",
      "         0.        ,  0.        ],\n",
      "       [ 1.4008886 ,  0.99834433,  0.00783321, ...,  0.        ,\n",
      "         0.        ,  0.        ],\n",
      "       ...,\n",
      "       [ 1.04401235,  0.92735982, -0.16882269, ...,  0.        ,\n",
      "         0.        ,  0.        ],\n",
      "       [ 1.02825127,  0.93247944, -0.14346797, ...,  0.        ,\n",
      "         0.        ,  0.        ],\n",
      "       [ 1.00801869,  0.94022074, -0.11167913, ...,  0.        ,\n",
      "         0.        ,  0.        ]]), 'actions': array([[-4.15767431e+00, -1.24115443e+00, -8.47320843e+00, ...,\n",
      "         3.45597196e+00, -3.39765453e+00,  1.00856352e+00],\n",
      "       [ 2.44925766e+01, -6.53687363e+01,  1.18044319e+02, ...,\n",
      "         5.88965302e+01, -1.62669411e+01, -2.40092545e+02],\n",
      "       [-7.30679550e+01,  8.86997528e+01,  2.47998161e+01, ...,\n",
      "        -1.46604338e+01, -2.74207611e+01,  2.67433281e+01],\n",
      "       ...,\n",
      "       [ 1.70976941e+03, -6.91104297e+03,  3.54272949e+03, ...,\n",
      "        -4.05560791e+03,  7.96604834e+03,  8.66381152e+03],\n",
      "       [-6.51311798e+01, -3.64500117e+00,  2.10395477e+02, ...,\n",
      "        -2.41544525e+02, -1.09355574e+01,  2.21843735e+02],\n",
      "       [ 9.15585804e+00, -5.28993607e+01,  1.13871124e+02, ...,\n",
      "        -1.13602325e+02,  1.33699982e+02,  6.31432304e+01]], dtype=float32)}, 143.13607867747504), 50: ({'observations': array([[ 1.39326144,  0.99997127,  0.0042738 , ...,  0.        ,\n",
      "         0.        ,  0.        ],\n",
      "       [ 1.39134046,  0.999827  ,  0.00700901, ...,  0.        ,\n",
      "         0.        ,  0.        ],\n",
      "       [ 1.38513434,  0.99878497,  0.00680652, ...,  0.        ,\n",
      "         0.        ,  0.        ],\n",
      "       ...,\n",
      "       [ 1.07923257,  0.99825595, -0.02237872, ...,  0.        ,\n",
      "         0.        ,  0.        ],\n",
      "       [ 1.04547714,  0.99457307, -0.00153677, ...,  0.        ,\n",
      "         0.        ,  0.        ],\n",
      "       [ 1.01501458,  0.98960356,  0.02461014, ...,  0.        ,\n",
      "         0.        ,  0.        ]]), 'actions': array([[-2.1996312e+00, -7.6303124e-01, -1.0160817e+01, ...,\n",
      "         3.0665834e+00, -4.8586531e+00,  1.2437167e+00],\n",
      "       [ 2.8515451e+01, -7.3272461e+01,  1.1309047e+02, ...,\n",
      "         5.9188641e+01, -1.8645126e+01, -2.3305482e+02],\n",
      "       [-7.4555939e+01,  8.5301727e+01,  2.7636681e+01, ...,\n",
      "        -1.5110986e+01, -2.9527405e+01,  2.0616802e+01],\n",
      "       ...,\n",
      "       [-1.7733022e+02, -5.0235062e+01, -2.1229573e+02, ...,\n",
      "         1.7551682e+02,  2.3037418e+02, -3.1973957e+01],\n",
      "       [-1.8964882e+03, -4.0634592e+03,  4.9619771e+03, ...,\n",
      "        -2.8907485e+03,  4.7721157e+03,  8.2059395e+03],\n",
      "       [-9.8637000e+02, -1.7844698e+03,  2.8471091e+03, ...,\n",
      "        -2.7679724e+02,  5.8681360e+02,  1.7322606e+03]], dtype=float32)}, 87.0974425833082), 75: ({'observations': array([[ 1.39246485e+00,  9.99939873e-01, -3.29109870e-03, ...,\n",
      "         0.00000000e+00,  0.00000000e+00,  0.00000000e+00],\n",
      "       [ 1.39041057e+00,  9.99436522e-01, -7.34041653e-04, ...,\n",
      "         0.00000000e+00,  0.00000000e+00,  0.00000000e+00],\n",
      "       [ 1.38406726e+00,  9.97896687e-01, -8.63484481e-04, ...,\n",
      "         0.00000000e+00,  0.00000000e+00,  0.00000000e+00],\n",
      "       ...,\n",
      "       [ 1.07229637e+00,  9.89918597e-01, -9.31246682e-02, ...,\n",
      "         0.00000000e+00,  0.00000000e+00,  0.00000000e+00],\n",
      "       [ 1.04292650e+00,  9.91424445e-01, -9.24560758e-02, ...,\n",
      "         0.00000000e+00,  0.00000000e+00,  0.00000000e+00],\n",
      "       [ 1.01901322e+00,  9.93641425e-01, -8.92740782e-02, ...,\n",
      "         0.00000000e+00,  0.00000000e+00,  0.00000000e+00]]), 'actions': array([[  -5.229632 ,   -1.1138995,   -8.007557 , ...,    2.4559824,\n",
      "          -2.482852 ,    1.6328845],\n",
      "       [  38.71526  ,  -63.63083  ,  108.52301  , ...,   60.38605  ,\n",
      "         -13.722426 , -219.38432  ],\n",
      "       [ -72.947815 ,   85.188286 ,   27.638914 , ...,  -11.051395 ,\n",
      "         -31.733646 ,   26.047344 ],\n",
      "       ...,\n",
      "       [  63.304417 , -220.18819  ,  -38.91061  , ..., -165.91019  ,\n",
      "         150.16946  ,  107.555824 ],\n",
      "       [ 112.08313  , -167.2974   , -141.56523  , ..., -136.73724  ,\n",
      "         137.70305  ,  191.3921   ],\n",
      "       [ 113.41875  , -143.75252  , -102.33822  , ...,  -49.847687 ,\n",
      "        -255.0416   ,  415.0734   ]], dtype=float32)}, 93.7316934198701), 100: ({'observations': array([[ 1.39700165,  0.99994833, -0.00882591, ...,  0.        ,\n",
      "         0.        ,  0.        ],\n",
      "       [ 1.39494534,  0.9996205 , -0.0068388 , ...,  0.        ,\n",
      "         0.        ,  0.        ],\n",
      "       [ 1.38858917,  0.99758097, -0.00554444, ...,  0.        ,\n",
      "         0.        ,  0.        ],\n",
      "       ...,\n",
      "       [ 1.07112709,  0.95872972, -0.08807478, ...,  0.        ,\n",
      "         0.        ,  0.        ],\n",
      "       [ 1.03700251,  0.95134796, -0.08284388, ...,  0.        ,\n",
      "         0.        ,  0.        ],\n",
      "       [ 1.00143104,  0.93266771, -0.07385736, ...,  0.        ,\n",
      "         0.        ,  0.        ]]), 'actions': array([[-6.2602696e+00, -1.4000413e+00, -8.5123796e+00, ...,\n",
      "         3.1243861e+00, -2.3642235e+00,  2.2258716e+00],\n",
      "       [ 9.3342178e+01, -2.1452335e+01,  9.1460129e+01, ...,\n",
      "         5.8343822e+01, -5.8479473e+01, -1.5165388e+02],\n",
      "       [-6.2999149e+01, -1.3768077e-01,  9.5534790e+01, ...,\n",
      "        -1.6120193e+01, -4.6670940e+01,  1.5482158e+01],\n",
      "       ...,\n",
      "       [ 2.2873914e+02, -2.3676279e+02, -2.8900192e+02, ...,\n",
      "         6.5179825e+01, -1.0970534e+02,  1.6365422e+02],\n",
      "       [-7.8125381e+01,  2.2302934e+02, -1.7512712e+02, ...,\n",
      "        -7.2678986e+01,  1.7370572e+02,  2.0893913e+02],\n",
      "       [-1.9039232e+02, -1.2868651e+02,  4.9227573e+01, ...,\n",
      "         9.4669769e+01,  3.5315396e+02,  2.2696941e+01]], dtype=float32)}, 92.97179664624865), 150: ({'observations': array([[ 1.40040566,  0.99994909,  0.0027479 , ...,  0.        ,\n",
      "         0.        ,  0.        ],\n",
      "       [ 1.39842978,  0.99943891,  0.00541605, ...,  0.        ,\n",
      "         0.        ,  0.        ],\n",
      "       [ 1.39219853,  0.99786837,  0.00511033, ...,  0.        ,\n",
      "         0.        ,  0.        ],\n",
      "       ...,\n",
      "       [ 1.05108897,  0.95972993, -0.10381079, ...,  0.        ,\n",
      "         0.        ,  0.        ],\n",
      "       [ 1.03081808,  0.96254415, -0.09035603, ...,  0.        ,\n",
      "         0.        ,  0.        ],\n",
      "       [ 1.00932567,  0.96218276, -0.08298985, ...,  0.        ,\n",
      "         0.        ,  0.        ]]), 'actions': array([[  -2.8977518 ,   -1.0427468 ,   -8.715783  , ...,    2.3976347 ,\n",
      "          -3.8276234 ,    0.45745414],\n",
      "       [  33.755283  ,  -61.402687  ,  110.13119   , ...,   59.432835  ,\n",
      "          -9.449607  , -232.47478   ],\n",
      "       [ -71.916565  ,   90.335884  ,   24.785913  , ...,  -11.329922  ,\n",
      "         -32.085224  ,   24.601849  ],\n",
      "       ...,\n",
      "       [ -92.72211   , -176.00131   , -142.23843   , ..., -238.48267   ,\n",
      "          70.57705   ,  213.76512   ],\n",
      "       [  78.27686   ,  -36.264015  ,    6.1333523 , ...,   53.829193  ,\n",
      "         -20.177284  ,  100.238625  ],\n",
      "       [ -27.92612   ,  -95.36068   ,   26.057226  , ...,  -54.794266  ,\n",
      "         -63.31831   ,   72.13114   ]], dtype=float32)}, 121.3992390994926), 200: ({'observations': array([[ 1.40350681e+00,  9.99990383e-01, -5.83255810e-04, ...,\n",
      "         0.00000000e+00,  0.00000000e+00,  0.00000000e+00],\n",
      "       [ 1.40153082e+00,  9.99815184e-01,  2.15497445e-03, ...,\n",
      "         0.00000000e+00,  0.00000000e+00,  0.00000000e+00],\n",
      "       [ 1.39525217e+00,  9.98703261e-01,  1.93661753e-03, ...,\n",
      "         0.00000000e+00,  0.00000000e+00,  0.00000000e+00],\n",
      "       ...,\n",
      "       [ 1.05296907e+00,  9.93151662e-01,  5.51463509e-02, ...,\n",
      "         0.00000000e+00,  0.00000000e+00,  0.00000000e+00],\n",
      "       [ 1.02729064e+00,  9.93422536e-01,  6.28349496e-02, ...,\n",
      "         0.00000000e+00,  0.00000000e+00,  0.00000000e+00],\n",
      "       [ 1.00994429e+00,  9.92956812e-01,  6.01391440e-02, ...,\n",
      "         0.00000000e+00,  0.00000000e+00,  0.00000000e+00]]), 'actions': array([[-5.7228270e+00, -1.1919515e+00, -8.1028547e+00, ...,\n",
      "         3.1552145e+00, -2.8356304e+00,  1.3512073e+00],\n",
      "       [ 2.3864502e+01, -6.9892632e+01,  1.1429674e+02, ...,\n",
      "         6.2734703e+01, -1.1543506e+01, -2.3331296e+02],\n",
      "       [-7.4341034e+01,  8.4861343e+01,  2.6606260e+01, ...,\n",
      "        -1.2501444e+01, -2.8244972e+01,  2.3568157e+01],\n",
      "       ...,\n",
      "       [-6.3910510e+02,  3.9076074e+03,  1.3736940e+03, ...,\n",
      "        -1.8714158e+03,  3.9768601e+03,  4.7835830e+03],\n",
      "       [-1.3429365e+03, -1.3555914e+03, -1.8586576e+03, ...,\n",
      "         2.1127979e+03,  2.5588449e+02,  4.6768970e+03],\n",
      "       [-9.9969714e+02,  1.0743889e+03,  2.0807366e+03, ...,\n",
      "        -4.4476978e+01,  2.2553198e+03,  2.0151725e+03]], dtype=float32)}, 92.32722225254702), 250: ({'observations': array([[ 1.40625101,  0.99995106,  0.00192379, ...,  0.        ,\n",
      "         0.        ,  0.        ],\n",
      "       [ 1.40423164,  0.9996378 ,  0.00470442, ...,  0.        ,\n",
      "         0.        ,  0.        ],\n",
      "       [ 1.39800057,  0.99838156,  0.00456737, ...,  0.        ,\n",
      "         0.        ,  0.        ],\n",
      "       ...,\n",
      "       [ 1.06766641,  0.99219088, -0.09862415, ...,  0.        ,\n",
      "         0.        ,  0.        ],\n",
      "       [ 1.04190894,  0.99197496, -0.0561768 , ...,  0.        ,\n",
      "         0.        ,  0.        ],\n",
      "       [ 1.01324962,  0.98844738, -0.02183081, ...,  0.        ,\n",
      "         0.        ,  0.        ]]), 'actions': array([[-4.40456963e+00, -1.77917075e+00, -7.36879539e+00, ...,\n",
      "         3.29066110e+00, -2.90158463e+00,  6.26605451e-01],\n",
      "       [ 3.14474049e+01, -6.94547043e+01,  1.12576714e+02, ...,\n",
      "         6.10202637e+01, -9.58133602e+00, -2.32912292e+02],\n",
      "       [-7.47075195e+01,  8.43418045e+01,  2.65115166e+01, ...,\n",
      "        -1.11651993e+01, -3.03887825e+01,  2.35114555e+01],\n",
      "       ...,\n",
      "       [-1.15376877e+02, -1.07188667e+02, -1.94196630e+00, ...,\n",
      "         2.01154266e+02,  1.13975716e+02,  7.57108641e+00],\n",
      "       [-2.46841019e+02,  9.80558533e+02,  1.74703262e+02, ...,\n",
      "        -7.41211853e+01, -5.21147400e+02, -2.90712494e+02],\n",
      "       [-3.61284607e+02,  3.36490631e+01, -1.51569229e+02, ...,\n",
      "         4.22404053e+02,  1.47126984e+02,  9.54410839e+00]], dtype=float32)}, 130.66284902240685), 300: ({'observations': array([[ 1.39278872,  0.99996336, -0.00809185, ...,  0.        ,\n",
      "         0.        ,  0.        ],\n",
      "       [ 1.39059084,  0.99966319, -0.00614848, ...,  0.        ,\n",
      "         0.        ,  0.        ],\n",
      "       [ 1.38409222,  0.99767489, -0.00498822, ...,  0.        ,\n",
      "         0.        ,  0.        ],\n",
      "       ...,\n",
      "       [ 1.0829481 ,  0.99391296, -0.03905622, ...,  0.        ,\n",
      "         0.        ,  0.        ],\n",
      "       [ 1.05190845,  0.99689221, -0.00677567, ...,  0.        ,\n",
      "         0.        ,  0.        ],\n",
      "       [ 1.02216658,  0.99870649,  0.03178072, ...,  0.        ,\n",
      "         0.        ,  0.        ]]), 'actions': array([[-5.7162080e+00, -1.5301731e+00, -7.7749386e+00, ...,\n",
      "         2.5350053e+00, -2.6023531e+00,  2.0879397e+00],\n",
      "       [ 9.6599503e+01, -2.4152054e+01,  9.3612206e+01, ...,\n",
      "         5.8000584e+01, -5.6769043e+01, -1.4822810e+02],\n",
      "       [-6.2801189e+01, -1.0852516e+00,  9.6020546e+01, ...,\n",
      "        -1.6989120e+01, -4.8880741e+01,  1.4578227e+01],\n",
      "       ...,\n",
      "       [ 3.3639297e+02, -2.8782059e+02, -2.4377878e+02, ...,\n",
      "         1.5065622e+02,  1.7678543e+02, -1.1465365e+02],\n",
      "       [-1.2830035e+02,  5.5037628e+01, -2.7131176e+01, ...,\n",
      "        -7.2443573e+01,  7.7002243e+01, -8.3288475e+01],\n",
      "       [ 6.1451855e+01,  1.8120354e+03,  3.3775657e+03, ...,\n",
      "        -1.8486816e+03,  5.0263125e+03,  4.0828572e+03]], dtype=float32)}, 95.50363017956876)}\n"
     ]
    }
   ],
   "source": [
    "print(d)"
   ]
  },
  {
   "cell_type": "markdown",
   "metadata": {},
   "source": [
    "__Задание 1.1.__ Вам необходимо обучить модель на любых трех окружениях MoJoCo. Построить графики отдачи (totalr) в зависимости от количества набранной статистики (num_rollouts) для обучения."
   ]
  },
  {
   "cell_type": "code",
   "execution_count": null,
   "metadata": {},
   "outputs": [],
   "source": [
    "#model #2"
   ]
  },
  {
   "cell_type": "code",
   "execution_count": null,
   "metadata": {},
   "outputs": [],
   "source": [
    "#model #3"
   ]
  },
  {
   "cell_type": "code",
   "execution_count": null,
   "metadata": {},
   "outputs": [],
   "source": [
    "#графики отдачи:"
   ]
  },
  {
   "cell_type": "markdown",
   "metadata": {},
   "source": [
    "__Задание 1.2.__ Выберите один из гиперапараметров вашей модели, которые влияют на качество обучения (количество эпох, количество слоев и т.п.). Для одного из окружений постройте график влияния значения этого параметра на качество обучения (totalr)."
   ]
  },
  {
   "cell_type": "markdown",
   "metadata": {},
   "source": [
    "***\n",
    "## 2. DAgger Algorithm"
   ]
  },
  {
   "cell_type": "markdown",
   "metadata": {},
   "source": [
    "Цель алгоритма DAgger (data Aggregation) - собрать статистику обучаемой модели, вместо экспертных данных. \n",
    "- Вначале мы тренируем BC_Model на собранных экспертных данных.\n",
    "- Запускаем модель на окружениие, собираем наблюдения.\n",
    "- Затем мы просим эксперта (человека) отметить, какие действия нужно совершать в полученных наблюдениях (по сути используем __policy_fn__).\n",
    "- Создаем новую коллекцию помеченных и экспертных данных.\n",
    "- Потворяем."
   ]
  },
  {
   "attachments": {
    "image.png": {
     "image/png": "[encoded data removed]"
    }
   },
   "cell_type": "markdown",
   "metadata": {},
   "source": [
    "![image.png](attachment:image.png)"
   ]
  },
  {
   "cell_type": "code",
   "execution_count": null,
   "metadata": {},
   "outputs": [],
   "source": [
    "with tf.Session():\n",
    "    DAgger_iter=30\n",
    "    render=False\n",
    "    # DAgger loop\n",
    "    for i in range(DAgger_iter):\n",
    "        # reset in each iteration\n",
    "        new_obs = []\n",
    "        new_actions = []\n",
    "        obs = env.reset()\n",
    "        done = False\n",
    "        # collect data from model and expert\n",
    "        while not done:\n",
    "            # get an action from the model\n",
    "            ### Ваш код здесь - испольузуем оубченную модель ###\n",
    "            # action = ...\n",
    "            \n",
    "            obs, _, done, _ = env.step(action)\n",
    "            if render:\n",
    "                env.render()\n",
    "            # get the expert action for the same input\n",
    "            ### Ваш код здесь - испольузуем olicy_fn!! ###\n",
    "            # corrected_action = \n",
    "            \n",
    "            # append the observation and expert action to the data set\n",
    "            new_obs.append(obs)\n",
    "            new_actions.append(corrected_action)\n",
    "        # re-order the data\n",
    "        x = np.concatenate((x, obs[None, :]), axis = 0)\n",
    "        y = np.concatenate((y, corrected_action[None, :]), axis = 0)\n",
    "        # train the model on the collected data\n",
    "        ### Ваш код здесь - дообучаем модель ###\n",
    "        #cloner.train...\n",
    "        "
   ]
  },
  {
   "cell_type": "markdown",
   "metadata": {},
   "source": [
    "### Проверяем работу"
   ]
  },
  {
   "cell_type": "code",
   "execution_count": null,
   "metadata": {},
   "outputs": [],
   "source": [
    "num_eval_rollouts=20\n",
    "# loop over runouts\n",
    "returns=[]\n",
    "for i in range(num_eval_rollouts):\n",
    "    # reset variables in each iteration\n",
    "    totalr=0\n",
    "    done=False\n",
    "    obs=env.reset()\n",
    "    # loop until the end of the episode\n",
    "    while not done:\n",
    "        # get an action from the trained model (output for specific observation as input)\n",
    "        action=cloner.sample(obs)\n",
    "        # implement the action\n",
    "        obs,r,done,_=env.step(action)\n",
    "        env.render()\n",
    "        totalr+=r\n",
    "    returns.append(totalr)\n",
    "print('mean return', np.mean(returns))\n",
    "print('std of return', np.std(returns))"
   ]
  },
  {
   "cell_type": "markdown",
   "metadata": {},
   "source": [
    "__Задание 2.1.__ Проверьте работу DAagger на всех задачах MoJoCo - укажите для какой задачи он работает лучше, чем простое клонирование. Покажите это на графиках."
   ]
  },
  {
   "cell_type": "code",
   "execution_count": null,
   "metadata": {},
   "outputs": [],
   "source": []
  }
 ],
 "metadata": {
  "kernelspec": {
   "display_name": "Python 3",
   "language": "python",
   "name": "python3"
  },
  "language_info": {
   "codemirror_mode": {
    "name": "ipython",
    "version": 3
   },
   "file_extension": ".py",
   "mimetype": "text/x-python",
   "name": "python",
   "nbconvert_exporter": "python",
   "pygments_lexer": "ipython3",
   "version": "3.6.8"
  }
 },
 "nbformat": 4,
 "nbformat_minor": 2
}
