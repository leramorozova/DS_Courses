{
 "cells": [
  {
   "cell_type": "markdown",
   "metadata": {
    "colab_type": "text",
    "id": "P8tDK5A9OCM7"
   },
   "source": [
    "## Домашняя работа №1\n",
    "Вам предстоит:\n",
    "\n",
    "\n",
    "1.   Написать персептрон с двумя слоями. Реализовать форвард и бэквард пропогейшен\n",
    "2.   Подготовить данные и обучить НС в задаче  word2vec\n",
    "\n"
   ]
  },
  {
   "cell_type": "code",
   "execution_count": 2,
   "metadata": {
    "colab": {},
    "colab_type": "code",
    "id": "c5IbKpsMN_F1"
   },
   "outputs": [],
   "source": [
    "import numpy as np\n",
    "from sklearn.metrics import classification_report\n",
    "import torch\n",
    "from torch.utils.data import DataLoader\n",
    "from torchvision.datasets import MNIST\n",
    "from torchvision import transforms\n",
    "import matplotlib.pyplot as plt\n",
    "from tqdm import tqdm\n",
    "from sklearn.metrics import accuracy_score\n",
    "import time"
   ]
  },
  {
   "cell_type": "markdown",
   "metadata": {
    "colab_type": "text",
    "id": "zQRYevLNN_GA"
   },
   "source": [
    "# Датасет\n",
    "Загрузим Мнист. Почему именно он? Мы будем решать задачу бинарной классификации на паре цифр: 3 и 7. Плюсы в том, что примеров для этих чисел достаточно, чтобы обучить НС, у каждого примера не так много фичей (28Х28 - размерность картинок) и, в целом, эти классы хорошо отделяются. Я б с радостью показал вам пример с текстами, но если писать НС с нуля и пытаться обучаться на текстах, не факт, что у нас хоть что то обучится :(  \n",
    "  "
   ]
  },
  {
   "cell_type": "markdown",
   "metadata": {
    "colab_type": "text",
    "id": "EtMN4ZlSN_GC"
   },
   "source": [
    "Торч - объект, который позволяет нормализовать картинки, можно думать о нем как о предобработке (регулярках) для текстов. В целом не стоит здесь долго думать"
   ]
  },
  {
   "cell_type": "code",
   "execution_count": 3,
   "metadata": {
    "colab": {},
    "colab_type": "code",
    "id": "BMugicmkN_GE"
   },
   "outputs": [],
   "source": [
    "transform = transforms.Compose([\n",
    "    transforms.ToTensor(),\n",
    "    transforms.Normalize((0.1307,), (0.3081,))\n",
    "])"
   ]
  },
  {
   "cell_type": "markdown",
   "metadata": {
    "colab_type": "text",
    "id": "actIVoMKN_GJ"
   },
   "source": [
    "Загружаем датасет. Возращается особенный торчовый класс, чуть ниже мы зададим его сами и научимся им полльзоваться, пока оставляем эз из.\n"
   ]
  },
  {
   "cell_type": "code",
   "execution_count": 4,
   "metadata": {
    "colab": {
     "base_uri": "https://localhost:8080/",
     "height": 255
    },
    "colab_type": "code",
    "executionInfo": {
     "elapsed": 5527,
     "status": "ok",
     "timestamp": 1573117561042,
     "user": {
      "displayName": "Семен Сорокин",
      "photoUrl": "https://lh3.googleusercontent.com/a-/AAuE7mC8OmAJTuhuZ_wpiaSPaS6tRtyrDMaRqPORrcFf=s64",
      "userId": "15238420249980587427"
     },
     "user_tz": -180
    },
    "id": "fQpJqIWrN_GK",
    "outputId": "2ed59df6-e5df-4487-dc74-74950632d80c"
   },
   "outputs": [
    {
     "name": "stderr",
     "output_type": "stream",
     "text": [
      "\r",
      "0it [00:00, ?it/s]"
     ]
    },
    {
     "name": "stdout",
     "output_type": "stream",
     "text": [
      "Downloading http://yann.lecun.com/exdb/mnist/train-images-idx3-ubyte.gz to ./MNIST/raw/train-images-idx3-ubyte.gz\n"
     ]
    },
    {
     "name": "stderr",
     "output_type": "stream",
     "text": [
      "100%|█████████▉| 9912320/9912422 [05:22<00:00, 20616.12it/s]"
     ]
    },
    {
     "name": "stdout",
     "output_type": "stream",
     "text": [
      "Extracting ./MNIST/raw/train-images-idx3-ubyte.gz to ./MNIST/raw\n"
     ]
    },
    {
     "name": "stderr",
     "output_type": "stream",
     "text": [
      "\n",
      "0it [00:00, ?it/s]\u001b[A"
     ]
    },
    {
     "name": "stdout",
     "output_type": "stream",
     "text": [
      "Downloading http://yann.lecun.com/exdb/mnist/train-labels-idx1-ubyte.gz to ./MNIST/raw/train-labels-idx1-ubyte.gz\n"
     ]
    },
    {
     "name": "stderr",
     "output_type": "stream",
     "text": [
      "\n",
      "  0%|          | 0/28881 [00:00<?, ?it/s]\u001b[A\n",
      " 28%|██▊       | 8192/28881 [00:00<00:00, 40189.79it/s]\u001b[A\n",
      " 85%|████████▌ | 24576/28881 [00:00<00:00, 47234.51it/s]\u001b[A\n",
      "32768it [00:01, 24384.56it/s]                           \u001b[A\n",
      "0it [00:00, ?it/s]\u001b[A"
     ]
    },
    {
     "name": "stdout",
     "output_type": "stream",
     "text": [
      "Extracting ./MNIST/raw/train-labels-idx1-ubyte.gz to ./MNIST/raw\n",
      "Downloading http://yann.lecun.com/exdb/mnist/t10k-images-idx3-ubyte.gz to ./MNIST/raw/t10k-images-idx3-ubyte.gz\n"
     ]
    },
    {
     "name": "stderr",
     "output_type": "stream",
     "text": [
      "\n",
      "  0%|          | 0/1648877 [00:01<?, ?it/s]\u001b[A\n",
      "  0%|          | 8192/1648877 [00:01<00:40, 40117.15it/s]\u001b[A\n",
      "  1%|▏         | 24576/1648877 [00:01<00:40, 40118.79it/s]\u001b[A\n",
      "  2%|▏         | 40960/1648877 [00:02<00:40, 40129.21it/s]\u001b[A\n",
      "  3%|▎         | 49152/1648877 [00:02<00:46, 34254.70it/s]\u001b[A\n",
      "  3%|▎         | 57344/1648877 [00:02<00:55, 28610.95it/s]\u001b[A\n",
      "  4%|▍         | 65536/1648877 [00:03<01:02, 25327.69it/s]\u001b[A\n",
      "  4%|▍         | 73728/1648877 [00:03<01:07, 23471.39it/s]\u001b[A\n",
      "  5%|▍         | 81920/1648877 [00:04<01:10, 22274.17it/s]\u001b[A\n",
      "  5%|▌         | 90112/1648877 [00:04<01:18, 19949.49it/s]\u001b[A\n",
      "  6%|▌         | 98304/1648877 [00:05<01:36, 16074.88it/s]\u001b[A\n",
      "  6%|▋         | 106496/1648877 [00:05<01:21, 18955.95it/s]\u001b[A\n",
      "  7%|▋         | 114688/1648877 [00:06<01:15, 20266.53it/s]\u001b[A\n",
      "  7%|▋         | 122880/1648877 [00:06<01:01, 24917.48it/s]\u001b[A\n",
      "  8%|▊         | 131072/1648877 [00:06<01:02, 24224.59it/s]\u001b[A\n",
      "  8%|▊         | 139264/1648877 [00:06<00:54, 27489.42it/s]\u001b[A\n",
      "  9%|▉         | 147456/1648877 [00:07<00:52, 28815.63it/s]\u001b[A\n",
      "  9%|▉         | 155648/1648877 [00:07<00:53, 27665.62it/s]\u001b[A\n",
      " 10%|▉         | 163840/1648877 [00:07<00:44, 33372.57it/s]\u001b[A\n",
      " 10%|█         | 172032/1648877 [00:07<00:44, 33019.74it/s]\u001b[A\n",
      " 11%|█         | 180224/1648877 [00:08<00:48, 30057.24it/s]\u001b[A\n",
      " 11%|█▏        | 188416/1648877 [00:08<00:43, 33607.53it/s]\u001b[A\n",
      " 12%|█▏        | 196608/1648877 [00:08<00:43, 33119.84it/s]\u001b[A\n",
      " 12%|█▏        | 204800/1648877 [00:08<00:37, 38812.12it/s]\u001b[A\n",
      " 13%|█▎        | 212992/1648877 [00:08<00:32, 44020.15it/s]\u001b[A\n",
      " 13%|█▎        | 221184/1648877 [00:08<00:33, 42279.09it/s]\u001b[A\n",
      " 14%|█▍        | 229376/1648877 [00:09<00:30, 47167.43it/s]\u001b[A\n",
      " 14%|█▍        | 237568/1648877 [00:09<00:29, 47545.99it/s]\u001b[A\n",
      " 15%|█▍        | 245760/1648877 [00:09<00:31, 44717.98it/s]\u001b[A\n",
      " 15%|█▌        | 253952/1648877 [00:09<00:33, 42133.90it/s]\u001b[A\n",
      " 16%|█▌        | 262144/1648877 [00:09<00:29, 47024.72it/s]\u001b[A\n",
      " 16%|█▋        | 270336/1648877 [00:09<00:26, 51170.11it/s]\u001b[A\n",
      " 17%|█▋        | 278528/1648877 [00:10<00:25, 53994.10it/s]\u001b[A\n",
      " 17%|█▋        | 286720/1648877 [00:10<00:23, 56917.18it/s]\u001b[A\n",
      " 18%|█▊        | 303104/1648877 [00:10<00:20, 65517.48it/s]\u001b[A\n",
      " 19%|█▉        | 311296/1648877 [00:10<00:29, 45866.35it/s]\u001b[A\n",
      " 20%|██        | 335872/1648877 [00:10<00:24, 52670.39it/s]\u001b[A\n",
      " 21%|██        | 344064/1648877 [00:11<00:23, 55863.82it/s]\u001b[A\n",
      " 21%|██▏       | 352256/1648877 [00:11<00:22, 57370.65it/s]\u001b[A\n",
      " 22%|██▏       | 368640/1648877 [00:11<00:19, 66043.06it/s]\u001b[A\n",
      " 23%|██▎       | 376832/1648877 [00:11<00:21, 59007.69it/s]\u001b[A\n",
      " 23%|██▎       | 385024/1648877 [00:11<00:21, 59914.27it/s]\u001b[A\n",
      " 24%|██▍       | 393216/1648877 [00:11<00:22, 55608.60it/s]\u001b[A\n",
      " 24%|██▍       | 401408/1648877 [00:12<00:23, 53691.34it/s]\u001b[A\n",
      " 25%|██▍       | 409600/1648877 [00:12<00:26, 47560.37it/s]\u001b[A\n",
      " 25%|██▌       | 417792/1648877 [00:12<00:23, 51579.01it/s]\u001b[A\n",
      " 26%|██▌       | 425984/1648877 [00:12<00:23, 51311.50it/s]\u001b[A\n",
      " 26%|██▋       | 434176/1648877 [00:12<00:24, 49130.60it/s]\u001b[A\n",
      " 27%|██▋       | 442368/1648877 [00:12<00:23, 52324.48it/s]\u001b[A\n",
      " 27%|██▋       | 450560/1648877 [00:12<00:21, 55539.05it/s]\u001b[A\n",
      " 28%|██▊       | 458752/1648877 [00:13<00:20, 57420.69it/s]\u001b[A\n",
      " 28%|██▊       | 466944/1648877 [00:13<00:19, 59440.17it/s]\u001b[A\n",
      " 29%|██▉       | 475136/1648877 [00:13<00:21, 54561.12it/s]\u001b[A\n",
      " 29%|██▉       | 483328/1648877 [00:13<00:20, 57829.25it/s]\u001b[A\n",
      " 30%|██▉       | 491520/1648877 [00:13<00:19, 59950.30it/s]\u001b[A\n",
      " 30%|███       | 499712/1648877 [00:13<00:24, 47243.66it/s]\u001b[A\n",
      " 31%|███       | 507904/1648877 [00:14<00:29, 38809.67it/s]\u001b[A\n",
      " 31%|███▏      | 516096/1648877 [00:14<00:38, 29054.42it/s]\u001b[A\n",
      "9920512it [05:40, 20616.12it/s]                             [A\n",
      " 32%|███▏      | 532480/1648877 [00:15<00:49, 22548.42it/s]\u001b[A\n",
      " 33%|███▎      | 540672/1648877 [00:15<00:40, 27189.75it/s]\u001b[A\n",
      " 33%|███▎      | 548864/1648877 [00:16<00:53, 20747.27it/s]\u001b[A\n",
      " 34%|███▍      | 565248/1648877 [00:16<00:40, 26679.27it/s]\u001b[A\n",
      " 35%|███▍      | 573440/1648877 [00:16<00:44, 24233.66it/s]\u001b[A\n",
      " 35%|███▌      | 581632/1648877 [00:17<00:38, 27512.22it/s]\u001b[A\n",
      " 36%|███▌      | 589824/1648877 [00:17<00:42, 24704.21it/s]\u001b[A\n",
      " 36%|███▋      | 598016/1648877 [00:17<00:37, 27874.65it/s]\u001b[A\n",
      " 37%|███▋      | 606208/1648877 [00:18<00:35, 29080.86it/s]\u001b[A\n",
      " 37%|███▋      | 614400/1648877 [00:18<00:29, 34733.89it/s]\u001b[A\n",
      " 38%|███▊      | 622592/1648877 [00:18<00:34, 29766.10it/s]\u001b[A\n",
      " 38%|███▊      | 630784/1648877 [00:18<00:29, 34837.30it/s]\u001b[A\n",
      " 39%|███▉      | 638976/1648877 [00:18<00:24, 40517.88it/s]\u001b[A\n",
      " 39%|███▉      | 647168/1648877 [00:19<00:25, 39260.92it/s]\u001b[A\n",
      " 40%|███▉      | 655360/1648877 [00:19<00:29, 33568.22it/s]\u001b[A\n",
      " 41%|████      | 671744/1648877 [00:19<00:24, 40033.85it/s]\u001b[A\n",
      " 41%|████      | 679936/1648877 [00:19<00:27, 35357.45it/s]\u001b[A\n",
      " 42%|████▏     | 696320/1648877 [00:20<00:27, 35182.11it/s]\u001b[A\n",
      " 43%|████▎     | 704512/1648877 [00:20<00:32, 28746.93it/s]\u001b[A\n",
      " 43%|████▎     | 712704/1648877 [00:21<00:37, 24901.27it/s]\u001b[A\n",
      " 44%|████▎     | 720896/1648877 [00:21<00:39, 23340.85it/s]\u001b[A\n",
      " 44%|████▍     | 729088/1648877 [00:22<00:44, 20662.12it/s]\u001b[A\n",
      " 45%|████▍     | 737280/1648877 [00:22<00:37, 24204.95it/s]\u001b[A\n",
      " 45%|████▌     | 745472/1648877 [00:22<00:33, 27204.96it/s]\u001b[A\n",
      " 46%|████▌     | 753664/1648877 [00:22<00:35, 25576.61it/s]\u001b[A\n",
      " 46%|████▌     | 761856/1648877 [00:23<00:35, 25273.88it/s]\u001b[A\n",
      " 47%|████▋     | 778240/1648877 [00:23<00:29, 29847.88it/s]\u001b[A\n",
      " 48%|████▊     | 786432/1648877 [00:24<00:39, 21755.01it/s]\u001b[A\n",
      " 48%|████▊     | 794624/1648877 [00:24<00:44, 19322.57it/s]\u001b[A\n",
      " 49%|████▊     | 802816/1648877 [00:24<00:39, 21456.36it/s]\u001b[A\n",
      " 49%|████▉     | 811008/1648877 [00:25<00:39, 20998.58it/s]\u001b[A\n",
      " 50%|████▉     | 819200/1648877 [00:25<00:40, 20676.69it/s]\u001b[A\n",
      " 50%|█████     | 827392/1648877 [00:26<00:40, 20479.34it/s]\u001b[A\n",
      " 51%|█████     | 835584/1648877 [00:26<00:40, 20331.93it/s]\u001b[A\n",
      " 51%|█████     | 843776/1648877 [00:27<00:39, 20229.95it/s]\u001b[A\n",
      " 52%|█████▏    | 851968/1648877 [00:27<00:39, 20132.12it/s]\u001b[A\n",
      " 52%|█████▏    | 860160/1648877 [00:27<00:35, 21972.83it/s]\u001b[A\n",
      " 53%|█████▎    | 868352/1648877 [00:27<00:28, 27190.70it/s]\u001b[A\n",
      " 53%|█████▎    | 876544/1648877 [00:28<00:28, 27518.17it/s]\u001b[A\n",
      " 54%|█████▎    | 884736/1648877 [00:28<00:30, 24754.43it/s]\u001b[A\n",
      " 54%|█████▍    | 892928/1648877 [00:28<00:24, 30395.62it/s]\u001b[A\n",
      " 55%|█████▍    | 901120/1648877 [00:29<00:30, 24471.32it/s]\u001b[A\n",
      " 55%|█████▌    | 909312/1648877 [00:29<00:29, 25075.24it/s]\u001b[A\n",
      " 56%|█████▌    | 917504/1648877 [00:29<00:31, 23287.55it/s]\u001b[A\n",
      " 56%|█████▌    | 925696/1648877 [00:30<00:27, 25889.66it/s]\u001b[A\n",
      " 57%|█████▋    | 933888/1648877 [00:30<00:27, 26209.15it/s]\u001b[A\n",
      " 57%|█████▋    | 942080/1648877 [00:30<00:30, 23425.08it/s]\u001b[A\n",
      " 58%|█████▊    | 958464/1648877 [00:31<00:24, 28578.48it/s]\u001b[A\n",
      " 59%|█████▊    | 966656/1648877 [00:31<00:31, 21677.68it/s]\u001b[A\n",
      " 59%|█████▉    | 974848/1648877 [00:31<00:26, 25172.37it/s]\u001b[A\n",
      " 60%|█████▉    | 983040/1648877 [00:32<00:38, 17291.60it/s]\u001b[A\n",
      " 60%|██████    | 991232/1648877 [00:33<00:34, 19002.38it/s]\u001b[A\n",
      " 61%|██████    | 999424/1648877 [00:33<00:40, 16074.37it/s]\u001b[A\n",
      " 61%|██████    | 1007616/1648877 [00:33<00:32, 20009.30it/s]\u001b[A\n",
      " 62%|██████▏   | 1015808/1648877 [00:34<00:32, 19589.45it/s]\u001b[A\n",
      " 62%|██████▏   | 1024000/1648877 [00:34<00:29, 21248.61it/s]\u001b[A\n",
      " 63%|██████▎   | 1032192/1648877 [00:35<00:29, 20966.77it/s]\u001b[A\n",
      " 63%|██████▎   | 1040384/1648877 [00:35<00:23, 26285.82it/s]\u001b[A\n",
      " 64%|██████▎   | 1048576/1648877 [00:35<00:24, 24460.07it/s]\u001b[A\n",
      " 64%|██████▍   | 1056768/1648877 [00:36<00:28, 21097.02it/s]\u001b[A\n",
      " 65%|██████▍   | 1064960/1648877 [00:36<00:23, 24563.01it/s]\u001b[A\n",
      " 65%|██████▌   | 1073152/1648877 [00:36<00:25, 23008.92it/s]\u001b[A\n",
      " 66%|██████▌   | 1081344/1648877 [00:37<00:25, 22030.08it/s]\u001b[A\n",
      " 66%|██████▌   | 1089536/1648877 [00:37<00:25, 22360.46it/s]\u001b[A\n",
      " 67%|██████▋   | 1097728/1648877 [00:37<00:20, 26550.02it/s]\u001b[A\n",
      " 67%|██████▋   | 1105920/1648877 [00:38<00:30, 17925.28it/s]\u001b[A\n",
      " 68%|██████▊   | 1122304/1648877 [00:38<00:22, 23322.78it/s]\u001b[A\n",
      " 69%|██████▊   | 1130496/1648877 [00:38<00:18, 27524.29it/s]\u001b[A\n",
      " 69%|██████▉   | 1138688/1648877 [00:39<00:19, 26470.17it/s]\u001b[A\n",
      " 70%|██████▉   | 1146880/1648877 [00:39<00:17, 29516.19it/s]\u001b[A\n",
      " 70%|███████   | 1155072/1648877 [00:39<00:19, 24701.33it/s]\u001b[A\n"
     ]
    },
    {
     "name": "stderr",
     "output_type": "stream",
     "text": [
      " 71%|███████   | 1163264/1648877 [00:40<00:20, 24021.35it/s]\u001b[A\n",
      " 71%|███████   | 1171456/1648877 [00:40<00:22, 20885.99it/s]\u001b[A\n",
      " 72%|███████▏  | 1179648/1648877 [00:41<00:26, 17857.86it/s]\u001b[A\n",
      " 72%|███████▏  | 1187840/1648877 [00:41<00:20, 22202.96it/s]\u001b[A\n",
      " 73%|███████▎  | 1196032/1648877 [00:41<00:17, 26423.59it/s]\u001b[A\n",
      " 73%|███████▎  | 1204224/1648877 [00:41<00:15, 29227.61it/s]\u001b[A\n",
      " 74%|███████▎  | 1212416/1648877 [00:42<00:12, 35042.11it/s]\u001b[A\n",
      " 74%|███████▍  | 1220608/1648877 [00:42<00:11, 38269.07it/s]\u001b[A\n",
      " 75%|███████▍  | 1228800/1648877 [00:42<00:09, 43635.85it/s]\u001b[A\n",
      " 75%|███████▌  | 1236992/1648877 [00:42<00:09, 42144.18it/s]\u001b[A\n",
      " 76%|███████▌  | 1245184/1648877 [00:42<00:09, 43830.04it/s]\u001b[A\n",
      " 76%|███████▌  | 1253376/1648877 [00:42<00:08, 44285.54it/s]\u001b[A\n",
      " 77%|███████▋  | 1261568/1648877 [00:43<00:09, 39976.12it/s]\u001b[A\n",
      " 78%|███████▊  | 1277952/1648877 [00:43<00:08, 45249.97it/s]\u001b[A\n",
      " 78%|███████▊  | 1286144/1648877 [00:43<00:09, 36281.17it/s]\u001b[A\n",
      " 79%|███████▉  | 1302528/1648877 [00:44<00:09, 34856.29it/s]\u001b[A\n",
      " 80%|███████▉  | 1318912/1648877 [00:44<00:09, 33972.94it/s]\u001b[A\n",
      " 80%|████████  | 1327104/1648877 [00:45<00:10, 31332.85it/s]\u001b[A\n",
      " 81%|████████  | 1335296/1648877 [00:45<00:13, 23855.34it/s]\u001b[A\n",
      " 81%|████████▏ | 1343488/1648877 [00:45<00:12, 25042.76it/s]\u001b[A\n",
      " 82%|████████▏ | 1351680/1648877 [00:46<00:11, 26895.81it/s]\u001b[A\n",
      " 82%|████████▏ | 1359872/1648877 [00:46<00:10, 27571.86it/s]\u001b[A\n",
      " 83%|████████▎ | 1368064/1648877 [00:46<00:08, 31221.74it/s]\u001b[A\n",
      " 83%|████████▎ | 1376256/1648877 [00:47<00:11, 23808.55it/s]\u001b[A\n",
      " 84%|████████▍ | 1392640/1648877 [00:47<00:08, 31377.05it/s]\u001b[A\n",
      " 85%|████████▍ | 1400832/1648877 [00:47<00:08, 28391.79it/s]\u001b[A\n",
      " 85%|████████▌ | 1409024/1648877 [00:47<00:07, 31025.13it/s]\u001b[A\n",
      " 86%|████████▌ | 1417216/1648877 [00:48<00:06, 33289.68it/s]\u001b[A\n",
      " 86%|████████▋ | 1425408/1648877 [00:48<00:08, 27727.78it/s]\u001b[A\n",
      " 87%|████████▋ | 1441792/1648877 [00:48<00:06, 31945.85it/s]\u001b[A\n",
      " 88%|████████▊ | 1449984/1648877 [00:49<00:07, 27814.22it/s]\u001b[A\n",
      " 88%|████████▊ | 1458176/1648877 [00:49<00:06, 30582.12it/s]\u001b[A\n",
      " 89%|████████▉ | 1466368/1648877 [00:50<00:09, 18911.72it/s]\u001b[A\n",
      " 89%|████████▉ | 1474560/1648877 [00:50<00:08, 20708.74it/s]\u001b[A\n",
      " 90%|████████▉ | 1482752/1648877 [00:50<00:08, 20442.19it/s]\u001b[A\n",
      " 90%|█████████ | 1490944/1648877 [00:51<00:06, 22921.69it/s]\u001b[A\n",
      " 91%|█████████ | 1499136/1648877 [00:51<00:06, 21831.27it/s]\u001b[A\n",
      " 91%|█████████▏| 1507328/1648877 [00:51<00:05, 25758.79it/s]\u001b[A\n",
      " 92%|█████████▏| 1515520/1648877 [00:52<00:05, 25953.29it/s]\u001b[A\n",
      " 92%|█████████▏| 1523712/1648877 [00:52<00:04, 26733.51it/s]\u001b[A\n",
      " 93%|█████████▎| 1531904/1648877 [00:52<00:03, 30874.62it/s]\u001b[A\n",
      " 93%|█████████▎| 1540096/1648877 [00:52<00:02, 36603.06it/s]\u001b[A\n",
      " 94%|█████████▍| 1548288/1648877 [00:52<00:02, 36354.94it/s]\u001b[A\n",
      " 94%|█████████▍| 1556480/1648877 [00:53<00:02, 37920.95it/s]\u001b[A\n",
      " 95%|█████████▍| 1564672/1648877 [00:53<00:01, 43051.27it/s]\u001b[A\n",
      " 95%|█████████▌| 1572864/1648877 [00:53<00:01, 47861.60it/s]\u001b[A\n",
      " 96%|█████████▌| 1581056/1648877 [00:53<00:01, 51877.60it/s]\u001b[A\n",
      " 96%|█████████▋| 1589248/1648877 [00:53<00:01, 39083.02it/s]\u001b[A\n",
      " 97%|█████████▋| 1605632/1648877 [00:54<00:01, 40285.21it/s]\u001b[A\n",
      " 98%|█████████▊| 1613824/1648877 [00:54<00:01, 34531.24it/s]\u001b[A\n",
      " 98%|█████████▊| 1622016/1648877 [00:54<00:00, 28273.16it/s]\u001b[A\n",
      " 99%|█████████▉| 1630208/1648877 [00:55<00:00, 21220.67it/s]\u001b[A\n",
      " 99%|█████████▉| 1638400/1648877 [00:55<00:00, 24627.81it/s]\u001b[A\n",
      "100%|█████████▉| 1646592/1648877 [00:55<00:00, 27883.98it/s]\u001b[A\n",
      "1654784it [00:56, 30736.53it/s]                             \u001b[A\n",
      "\n",
      "0it [00:00, ?it/s]\u001b[A\u001b[A"
     ]
    },
    {
     "name": "stdout",
     "output_type": "stream",
     "text": [
      "Extracting ./MNIST/raw/t10k-images-idx3-ubyte.gz to ./MNIST/raw\n",
      "Downloading http://yann.lecun.com/exdb/mnist/t10k-labels-idx1-ubyte.gz to ./MNIST/raw/t10k-labels-idx1-ubyte.gz\n"
     ]
    },
    {
     "name": "stderr",
     "output_type": "stream",
     "text": [
      "\n",
      "\n",
      "  0%|          | 0/4542 [00:00<?, ?it/s]\u001b[A\u001b[A\n",
      "\n",
      "8192it [00:00, 25236.27it/s]            \u001b[A\u001b[A"
     ]
    },
    {
     "name": "stdout",
     "output_type": "stream",
     "text": [
      "Extracting ./MNIST/raw/t10k-labels-idx1-ubyte.gz to ./MNIST/raw\n",
      "Processing...\n",
      "Done!\n"
     ]
    }
   ],
   "source": [
    "train_dataset = MNIST('.', train=True, download=True, transform=transform)\n",
    "test_dataset = MNIST('.', train=False, transform=transform)"
   ]
  },
  {
   "cell_type": "markdown",
   "metadata": {
    "colab_type": "text",
    "id": "aUSUIJbUN_GQ"
   },
   "source": [
    "Выбираем два класса. Если вы достаточно хорошо знакомы с пандас, то можно понять, что никакой магии здесь нет."
   ]
  },
  {
   "cell_type": "code",
   "execution_count": 5,
   "metadata": {
    "colab": {},
    "colab_type": "code",
    "id": "vx73oHg9N_GS"
   },
   "outputs": [],
   "source": [
    "#фильтруем фичи (дата) по значению классификационных лэйблов (таргет), берем или цифру 3 или цифру 7\n",
    "train_dataset.data = train_dataset.data[(train_dataset.targets == 3) | (train_dataset.targets == 7)]\n",
    "train_dataset.targets = train_dataset.targets[(train_dataset.targets == 3) | (train_dataset.targets == 7)]\n",
    "#тоже самое для тестового набора\n",
    "test_dataset.data = test_dataset.data[(test_dataset.targets == 3) | (test_dataset.targets == 7)]\n",
    "test_dataset.targets = test_dataset.targets[(test_dataset.targets == 3) | (test_dataset.targets == 7)]\n",
    "#необходимы препроцессинг лейблов, видимо не все значения имею тип integer, а нам нужен именно этот тип функция лонг позволяет нам \n",
    "#        это сделать (self.long() is equivalent to self.to(torch.int64). See to())\n",
    "train_dataset.targets = (train_dataset.targets == 7).long()\n",
    "test_dataset.targets = (test_dataset.targets == 7).long()"
   ]
  },
  {
   "cell_type": "markdown",
   "metadata": {
    "colab_type": "text",
    "id": "RHelnPG0N_GX"
   },
   "source": [
    "Мы неоднократно говорили, что НС обычно тренируются бачами, в торче есть удобный класс, который позволяет обернуть наши датасеты в итерируемый объект. Если не знаете что такое итерируемый объект, погуглите :) можно думать об этом как о списке с составными элементами (элемент - батч - набор примеров) "
   ]
  },
  {
   "cell_type": "code",
   "execution_count": 6,
   "metadata": {
    "colab": {},
    "colab_type": "code",
    "id": "ENLomAueN_GZ"
   },
   "outputs": [],
   "source": [
    "train_loader = DataLoader(train_dataset, batch_size=128, shuffle=True)\n",
    "test_loader = DataLoader(test_dataset, batch_size=128, shuffle=False)"
   ]
  },
  {
   "cell_type": "code",
   "execution_count": 7,
   "metadata": {
    "colab": {
     "base_uri": "https://localhost:8080/",
     "height": 952
    },
    "colab_type": "code",
    "executionInfo": {
     "elapsed": 6064,
     "status": "ok",
     "timestamp": 1573117561599,
     "user": {
      "displayName": "Семен Сорокин",
      "photoUrl": "https://lh3.googleusercontent.com/a-/AAuE7mC8OmAJTuhuZ_wpiaSPaS6tRtyrDMaRqPORrcFf=s64",
      "userId": "15238420249980587427"
     },
     "user_tz": -180
    },
    "id": "rdvq5scBXtWY",
    "outputId": "b3ea3409-955b-433a-ac9e-084b117dbcc7"
   },
   "outputs": [
    {
     "data": {
      "text/plain": [
       "tensor([[[[-0.4242, -0.4242, -0.4242,  ..., -0.4242, -0.4242, -0.4242],\n",
       "          [-0.4242, -0.4242, -0.4242,  ..., -0.4242, -0.4242, -0.4242],\n",
       "          [-0.4242, -0.4242, -0.4242,  ..., -0.4242, -0.4242, -0.4242],\n",
       "          ...,\n",
       "          [-0.4242, -0.4242, -0.4242,  ..., -0.4242, -0.4242, -0.4242],\n",
       "          [-0.4242, -0.4242, -0.4242,  ..., -0.4242, -0.4242, -0.4242],\n",
       "          [-0.4242, -0.4242, -0.4242,  ..., -0.4242, -0.4242, -0.4242]]],\n",
       "\n",
       "\n",
       "        [[[-0.4242, -0.4242, -0.4242,  ..., -0.4242, -0.4242, -0.4242],\n",
       "          [-0.4242, -0.4242, -0.4242,  ..., -0.4242, -0.4242, -0.4242],\n",
       "          [-0.4242, -0.4242, -0.4242,  ..., -0.4242, -0.4242, -0.4242],\n",
       "          ...,\n",
       "          [-0.4242, -0.4242, -0.4242,  ..., -0.4242, -0.4242, -0.4242],\n",
       "          [-0.4242, -0.4242, -0.4242,  ..., -0.4242, -0.4242, -0.4242],\n",
       "          [-0.4242, -0.4242, -0.4242,  ..., -0.4242, -0.4242, -0.4242]]],\n",
       "\n",
       "\n",
       "        [[[-0.4242, -0.4242, -0.4242,  ..., -0.4242, -0.4242, -0.4242],\n",
       "          [-0.4242, -0.4242, -0.4242,  ..., -0.4242, -0.4242, -0.4242],\n",
       "          [-0.4242, -0.4242, -0.4242,  ..., -0.4242, -0.4242, -0.4242],\n",
       "          ...,\n",
       "          [-0.4242, -0.4242, -0.4242,  ..., -0.4242, -0.4242, -0.4242],\n",
       "          [-0.4242, -0.4242, -0.4242,  ..., -0.4242, -0.4242, -0.4242],\n",
       "          [-0.4242, -0.4242, -0.4242,  ..., -0.4242, -0.4242, -0.4242]]],\n",
       "\n",
       "\n",
       "        ...,\n",
       "\n",
       "\n",
       "        [[[-0.4242, -0.4242, -0.4242,  ..., -0.4242, -0.4242, -0.4242],\n",
       "          [-0.4242, -0.4242, -0.4242,  ..., -0.4242, -0.4242, -0.4242],\n",
       "          [-0.4242, -0.4242, -0.4242,  ..., -0.4242, -0.4242, -0.4242],\n",
       "          ...,\n",
       "          [-0.4242, -0.4242, -0.4242,  ..., -0.4242, -0.4242, -0.4242],\n",
       "          [-0.4242, -0.4242, -0.4242,  ..., -0.4242, -0.4242, -0.4242],\n",
       "          [-0.4242, -0.4242, -0.4242,  ..., -0.4242, -0.4242, -0.4242]]],\n",
       "\n",
       "\n",
       "        [[[-0.4242, -0.4242, -0.4242,  ..., -0.4242, -0.4242, -0.4242],\n",
       "          [-0.4242, -0.4242, -0.4242,  ..., -0.4242, -0.4242, -0.4242],\n",
       "          [-0.4242, -0.4242, -0.4242,  ..., -0.4242, -0.4242, -0.4242],\n",
       "          ...,\n",
       "          [-0.4242, -0.4242, -0.4242,  ..., -0.4242, -0.4242, -0.4242],\n",
       "          [-0.4242, -0.4242, -0.4242,  ..., -0.4242, -0.4242, -0.4242],\n",
       "          [-0.4242, -0.4242, -0.4242,  ..., -0.4242, -0.4242, -0.4242]]],\n",
       "\n",
       "\n",
       "        [[[-0.4242, -0.4242, -0.4242,  ..., -0.4242, -0.4242, -0.4242],\n",
       "          [-0.4242, -0.4242, -0.4242,  ..., -0.4242, -0.4242, -0.4242],\n",
       "          [-0.4242, -0.4242, -0.4242,  ..., -0.4242, -0.4242, -0.4242],\n",
       "          ...,\n",
       "          [-0.4242, -0.4242, -0.4242,  ..., -0.4242, -0.4242, -0.4242],\n",
       "          [-0.4242, -0.4242, -0.4242,  ..., -0.4242, -0.4242, -0.4242],\n",
       "          [-0.4242, -0.4242, -0.4242,  ..., -0.4242, -0.4242, -0.4242]]]])"
      ]
     },
     "execution_count": 7,
     "metadata": {},
     "output_type": "execute_result"
    }
   ],
   "source": [
    "X, y = next(iter(train_loader)) #next(iter(x) - Возвращает следующий элемент итератора.\n",
    "X"
   ]
  },
  {
   "cell_type": "code",
   "execution_count": 8,
   "metadata": {
    "colab": {
     "base_uri": "https://localhost:8080/",
     "height": 119
    },
    "colab_type": "code",
    "executionInfo": {
     "elapsed": 6051,
     "status": "ok",
     "timestamp": 1573117561600,
     "user": {
      "displayName": "Семен Сорокин",
      "photoUrl": "https://lh3.googleusercontent.com/a-/AAuE7mC8OmAJTuhuZ_wpiaSPaS6tRtyrDMaRqPORrcFf=s64",
      "userId": "15238420249980587427"
     },
     "user_tz": -180
    },
    "id": "SAaI0uHWYUrb",
    "outputId": "b9a743d2-f2be-4930-dba3-e9ab123e20b5"
   },
   "outputs": [
    {
     "data": {
      "text/plain": [
       "tensor([0, 0, 1, 0, 0, 0, 1, 1, 1, 0, 0, 0, 1, 0, 1, 0, 0, 0, 0, 0, 0, 1, 0, 0,\n",
       "        1, 0, 1, 1, 0, 0, 0, 0, 0, 0, 0, 1, 1, 1, 1, 0, 1, 1, 0, 0, 0, 0, 0, 1,\n",
       "        1, 1, 1, 0, 0, 0, 0, 1, 0, 1, 1, 0, 1, 1, 1, 0, 1, 1, 0, 0, 1, 0, 0, 0,\n",
       "        1, 1, 1, 1, 1, 0, 1, 0, 1, 1, 0, 0, 0, 0, 1, 0, 1, 0, 0, 1, 0, 1, 0, 0,\n",
       "        1, 0, 0, 0, 0, 1, 0, 0, 0, 0, 1, 1, 1, 0, 1, 1, 1, 1, 0, 1, 1, 1, 1, 0,\n",
       "        0, 0, 0, 0, 0, 1, 1, 0])"
      ]
     },
     "execution_count": 8,
     "metadata": {},
     "output_type": "execute_result"
    }
   ],
   "source": [
    "y"
   ]
  },
  {
   "cell_type": "markdown",
   "metadata": {
    "colab_type": "text",
    "id": "KPw6jv5hYXhV"
   },
   "source": [
    "Никакой магии, просто многомерные матрицы. Можно даже проверить, что то, что мы получили, то есть первый батч имееет правильную размерность.В y - 1 это класс цифры \"7\", 0 - \"3\""
   ]
  },
  {
   "cell_type": "code",
   "execution_count": 9,
   "metadata": {
    "colab": {
     "base_uri": "https://localhost:8080/",
     "height": 34
    },
    "colab_type": "code",
    "executionInfo": {
     "elapsed": 6379,
     "status": "ok",
     "timestamp": 1573117561938,
     "user": {
      "displayName": "Семен Сорокин",
      "photoUrl": "https://lh3.googleusercontent.com/a-/AAuE7mC8OmAJTuhuZ_wpiaSPaS6tRtyrDMaRqPORrcFf=s64",
      "userId": "15238420249980587427"
     },
     "user_tz": -180
    },
    "id": "mQH1_6dSYlnW",
    "outputId": "f6f72aba-2367-442f-eb82-10f38c7d039d"
   },
   "outputs": [
    {
     "data": {
      "text/plain": [
       "torch.Size([128, 1, 28, 28])"
      ]
     },
     "execution_count": 9,
     "metadata": {},
     "output_type": "execute_result"
    }
   ],
   "source": [
    "X.shape #128 - примеров, [1, 28, 28] - размерность картинки, 1 - значит что из трех каналов (Р, Г, Б) у нас всего один, а сама картинка 28 на 28"
   ]
  },
  {
   "cell_type": "code",
   "execution_count": 10,
   "metadata": {
    "colab": {
     "base_uri": "https://localhost:8080/",
     "height": 34
    },
    "colab_type": "code",
    "executionInfo": {
     "elapsed": 6368,
     "status": "ok",
     "timestamp": 1573117561939,
     "user": {
      "displayName": "Семен Сорокин",
      "photoUrl": "https://lh3.googleusercontent.com/a-/AAuE7mC8OmAJTuhuZ_wpiaSPaS6tRtyrDMaRqPORrcFf=s64",
      "userId": "15238420249980587427"
     },
     "user_tz": -180
    },
    "id": "yGAYt4oqYpW5",
    "outputId": "28184602-483d-45e4-f6b1-3b82cec0d19f"
   },
   "outputs": [
    {
     "data": {
      "text/plain": [
       "torch.Size([128])"
      ]
     },
     "execution_count": 10,
     "metadata": {},
     "output_type": "execute_result"
    }
   ],
   "source": [
    "y.shape"
   ]
  },
  {
   "cell_type": "markdown",
   "metadata": {
    "colab_type": "text",
    "id": "CNVEJYNXN_Gd"
   },
   "source": [
    "Проверим, правда ли это картинки"
   ]
  },
  {
   "cell_type": "code",
   "execution_count": 11,
   "metadata": {
    "colab": {
     "base_uri": "https://localhost:8080/",
     "height": 420
    },
    "colab_type": "code",
    "executionInfo": {
     "elapsed": 7434,
     "status": "ok",
     "timestamp": 1573117563017,
     "user": {
      "displayName": "Семен Сорокин",
      "photoUrl": "https://lh3.googleusercontent.com/a-/AAuE7mC8OmAJTuhuZ_wpiaSPaS6tRtyrDMaRqPORrcFf=s64",
      "userId": "15238420249980587427"
     },
     "user_tz": -180
    },
    "id": "-Kkv2jAKN_Ge",
    "outputId": "10a727e2-6340-4f62-91fa-6f0e441c86ac"
   },
   "outputs": [
    {
     "data": {
      "image/png": "[encoded data removed]",
      "text/plain": [
       "<Figure size 432x504 with 25 Axes>"
      ]
     },
     "metadata": {
      "needs_background": "light"
     },
     "output_type": "display_data"
    },
    {
     "name": "stderr",
     "output_type": "stream",
     "text": [
      "\n",
      "1654784it [01:15, 30736.53it/s]\u001b[A"
     ]
    }
   ],
   "source": [
    "X, y = next(iter(train_loader))\n",
    "X = X.numpy() # перевод тензора в массив нумпай, просто изменение типа данных \n",
    "y = y.numpy()\n",
    "\n",
    "plt.figure(figsize=(6, 7))\n",
    "for i in range(25):\n",
    "    plt.subplot(5, 5, i+1)\n",
    "    plt.imshow(X[i].reshape(28, 28), cmap=plt.cm.Greys_r)\n",
    "    plt.title(y[i])\n",
    "    plt.axis('off')"
   ]
  },
  {
   "cell_type": "markdown",
   "metadata": {
    "colab_type": "text",
    "id": "jL6Cd-7tb29_"
   },
   "source": [
    "Нам столько размерностей не нужно, поэтому давайте выпрямим матрицу, тем боле мы знаем что значение каждого пикселя независимо друг друга."
   ]
  },
  {
   "cell_type": "code",
   "execution_count": 12,
   "metadata": {
    "colab": {
     "base_uri": "https://localhost:8080/",
     "height": 34
    },
    "colab_type": "code",
    "executionInfo": {
     "elapsed": 7420,
     "status": "ok",
     "timestamp": 1573117563018,
     "user": {
      "displayName": "Семен Сорокин",
      "photoUrl": "https://lh3.googleusercontent.com/a-/AAuE7mC8OmAJTuhuZ_wpiaSPaS6tRtyrDMaRqPORrcFf=s64",
      "userId": "15238420249980587427"
     },
     "user_tz": -180
    },
    "id": "tDiEEUYJN_G6",
    "outputId": "c057b0ba-904b-4a91-e982-db48628aa346"
   },
   "outputs": [
    {
     "data": {
      "text/plain": [
       "torch.Size([128, 784])"
      ]
     },
     "execution_count": 12,
     "metadata": {},
     "output_type": "execute_result"
    }
   ],
   "source": [
    "X, y = next(iter(train_loader))\n",
    "X = X.view(X.shape[0], -1)\n",
    "X.shape"
   ]
  },
  {
   "cell_type": "markdown",
   "metadata": {
    "colab_type": "text",
    "id": "6_m0y3z9N_HN"
   },
   "source": [
    " Размерность\n",
    "- количество примеров в батче\n",
    "- количество фичей"
   ]
  },
  {
   "cell_type": "code",
   "execution_count": 13,
   "metadata": {
    "colab": {
     "base_uri": "https://localhost:8080/",
     "height": 119
    },
    "colab_type": "code",
    "executionInfo": {
     "elapsed": 7408,
     "status": "ok",
     "timestamp": 1573117563019,
     "user": {
      "displayName": "Семен Сорокин",
      "photoUrl": "https://lh3.googleusercontent.com/a-/AAuE7mC8OmAJTuhuZ_wpiaSPaS6tRtyrDMaRqPORrcFf=s64",
      "userId": "15238420249980587427"
     },
     "user_tz": -180
    },
    "id": "0rRs_fibN_HX",
    "outputId": "e029c693-4927-4781-e4a7-8ee3a4b02d1e"
   },
   "outputs": [
    {
     "data": {
      "text/plain": [
       "tensor([1, 0, 0, 0, 0, 1, 0, 0, 0, 1, 0, 0, 1, 1, 0, 0, 0, 1, 1, 0, 0, 1, 1, 0,\n",
       "        0, 0, 1, 1, 0, 1, 1, 1, 1, 0, 0, 1, 0, 0, 1, 0, 1, 1, 1, 0, 0, 1, 1, 0,\n",
       "        0, 0, 1, 1, 1, 0, 1, 1, 1, 0, 0, 1, 0, 0, 1, 0, 0, 1, 0, 0, 0, 0, 0, 1,\n",
       "        0, 0, 0, 0, 1, 1, 0, 0, 0, 0, 1, 0, 1, 0, 0, 1, 1, 0, 0, 1, 1, 1, 1, 1,\n",
       "        0, 0, 1, 1, 1, 1, 0, 0, 1, 0, 0, 1, 0, 1, 1, 1, 0, 0, 1, 0, 1, 1, 1, 1,\n",
       "        1, 1, 0, 0, 1, 0, 1, 1])"
      ]
     },
     "execution_count": 13,
     "metadata": {},
     "output_type": "execute_result"
    }
   ],
   "source": [
    "y"
   ]
  },
  {
   "cell_type": "markdown",
   "metadata": {
    "colab_type": "text",
    "id": "Z4vTsvPZdPQg"
   },
   "source": [
    "Такой У нам не совсем подходит. Сейчас объясню почему. Размерность Х (128,784) матрично перемножим на скрытый слой (784,1) и получится (128,1). Нужно понимать, что размерность (128,) и (128,1) это немного разные вещи  "
   ]
  },
  {
   "cell_type": "code",
   "execution_count": 14,
   "metadata": {
    "colab": {
     "base_uri": "https://localhost:8080/",
     "height": 34
    },
    "colab_type": "code",
    "executionInfo": {
     "elapsed": 7397,
     "status": "ok",
     "timestamp": 1573117563019,
     "user": {
      "displayName": "Семен Сорокин",
      "photoUrl": "https://lh3.googleusercontent.com/a-/AAuE7mC8OmAJTuhuZ_wpiaSPaS6tRtyrDMaRqPORrcFf=s64",
      "userId": "15238420249980587427"
     },
     "user_tz": -180
    },
    "id": "98g7689ON_Hc",
    "outputId": "007d721e-ebd9-4752-d948-97887b4917bd"
   },
   "outputs": [
    {
     "data": {
      "text/plain": [
       "torch.Size([128, 1])"
      ]
     },
     "execution_count": 14,
     "metadata": {},
     "output_type": "execute_result"
    }
   ],
   "source": [
    "w = torch.rand(784, 1) #Рандомные необученые веса\n",
    "pred = X.matmul(w)\n",
    "pred.shape"
   ]
  },
  {
   "cell_type": "code",
   "execution_count": 15,
   "metadata": {
    "colab": {
     "base_uri": "https://localhost:8080/",
     "height": 1000
    },
    "colab_type": "code",
    "executionInfo": {
     "elapsed": 7386,
     "status": "ok",
     "timestamp": 1573117563020,
     "user": {
      "displayName": "Семен Сорокин",
      "photoUrl": "https://lh3.googleusercontent.com/a-/AAuE7mC8OmAJTuhuZ_wpiaSPaS6tRtyrDMaRqPORrcFf=s64",
      "userId": "15238420249980587427"
     },
     "user_tz": -180
    },
    "id": "KG9L5xtJd9TQ",
    "outputId": "6e5671bc-eb6a-4e20-f5c9-2d391b067d4a"
   },
   "outputs": [
    {
     "data": {
      "text/plain": [
       "tensor([[-92.5350],\n",
       "        [ 72.3029],\n",
       "        [-37.5559],\n",
       "        [ 20.1835],\n",
       "        [ 43.2379],\n",
       "        [ 16.4732],\n",
       "        [ 82.4012],\n",
       "        [106.7185],\n",
       "        [ 48.2822],\n",
       "        [-50.9488],\n",
       "        [-27.7844],\n",
       "        [-11.5578],\n",
       "        [-44.8626],\n",
       "        [ 20.0017],\n",
       "        [ 35.0430],\n",
       "        [  5.0489],\n",
       "        [  9.8979],\n",
       "        [-50.5575],\n",
       "        [-63.5698],\n",
       "        [-43.4176],\n",
       "        [ 67.2807],\n",
       "        [ 17.3909],\n",
       "        [-22.3370],\n",
       "        [ 25.1264],\n",
       "        [  5.3251],\n",
       "        [112.2764],\n",
       "        [-27.4072],\n",
       "        [-40.7160],\n",
       "        [ -4.9570],\n",
       "        [-42.0660],\n",
       "        [ -2.1478],\n",
       "        [-18.0416],\n",
       "        [-16.5017],\n",
       "        [ 31.9214],\n",
       "        [ 80.0491],\n",
       "        [-62.8183],\n",
       "        [  2.5047],\n",
       "        [ 18.8550],\n",
       "        [ 24.1203],\n",
       "        [ 11.4286],\n",
       "        [-15.1127],\n",
       "        [ 77.4194],\n",
       "        [ 58.9314],\n",
       "        [-19.7845],\n",
       "        [ 45.3004],\n",
       "        [-44.4889],\n",
       "        [ 77.3399],\n",
       "        [-23.8954],\n",
       "        [ 93.4829],\n",
       "        [ 77.9242],\n",
       "        [-41.1591],\n",
       "        [-28.9097],\n",
       "        [-41.4581],\n",
       "        [ 15.1597],\n",
       "        [ 44.0945],\n",
       "        [-68.9234],\n",
       "        [ 16.8359],\n",
       "        [ -2.4383],\n",
       "        [ -8.5198],\n",
       "        [-11.2149],\n",
       "        [-37.9713],\n",
       "        [133.9669],\n",
       "        [-44.8067],\n",
       "        [-17.0929],\n",
       "        [ 84.9179],\n",
       "        [-60.2106],\n",
       "        [-11.2026],\n",
       "        [-13.2136],\n",
       "        [ 30.1848],\n",
       "        [ -5.1025],\n",
       "        [100.2450],\n",
       "        [-17.9272],\n",
       "        [ 38.4773],\n",
       "        [ 97.6856],\n",
       "        [-33.0741],\n",
       "        [ 20.0028],\n",
       "        [ -6.2122],\n",
       "        [ 67.8854],\n",
       "        [-25.5672],\n",
       "        [-45.2746],\n",
       "        [ 56.8616],\n",
       "        [ 99.5602],\n",
       "        [-14.7802],\n",
       "        [-20.5853],\n",
       "        [-65.4393],\n",
       "        [-50.1781],\n",
       "        [ 31.1845],\n",
       "        [-69.8778],\n",
       "        [ -7.6502],\n",
       "        [ 70.1587],\n",
       "        [ 36.7275],\n",
       "        [-38.0965],\n",
       "        [-46.7811],\n",
       "        [-59.8464],\n",
       "        [-37.3447],\n",
       "        [-67.5491],\n",
       "        [ 45.1562],\n",
       "        [  3.2946],\n",
       "        [-65.7728],\n",
       "        [-60.5798],\n",
       "        [  6.3835],\n",
       "        [-61.1533],\n",
       "        [  6.0066],\n",
       "        [ 42.7339],\n",
       "        [-35.4732],\n",
       "        [-67.7767],\n",
       "        [-49.9734],\n",
       "        [-15.4204],\n",
       "        [-45.7278],\n",
       "        [-81.6956],\n",
       "        [-19.4187],\n",
       "        [-81.3853],\n",
       "        [ 44.4672],\n",
       "        [-14.6535],\n",
       "        [-69.2881],\n",
       "        [ 69.5013],\n",
       "        [-18.7484],\n",
       "        [-37.5329],\n",
       "        [-93.9300],\n",
       "        [ 17.1032],\n",
       "        [-42.5662],\n",
       "        [ 16.3019],\n",
       "        [-34.9478],\n",
       "        [ 95.1237],\n",
       "        [ -4.1208],\n",
       "        [-59.6144],\n",
       "        [ 39.7454],\n",
       "        [ 15.5645]])"
      ]
     },
     "execution_count": 15,
     "metadata": {},
     "output_type": "execute_result"
    }
   ],
   "source": [
    "pred"
   ]
  },
  {
   "cell_type": "markdown",
   "metadata": {
    "colab_type": "text",
    "id": "Rb1hswcGeEpc"
   },
   "source": [
    "Теперь у нас есть предсказания и их размерность (128,1). Нужно будет счтить лосс с у, поэтому приведем его к такой же размерности с expand_dims - это функция есть в нумпае, также есть и в торче"
   ]
  },
  {
   "cell_type": "code",
   "execution_count": 16,
   "metadata": {
    "colab": {},
    "colab_type": "code",
    "id": "wAIFQMfwN_Hl"
   },
   "outputs": [],
   "source": [
    "y = np.expand_dims(y, 1)"
   ]
  },
  {
   "cell_type": "code",
   "execution_count": 17,
   "metadata": {
    "colab": {
     "base_uri": "https://localhost:8080/",
     "height": 1000
    },
    "colab_type": "code",
    "executionInfo": {
     "elapsed": 8830,
     "status": "ok",
     "timestamp": 1572698446717,
     "user": {
      "displayName": "Семен Сорокин",
      "photoUrl": "https://lh3.googleusercontent.com/a-/AAuE7mC8OmAJTuhuZ_wpiaSPaS6tRtyrDMaRqPORrcFf=s64",
      "userId": "15238420249980587427"
     },
     "user_tz": -180
    },
    "id": "SrlrvUq7N_Hw",
    "outputId": "3a38d8c2-f9ce-4565-c289-fd32ac79dec1"
   },
   "outputs": [
    {
     "data": {
      "text/plain": [
       "array([[1],\n",
       "       [0],\n",
       "       [0],\n",
       "       [0],\n",
       "       [0],\n",
       "       [1],\n",
       "       [0],\n",
       "       [0],\n",
       "       [0],\n",
       "       [1],\n",
       "       [0],\n",
       "       [0],\n",
       "       [1],\n",
       "       [1],\n",
       "       [0],\n",
       "       [0],\n",
       "       [0],\n",
       "       [1],\n",
       "       [1],\n",
       "       [0],\n",
       "       [0],\n",
       "       [1],\n",
       "       [1],\n",
       "       [0],\n",
       "       [0],\n",
       "       [0],\n",
       "       [1],\n",
       "       [1],\n",
       "       [0],\n",
       "       [1],\n",
       "       [1],\n",
       "       [1],\n",
       "       [1],\n",
       "       [0],\n",
       "       [0],\n",
       "       [1],\n",
       "       [0],\n",
       "       [0],\n",
       "       [1],\n",
       "       [0],\n",
       "       [1],\n",
       "       [1],\n",
       "       [1],\n",
       "       [0],\n",
       "       [0],\n",
       "       [1],\n",
       "       [1],\n",
       "       [0],\n",
       "       [0],\n",
       "       [0],\n",
       "       [1],\n",
       "       [1],\n",
       "       [1],\n",
       "       [0],\n",
       "       [1],\n",
       "       [1],\n",
       "       [1],\n",
       "       [0],\n",
       "       [0],\n",
       "       [1],\n",
       "       [0],\n",
       "       [0],\n",
       "       [1],\n",
       "       [0],\n",
       "       [0],\n",
       "       [1],\n",
       "       [0],\n",
       "       [0],\n",
       "       [0],\n",
       "       [0],\n",
       "       [0],\n",
       "       [1],\n",
       "       [0],\n",
       "       [0],\n",
       "       [0],\n",
       "       [0],\n",
       "       [1],\n",
       "       [1],\n",
       "       [0],\n",
       "       [0],\n",
       "       [0],\n",
       "       [0],\n",
       "       [1],\n",
       "       [0],\n",
       "       [1],\n",
       "       [0],\n",
       "       [0],\n",
       "       [1],\n",
       "       [1],\n",
       "       [0],\n",
       "       [0],\n",
       "       [1],\n",
       "       [1],\n",
       "       [1],\n",
       "       [1],\n",
       "       [1],\n",
       "       [0],\n",
       "       [0],\n",
       "       [1],\n",
       "       [1],\n",
       "       [1],\n",
       "       [1],\n",
       "       [0],\n",
       "       [0],\n",
       "       [1],\n",
       "       [0],\n",
       "       [0],\n",
       "       [1],\n",
       "       [0],\n",
       "       [1],\n",
       "       [1],\n",
       "       [1],\n",
       "       [0],\n",
       "       [0],\n",
       "       [1],\n",
       "       [0],\n",
       "       [1],\n",
       "       [1],\n",
       "       [1],\n",
       "       [1],\n",
       "       [1],\n",
       "       [1],\n",
       "       [0],\n",
       "       [0],\n",
       "       [1],\n",
       "       [0],\n",
       "       [1],\n",
       "       [1]])"
      ]
     },
     "execution_count": 17,
     "metadata": {},
     "output_type": "execute_result"
    }
   ],
   "source": [
    "y"
   ]
  },
  {
   "cell_type": "markdown",
   "metadata": {
    "colab_type": "text",
    "id": "TFAKpwY_N_H_"
   },
   "source": [
    "Итерация по эпохам"
   ]
  },
  {
   "cell_type": "code",
   "execution_count": 18,
   "metadata": {
    "colab": {
     "base_uri": "https://localhost:8080/",
     "height": 68
    },
    "colab_type": "code",
    "executionInfo": {
     "elapsed": 29430,
     "status": "ok",
     "timestamp": 1572698467342,
     "user": {
      "displayName": "Семен Сорокин",
      "photoUrl": "https://lh3.googleusercontent.com/a-/AAuE7mC8OmAJTuhuZ_wpiaSPaS6tRtyrDMaRqPORrcFf=s64",
      "userId": "15238420249980587427"
     },
     "user_tz": -180
    },
    "id": "DWmQFlyWN_IB",
    "outputId": "5317f355-03fc-443c-90b2-811c563ac813"
   },
   "outputs": [
    {
     "name": "stdout",
     "output_type": "stream",
     "text": [
      "Эпоха - 1, прошли - 100.00 % датасета\n",
      "Эпоха - 2, прошли - 100.00 % датасета\n",
      "Эпоха - 3, прошли - 100.00 % датасета\n"
     ]
    }
   ],
   "source": [
    "epochs = 3\n",
    "\n",
    "for n_epoch in range(epochs):\n",
    "    \n",
    "    dataset_passed_samples = 0\n",
    "    \n",
    "    for x, y in train_loader:\n",
    "        \n",
    "        # вот здесь мы могли бы как-то манипулировать с данными, например, учить, но пока этого делать не будет\n",
    "        \n",
    "        time.sleep(0.05)\n",
    "        \n",
    "        dataset_passed_samples += x.shape[0]\n",
    "        \n",
    "        dataset_passed_percent = dataset_passed_samples * 100 / train_loader.dataset.data.shape[0]\n",
    "        \n",
    "        print(f'Эпоха - {n_epoch + 1}, прошли - {dataset_passed_percent:.2f} % датасета', end='\\r')\n",
    "        \n",
    "    print('\\r')"
   ]
  },
  {
   "cell_type": "markdown",
   "metadata": {
    "colab_type": "text",
    "id": "8iBd9MS_f7Eg"
   },
   "source": [
    "# Однослойный персептрон"
   ]
  },
  {
   "cell_type": "code",
   "execution_count": 19,
   "metadata": {
    "colab": {
     "base_uri": "https://localhost:8080/",
     "height": 102
    },
    "colab_type": "code",
    "executionInfo": {
     "elapsed": 44736,
     "status": "ok",
     "timestamp": 1572698482670,
     "user": {
      "displayName": "Семен Сорокин",
      "photoUrl": "https://lh3.googleusercontent.com/a-/AAuE7mC8OmAJTuhuZ_wpiaSPaS6tRtyrDMaRqPORrcFf=s64",
      "userId": "15238420249980587427"
     },
     "user_tz": -180
    },
    "id": "x9wKt3z1gIo7",
    "outputId": "1eff2785-550d-4042-b511-05a050f71c96"
   },
   "outputs": [
    {
     "name": "stdout",
     "output_type": "stream",
     "text": [
      "Epoch: 1\n",
      "Epoch: 2\n",
      "Epoch: 3\n",
      "Epoch: 4\n",
      "Epoch: 5\n"
     ]
    }
   ],
   "source": [
    "learning_rate = 0.01 # тот самый лернинг рейт, который определяет какую часть от градиента мы будем брать\n",
    "epochs = 5  #сколько раз мы пройдем по всему тренировачному набору наших данных\n",
    "\n",
    "batch_size = 128  #это число примеров в баче понадобится нам при обучении чтобы усреднять лосс (ошибку обучения)\n",
    "n_feat = 784\n",
    "\n",
    "w1 = np.random.rand(n_feat,1) * 0.01 #0.01 - нормируем таким образом наши веса, чтобы избежать деления на ноль при бэкпропе, \n",
    "                                    #эмпирически выбрано, так как сами фичи у нас имеют значения близкие к 0\n",
    "b1 = np.zeros(1) #размерность должна совпадать с количеством параметров, которые у нас останутся после матричного перемножения\n",
    "\n",
    "losses = [] #на каждой итерации (и для всех эпох) будем сохранять сюда наш Лосс, чтобы видеть обучается ли НС\n",
    "\n",
    "for n_epoch in range(epochs):\n",
    "    \n",
    "    print(f'Epoch: {n_epoch + 1}')\n",
    "    \n",
    "    for x, y in train_loader:\n",
    "\n",
    "        x = x.view(x.shape[0], -1).numpy() #приводим к размерности (128,784)\n",
    "        y = np.expand_dims(y.numpy(), 1) #приводим к размерности (128,1)\n",
    "\n",
    "        h1 = x.dot(w1) + b1 #переход в одномерное пространство\n",
    "        p = 1/(1+np.exp(-h1)) #преобразование в \"вероятности\"\n",
    "        \n",
    "        bce = (-np.sum(np.multiply(np.log(p), y) + np.multiply((1 - y), np.log(1 - p)))) / batch_size \n",
    "        #расчет энтропии с усреднением по размеру бача\n",
    "          \n",
    "        losses.append(bce) \n",
    "        #ниже производная bce и sigmoid, если вы распишите две этих производные, перемножите и сократите, то полчится следующая строчка\n",
    "        dp = (p - y) / batch_size \n",
    "        dw1 = np.dot(x.T, dp) # производная по линейному преобразванию, относительно W - весов \n",
    "        db1 = np.sum(dp) # производная по лин преобразованиюб относительно В - баяса, \n",
    "        #здесь по идее должно быть перемножение на единичный вектор (128,1), но это тоже самое что и сумма значениеб типа лайф хак\n",
    "        \n",
    "        w1 -= learning_rate * dw1 # Обновим веса и баясы \n",
    "        b1 -= learning_rate * db1"
   ]
  },
  {
   "cell_type": "markdown",
   "metadata": {
    "colab_type": "text",
    "id": "Lc3-pw-4wMum"
   },
   "source": [
    "А теперь построим график функции потерь"
   ]
  },
  {
   "cell_type": "code",
   "execution_count": 20,
   "metadata": {
    "colab": {
     "base_uri": "https://localhost:8080/",
     "height": 747
    },
    "colab_type": "code",
    "executionInfo": {
     "elapsed": 1733,
     "status": "ok",
     "timestamp": 1572691745513,
     "user": {
      "displayName": "Семен Сорокин",
      "photoUrl": "https://lh3.googleusercontent.com/a-/AAuE7mC8OmAJTuhuZ_wpiaSPaS6tRtyrDMaRqPORrcFf=s64",
      "userId": "15238420249980587427"
     },
     "user_tz": -180
    },
    "id": "NvB4U5OXhE3t",
    "outputId": "6248bafc-51df-44a5-fc44-5c47efd21817"
   },
   "outputs": [
    {
     "data": {
      "text/plain": [
       "Text(0, 0.5, 'Loss function')"
      ]
     },
     "execution_count": 20,
     "metadata": {},
     "output_type": "execute_result"
    },
    {
     "data": {
      "image/png": "[encoded data removed]",
      "text/plain": [
       "<Figure size 1008x864 with 1 Axes>"
      ]
     },
     "metadata": {
      "needs_background": "light"
     },
     "output_type": "display_data"
    }
   ],
   "source": [
    "plt.figure(figsize=(14, 12))\n",
    "plt.plot(losses)\n",
    "plt.grid()\n",
    "plt.title('Training process')\n",
    "plt.xlabel('Iterations')\n",
    "plt.ylabel('Loss function')"
   ]
  },
  {
   "cell_type": "markdown",
   "metadata": {
    "colab_type": "text",
    "id": "IfpCVrN2tO5S"
   },
   "source": [
    "## Математика \n",
    "\n",
    "\n",
    "![alt text](https://sun9-39.userapi.com/c850608/v850608777/47a4/fgZlI898IUU.jpg)\n",
    "![alt text](https://sun9-41.userapi.com/c858216/v858216777/cc4f5/v3CPa-tnm80.jpg)\n",
    "![alt text](https://sun9-67.userapi.com/c857632/v857632471/f6e95/H0dsmWsUInc.jpg)\n",
    "![alt text](https://sun9-48.userapi.com/c858328/v858328471/ea91a/A3YVz-HwC4w.jpg)\n",
    "\n",
    "![alt text](https://sun9-5.userapi.com/c857132/v857132471/5016e/y1Jm36sSv9Q.jpg)\n"
   ]
  },
  {
   "cell_type": "markdown",
   "metadata": {
    "colab_type": "text",
    "id": "ToNAC3-bN_IN"
   },
   "source": [
    "А теперь ваша очередь, нужно написать двуслоный персептрон, согласна коду и выкладкам выше"
   ]
  },
  {
   "cell_type": "code",
   "execution_count": 81,
   "metadata": {
    "colab": {},
    "colab_type": "code",
    "id": "yJSR8hdTN_IO",
    "outputId": "a929058d-7946-40e3-e9d7-f9bad80b1de3"
   },
   "outputs": [
    {
     "name": "stdout",
     "output_type": "stream",
     "text": [
      "Epoch: 1\n",
      "Epoch: 2\n",
      "Epoch: 3\n",
      "Epoch: 4\n",
      "Epoch: 5\n"
     ]
    }
   ],
   "source": [
    "### КОД СЮДА ###\n",
    "\n",
    "learning_rate = 0.01\n",
    "epochs = 5\n",
    "hidden_nodes = 55\n",
    "\n",
    "w1 = np.random.normal(0.0, pow(n_feat, -0.5), (n_feat, hidden_nodes))\n",
    "b1 = np.zeros(1) \n",
    "w2 = np.random.normal(0.0, pow(hidden_nodes, -0.5), (hidden_nodes, 1))\n",
    "b2 = np.zeros(1) \n",
    "\n",
    "losses = []\n",
    "\n",
    "for n_epoch in range(epochs):\n",
    "    \n",
    "    print(f'Epoch: {n_epoch + 1}')\n",
    "    \n",
    "    for x, y in train_loader:\n",
    "        \n",
    "        x = x.view(x.shape[0], -1).numpy()\n",
    "        y = np.expand_dims(y.numpy(), 1)\n",
    "        \n",
    "        hidden_layer_1 = x.dot(w1) + b1\n",
    "        hidden_output_1 = 1 / (1 + np.exp(-hidden_layer_1)) #преобразование в \"вероятности\"\n",
    "        \n",
    "        hidden_layer_2 = hidden_output_1.dot(w2) + b2\n",
    "        final_output = 1 / (1 + np.exp(-hidden_layer_2))\n",
    "        \n",
    "        d_out = y - final_output\n",
    "        \n",
    "        hidden_errors = np.dot(d_out, w2.T)\n",
    "        \n",
    "        d_hidden_layer_2 = (final_output - y) * (final_output * (1 - final_output))\n",
    "        d_hidden_layer_1 = d_hidden_layer_2.dot(w2.T) * (hidden_output_1 * (1 - hidden_output_1))\n",
    "        w2 -= learning_rate * hidden_output_1.T.dot(d_hidden_layer_2)\n",
    "        b2 -= learning_rate * (1 / batch_size) * np.sum(d_hidden_layer_2)\n",
    "        w1 -= learning_rate * x.T.dot(d_hidden_layer_1)\n",
    "        b1 -= learning_rate * (1 / batch_size) * np.sum(d_hidden_layer_1)\n",
    "        \n",
    "        loss = (-np.sum(np.log(final_output) * y + (1 - y) * np.log(1 - final_output))) / batch_size \n",
    "          \n",
    "        losses.append(loss)"
   ]
  },
  {
   "cell_type": "markdown",
   "metadata": {
    "colab_type": "text",
    "id": "ur7SqyVGN_IY"
   },
   "source": [
    "## Подсказки по размерностям\n",
    "\n",
    "### Forward\n",
    "\n",
    "- z1 - первое линейное преобразование - (BATCH_SIZE, INNER_FEATURES)\n",
    "- a1 - Применение нелинейности - (BATCH_SIZE, INNER_FEATURES)\n",
    "- z2 - второе нелинейное преобразование - (BATCH_SIZE, 1)\n",
    "- pred or A2- сигмоида - (BATCH_SIZE, 1)\n",
    "- loss - функция потерь - скаляр\n",
    "\n",
    "### Backward\n",
    "\n",
    "- d_BCE/d_pred - градиент функции потерь по pred - (BATCH_SIZE, 1)\n",
    "- d_pred/dz2 - градиент сигмоиды по z2 - (BATCH_SIZE, 1)\n",
    "- dz2/da1 - градиент линейного преобразования по a1 - (BATCH_SIZE, INNER_FEATURES)\n",
    "- dz2/dw2 - градиент линейного преобразования по w2 - (INNER_FEATURES, 1)\n",
    "- dz2/db2 - градиент линейного преобразования по b2 - (1,)\n",
    "- da1/dz1 - градиент нелинейной функции по z1 - (BATCH_SIZE, INNER_FEATURES)\n",
    "- dz1/dw1 - градиент линейного преобразования по w1 - (IN_FEATURES, INNER_FEATURES)\n",
    "- dz1/db1 - градиент линейного преобразования по b1 - (INNER_FEATURES,)"
   ]
  },
  {
   "cell_type": "markdown",
   "metadata": {
    "colab_type": "text",
    "id": "ihOoASMAN_Ia"
   },
   "source": [
    "и график нарисуйте"
   ]
  },
  {
   "cell_type": "code",
   "execution_count": 82,
   "metadata": {
    "colab": {},
    "colab_type": "code",
    "id": "CwRzXKRNN_Ic",
    "outputId": "a0cf5951-b66f-431d-9482-d258760039e1"
   },
   "outputs": [
    {
     "data": {
      "image/png": "[encoded data removed]",
      "text/plain": [
       "<Figure size 1008x864 with 1 Axes>"
      ]
     },
     "metadata": {
      "needs_background": "light"
     },
     "output_type": "display_data"
    }
   ],
   "source": [
    "plt.figure(figsize=(14, 12))\n",
    "plt.plot(losses)\n",
    "plt.grid()\n",
    "plt.title('Training process')\n",
    "plt.xlabel('Iterations')\n",
    "plt.ylabel('Loss function');"
   ]
  },
  {
   "cell_type": "markdown",
   "metadata": {
    "colab_type": "text",
    "id": "axU2DnJ1IT1J"
   },
   "source": [
    "# Тестирование"
   ]
  },
  {
   "cell_type": "markdown",
   "metadata": {
    "colab_type": "text",
    "id": "4sd8o1ZbIEXH"
   },
   "source": [
    "А как это тестировать? Да, очень просто нужно просто выполнять форвард без бэкворда, то есть последовательно применять преобразования с обученными весами"
   ]
  },
  {
   "cell_type": "code",
   "execution_count": 75,
   "metadata": {
    "colab": {},
    "colab_type": "code",
    "id": "7DKeGWwzIliO"
   },
   "outputs": [],
   "source": [
    "losses_test = []\n",
    "predicted = []\n",
    "true_lbls = []\n",
    "\n",
    "for x, y in test_loader:\n",
    "\n",
    "    x = x.view(x.shape[0], -1).numpy()\n",
    "    y = np.expand_dims(y.numpy(), 1)\n",
    "\n",
    "    h1 = x.dot(w1) + b1 #переход в одномерное пространство\n",
    "    p = 1/(1+np.exp(-h1)) #преобразование в \"вероятности\"\n",
    "  \n",
    "    bce = (-np.sum(np.multiply(np.log(p), y) + np.multiply((1 - y), np.log(1 - p)))) / batch_size \n",
    "    #расчет энтропии с усреднением по размеру бача\n",
    "    \n",
    "    losses_test.append(bce)\n",
    "    predicted.extend(p)\n",
    "    true_lbls.extend(y) "
   ]
  },
  {
   "cell_type": "markdown",
   "metadata": {
    "colab_type": "text",
    "id": "259SOuP5K2HR"
   },
   "source": [
    "Проверим, что для каждого семплау нас есть предсказание"
   ]
  },
  {
   "cell_type": "code",
   "execution_count": 76,
   "metadata": {
    "colab": {
     "base_uri": "https://localhost:8080/",
     "height": 34
    },
    "colab_type": "code",
    "executionInfo": {
     "elapsed": 496,
     "status": "ok",
     "timestamp": 1572698712603,
     "user": {
      "displayName": "Семен Сорокин",
      "photoUrl": "https://lh3.googleusercontent.com/a-/AAuE7mC8OmAJTuhuZ_wpiaSPaS6tRtyrDMaRqPORrcFf=s64",
      "userId": "15238420249980587427"
     },
     "user_tz": -180
    },
    "id": "J3NQGFxfJY-4",
    "outputId": "2f71ca0f-f296-481d-b076-1b80a4385b4e"
   },
   "outputs": [
    {
     "name": "stdout",
     "output_type": "stream",
     "text": [
      "2038 2038\n"
     ]
    }
   ],
   "source": [
    "print(len(predicted), len(true_lbls))"
   ]
  },
  {
   "cell_type": "markdown",
   "metadata": {
    "colab_type": "text",
    "id": "xWJ3fjLhK9z4"
   },
   "source": [
    "Теперь применим стандартную Ф меру и оценим нашу модель"
   ]
  },
  {
   "cell_type": "code",
   "execution_count": 77,
   "metadata": {
    "colab": {
     "base_uri": "https://localhost:8080/",
     "height": 34
    },
    "colab_type": "code",
    "executionInfo": {
     "elapsed": 530,
     "status": "ok",
     "timestamp": 1572699231737,
     "user": {
      "displayName": "Семен Сорокин",
      "photoUrl": "https://lh3.googleusercontent.com/a-/AAuE7mC8OmAJTuhuZ_wpiaSPaS6tRtyrDMaRqPORrcFf=s64",
      "userId": "15238420249980587427"
     },
     "user_tz": -180
    },
    "id": "BbD-n9rVJlBe",
    "outputId": "1f3fb485-9ec7-42f6-aba8-6e390cef1b60"
   },
   "outputs": [
    {
     "name": "stdout",
     "output_type": "stream",
     "text": [
      "F1 score is equal to: 0.05\n"
     ]
    }
   ],
   "source": [
    "from sklearn.metrics import f1_score\n",
    "pred = np.array([round(i[0]) for i in predicted]) \n",
    "# У нас были вероятности а нужны классы поэтому просто округлим каждое значени и получим лейблы \n",
    "t_lbls = np.array(true_lbls).squeeze() #снимем лишнюю размерность\n",
    "f1 = f1_score(pred, t_lbls, average='weighted')\n",
    "print('F1 score is equal to: {0:0.02f}'.format(f1))"
   ]
  },
  {
   "cell_type": "markdown",
   "metadata": {
    "colab_type": "text",
    "id": "vMxfUk9DLfNx"
   },
   "source": [
    "Сделайте тоже самое для своей модели..."
   ]
  },
  {
   "cell_type": "code",
   "execution_count": 83,
   "metadata": {
    "colab": {},
    "colab_type": "code",
    "id": "plkig1rcLmG_"
   },
   "outputs": [
    {
     "name": "stderr",
     "output_type": "stream",
     "text": [
      "/home/valeria/.local/lib/python3.6/site-packages/ipykernel_launcher.py:17: RuntimeWarning: divide by zero encountered in log\n",
      "/home/valeria/.local/lib/python3.6/site-packages/ipykernel_launcher.py:17: RuntimeWarning: invalid value encountered in multiply\n"
     ]
    },
    {
     "name": "stdout",
     "output_type": "stream",
     "text": [
      "F1 score is equal to: 0.98\n"
     ]
    }
   ],
   "source": [
    "losses_test = []\n",
    "predicted = []\n",
    "true_lbls = []\n",
    "\n",
    "for x, y in test_loader:\n",
    "\n",
    "    x = x.view(x.shape[0], -1).numpy()\n",
    "    y = np.expand_dims(y.numpy(), 1)\n",
    "\n",
    "    h1 = x.dot(w1) + b1 #переход в одномерное пространство\n",
    "    p1 = 1 / ( 1 +np.exp(-h1)) #преобразование в \"вероятности\"\n",
    "    \n",
    "    h2 = h1.dot(w2) + b2\n",
    "    \n",
    "    p2 = 1 / (1 + np.exp(-h2))\n",
    "  \n",
    "    bce = (-np.sum(np.multiply(np.log(p2), y) + np.multiply((1 - y), np.log(1 - p2)))) / batch_size \n",
    "    #расчет энтропии с усреднением по размеру бача\n",
    "    \n",
    "    losses_test.append(bce)\n",
    "    predicted.extend(p2)\n",
    "    true_lbls.extend(y) \n",
    "    \n",
    "assert len(predicted) == len(true_lbls)\n",
    "\n",
    "pred = np.array([round(i[0]) for i in predicted]) \n",
    "# У нас были вероятности а нужны классы поэтому просто округлим каждое значени и получим лейблы \n",
    "t_lbls = np.array(true_lbls).squeeze() #снимем лишнюю размерность\n",
    "f1 = f1_score(pred, t_lbls, average='weighted')\n",
    "print('F1 score is equal to: {0:0.02f}'.format(f1))"
   ]
  },
  {
   "cell_type": "markdown",
   "metadata": {
    "colab_type": "text",
    "id": "zHg6S-QgN_Mm"
   },
   "source": [
    "# Немного торча"
   ]
  },
  {
   "cell_type": "code",
   "execution_count": 0,
   "metadata": {
    "colab": {},
    "colab_type": "code",
    "id": "rWON-EQvN_Mn"
   },
   "outputs": [],
   "source": [
    "import torch"
   ]
  },
  {
   "cell_type": "markdown",
   "metadata": {
    "colab_type": "text",
    "id": "MYyJMcmQN_Mq"
   },
   "source": [
    "### Мы можем определить нашу модель как последовательность уже существующих слоев, как в керасе"
   ]
  },
  {
   "cell_type": "code",
   "execution_count": 84,
   "metadata": {
    "colab": {
     "base_uri": "https://localhost:8080/",
     "height": 119
    },
    "colab_type": "code",
    "executionInfo": {
     "elapsed": 1097,
     "status": "ok",
     "timestamp": 1572694069401,
     "user": {
      "displayName": "Семен Сорокин",
      "photoUrl": "https://lh3.googleusercontent.com/a-/AAuE7mC8OmAJTuhuZ_wpiaSPaS6tRtyrDMaRqPORrcFf=s64",
      "userId": "15238420249980587427"
     },
     "user_tz": -180
    },
    "id": "7WkLbwyAN_Mr",
    "outputId": "4476cb2c-a6aa-4e69-e395-33d75c494e76"
   },
   "outputs": [
    {
     "data": {
      "text/plain": [
       "Sequential(\n",
       "  (linear_1): Linear(in_features=784, out_features=256, bias=True)\n",
       "  (relu): ReLU()\n",
       "  (linear_2): Linear(in_features=256, out_features=1, bias=True)\n",
       "  (sigmoid): Sigmoid()\n",
       ")"
      ]
     },
     "execution_count": 84,
     "metadata": {},
     "output_type": "execute_result"
    }
   ],
   "source": [
    "model = torch.nn.Sequential()\n",
    "\n",
    "model.add_module(name='linear_1', module=torch.nn.Linear(in_features=784, out_features=256))\n",
    "model.add_module(name='relu', module=torch.nn.ReLU())\n",
    "model.add_module(name='linear_2', module=torch.nn.Linear(in_features=256, out_features=1))\n",
    "model.add_module(name='sigmoid', module=torch.nn.Sigmoid())\n",
    "\n",
    "model"
   ]
  },
  {
   "cell_type": "markdown",
   "metadata": {
    "colab_type": "text",
    "id": "xFnSynhmN_Mw"
   },
   "source": [
    "### Либо так"
   ]
  },
  {
   "cell_type": "code",
   "execution_count": 85,
   "metadata": {
    "colab": {
     "base_uri": "https://localhost:8080/",
     "height": 119
    },
    "colab_type": "code",
    "executionInfo": {
     "elapsed": 1060,
     "status": "ok",
     "timestamp": 1572694078375,
     "user": {
      "displayName": "Семен Сорокин",
      "photoUrl": "https://lh3.googleusercontent.com/a-/AAuE7mC8OmAJTuhuZ_wpiaSPaS6tRtyrDMaRqPORrcFf=s64",
      "userId": "15238420249980587427"
     },
     "user_tz": -180
    },
    "id": "NjBXbnSNN_Mx",
    "outputId": "923d8acf-e611-4175-c67d-293090884e5b"
   },
   "outputs": [
    {
     "data": {
      "text/plain": [
       "Sequential(\n",
       "  (0): Linear(in_features=784, out_features=256, bias=True)\n",
       "  (1): ReLU()\n",
       "  (2): Linear(in_features=256, out_features=1, bias=True)\n",
       "  (3): Sigmoid()\n",
       ")"
      ]
     },
     "execution_count": 85,
     "metadata": {},
     "output_type": "execute_result"
    }
   ],
   "source": [
    "model = torch.nn.Sequential(\n",
    "    torch.nn.Linear(in_features=784, out_features=256),\n",
    "    torch.nn.ReLU(),\n",
    "    torch.nn.Linear(in_features=256, out_features=1),\n",
    "    torch.nn.Sigmoid()\n",
    ")\n",
    "\n",
    "model"
   ]
  },
  {
   "cell_type": "markdown",
   "metadata": {
    "colab_type": "text",
    "id": "MKOnBBifN_M1"
   },
   "source": [
    "## А вот для чего нужно было писать в домашке классы\n",
    "## Для определения своих моделей/слоев/чего вам захочется нам нужно сделать такую структуру"
   ]
  },
  {
   "cell_type": "code",
   "execution_count": 86,
   "metadata": {
    "colab": {},
    "colab_type": "code",
    "id": "iNXM6WnUN_M9"
   },
   "outputs": [],
   "source": [
    "# наследуемся от класса torch.nn.Module\n",
    "class MLP(torch.nn.Module):\n",
    "    \n",
    "    # определяем метод __init__\n",
    "    # он нужен для того, чтобы мы могли определить нужные нам слои, веса, сохраняемые операции\n",
    "    # \n",
    "    # передаем ссылку на самого себя первым параметром\n",
    "    # \n",
    "    # определяем любые другие передаваемые аргументы\n",
    "    # могут быть чем угодно: числа, словари, другие слои, другие модели и вообще все что угодно\n",
    "    # \n",
    "    def __init__(self, in_features, inner_features, out_features):\n",
    "        \n",
    "        # Главная задача этого метода - возможность использования в классе потомке, методов класса-родителя\n",
    "        # Вызываем __init__ родителя - torch.nn.Module\n",
    "        super().__init__()\n",
    "        \n",
    "        # определяем слои и все что захотим сохранять/использовать\n",
    "        self.linear_1 = torch.nn.Linear(in_features=in_features, out_features=inner_features)\n",
    "        self.non_linear_function = torch.nn.ReLU()\n",
    "        self.linear_2 = torch.nn.Linear(in_features=inner_features, out_features=out_features)\n",
    "        self.sigmoid = torch.nn.Sigmoid()\n",
    "        \n",
    "    # нам нужно обязательно реализовать метод forward\n",
    "    # это то, что нашей модели нужно делать, как оперировать с входными данными, как рассчитывать\n",
    "    # метод backward нам не нужно реализовывать, потому что в торче есть автоматическое дифференцирование\n",
    "    # главное, чтобы наши операции были дифференцируемы\n",
    "    # некоторые подробности можете узнать здесь:\n",
    "    # https://pytorch.org/tutorials/beginner/blitz/autograd_tutorial.html#sphx-glr-beginner-blitz-autograd-tutorial-py\n",
    "    # также список доступных дифференцируемых операций можете посмотреть здесь:\n",
    "    # https://pytorch.org/docs/stable/tensors.html\n",
    "    def forward(self, x):\n",
    "        \n",
    "        # наша привычная схема\n",
    "        x = self.linear_1(x)\n",
    "        x = self.non_linear_function(x)\n",
    "        x = self.linear_2(x)\n",
    "        x = self.sigmoid(x)\n",
    "        \n",
    "        return x\n",
    "    \n",
    "    # мы также можем реализовать любые другие полезные нам методы внутри класса"
   ]
  },
  {
   "cell_type": "code",
   "execution_count": 87,
   "metadata": {
    "colab": {},
    "colab_type": "code",
    "id": "Ftetvx8MN_NA"
   },
   "outputs": [],
   "source": [
    "# определяем нашу модель\n",
    "model = MLP(in_features=784, inner_features=256, out_features=1)"
   ]
  },
  {
   "cell_type": "code",
   "execution_count": 88,
   "metadata": {
    "colab": {
     "base_uri": "https://localhost:8080/",
     "height": 119
    },
    "colab_type": "code",
    "executionInfo": {
     "elapsed": 789,
     "status": "ok",
     "timestamp": 1572694105795,
     "user": {
      "displayName": "Семен Сорокин",
      "photoUrl": "https://lh3.googleusercontent.com/a-/AAuE7mC8OmAJTuhuZ_wpiaSPaS6tRtyrDMaRqPORrcFf=s64",
      "userId": "15238420249980587427"
     },
     "user_tz": -180
    },
    "id": "G3zivrXiN_ND",
    "outputId": "4366be57-2117-4b4c-d845-ed26443da85c",
    "scrolled": true
   },
   "outputs": [
    {
     "data": {
      "text/plain": [
       "MLP(\n",
       "  (linear_1): Linear(in_features=784, out_features=256, bias=True)\n",
       "  (non_linear_function): ReLU()\n",
       "  (linear_2): Linear(in_features=256, out_features=1, bias=True)\n",
       "  (sigmoid): Sigmoid()\n",
       ")"
      ]
     },
     "execution_count": 88,
     "metadata": {},
     "output_type": "execute_result"
    }
   ],
   "source": [
    "model"
   ]
  },
  {
   "cell_type": "code",
   "execution_count": 89,
   "metadata": {
    "colab": {
     "base_uri": "https://localhost:8080/",
     "height": 34
    },
    "colab_type": "code",
    "executionInfo": {
     "elapsed": 1048,
     "status": "ok",
     "timestamp": 1572694108928,
     "user": {
      "displayName": "Семен Сорокин",
      "photoUrl": "https://lh3.googleusercontent.com/a-/AAuE7mC8OmAJTuhuZ_wpiaSPaS6tRtyrDMaRqPORrcFf=s64",
      "userId": "15238420249980587427"
     },
     "user_tz": -180
    },
    "id": "pa4BG_t_N_NG",
    "outputId": "f153988a-ee07-4ca0-a5fc-5cb7e6c49679"
   },
   "outputs": [
    {
     "data": {
      "text/plain": [
       "torch.Size([256, 784])"
      ]
     },
     "execution_count": 89,
     "metadata": {},
     "output_type": "execute_result"
    }
   ],
   "source": [
    "# можем посмотреть веса\n",
    "model.linear_1.weight.shape"
   ]
  },
  {
   "cell_type": "code",
   "execution_count": 90,
   "metadata": {
    "colab": {},
    "colab_type": "code",
    "id": "n2hPqcyxN_NQ"
   },
   "outputs": [],
   "source": [
    "# еще нам нужно задать функцию потерь \n",
    "criterion = torch.nn.BCELoss()"
   ]
  },
  {
   "cell_type": "code",
   "execution_count": 91,
   "metadata": {
    "colab": {},
    "colab_type": "code",
    "id": "IEpYutCqN_Na"
   },
   "outputs": [],
   "source": [
    "# и оптимизатор, куда нужно передать параметры модели\n",
    "# параметры модели можно взять методом класса .parameters()\n",
    "optimizer = torch.optim.SGD(params=model.parameters(), lr=0.01)"
   ]
  },
  {
   "cell_type": "code",
   "execution_count": 92,
   "metadata": {
    "colab": {},
    "colab_type": "code",
    "id": "V-ssB6KsN_Nf"
   },
   "outputs": [
    {
     "data": {
      "text/plain": [
       "[Parameter containing:\n",
       " tensor([[-0.0264,  0.0179,  0.0163,  ...,  0.0252,  0.0212, -0.0265],\n",
       "         [-0.0033,  0.0040, -0.0216,  ...,  0.0045, -0.0356,  0.0179],\n",
       "         [-0.0120, -0.0297,  0.0030,  ...,  0.0255,  0.0235, -0.0243],\n",
       "         ...,\n",
       "         [ 0.0147,  0.0051,  0.0236,  ..., -0.0036, -0.0195, -0.0142],\n",
       "         [-0.0150, -0.0318,  0.0332,  ..., -0.0124, -0.0324,  0.0175],\n",
       "         [ 0.0266,  0.0207, -0.0332,  ..., -0.0064, -0.0181,  0.0347]],\n",
       "        requires_grad=True), Parameter containing:\n",
       " tensor([-2.8058e-02,  2.3426e-02,  2.3102e-02,  3.8724e-03,  3.2540e-03,\n",
       "          1.6446e-02, -7.6172e-03,  1.7564e-03,  2.9356e-02, -9.7743e-03,\n",
       "         -2.9431e-02, -7.5368e-03,  3.1389e-02, -1.1238e-02, -1.1407e-02,\n",
       "         -5.0979e-03, -3.3155e-02, -1.6576e-02,  3.0085e-02, -3.3463e-02,\n",
       "         -1.0029e-02,  1.1140e-02,  1.2409e-02, -1.6117e-02, -2.1671e-02,\n",
       "         -1.1899e-02,  2.0581e-02,  3.2799e-02, -3.3370e-02,  1.3963e-02,\n",
       "          2.2881e-02,  2.9080e-02,  2.6763e-02,  8.7596e-03, -1.6054e-02,\n",
       "         -4.7165e-03, -2.7582e-02,  1.2321e-02, -2.5726e-02,  2.0307e-02,\n",
       "         -2.0501e-02, -4.8586e-03,  3.0257e-02,  2.0349e-03, -2.8527e-02,\n",
       "          3.4734e-02,  4.3812e-04, -2.7459e-02,  5.9984e-03, -2.7293e-02,\n",
       "          2.5588e-02,  2.3305e-02, -1.2687e-02,  5.4654e-03,  2.3578e-02,\n",
       "          3.0237e-02,  1.6160e-03,  2.1077e-02,  1.5213e-03,  1.6624e-02,\n",
       "         -1.3645e-02, -1.4595e-02, -1.4252e-02, -1.8558e-02,  3.3752e-02,\n",
       "          2.7960e-03, -5.5530e-03,  1.3679e-02, -1.0285e-02, -2.2332e-02,\n",
       "          1.3663e-02,  2.4613e-02, -1.6779e-02,  1.7205e-02,  2.5356e-02,\n",
       "          4.8202e-03,  1.9824e-02,  3.2740e-02, -1.3474e-02,  1.0267e-04,\n",
       "         -1.3935e-02,  2.9575e-03, -1.7835e-02, -1.9818e-02,  3.5432e-02,\n",
       "          3.4941e-02,  2.3990e-02,  1.8031e-02, -1.8495e-02, -2.5244e-02,\n",
       "          2.1900e-02,  1.9543e-02, -1.3123e-02,  1.7503e-02, -2.8059e-02,\n",
       "         -3.5105e-02,  4.8894e-04,  3.1552e-02,  3.0974e-02, -7.1922e-03,\n",
       "         -3.3964e-02,  2.5701e-02,  2.2504e-02, -2.6820e-02, -2.9592e-03,\n",
       "          2.7052e-02,  1.7546e-02, -3.4756e-02, -6.3642e-03, -8.3301e-03,\n",
       "         -1.9269e-02,  6.7228e-03,  3.4807e-02,  9.2291e-04,  2.0876e-02,\n",
       "         -2.7298e-03, -2.4233e-02,  7.0963e-03,  2.3483e-02, -1.3010e-02,\n",
       "          1.8038e-03,  2.5007e-02, -2.3538e-02, -6.8996e-03,  2.1448e-02,\n",
       "         -2.9924e-02,  1.8568e-02,  5.1639e-04,  3.2489e-02,  2.7389e-02,\n",
       "          1.2070e-02,  9.8110e-04, -3.0905e-02,  4.1398e-03, -2.6549e-02,\n",
       "          2.3988e-02, -1.1560e-04, -2.0818e-02,  2.6445e-02,  3.1696e-02,\n",
       "         -1.0224e-02, -2.6999e-02, -3.2624e-02,  3.5984e-03, -1.4847e-02,\n",
       "          1.5872e-02, -1.3512e-02, -2.1471e-02,  1.6212e-02, -3.0610e-02,\n",
       "          1.4443e-02,  7.0019e-03, -2.5207e-02, -4.0188e-03,  2.6633e-02,\n",
       "         -2.2702e-02,  3.9953e-03,  2.9528e-02,  2.2274e-02, -2.5777e-02,\n",
       "         -1.8236e-02,  3.8108e-03,  2.3477e-02, -3.1513e-02,  2.4657e-02,\n",
       "         -3.0504e-02, -1.6350e-02,  1.8434e-02,  6.2938e-03,  2.0732e-02,\n",
       "         -1.8811e-02,  2.6056e-02,  3.0340e-02,  7.7814e-05,  2.8729e-02,\n",
       "         -3.1632e-02,  1.6551e-02, -1.9402e-02,  1.1599e-02, -2.1218e-02,\n",
       "         -4.3656e-03, -2.8888e-02, -2.7870e-02, -1.6373e-02,  6.2517e-03,\n",
       "         -2.3698e-02,  2.5648e-02, -2.9122e-02,  1.1589e-02,  2.0760e-02,\n",
       "          7.0468e-03,  3.0405e-02,  2.0156e-02,  3.5502e-02,  7.1970e-03,\n",
       "         -3.2462e-02,  2.2070e-02,  1.4230e-02, -2.9226e-02,  2.0275e-02,\n",
       "         -2.2298e-02, -1.0731e-02,  1.9154e-02,  2.0692e-02,  5.1784e-03,\n",
       "         -3.3514e-02,  2.0634e-02, -2.7176e-02, -1.0425e-02,  2.1855e-02,\n",
       "         -2.4618e-02,  2.7893e-02, -2.6414e-02,  1.0746e-02,  3.5140e-02,\n",
       "         -3.4897e-02,  1.2502e-02,  2.5930e-02, -2.2447e-02,  1.3468e-02,\n",
       "          3.0847e-02, -1.5439e-02,  1.0238e-02, -2.1649e-02,  2.3294e-02,\n",
       "          1.8083e-02,  8.9851e-03,  1.9429e-02,  2.2351e-02,  1.9448e-02,\n",
       "          1.0812e-02,  9.0597e-03,  2.3746e-02,  2.2822e-02,  4.3815e-03,\n",
       "         -9.4867e-03, -2.4773e-02, -1.5056e-02, -3.1861e-02,  3.5395e-02,\n",
       "          1.1420e-02,  4.1932e-03, -2.2475e-02,  3.2896e-03, -3.2439e-02,\n",
       "         -2.1341e-02, -2.3844e-02,  6.8211e-03, -1.0032e-02,  1.1533e-02,\n",
       "          1.6615e-02, -7.7285e-04,  1.4749e-02,  2.7890e-02,  2.2124e-02,\n",
       "          2.3971e-02], requires_grad=True), Parameter containing:\n",
       " tensor([[ 1.5358e-02,  3.7949e-02,  4.1113e-02,  3.0579e-02, -5.3597e-02,\n",
       "           6.6092e-03, -3.9532e-02, -3.3112e-02,  4.8446e-02, -6.0348e-02,\n",
       "           1.0238e-02,  4.8393e-02, -4.3890e-02,  4.5595e-02,  5.4268e-02,\n",
       "          -1.7047e-02, -1.5377e-02, -4.8941e-02,  4.0943e-02, -2.7451e-02,\n",
       "           4.5989e-02, -2.9687e-02, -3.8484e-02,  1.1297e-02, -2.4122e-02,\n",
       "          -4.6635e-02, -3.3611e-03,  1.3028e-02,  1.3301e-02, -4.3038e-02,\n",
       "          -1.8192e-02,  3.9816e-02,  3.2297e-02,  5.1171e-02,  3.0431e-02,\n",
       "          -3.6011e-02, -4.2531e-03, -3.8679e-02,  2.6762e-02,  2.0566e-02,\n",
       "           1.6663e-04, -3.3670e-02, -1.2080e-03,  1.2243e-02, -6.1363e-05,\n",
       "           6.0730e-02, -2.2466e-02,  5.7257e-02,  1.9928e-02,  2.1911e-03,\n",
       "          -2.4681e-02, -3.8649e-02,  2.2122e-02, -1.3737e-02,  1.5765e-02,\n",
       "          -5.7294e-02, -3.5405e-03, -2.8471e-02,  4.3898e-02, -6.0058e-02,\n",
       "           5.5655e-02, -2.9957e-02,  1.4819e-03,  4.0425e-03,  3.8039e-02,\n",
       "          -5.4335e-02, -3.7067e-02,  5.4165e-02,  4.1630e-02,  1.6456e-03,\n",
       "           5.2014e-02,  3.1505e-02, -1.9812e-02, -3.9548e-04, -5.0166e-02,\n",
       "          -8.1031e-03,  2.0144e-02, -4.3099e-02,  4.3233e-02,  9.3850e-04,\n",
       "           3.5280e-02, -1.0713e-02,  5.8058e-02,  4.5801e-02,  1.3642e-03,\n",
       "          -3.6483e-02, -2.8016e-02, -3.2503e-02, -5.5703e-02, -3.0853e-02,\n",
       "           2.3090e-02, -5.9655e-03,  4.9507e-02,  4.4890e-02,  1.1811e-03,\n",
       "           4.6846e-02, -6.2470e-02, -1.0006e-02,  3.4601e-02, -1.3056e-02,\n",
       "          -2.3953e-02, -1.5919e-02, -3.1315e-02, -4.0149e-02, -3.5113e-02,\n",
       "          -6.2220e-02,  2.4366e-02, -1.9675e-02,  5.1805e-02, -2.1878e-02,\n",
       "          -2.0547e-02,  1.0307e-02, -3.5249e-02, -3.1412e-02, -1.9556e-02,\n",
       "           3.3671e-02, -2.1446e-02, -2.2678e-02,  4.9057e-02,  8.0588e-03,\n",
       "           3.7804e-02,  9.5791e-04, -6.1289e-02, -2.7299e-02, -2.8708e-02,\n",
       "           2.7153e-02, -3.4360e-02, -2.0684e-02,  3.0335e-02,  5.4204e-03,\n",
       "          -3.7170e-03, -3.7957e-02, -6.2653e-03, -6.1253e-03,  4.4006e-02,\n",
       "          -4.7841e-02, -4.1515e-02, -2.0834e-02,  4.4035e-02,  3.1655e-02,\n",
       "          -4.4453e-02, -1.1229e-02,  2.2601e-02, -5.4996e-02, -1.0548e-02,\n",
       "          -2.8945e-02, -1.5200e-02,  3.2183e-02, -3.0887e-02,  2.6291e-02,\n",
       "           5.6379e-02,  2.4194e-03,  1.2846e-02, -8.3484e-03, -2.9530e-02,\n",
       "          -1.9508e-02, -5.0954e-02, -4.7857e-02,  4.6689e-02, -2.0979e-02,\n",
       "           1.8698e-02,  4.9071e-02,  8.5225e-03,  4.9117e-02,  9.8297e-03,\n",
       "          -3.6836e-02, -5.4353e-02,  5.0358e-02,  5.0244e-02, -1.5336e-02,\n",
       "           3.0556e-02, -1.4805e-02, -3.2077e-02,  5.1347e-03, -3.0371e-03,\n",
       "           5.2994e-02,  3.0971e-02,  2.5291e-03,  1.0622e-02,  1.9535e-02,\n",
       "           7.4751e-03,  1.7223e-02, -2.9406e-02,  6.8085e-03, -3.3470e-02,\n",
       "           3.6380e-02, -8.5476e-03, -1.9292e-02, -6.0981e-02,  3.2192e-02,\n",
       "           2.6898e-02,  5.3803e-02, -2.2821e-02,  2.7420e-02, -3.0621e-02,\n",
       "           1.6099e-02,  4.7400e-02, -1.7081e-02,  5.1150e-02, -1.5254e-02,\n",
       "          -1.3637e-02,  4.9386e-02,  5.2020e-02, -1.7433e-02, -4.5613e-02,\n",
       "          -4.0767e-02,  8.2985e-03, -3.4710e-02, -4.8145e-02, -2.5640e-02,\n",
       "           5.0710e-02, -4.9252e-02,  2.8731e-02, -5.4918e-03, -1.2217e-02,\n",
       "          -1.5103e-03,  3.3571e-02,  2.5101e-02,  8.5751e-04,  5.5957e-02,\n",
       "           4.8426e-02,  3.0043e-02,  1.2525e-02, -2.9796e-02,  6.0960e-02,\n",
       "          -2.8629e-02, -4.1530e-02,  5.0242e-02, -3.9948e-03,  3.7133e-02,\n",
       "           5.6261e-02, -4.1431e-02,  3.6752e-02,  9.8728e-05,  5.8432e-02,\n",
       "          -6.2016e-02, -3.5286e-02,  1.8672e-02,  7.1798e-04, -4.0213e-02,\n",
       "           1.1466e-02, -3.1569e-02,  3.3153e-02,  3.9953e-02, -2.7044e-02,\n",
       "           1.0882e-02,  6.2382e-02, -1.7104e-02, -3.7259e-02,  1.9380e-02,\n",
       "           2.0651e-02, -1.1076e-02,  5.1145e-02,  5.2251e-02, -2.8700e-03,\n",
       "           1.7113e-02]], requires_grad=True), Parameter containing:\n",
       " tensor([0.0373], requires_grad=True)]"
      ]
     },
     "execution_count": 92,
     "metadata": {},
     "output_type": "execute_result"
    }
   ],
   "source": [
    "# можем посмотреть на параметры нашей модели\n",
    "params = list(model.parameters())\n",
    "params"
   ]
  },
  {
   "cell_type": "markdown",
   "metadata": {
    "colab_type": "text",
    "id": "5dnDbvw0N_No"
   },
   "source": [
    "# Обучим нашу модель"
   ]
  },
  {
   "cell_type": "code",
   "execution_count": 93,
   "metadata": {
    "colab": {},
    "colab_type": "code",
    "id": "O8ayasdLN_Np"
   },
   "outputs": [],
   "source": [
    "# давайте сохранять значения нашей функции потерь каждую итерацию обучения\n",
    "losses = []\n",
    "\n",
    "# эта штука все еще отдает нам батчи данных\n",
    "# мы поговорим про нее позже\n",
    "for x, y in train_loader:\n",
    "\n",
    "    x = x.view(x.shape[0], -1)\n",
    "    y = y.unsqueeze(1).float()\n",
    "    \n",
    "    # обновим наши градиенты\n",
    "    # будем делать это каждую итерацию обучения\n",
    "    # потому что торч сохраняет в себе все градиенты пока не удалите таким образом рассчитанные градиенты\n",
    "    # \n",
    "    # НЕОБЯЗАТЕЛЬНЫЕ ДЕТАЛИ\n",
    "    # функция сохранения градиентов нужна для аккамуляции градиентов\n",
    "    # например, когда нам не хватает памяти на большой батч\n",
    "    # мы можем несколько раз прогнать forward на разных батчах\n",
    "    # наши градиенты будут сохраняться\n",
    "    # и только потом обновить через несколько итераций forward обновить наши веса\n",
    "    # таким образом у нас получается больше батч\n",
    "    # \n",
    "    optimizer.zero_grad()\n",
    "    \n",
    "    # \n",
    "    # предсказание нашей модели\n",
    "    # здесь торч сам сохраняет необходимую информацию\n",
    "    # чтобы понять эту логику у нас как раз и была часть домашки про собственные классы\n",
    "    # \n",
    "    # торч строит динамический граф вычислений\n",
    "    # то есть строит граф по тем операциям, которые вы определили в методе forward\n",
    "    # \n",
    "    # то есть торч понимает, что вы сначала применили линейное преобразование\n",
    "    # знает, где лежат веса для этого линейного преобразования\n",
    "    # знает, что вы затем применили релу\n",
    "    # затем опять линейное преобразование\n",
    "    # затем сигмоиду\n",
    "    # и вот таким образом торч выстроил граф\n",
    "    # который нужен будет для backpropogation\n",
    "    # \n",
    "    pred = model(x)\n",
    "    \n",
    "    # \n",
    "    # рассчитываем функцию потерь, добавляя в наш граф вычислений этот узел\n",
    "    # \n",
    "    loss = criterion(pred, y.float())\n",
    "    \n",
    "    # \n",
    "    # вызываем метод backward() от нашей функции потерь (это крайний узел нашего графа вычислений)\n",
    "    # этот метод проходит от конца графа в начало, вычисляя необходимые градиенты\n",
    "    # передаем градиенты на следующие узлы\n",
    "    # для весов сохраняет\n",
    "    # \n",
    "    # то есть это почти то же самое, что мы делали в домашке с классами\n",
    "    # \n",
    "    loss.backward()\n",
    "    \n",
    "    # \n",
    "    # теперь мы знаем необходимые градиенты и можем обновить веса с помощью градиентного спуска\n",
    "    # \n",
    "    optimizer.step()\n",
    "    \n",
    "    # \n",
    "    # сохраним текущее значение функции потерь, чтобы потом могли посмотреть на график\n",
    "    # очень важный момент: нам нужно отсоединить значение нашей фунции потерь от графа вычислений\n",
    "    # чтобы граф не строился дальше на каждой итерации обучения\n",
    "    # так мы рано или поздно переполним память\n",
    "    # поэтому вызываем этот метод\n",
    "    # работает для скаляров\n",
    "    # \n",
    "    # для тензоров работает метод .tolist()\n",
    "    # \n",
    "    current_loss_value = loss.item()\n",
    "    losses.append(loss.item())"
   ]
  },
  {
   "cell_type": "code",
   "execution_count": 94,
   "metadata": {
    "colab": {},
    "colab_type": "code",
    "id": "KhopLN33N_Nw"
   },
   "outputs": [],
   "source": [
    "# Одна эпоха прошла"
   ]
  },
  {
   "cell_type": "code",
   "execution_count": 95,
   "metadata": {
    "colab": {},
    "colab_type": "code",
    "id": "SIGFnAeMN_Nz",
    "outputId": "2998f09e-3773-43a5-d292-73d6985a74ac"
   },
   "outputs": [
    {
     "data": {
      "image/png": "[encoded data removed]",
      "text/plain": [
       "<Figure size 1008x864 with 1 Axes>"
      ]
     },
     "metadata": {
      "needs_background": "light"
     },
     "output_type": "display_data"
    }
   ],
   "source": [
    "plt.figure(figsize=(14, 12))\n",
    "plt.plot(losses)\n",
    "plt.grid()\n",
    "plt.title('Training process')\n",
    "plt.xlabel('Iterations')\n",
    "plt.ylabel('Loss function');"
   ]
  },
  {
   "cell_type": "markdown",
   "metadata": {
    "colab_type": "text",
    "id": "8oBFJlYrN_N3"
   },
   "source": [
    "# Теперь мы можем что-то предсказать"
   ]
  },
  {
   "cell_type": "code",
   "execution_count": 96,
   "metadata": {
    "colab": {},
    "colab_type": "code",
    "id": "pYQ-5cXnN_N4"
   },
   "outputs": [],
   "source": [
    "for x, y in test_loader:\n",
    "\n",
    "    x = x.view(x.shape[0], -1)\n",
    "    y = y.unsqueeze(1).float()\n",
    "    \n",
    "    # чтобы не ходить по всему тестовому датасету, прекратим ходить после первой итерации\n",
    "    break"
   ]
  },
  {
   "cell_type": "code",
   "execution_count": 97,
   "metadata": {
    "colab": {},
    "colab_type": "code",
    "id": "Rb3ImXPNN_N_",
    "outputId": "a9ea50e8-2230-4b85-b1e2-d75408597581"
   },
   "outputs": [
    {
     "data": {
      "text/plain": [
       "torch.Size([128, 784])"
      ]
     },
     "execution_count": 97,
     "metadata": {},
     "output_type": "execute_result"
    }
   ],
   "source": [
    "x.shape"
   ]
  },
  {
   "cell_type": "code",
   "execution_count": 98,
   "metadata": {
    "colab": {},
    "colab_type": "code",
    "id": "5V_GO6_zN_OE",
    "outputId": "b12de3e1-6478-42b4-82a4-230411f251a6"
   },
   "outputs": [
    {
     "data": {
      "text/plain": [
       "torch.Size([128, 1])"
      ]
     },
     "execution_count": 98,
     "metadata": {},
     "output_type": "execute_result"
    }
   ],
   "source": [
    "y.shape"
   ]
  },
  {
   "cell_type": "code",
   "execution_count": 99,
   "metadata": {
    "colab": {},
    "colab_type": "code",
    "id": "_zHM8GRpN_OG",
    "outputId": "1526be79-e75b-4b8f-c7e0-771c0e7960ba"
   },
   "outputs": [
    {
     "data": {
      "text/plain": [
       "MLP(\n",
       "  (linear_1): Linear(in_features=784, out_features=256, bias=True)\n",
       "  (non_linear_function): ReLU()\n",
       "  (linear_2): Linear(in_features=256, out_features=1, bias=True)\n",
       "  (sigmoid): Sigmoid()\n",
       ")"
      ]
     },
     "execution_count": 99,
     "metadata": {},
     "output_type": "execute_result"
    }
   ],
   "source": [
    "# переходим в режим предсказания\n",
    "# \n",
    "# позже в курсе мы разберем зачем конкретно это нужно\n",
    "# \n",
    "# для искушенного нетерпеливого читателя: дропаут больше не дропаутит, батч норм больше не нормирует каждый батч\n",
    "# а использует накопленную статистику при обучении и тд\n",
    "# \n",
    "model.eval()"
   ]
  },
  {
   "cell_type": "code",
   "execution_count": 100,
   "metadata": {
    "colab": {},
    "colab_type": "code",
    "id": "CT4N0ZAPN_OI"
   },
   "outputs": [],
   "source": [
    "# этот контект позволяет не сохранять необходимую информацию для рассчета градиентов\n",
    "with torch.no_grad():\n",
    "\n",
    "    pred = model(x)"
   ]
  },
  {
   "cell_type": "code",
   "execution_count": 101,
   "metadata": {
    "colab": {},
    "colab_type": "code",
    "id": "R48ZI_iJN_OK",
    "outputId": "193d89f9-61e1-4a96-8445-7b47d57ff8d1"
   },
   "outputs": [
    {
     "data": {
      "text/plain": [
       "torch.Size([128, 1])"
      ]
     },
     "execution_count": 101,
     "metadata": {},
     "output_type": "execute_result"
    }
   ],
   "source": [
    "pred.shape"
   ]
  },
  {
   "cell_type": "code",
   "execution_count": 102,
   "metadata": {
    "colab": {},
    "colab_type": "code",
    "id": "Azbcidg1N_OM"
   },
   "outputs": [],
   "source": [
    "# избавимся от единичной размерности\n",
    "pred = pred.squeeze()\n",
    "y = y.squeeze()"
   ]
  },
  {
   "cell_type": "code",
   "execution_count": 103,
   "metadata": {
    "colab": {},
    "colab_type": "code",
    "id": "L7zm8vzBN_OO",
    "outputId": "67f0fe47-50f7-44c8-9148-701fdec25e1f"
   },
   "outputs": [
    {
     "data": {
      "text/plain": [
       "torch.Size([128])"
      ]
     },
     "execution_count": 103,
     "metadata": {},
     "output_type": "execute_result"
    }
   ],
   "source": [
    "pred.shape"
   ]
  },
  {
   "cell_type": "code",
   "execution_count": 104,
   "metadata": {
    "colab": {},
    "colab_type": "code",
    "id": "JBARJLDIN_OT"
   },
   "outputs": [],
   "source": [
    "# таким образом из торчовых тензоров мы можем сделать нумпаевские массивы\n",
    "pred = pred.numpy()\n",
    "y = y.numpy()"
   ]
  },
  {
   "cell_type": "code",
   "execution_count": 105,
   "metadata": {
    "colab": {},
    "colab_type": "code",
    "id": "8Y4gi0q7N_OZ",
    "outputId": "a170d0d4-c6a8-408e-c3bf-1148de786113"
   },
   "outputs": [
    {
     "data": {
      "text/plain": [
       "array([1., 1., 0., 1., 0., 0., 1., 1., 1., 0., 0., 1., 0., 1., 0., 1., 1.,\n",
       "       0., 1., 1., 1., 1., 0., 0., 0., 1., 1., 0., 1., 1., 1., 1., 1., 0.,\n",
       "       1., 0., 1., 0., 1., 0., 0., 0., 0., 0., 1., 1., 1., 0., 0., 1., 1.,\n",
       "       0., 1., 1., 1., 1., 0., 1., 1., 1., 0., 0., 0., 0., 1., 0., 0., 1.,\n",
       "       0., 0., 1., 0., 1., 0., 0., 1., 0., 0., 1., 1., 1., 1., 0., 1., 0.,\n",
       "       0., 0., 0., 0., 0., 1., 1., 0., 1., 0., 0., 0., 1., 0., 1., 0., 0.,\n",
       "       0., 0., 0., 1., 1., 1., 1., 0., 0., 0., 0., 0., 0., 1., 1., 0., 0.,\n",
       "       1., 0., 1., 1., 0., 1., 0., 0., 1.], dtype=float32)"
      ]
     },
     "execution_count": 105,
     "metadata": {},
     "output_type": "execute_result"
    }
   ],
   "source": [
    "y"
   ]
  },
  {
   "cell_type": "code",
   "execution_count": 106,
   "metadata": {
    "colab": {},
    "colab_type": "code",
    "id": "QPlZdMfiN_Og",
    "outputId": "3673c2d3-fffe-4112-97d7-a31c06691daa"
   },
   "outputs": [
    {
     "data": {
      "text/plain": [
       "numpy.ndarray"
      ]
     },
     "execution_count": 106,
     "metadata": {},
     "output_type": "execute_result"
    }
   ],
   "source": [
    "type(y)"
   ]
  },
  {
   "cell_type": "code",
   "execution_count": 107,
   "metadata": {
    "colab": {},
    "colab_type": "code",
    "id": "Ck7Voa7HN_Ok"
   },
   "outputs": [],
   "source": [
    "# бинаризируем наши предсказания\n",
    "pred[pred > 0.5] = 1\n",
    "pred[pred <= 0.5] = 0"
   ]
  },
  {
   "cell_type": "code",
   "execution_count": 108,
   "metadata": {
    "colab": {},
    "colab_type": "code",
    "id": "Ts85uzXFN_Om",
    "outputId": "62122006-ec73-4b48-ccb2-ca6ad01d42a2"
   },
   "outputs": [
    {
     "data": {
      "text/plain": [
       "0.9609375"
      ]
     },
     "execution_count": 108,
     "metadata": {},
     "output_type": "execute_result"
    }
   ],
   "source": [
    "# посчитаем метрику на батче\n",
    "accuracy_score(y, pred)"
   ]
  },
  {
   "cell_type": "code",
   "execution_count": 109,
   "metadata": {
    "colab": {},
    "colab_type": "code",
    "id": "yoynJ1-2N_Op"
   },
   "outputs": [],
   "source": [
    "# заново определим нашу модель и выучимся несколько эпох\n",
    "# будут уже новые параметры\n",
    "model = MLP(in_features=784, inner_features=256, out_features=1)\n",
    "\n",
    "criterion = torch.nn.BCELoss()\n",
    "# мы позже поговорим про этот оптимизационный алгоритм\n",
    "optimizer = torch.optim.Adam(params=model.parameters())"
   ]
  },
  {
   "cell_type": "markdown",
   "metadata": {
    "colab_type": "text",
    "id": "hzBgaRe7N_Os"
   },
   "source": [
    "# Типичный цикл обучения с кучей сохранений лоссов"
   ]
  },
  {
   "cell_type": "code",
   "execution_count": 110,
   "metadata": {
    "colab": {},
    "colab_type": "code",
    "id": "1zO6ruQbN_Ot",
    "outputId": "7d4304f2-a0f5-4c08-bd00-098719fe4df9"
   },
   "outputs": [
    {
     "name": "stderr",
     "output_type": "stream",
     "text": [
      "\n",
      "\n",
      "Epoch 1:   0%|          | 0/12396 [00:00<?, ?it/s]\u001b[A\u001b[A\n",
      "\n",
      "Epoch 1:   0%|          | 0/12396 [00:00<?, ?it/s, train_loss=0.683]\u001b[A\u001b[A\n",
      "\n",
      "Epoch 1:   1%|          | 128/12396 [00:00<00:09, 1271.25it/s, train_loss=0.564]\u001b[A\u001b[A\n",
      "\n",
      "Epoch 1:   2%|▏         | 256/12396 [00:00<00:05, 2337.39it/s, train_loss=0.564]\u001b[A\u001b[A\n",
      "\n",
      "Epoch 1:   2%|▏         | 256/12396 [00:00<00:05, 2337.39it/s, train_loss=0.461]\u001b[A\u001b[A\n",
      "\n",
      "Epoch 1:   3%|▎         | 384/12396 [00:00<00:05, 2337.39it/s, train_loss=0.396]\u001b[A\u001b[A\n",
      "\n",
      "Epoch 1:   4%|▍         | 512/12396 [00:00<00:05, 2212.49it/s, train_loss=0.396]\u001b[A\u001b[A\n",
      "\n",
      "Epoch 1:   4%|▍         | 512/12396 [00:00<00:05, 2212.49it/s, train_loss=0.342]\u001b[A\u001b[A\n",
      "\n",
      "Epoch 1:   5%|▌         | 640/12396 [00:00<00:05, 2212.49it/s, train_loss=0.299]\u001b[A\u001b[A\n",
      "\n",
      "Epoch 1:   6%|▌         | 768/12396 [00:00<00:05, 2105.65it/s, train_loss=0.299]\u001b[A\u001b[A\n",
      "\n",
      "Epoch 1:   6%|▌         | 768/12396 [00:00<00:05, 2105.65it/s, train_loss=0.268]\u001b[A\u001b[A\n",
      "\n",
      "Epoch 1:   7%|▋         | 896/12396 [00:00<00:05, 2105.65it/s, train_loss=0.245]\u001b[A\u001b[A\n",
      "\n",
      "Epoch 1:   8%|▊         | 1024/12396 [00:00<00:05, 2105.65it/s, train_loss=0.231]\u001b[A\u001b[A\n",
      "\n",
      "Epoch 1:   9%|▉         | 1152/12396 [00:00<00:04, 2272.09it/s, train_loss=0.231]\u001b[A\u001b[A\n",
      "\n",
      "Epoch 1:   9%|▉         | 1152/12396 [00:00<00:04, 2272.09it/s, train_loss=0.215]\u001b[A\u001b[A\n",
      "\n",
      "Epoch 1:  10%|█         | 1280/12396 [00:00<00:04, 2272.09it/s, train_loss=0.205]\u001b[A\u001b[A\n",
      "\n",
      "Epoch 1:  11%|█▏        | 1408/12396 [00:00<00:04, 2253.23it/s, train_loss=0.205]\u001b[A\u001b[A\n",
      "\n",
      "Epoch 1:  11%|█▏        | 1408/12396 [00:00<00:04, 2253.23it/s, train_loss=0.198]\u001b[A\u001b[A\n",
      "\n",
      "Epoch 1:  12%|█▏        | 1536/12396 [00:00<00:04, 2253.23it/s, train_loss=0.188]\u001b[A\u001b[A\n",
      "\n",
      "Epoch 1:  13%|█▎        | 1664/12396 [00:00<00:04, 2277.19it/s, train_loss=0.188]\u001b[A\u001b[A\n",
      "\n",
      "Epoch 1:  13%|█▎        | 1664/12396 [00:00<00:04, 2277.19it/s, train_loss=0.181]\u001b[A\u001b[A\n",
      "\n",
      "Epoch 1:  14%|█▍        | 1792/12396 [00:00<00:04, 2277.19it/s, train_loss=0.17] \u001b[A\u001b[A\n",
      "\n",
      "Epoch 1:  15%|█▌        | 1920/12396 [00:00<00:04, 2333.71it/s, train_loss=0.17]\u001b[A\u001b[A\n",
      "\n",
      "Epoch 1:  15%|█▌        | 1920/12396 [00:00<00:04, 2333.71it/s, train_loss=0.162]\u001b[A\u001b[A\n",
      "\n",
      "Epoch 1:  17%|█▋        | 2048/12396 [00:00<00:04, 2333.71it/s, train_loss=0.155]\u001b[A\u001b[A\n",
      "\n",
      "Epoch 1:  18%|█▊        | 2176/12396 [00:00<00:04, 2174.90it/s, train_loss=0.155]\u001b[A\u001b[A\n",
      "\n",
      "Epoch 1:  18%|█▊        | 2176/12396 [00:01<00:04, 2174.90it/s, train_loss=0.148]\u001b[A\u001b[A\n",
      "\n",
      "Epoch 1:  19%|█▊        | 2304/12396 [00:01<00:04, 2174.90it/s, train_loss=0.141]\u001b[A\u001b[A\n",
      "\n",
      "Epoch 1:  20%|█▉        | 2432/12396 [00:01<00:04, 2035.87it/s, train_loss=0.141]\u001b[A\u001b[A\n",
      "\n",
      "Epoch 1:  20%|█▉        | 2432/12396 [00:01<00:04, 2035.87it/s, train_loss=0.138]\u001b[A\u001b[A\n",
      "\n",
      "Epoch 1:  21%|██        | 2560/12396 [00:01<00:04, 2035.87it/s, train_loss=0.134]\u001b[A\u001b[A\n",
      "\n",
      "Epoch 1:  22%|██▏       | 2688/12396 [00:01<00:04, 1957.31it/s, train_loss=0.134]\u001b[A\u001b[A\n",
      "\n",
      "Epoch 1:  22%|██▏       | 2688/12396 [00:01<00:04, 1957.31it/s, train_loss=0.136]\u001b[A\u001b[A\n",
      "\n",
      "Epoch 1:  23%|██▎       | 2816/12396 [00:01<00:04, 1957.31it/s, train_loss=0.131]\u001b[A\u001b[A\n",
      "\n",
      "Epoch 1:  24%|██▎       | 2944/12396 [00:01<00:04, 1936.40it/s, train_loss=0.131]\u001b[A\u001b[A\n",
      "\n",
      "Epoch 1:  24%|██▎       | 2944/12396 [00:01<00:04, 1936.40it/s, train_loss=0.129]\u001b[A\u001b[A\n",
      "\n",
      "Epoch 1:  25%|██▍       | 3072/12396 [00:01<00:04, 1936.40it/s, train_loss=0.125]\u001b[A\u001b[A\n",
      "\n",
      "Epoch 1:  26%|██▌       | 3200/12396 [00:01<00:04, 1879.13it/s, train_loss=0.125]\u001b[A\u001b[A\n",
      "\n",
      "Epoch 1:  26%|██▌       | 3200/12396 [00:01<00:04, 1879.13it/s, train_loss=0.124]\u001b[A\u001b[A\n",
      "\n",
      "Epoch 1:  27%|██▋       | 3328/12396 [00:01<00:04, 1879.13it/s, train_loss=0.122]\u001b[A\u001b[A\n",
      "\n",
      "Epoch 1:  28%|██▊       | 3456/12396 [00:01<00:04, 1878.92it/s, train_loss=0.122]\u001b[A\u001b[A\n",
      "\n",
      "Epoch 1:  28%|██▊       | 3456/12396 [00:01<00:04, 1878.92it/s, train_loss=0.121]\u001b[A\u001b[A\n",
      "\n",
      "Epoch 1:  29%|██▉       | 3584/12396 [00:01<00:04, 1878.92it/s, train_loss=0.118]\u001b[A\u001b[A\n",
      "\n",
      "Epoch 1:  30%|██▉       | 3712/12396 [00:01<00:04, 1959.80it/s, train_loss=0.118]\u001b[A\u001b[A\n",
      "\n",
      "Epoch 1:  30%|██▉       | 3712/12396 [00:01<00:04, 1959.80it/s, train_loss=0.115]\u001b[A\u001b[A\n",
      "\n",
      "Epoch 1:  31%|███       | 3840/12396 [00:01<00:04, 1959.80it/s, train_loss=0.112]\u001b[A\u001b[A\n",
      "\n",
      "Epoch 1:  32%|███▏      | 3968/12396 [00:01<00:04, 2075.50it/s, train_loss=0.112]\u001b[A\u001b[A\n",
      "\n",
      "Epoch 1:  32%|███▏      | 3968/12396 [00:01<00:04, 2075.50it/s, train_loss=0.11] \u001b[A\u001b[A\n",
      "\n",
      "Epoch 1:  33%|███▎      | 4096/12396 [00:02<00:03, 2075.50it/s, train_loss=0.108]\u001b[A\u001b[A\n",
      "\n",
      "Epoch 1:  34%|███▍      | 4224/12396 [00:02<00:04, 2035.98it/s, train_loss=0.108]\u001b[A\u001b[A\n",
      "\n",
      "Epoch 1:  34%|███▍      | 4224/12396 [00:02<00:04, 2035.98it/s, train_loss=0.105]\u001b[A\u001b[A\n",
      "\n",
      "Epoch 1:  35%|███▌      | 4352/12396 [00:02<00:03, 2035.98it/s, train_loss=0.103]\u001b[A\u001b[A\n",
      "\n",
      "Epoch 1:  36%|███▌      | 4480/12396 [00:02<00:04, 1944.02it/s, train_loss=0.103]\u001b[A\u001b[A\n",
      "\n",
      "Epoch 1:  36%|███▌      | 4480/12396 [00:02<00:04, 1944.02it/s, train_loss=0.1]  \u001b[A\u001b[A\n",
      "\n",
      "Epoch 1:  37%|███▋      | 4608/12396 [00:02<00:04, 1944.02it/s, train_loss=0.0983]\u001b[A\u001b[A\n",
      "\n",
      "Epoch 1:  38%|███▊      | 4736/12396 [00:02<00:03, 1934.22it/s, train_loss=0.0983]\u001b[A\u001b[A\n",
      "\n",
      "Epoch 1:  38%|███▊      | 4736/12396 [00:02<00:03, 1934.22it/s, train_loss=0.0991]\u001b[A\u001b[A\n",
      "\n",
      "Epoch 1:  39%|███▉      | 4864/12396 [00:02<00:03, 1934.22it/s, train_loss=0.101] \u001b[A\u001b[A\n",
      "\n",
      "Epoch 1:  40%|████      | 4992/12396 [00:02<00:03, 2069.24it/s, train_loss=0.101]\u001b[A\u001b[A\n",
      "\n",
      "Epoch 1:  40%|████      | 4992/12396 [00:02<00:03, 2069.24it/s, train_loss=0.0996]\u001b[A\u001b[A\n",
      "\n",
      "Epoch 1:  41%|████▏     | 5120/12396 [00:02<00:03, 2069.24it/s, train_loss=0.0979]\u001b[A\u001b[A\n",
      "\n",
      "Epoch 1:  42%|████▏     | 5248/12396 [00:02<00:03, 2069.24it/s, train_loss=0.0961]\u001b[A\u001b[A\n",
      "\n",
      "Epoch 1:  43%|████▎     | 5376/12396 [00:02<00:02, 2352.32it/s, train_loss=0.0961]\u001b[A\u001b[A\n",
      "\n",
      "Epoch 1:  43%|████▎     | 5376/12396 [00:02<00:02, 2352.32it/s, train_loss=0.095] \u001b[A\u001b[A\n",
      "\n",
      "Epoch 1:  44%|████▍     | 5504/12396 [00:02<00:02, 2352.32it/s, train_loss=0.0948]\u001b[A\u001b[A\n",
      "\n",
      "Epoch 1:  45%|████▌     | 5632/12396 [00:02<00:02, 2352.32it/s, train_loss=0.0933]\u001b[A\u001b[A\n",
      "\n",
      "Epoch 1:  46%|████▋     | 5760/12396 [00:02<00:02, 2518.85it/s, train_loss=0.0933]\u001b[A\u001b[A\n",
      "\n",
      "Epoch 1:  46%|████▋     | 5760/12396 [00:02<00:02, 2518.85it/s, train_loss=0.0922]\u001b[A\u001b[A\n",
      "\n",
      "Epoch 1:  47%|████▋     | 5888/12396 [00:02<00:02, 2518.85it/s, train_loss=0.0933]\u001b[A\u001b[A\n",
      "\n",
      "Epoch 1:  49%|████▊     | 6016/12396 [00:02<00:02, 2518.85it/s, train_loss=0.092] \u001b[A\u001b[A\n",
      "\n",
      "Epoch 1:  50%|████▉     | 6144/12396 [00:02<00:02, 2630.59it/s, train_loss=0.092]\u001b[A\u001b[A\n",
      "\n",
      "Epoch 1:  50%|████▉     | 6144/12396 [00:02<00:02, 2630.59it/s, train_loss=0.0914]\u001b[A\u001b[A\n",
      "\n",
      "Epoch 1:  51%|█████     | 6272/12396 [00:02<00:02, 2630.59it/s, train_loss=0.0921]\u001b[A\u001b[A\n",
      "\n",
      "Epoch 1:  52%|█████▏    | 6400/12396 [00:02<00:02, 2630.59it/s, train_loss=0.0914]\u001b[A\u001b[A\n",
      "\n",
      "Epoch 1:  53%|█████▎    | 6528/12396 [00:02<00:02, 2733.32it/s, train_loss=0.0914]\u001b[A\u001b[A\n",
      "\n",
      "Epoch 1:  53%|█████▎    | 6528/12396 [00:02<00:02, 2733.32it/s, train_loss=0.0899]\u001b[A\u001b[A\n",
      "\n",
      "Epoch 1:  54%|█████▎    | 6656/12396 [00:02<00:02, 2733.32it/s, train_loss=0.0886]\u001b[A\u001b[A\n",
      "\n",
      "Epoch 1:  55%|█████▍    | 6784/12396 [00:03<00:02, 2733.32it/s, train_loss=0.088] \u001b[A\u001b[A\n",
      "\n",
      "Epoch 1:  56%|█████▌    | 6912/12396 [00:03<00:01, 2862.00it/s, train_loss=0.088]\u001b[A\u001b[A\n",
      "\n",
      "Epoch 1:  56%|█████▌    | 6912/12396 [00:03<00:01, 2862.00it/s, train_loss=0.0881]\u001b[A\u001b[A\n",
      "\n",
      "Epoch 1:  57%|█████▋    | 7040/12396 [00:03<00:01, 2862.00it/s, train_loss=0.0867]\u001b[A\u001b[A\n",
      "\n",
      "Epoch 1:  58%|█████▊    | 7168/12396 [00:03<00:01, 2862.00it/s, train_loss=0.0865]\u001b[A\u001b[A\n",
      "\n",
      "Epoch 1:  59%|█████▉    | 7296/12396 [00:03<00:01, 2835.64it/s, train_loss=0.0865]\u001b[A\u001b[A\n",
      "\n",
      "Epoch 1:  59%|█████▉    | 7296/12396 [00:03<00:01, 2835.64it/s, train_loss=0.0855]\u001b[A\u001b[A\n",
      "\n",
      "Epoch 1:  60%|█████▉    | 7424/12396 [00:03<00:01, 2835.64it/s, train_loss=0.0848]\u001b[A\u001b[A\n",
      "\n",
      "Epoch 1:  61%|██████    | 7552/12396 [00:03<00:01, 2835.64it/s, train_loss=0.0839]\u001b[A\u001b[A\n",
      "\n",
      "Epoch 1:  62%|██████▏   | 7680/12396 [00:03<00:02, 2292.22it/s, train_loss=0.0839]\u001b[A\u001b[A\n",
      "\n",
      "Epoch 1:  62%|██████▏   | 7680/12396 [00:03<00:02, 2292.22it/s, train_loss=0.0838]\u001b[A\u001b[A\n",
      "\n",
      "Epoch 1:  63%|██████▎   | 7808/12396 [00:03<00:02, 2292.22it/s, train_loss=0.083] \u001b[A\u001b[A\n",
      "\n",
      "Epoch 1:  64%|██████▍   | 7936/12396 [00:03<00:01, 2235.67it/s, train_loss=0.083]\u001b[A\u001b[A\n",
      "\n",
      "Epoch 1:  64%|██████▍   | 7936/12396 [00:03<00:01, 2235.67it/s, train_loss=0.0825]\u001b[A\u001b[A\n",
      "\n",
      "Epoch 1:  65%|██████▌   | 8064/12396 [00:03<00:01, 2235.67it/s, train_loss=0.0819]\u001b[A\u001b[A\n",
      "\n"
     ]
    },
    {
     "name": "stderr",
     "output_type": "stream",
     "text": [
      "Epoch 1:  66%|██████▌   | 8192/12396 [00:03<00:01, 2318.78it/s, train_loss=0.0819]\u001b[A\u001b[A\n",
      "\n",
      "Epoch 1:  66%|██████▌   | 8192/12396 [00:03<00:01, 2318.78it/s, train_loss=0.0809]\u001b[A\u001b[A\n",
      "\n",
      "Epoch 1:  67%|██████▋   | 8320/12396 [00:03<00:01, 2318.78it/s, train_loss=0.0799]\u001b[A\u001b[A\n",
      "\n",
      "Epoch 1:  68%|██████▊   | 8448/12396 [00:03<00:01, 2313.03it/s, train_loss=0.0799]\u001b[A\u001b[A\n",
      "\n",
      "Epoch 1:  68%|██████▊   | 8448/12396 [00:03<00:01, 2313.03it/s, train_loss=0.0788]\u001b[A\u001b[A\n",
      "\n",
      "Epoch 1:  69%|██████▉   | 8576/12396 [00:03<00:01, 2313.03it/s, train_loss=0.078] \u001b[A\u001b[A\n",
      "\n",
      "Epoch 1:  70%|███████   | 8704/12396 [00:03<00:01, 2057.04it/s, train_loss=0.078]\u001b[A\u001b[A\n",
      "\n",
      "Epoch 1:  70%|███████   | 8704/12396 [00:03<00:01, 2057.04it/s, train_loss=0.078]\u001b[A\u001b[A\n",
      "\n",
      "Epoch 1:  71%|███████   | 8832/12396 [00:04<00:01, 2057.04it/s, train_loss=0.0774]\u001b[A\u001b[A\n",
      "\n",
      "Epoch 1:  72%|███████▏  | 8960/12396 [00:04<00:01, 2145.43it/s, train_loss=0.0774]\u001b[A\u001b[A\n",
      "\n",
      "Epoch 1:  72%|███████▏  | 8960/12396 [00:04<00:01, 2145.43it/s, train_loss=0.0764]\u001b[A\u001b[A\n",
      "\n",
      "Epoch 1:  73%|███████▎  | 9088/12396 [00:04<00:01, 2145.43it/s, train_loss=0.0757]\u001b[A\u001b[A\n",
      "\n",
      "Epoch 1:  74%|███████▍  | 9216/12396 [00:04<00:01, 2214.79it/s, train_loss=0.0757]\u001b[A\u001b[A\n",
      "\n",
      "Epoch 1:  74%|███████▍  | 9216/12396 [00:04<00:01, 2214.79it/s, train_loss=0.0753]\u001b[A\u001b[A\n",
      "\n",
      "Epoch 1:  75%|███████▌  | 9344/12396 [00:04<00:01, 2214.79it/s, train_loss=0.0749]\u001b[A\u001b[A\n",
      "\n",
      "Epoch 1:  76%|███████▋  | 9472/12396 [00:04<00:01, 2214.79it/s, train_loss=0.0747]\u001b[A\u001b[A\n",
      "\n",
      "Epoch 1:  77%|███████▋  | 9600/12396 [00:04<00:01, 2361.83it/s, train_loss=0.0747]\u001b[A\u001b[A\n",
      "\n",
      "Epoch 1:  77%|███████▋  | 9600/12396 [00:04<00:01, 2361.83it/s, train_loss=0.0744]\u001b[A\u001b[A\n",
      "\n",
      "Epoch 1:  78%|███████▊  | 9728/12396 [00:04<00:01, 2361.83it/s, train_loss=0.0745]\u001b[A\u001b[A\n",
      "\n",
      "Epoch 1:  80%|███████▉  | 9856/12396 [00:04<00:01, 2363.97it/s, train_loss=0.0745]\u001b[A\u001b[A\n",
      "\n",
      "Epoch 1:  80%|███████▉  | 9856/12396 [00:04<00:01, 2363.97it/s, train_loss=0.0742]\u001b[A\u001b[A\n",
      "\n",
      "Epoch 1:  81%|████████  | 9984/12396 [00:04<00:01, 2363.97it/s, train_loss=0.0736]\u001b[A\u001b[A\n",
      "\n",
      "Epoch 1:  82%|████████▏ | 10112/12396 [00:04<00:00, 2363.97it/s, train_loss=0.0732]\u001b[A\u001b[A\n",
      "\n",
      "Epoch 1:  83%|████████▎ | 10240/12396 [00:04<00:00, 2599.95it/s, train_loss=0.0732]\u001b[A\u001b[A\n",
      "\n",
      "Epoch 1:  83%|████████▎ | 10240/12396 [00:04<00:00, 2599.95it/s, train_loss=0.0732]\u001b[A\u001b[A\n",
      "\n",
      "Epoch 1:  84%|████████▎ | 10368/12396 [00:04<00:00, 2599.95it/s, train_loss=0.0735]\u001b[A\u001b[A\n",
      "\n",
      "Epoch 1:  85%|████████▍ | 10496/12396 [00:04<00:00, 2599.95it/s, train_loss=0.0732]\u001b[A\u001b[A\n",
      "\n",
      "Epoch 1:  86%|████████▌ | 10624/12396 [00:04<00:00, 2767.67it/s, train_loss=0.0732]\u001b[A\u001b[A\n",
      "\n",
      "Epoch 1:  86%|████████▌ | 10624/12396 [00:04<00:00, 2767.67it/s, train_loss=0.0732]\u001b[A\u001b[A\n",
      "\n",
      "Epoch 1:  87%|████████▋ | 10752/12396 [00:04<00:00, 2767.67it/s, train_loss=0.0724]\u001b[A\u001b[A\n",
      "\n",
      "Epoch 1:  88%|████████▊ | 10880/12396 [00:04<00:00, 2767.67it/s, train_loss=0.0724]\u001b[A\u001b[A\n",
      "\n",
      "Epoch 1:  89%|████████▉ | 11008/12396 [00:04<00:00, 2831.28it/s, train_loss=0.0724]\u001b[A\u001b[A\n",
      "\n",
      "Epoch 1:  89%|████████▉ | 11008/12396 [00:04<00:00, 2831.28it/s, train_loss=0.072] \u001b[A\u001b[A\n",
      "\n",
      "Epoch 1:  90%|████████▉ | 11136/12396 [00:04<00:00, 2831.28it/s, train_loss=0.0718]\u001b[A\u001b[A\n",
      "\n",
      "Epoch 1:  91%|█████████ | 11264/12396 [00:04<00:00, 2831.28it/s, train_loss=0.0713]\u001b[A\u001b[A\n",
      "\n",
      "Epoch 1:  92%|█████████▏| 11392/12396 [00:04<00:00, 2588.19it/s, train_loss=0.0713]\u001b[A\u001b[A\n",
      "\n",
      "Epoch 1:  92%|█████████▏| 11392/12396 [00:04<00:00, 2588.19it/s, train_loss=0.0707]\u001b[A\u001b[A\n",
      "\n",
      "Epoch 1:  93%|█████████▎| 11520/12396 [00:05<00:00, 2588.19it/s, train_loss=0.0701]\u001b[A\u001b[A\n",
      "\n",
      "Epoch 1:  94%|█████████▍| 11648/12396 [00:05<00:00, 2588.19it/s, train_loss=0.0696]\u001b[A\u001b[A\n",
      "\n",
      "Epoch 1:  95%|█████████▍| 11776/12396 [00:05<00:00, 2581.64it/s, train_loss=0.0696]\u001b[A\u001b[A\n",
      "\n",
      "Epoch 1:  95%|█████████▍| 11776/12396 [00:05<00:00, 2581.64it/s, train_loss=0.0703]\u001b[A\u001b[A\n",
      "\n",
      "Epoch 1:  96%|█████████▌| 11904/12396 [00:05<00:00, 2581.64it/s, train_loss=0.0699]\u001b[A\u001b[A\n",
      "\n",
      "Epoch 1:  97%|█████████▋| 12032/12396 [00:05<00:00, 2581.64it/s, train_loss=0.0699]\u001b[A\u001b[A\n",
      "\n",
      "Epoch 1:  98%|█████████▊| 12160/12396 [00:05<00:00, 2594.12it/s, train_loss=0.0699]\u001b[A\u001b[A\n",
      "\n",
      "Epoch 1:  98%|█████████▊| 12160/12396 [00:05<00:00, 2594.12it/s, train_loss=0.0694]\u001b[A\u001b[A\n",
      "\n",
      "Epoch 1:  99%|█████████▉| 12288/12396 [00:05<00:00, 2594.12it/s, train_loss=0.0697]\u001b[A\u001b[A\n",
      "\n",
      "Epoch 1: 100%|██████████| 12396/12396 [00:05<00:00, 2306.91it/s, train_loss=0.0697]\u001b[A\u001b[A\n",
      "\n",
      "Epoch 2:   0%|          | 0/12396 [00:00<?, ?it/s]\u001b[A\u001b[A\n",
      "\n",
      "Epoch 2:   0%|          | 0/12396 [00:00<?, ?it/s, train_loss=0.0692]\u001b[A\u001b[A\n",
      "\n",
      "Epoch 2:   1%|          | 128/12396 [00:00<00:05, 2157.45it/s, train_loss=0.0692]\u001b[A\u001b[A\n",
      "\n",
      "Epoch 2:   2%|▏         | 256/12396 [00:00<00:05, 2148.37it/s, train_loss=0.0687]\u001b[A\u001b[A\n",
      "\n",
      "Epoch 2:   3%|▎         | 384/12396 [00:00<00:03, 3165.63it/s, train_loss=0.0687]\u001b[A\u001b[A\n",
      "\n",
      "Epoch 2:   3%|▎         | 384/12396 [00:00<00:03, 3165.63it/s, train_loss=0.0622]\u001b[A\u001b[A"
     ]
    },
    {
     "name": "stdout",
     "output_type": "stream",
     "text": [
      "Losses: train - 0.070, test = 0.053\n",
      "Test: accuracy - 0.980\n"
     ]
    },
    {
     "name": "stderr",
     "output_type": "stream",
     "text": [
      "\n",
      "\n",
      "Epoch 2:   4%|▍         | 512/12396 [00:00<00:03, 3165.63it/s, train_loss=0.0585]\u001b[A\u001b[A\n",
      "\n",
      "Epoch 2:   5%|▌         | 640/12396 [00:00<00:04, 2441.68it/s, train_loss=0.0585]\u001b[A\u001b[A\n",
      "\n",
      "Epoch 2:   5%|▌         | 640/12396 [00:00<00:04, 2441.68it/s, train_loss=0.057] \u001b[A\u001b[A\n",
      "\n",
      "Epoch 2:   6%|▌         | 768/12396 [00:00<00:04, 2441.68it/s, train_loss=0.0553]\u001b[A\u001b[A\n",
      "\n",
      "Epoch 2:   7%|▋         | 896/12396 [00:00<00:04, 2441.68it/s, train_loss=0.0542]\u001b[A\u001b[A\n",
      "\n",
      "Epoch 2:   8%|▊         | 1024/12396 [00:00<00:04, 2477.86it/s, train_loss=0.0542]\u001b[A\u001b[A\n",
      "\n",
      "Epoch 2:   8%|▊         | 1024/12396 [00:00<00:04, 2477.86it/s, train_loss=0.0543]\u001b[A\u001b[A\n",
      "\n",
      "Epoch 2:   9%|▉         | 1152/12396 [00:00<00:04, 2477.86it/s, train_loss=0.0543]\u001b[A\u001b[A\n",
      "\n",
      "Epoch 2:  10%|█         | 1280/12396 [00:00<00:05, 2162.27it/s, train_loss=0.0543]\u001b[A\u001b[A\n",
      "\n",
      "Epoch 2:  10%|█         | 1280/12396 [00:00<00:05, 2162.27it/s, train_loss=0.0536]\u001b[A\u001b[A\n",
      "\n",
      "Epoch 2:  11%|█▏        | 1408/12396 [00:00<00:05, 2162.27it/s, train_loss=0.0529]\u001b[A\u001b[A\n",
      "\n",
      "Epoch 2:  12%|█▏        | 1536/12396 [00:00<00:05, 1935.08it/s, train_loss=0.0529]\u001b[A\u001b[A\n",
      "\n",
      "Epoch 2:  12%|█▏        | 1536/12396 [00:00<00:05, 1935.08it/s, train_loss=0.0523]\u001b[A\u001b[A\n",
      "\n",
      "Epoch 2:  13%|█▎        | 1664/12396 [00:00<00:05, 1935.08it/s, train_loss=0.0515]\u001b[A\u001b[A\n",
      "\n",
      "Epoch 2:  14%|█▍        | 1792/12396 [00:00<00:05, 1935.08it/s, train_loss=0.0506]\u001b[A\u001b[A\n",
      "\n",
      "Epoch 2:  15%|█▌        | 1920/12396 [00:00<00:04, 2202.76it/s, train_loss=0.0506]\u001b[A\u001b[A\n",
      "\n",
      "Epoch 2:  15%|█▌        | 1920/12396 [00:00<00:04, 2202.76it/s, train_loss=0.05]  \u001b[A\u001b[A\n",
      "\n",
      "Epoch 2:  17%|█▋        | 2048/12396 [00:00<00:04, 2202.76it/s, train_loss=0.0497]\u001b[A\u001b[A\n",
      "\n",
      "Epoch 2:  18%|█▊        | 2176/12396 [00:01<00:04, 2110.69it/s, train_loss=0.0497]\u001b[A\u001b[A\n",
      "\n",
      "Epoch 2:  18%|█▊        | 2176/12396 [00:01<00:04, 2110.69it/s, train_loss=0.0498]\u001b[A\u001b[A\n",
      "\n",
      "Epoch 2:  19%|█▊        | 2304/12396 [00:01<00:04, 2110.69it/s, train_loss=0.0496]\u001b[A\u001b[A\n",
      "\n",
      "Epoch 2:  20%|█▉        | 2432/12396 [00:01<00:04, 2110.69it/s, train_loss=0.0492]\u001b[A\u001b[A\n",
      "\n",
      "Epoch 2:  21%|██        | 2560/12396 [00:01<00:04, 2278.67it/s, train_loss=0.0492]\u001b[A\u001b[A\n",
      "\n",
      "Epoch 2:  21%|██        | 2560/12396 [00:01<00:04, 2278.67it/s, train_loss=0.0491]\u001b[A\u001b[A\n",
      "\n",
      "Epoch 2:  22%|██▏       | 2688/12396 [00:01<00:04, 2278.67it/s, train_loss=0.0491]\u001b[A\u001b[A\n",
      "\n",
      "Epoch 2:  23%|██▎       | 2816/12396 [00:01<00:04, 2309.93it/s, train_loss=0.0491]\u001b[A\u001b[A\n",
      "\n",
      "Epoch 2:  23%|██▎       | 2816/12396 [00:01<00:04, 2309.93it/s, train_loss=0.0488]\u001b[A\u001b[A\n",
      "\n",
      "Epoch 2:  24%|██▎       | 2944/12396 [00:01<00:04, 2309.93it/s, train_loss=0.0484]\u001b[A\u001b[A\n",
      "\n",
      "Epoch 2:  25%|██▍       | 3072/12396 [00:01<00:04, 2271.98it/s, train_loss=0.0484]\u001b[A\u001b[A\n",
      "\n",
      "Epoch 2:  25%|██▍       | 3072/12396 [00:01<00:04, 2271.98it/s, train_loss=0.0472]\u001b[A\u001b[A\n",
      "\n",
      "Epoch 2:  26%|██▌       | 3200/12396 [00:01<00:04, 2271.98it/s, train_loss=0.0471]\u001b[A\u001b[A\n",
      "\n",
      "Epoch 2:  27%|██▋       | 3328/12396 [00:01<00:03, 2284.35it/s, train_loss=0.0471]\u001b[A\u001b[A\n",
      "\n",
      "Epoch 2:  27%|██▋       | 3328/12396 [00:01<00:03, 2284.35it/s, train_loss=0.0465]\u001b[A\u001b[A\n",
      "\n",
      "Epoch 2:  28%|██▊       | 3456/12396 [00:01<00:03, 2284.35it/s, train_loss=0.0466]\u001b[A\u001b[A\n",
      "\n",
      "Epoch 2:  29%|██▉       | 3584/12396 [00:01<00:03, 2317.23it/s, train_loss=0.0466]\u001b[A\u001b[A\n",
      "\n",
      "Epoch 2:  29%|██▉       | 3584/12396 [00:01<00:03, 2317.23it/s, train_loss=0.0457]\u001b[A\u001b[A\n",
      "\n",
      "Epoch 2:  30%|██▉       | 3712/12396 [00:01<00:03, 2317.23it/s, train_loss=0.0452]\u001b[A\u001b[A\n",
      "\n",
      "Epoch 2:  31%|███       | 3840/12396 [00:01<00:03, 2288.08it/s, train_loss=0.0452]\u001b[A\u001b[A\n",
      "\n",
      "Epoch 2:  31%|███       | 3840/12396 [00:01<00:03, 2288.08it/s, train_loss=0.0444]\u001b[A\u001b[A\n",
      "\n",
      "Epoch 2:  32%|███▏      | 3968/12396 [00:01<00:03, 2288.08it/s, train_loss=0.0443]\u001b[A\u001b[A\n",
      "\n",
      "Epoch 2:  33%|███▎      | 4096/12396 [00:01<00:03, 2343.05it/s, train_loss=0.0443]\u001b[A\u001b[A\n",
      "\n",
      "Epoch 2:  33%|███▎      | 4096/12396 [00:01<00:03, 2343.05it/s, train_loss=0.0442]\u001b[A\u001b[A\n",
      "\n",
      "Epoch 2:  34%|███▍      | 4224/12396 [00:01<00:03, 2343.05it/s, train_loss=0.0446]\u001b[A\u001b[A\n",
      "\n",
      "Epoch 2:  35%|███▌      | 4352/12396 [00:01<00:03, 2343.05it/s, train_loss=0.0445]\u001b[A\u001b[A\n",
      "\n",
      "Epoch 2:  36%|███▌      | 4480/12396 [00:01<00:03, 2320.08it/s, train_loss=0.0445]\u001b[A\u001b[A\n",
      "\n",
      "Epoch 2:  36%|███▌      | 4480/12396 [00:02<00:03, 2320.08it/s, train_loss=0.0443]\u001b[A\u001b[A\n",
      "\n",
      "Epoch 2:  37%|███▋      | 4608/12396 [00:02<00:03, 2320.08it/s, train_loss=0.0442]\u001b[A\u001b[A\n",
      "\n",
      "Epoch 2:  38%|███▊      | 4736/12396 [00:02<00:03, 2320.08it/s, train_loss=0.0445]\u001b[A\u001b[A\n",
      "\n",
      "Epoch 2:  39%|███▉      | 4864/12396 [00:02<00:03, 2494.53it/s, train_loss=0.0445]\u001b[A\u001b[A\n",
      "\n",
      "Epoch 2:  39%|███▉      | 4864/12396 [00:02<00:03, 2494.53it/s, train_loss=0.0444]\u001b[A\u001b[A\n",
      "\n",
      "Epoch 2:  40%|████      | 4992/12396 [00:02<00:02, 2494.53it/s, train_loss=0.0445]\u001b[A\u001b[A\n",
      "\n",
      "Epoch 2:  41%|████▏     | 5120/12396 [00:02<00:03, 2350.06it/s, train_loss=0.0445]\u001b[A\u001b[A\n",
      "\n",
      "Epoch 2:  41%|████▏     | 5120/12396 [00:02<00:03, 2350.06it/s, train_loss=0.0434]\u001b[A\u001b[A\n",
      "\n",
      "Epoch 2:  42%|████▏     | 5248/12396 [00:02<00:03, 2350.06it/s, train_loss=0.0424]\u001b[A\u001b[A\n",
      "\n",
      "Epoch 2:  43%|████▎     | 5376/12396 [00:02<00:03, 2126.56it/s, train_loss=0.0424]\u001b[A\u001b[A\n",
      "\n",
      "Epoch 2:  43%|████▎     | 5376/12396 [00:02<00:03, 2126.56it/s, train_loss=0.0421]\u001b[A\u001b[A\n",
      "\n",
      "Epoch 2:  44%|████▍     | 5504/12396 [00:02<00:03, 2126.56it/s, train_loss=0.0419]\u001b[A\u001b[A\n",
      "\n",
      "Epoch 2:  45%|████▌     | 5632/12396 [00:02<00:03, 2126.56it/s, train_loss=0.0418]\u001b[A\u001b[A\n",
      "\n",
      "Epoch 2:  46%|████▋     | 5760/12396 [00:02<00:02, 2298.20it/s, train_loss=0.0418]\u001b[A\u001b[A\n",
      "\n",
      "Epoch 2:  46%|████▋     | 5760/12396 [00:02<00:02, 2298.20it/s, train_loss=0.0415]\u001b[A\u001b[A\n",
      "\n",
      "Epoch 2:  47%|████▋     | 5888/12396 [00:02<00:02, 2298.20it/s, train_loss=0.0415]\u001b[A\u001b[A\n",
      "\n",
      "Epoch 2:  49%|████▊     | 6016/12396 [00:02<00:02, 2272.12it/s, train_loss=0.0415]\u001b[A\u001b[A\n",
      "\n",
      "Epoch 2:  49%|████▊     | 6016/12396 [00:02<00:02, 2272.12it/s, train_loss=0.0414]\u001b[A\u001b[A\n",
      "\n",
      "Epoch 2:  50%|████▉     | 6144/12396 [00:02<00:02, 2272.12it/s, train_loss=0.0413]\u001b[A\u001b[A\n",
      "\n",
      "Epoch 2:  51%|█████     | 6272/12396 [00:02<00:03, 2013.49it/s, train_loss=0.0413]\u001b[A\u001b[A\n",
      "\n",
      "Epoch 2:  51%|█████     | 6272/12396 [00:02<00:03, 2013.49it/s, train_loss=0.04]  \u001b[A\u001b[A\n",
      "\n",
      "Epoch 2:  52%|█████▏    | 6400/12396 [00:02<00:02, 2013.49it/s, train_loss=0.0398]\u001b[A\u001b[A\n",
      "\n",
      "Epoch 2:  53%|█████▎    | 6528/12396 [00:02<00:02, 2013.58it/s, train_loss=0.0398]\u001b[A\u001b[A\n",
      "\n",
      "Epoch 2:  53%|█████▎    | 6528/12396 [00:02<00:02, 2013.58it/s, train_loss=0.0393]\u001b[A\u001b[A\n",
      "\n",
      "Epoch 2:  54%|█████▎    | 6656/12396 [00:03<00:02, 2013.58it/s, train_loss=0.0381]\u001b[A\u001b[A\n",
      "\n",
      "Epoch 2:  55%|█████▍    | 6784/12396 [00:03<00:02, 2047.92it/s, train_loss=0.0381]\u001b[A\u001b[A\n",
      "\n",
      "Epoch 2:  55%|█████▍    | 6784/12396 [00:03<00:02, 2047.92it/s, train_loss=0.0382]\u001b[A\u001b[A\n",
      "\n",
      "Epoch 2:  56%|█████▌    | 6912/12396 [00:03<00:02, 2047.92it/s, train_loss=0.0383]\u001b[A\u001b[A\n",
      "\n",
      "Epoch 2:  57%|█████▋    | 7040/12396 [00:03<00:02, 1945.68it/s, train_loss=0.0383]\u001b[A\u001b[A\n",
      "\n",
      "Epoch 2:  57%|█████▋    | 7040/12396 [00:03<00:02, 1945.68it/s, train_loss=0.0381]\u001b[A\u001b[A\n",
      "\n",
      "Epoch 2:  58%|█████▊    | 7168/12396 [00:03<00:02, 1945.68it/s, train_loss=0.0379]\u001b[A\u001b[A\n",
      "\n",
      "Epoch 2:  59%|█████▉    | 7296/12396 [00:03<00:02, 1957.11it/s, train_loss=0.0379]\u001b[A\u001b[A\n",
      "\n",
      "Epoch 2:  59%|█████▉    | 7296/12396 [00:03<00:02, 1957.11it/s, train_loss=0.0375]\u001b[A\u001b[A\n",
      "\n",
      "Epoch 2:  60%|█████▉    | 7424/12396 [00:03<00:02, 1957.11it/s, train_loss=0.0376]\u001b[A\u001b[A\n",
      "\n",
      "Epoch 2:  61%|██████    | 7552/12396 [00:03<00:02, 1938.17it/s, train_loss=0.0376]\u001b[A\u001b[A\n",
      "\n",
      "Epoch 2:  61%|██████    | 7552/12396 [00:03<00:02, 1938.17it/s, train_loss=0.0369]\u001b[A\u001b[A\n",
      "\n",
      "Epoch 2:  62%|██████▏   | 7680/12396 [00:03<00:02, 1938.17it/s, train_loss=0.0372]\u001b[A\u001b[A\n",
      "\n",
      "Epoch 2:  63%|██████▎   | 7808/12396 [00:03<00:02, 1740.18it/s, train_loss=0.0372]\u001b[A\u001b[A\n",
      "\n",
      "Epoch 2:  63%|██████▎   | 7808/12396 [00:03<00:02, 1740.18it/s, train_loss=0.0369]\u001b[A\u001b[A\n",
      "\n",
      "Epoch 2:  64%|██████▍   | 7936/12396 [00:03<00:02, 1740.18it/s, train_loss=0.0367]\u001b[A\u001b[A\n",
      "\n",
      "Epoch 2:  65%|██████▌   | 8064/12396 [00:03<00:02, 1795.35it/s, train_loss=0.0367]\u001b[A\u001b[A\n",
      "\n",
      "Epoch 2:  65%|██████▌   | 8064/12396 [00:03<00:02, 1795.35it/s, train_loss=0.0361]\u001b[A\u001b[A\n",
      "\n",
      "Epoch 2:  66%|██████▌   | 8192/12396 [00:03<00:02, 1795.35it/s, train_loss=0.0359]\u001b[A\u001b[A\n",
      "\n",
      "Epoch 2:  67%|██████▋   | 8320/12396 [00:03<00:02, 1729.23it/s, train_loss=0.0359]\u001b[A\u001b[A\n",
      "\n",
      "Epoch 2:  67%|██████▋   | 8320/12396 [00:04<00:02, 1729.23it/s, train_loss=0.0355]\u001b[A\u001b[A\n",
      "\n",
      "Epoch 2:  68%|██████▊   | 8448/12396 [00:04<00:02, 1729.23it/s, train_loss=0.0356]\u001b[A\u001b[A\n",
      "\n"
     ]
    },
    {
     "name": "stderr",
     "output_type": "stream",
     "text": [
      "Epoch 2:  69%|██████▉   | 8576/12396 [00:04<00:02, 1698.37it/s, train_loss=0.0356]\u001b[A\u001b[A\n",
      "\n",
      "Epoch 2:  69%|██████▉   | 8576/12396 [00:04<00:02, 1698.37it/s, train_loss=0.0358]\u001b[A\u001b[A\n",
      "\n",
      "Epoch 2:  70%|███████   | 8704/12396 [00:04<00:02, 1698.37it/s, train_loss=0.0359]\u001b[A\u001b[A\n",
      "\n",
      "Epoch 2:  71%|███████   | 8832/12396 [00:04<00:02, 1705.13it/s, train_loss=0.0359]\u001b[A\u001b[A\n",
      "\n",
      "Epoch 2:  71%|███████   | 8832/12396 [00:04<00:02, 1705.13it/s, train_loss=0.0359]\u001b[A\u001b[A\n",
      "\n",
      "Epoch 2:  72%|███████▏  | 8960/12396 [00:04<00:02, 1705.13it/s, train_loss=0.0358]\u001b[A\u001b[A\n",
      "\n",
      "Epoch 2:  73%|███████▎  | 9088/12396 [00:04<00:01, 1761.31it/s, train_loss=0.0358]\u001b[A\u001b[A\n",
      "\n",
      "Epoch 2:  73%|███████▎  | 9088/12396 [00:04<00:01, 1761.31it/s, train_loss=0.0352]\u001b[A\u001b[A\n",
      "\n",
      "Epoch 2:  74%|███████▍  | 9216/12396 [00:04<00:01, 1761.31it/s, train_loss=0.0349]\u001b[A\u001b[A\n",
      "\n",
      "Epoch 2:  75%|███████▌  | 9344/12396 [00:04<00:01, 1761.31it/s, train_loss=0.035] \u001b[A\u001b[A\n",
      "\n",
      "Epoch 2:  76%|███████▋  | 9472/12396 [00:04<00:01, 1977.81it/s, train_loss=0.035]\u001b[A\u001b[A\n",
      "\n",
      "Epoch 2:  76%|███████▋  | 9472/12396 [00:04<00:01, 1977.81it/s, train_loss=0.0349]\u001b[A\u001b[A\n",
      "\n",
      "Epoch 2:  77%|███████▋  | 9600/12396 [00:04<00:01, 1977.81it/s, train_loss=0.0346]\u001b[A\u001b[A\n",
      "\n",
      "Epoch 2:  78%|███████▊  | 9728/12396 [00:04<00:01, 2097.57it/s, train_loss=0.0346]\u001b[A\u001b[A\n",
      "\n",
      "Epoch 2:  78%|███████▊  | 9728/12396 [00:04<00:01, 2097.57it/s, train_loss=0.0343]\u001b[A\u001b[A\n",
      "\n",
      "Epoch 2:  80%|███████▉  | 9856/12396 [00:04<00:01, 2097.57it/s, train_loss=0.0337]\u001b[A\u001b[A\n",
      "\n",
      "Epoch 2:  81%|████████  | 9984/12396 [00:04<00:01, 2097.57it/s, train_loss=0.0335]\u001b[A\u001b[A\n",
      "\n",
      "Epoch 2:  82%|████████▏ | 10112/12396 [00:04<00:01, 2155.52it/s, train_loss=0.0335]\u001b[A\u001b[A\n",
      "\n",
      "Epoch 2:  82%|████████▏ | 10112/12396 [00:04<00:01, 2155.52it/s, train_loss=0.0328]\u001b[A\u001b[A\n",
      "\n",
      "Epoch 2:  83%|████████▎ | 10240/12396 [00:04<00:01, 2155.52it/s, train_loss=0.0327]\u001b[A\u001b[A\n",
      "\n",
      "Epoch 2:  84%|████████▎ | 10368/12396 [00:04<00:01, 1923.28it/s, train_loss=0.0327]\u001b[A\u001b[A\n",
      "\n",
      "Epoch 2:  84%|████████▎ | 10368/12396 [00:04<00:01, 1923.28it/s, train_loss=0.0331]\u001b[A\u001b[A\n",
      "\n",
      "Epoch 2:  85%|████████▍ | 10496/12396 [00:05<00:00, 1923.28it/s, train_loss=0.0327]\u001b[A\u001b[A\n",
      "\n",
      "Epoch 2:  86%|████████▌ | 10624/12396 [00:05<00:00, 2049.86it/s, train_loss=0.0327]\u001b[A\u001b[A\n",
      "\n",
      "Epoch 2:  86%|████████▌ | 10624/12396 [00:05<00:00, 2049.86it/s, train_loss=0.0323]\u001b[A\u001b[A\n",
      "\n",
      "Epoch 2:  87%|████████▋ | 10752/12396 [00:05<00:00, 2049.86it/s, train_loss=0.0316]\u001b[A\u001b[A\n",
      "\n",
      "Epoch 2:  88%|████████▊ | 10880/12396 [00:05<00:00, 1861.61it/s, train_loss=0.0316]\u001b[A\u001b[A\n",
      "\n",
      "Epoch 2:  88%|████████▊ | 10880/12396 [00:05<00:00, 1861.61it/s, train_loss=0.0314]\u001b[A\u001b[A\n",
      "\n",
      "Epoch 2:  89%|████████▉ | 11008/12396 [00:05<00:00, 1861.61it/s, train_loss=0.0307]\u001b[A\u001b[A\n",
      "\n",
      "Epoch 2:  90%|████████▉ | 11136/12396 [00:05<00:00, 1833.10it/s, train_loss=0.0307]\u001b[A\u001b[A\n",
      "\n",
      "Epoch 2:  90%|████████▉ | 11136/12396 [00:05<00:00, 1833.10it/s, train_loss=0.0307]\u001b[A\u001b[A\n",
      "\n",
      "Epoch 2:  91%|█████████ | 11264/12396 [00:05<00:00, 1833.10it/s, train_loss=0.0301]\u001b[A\u001b[A\n",
      "\n",
      "Epoch 2:  92%|█████████▏| 11392/12396 [00:05<00:00, 1833.10it/s, train_loss=0.0298]\u001b[A\u001b[A\n",
      "\n",
      "Epoch 2:  93%|█████████▎| 11520/12396 [00:05<00:00, 1986.23it/s, train_loss=0.0298]\u001b[A\u001b[A\n",
      "\n",
      "Epoch 2:  93%|█████████▎| 11520/12396 [00:05<00:00, 1986.23it/s, train_loss=0.0292]\u001b[A\u001b[A\n",
      "\n",
      "Epoch 2:  94%|█████████▍| 11648/12396 [00:05<00:00, 1986.23it/s, train_loss=0.0292]\u001b[A\u001b[A\n",
      "\n",
      "Epoch 2:  95%|█████████▍| 11776/12396 [00:05<00:00, 1853.87it/s, train_loss=0.0292]\u001b[A\u001b[A\n",
      "\n",
      "Epoch 2:  95%|█████████▍| 11776/12396 [00:05<00:00, 1853.87it/s, train_loss=0.0292]\u001b[A\u001b[A\n",
      "\n",
      "Epoch 2:  96%|█████████▌| 11904/12396 [00:05<00:00, 1853.87it/s, train_loss=0.0293]\u001b[A\u001b[A\n",
      "\n",
      "Epoch 2:  97%|█████████▋| 12032/12396 [00:05<00:00, 1960.38it/s, train_loss=0.0293]\u001b[A\u001b[A\n",
      "\n",
      "Epoch 2:  97%|█████████▋| 12032/12396 [00:05<00:00, 1960.38it/s, train_loss=0.0296]\u001b[A\u001b[A\n",
      "\n",
      "Epoch 2:  98%|█████████▊| 12160/12396 [00:05<00:00, 1960.38it/s, train_loss=0.0285]\u001b[A\u001b[A\n",
      "\n",
      "Epoch 2:  99%|█████████▉| 12288/12396 [00:05<00:00, 1856.26it/s, train_loss=0.0285]\u001b[A\u001b[A\n",
      "\n",
      "Epoch 2:  99%|█████████▉| 12288/12396 [00:05<00:00, 1856.26it/s, train_loss=0.0284]\u001b[A\u001b[A\n",
      "\n",
      "Epoch 2: 100%|██████████| 12396/12396 [00:06<00:00, 2063.20it/s, train_loss=0.0284]\u001b[A\u001b[A\n",
      "\n",
      "Epoch 3:   0%|          | 0/12396 [00:00<?, ?it/s]\u001b[A\u001b[A\n",
      "\n",
      "Epoch 3:   0%|          | 0/12396 [00:00<?, ?it/s, train_loss=0.0277]\u001b[A\u001b[A\n",
      "\n",
      "Epoch 3:   1%|          | 128/12396 [00:00<00:05, 2135.35it/s, train_loss=0.0276]\u001b[A\u001b[A\n",
      "\n",
      "Epoch 3:   2%|▏         | 256/12396 [00:00<00:05, 2203.27it/s, train_loss=0.027] \u001b[A\u001b[A\n",
      "\n",
      "Epoch 3:   3%|▎         | 384/12396 [00:00<00:04, 2962.65it/s, train_loss=0.027]\u001b[A\u001b[A\n",
      "\n",
      "Epoch 3:   3%|▎         | 384/12396 [00:00<00:04, 2962.65it/s, train_loss=0.0268]\u001b[A\u001b[A"
     ]
    },
    {
     "name": "stdout",
     "output_type": "stream",
     "text": [
      "Losses: train - 0.027, test = 0.035\n",
      "Test: accuracy - 0.989\n"
     ]
    },
    {
     "name": "stderr",
     "output_type": "stream",
     "text": [
      "\n",
      "\n",
      "Epoch 3:   4%|▍         | 512/12396 [00:00<00:04, 2962.65it/s, train_loss=0.0265]\u001b[A\u001b[A\n",
      "\n",
      "Epoch 3:   5%|▌         | 640/12396 [00:00<00:04, 2508.20it/s, train_loss=0.0265]\u001b[A\u001b[A\n",
      "\n",
      "Epoch 3:   5%|▌         | 640/12396 [00:00<00:04, 2508.20it/s, train_loss=0.0263]\u001b[A\u001b[A\n",
      "\n",
      "Epoch 3:   6%|▌         | 768/12396 [00:00<00:06, 1827.31it/s, train_loss=0.0263]\u001b[A\u001b[A\n",
      "\n",
      "Epoch 3:   6%|▌         | 768/12396 [00:00<00:06, 1827.31it/s, train_loss=0.0271]\u001b[A\u001b[A\n",
      "\n",
      "Epoch 3:   7%|▋         | 896/12396 [00:00<00:06, 1827.31it/s, train_loss=0.0264]\u001b[A\u001b[A\n",
      "\n",
      "Epoch 3:   8%|▊         | 1024/12396 [00:00<00:05, 1899.40it/s, train_loss=0.0264]\u001b[A\u001b[A\n",
      "\n",
      "Epoch 3:   8%|▊         | 1024/12396 [00:00<00:05, 1899.40it/s, train_loss=0.0255]\u001b[A\u001b[A\n",
      "\n",
      "Epoch 3:   9%|▉         | 1152/12396 [00:00<00:05, 1899.40it/s, train_loss=0.0252]\u001b[A\u001b[A\n",
      "\n",
      "Epoch 3:  10%|█         | 1280/12396 [00:00<00:05, 1899.40it/s, train_loss=0.0252]\u001b[A\u001b[A\n",
      "\n",
      "Epoch 3:  11%|█▏        | 1408/12396 [00:00<00:05, 2111.66it/s, train_loss=0.0252]\u001b[A\u001b[A\n",
      "\n",
      "Epoch 3:  11%|█▏        | 1408/12396 [00:00<00:05, 2111.66it/s, train_loss=0.0246]\u001b[A\u001b[A\n",
      "\n",
      "Epoch 3:  12%|█▏        | 1536/12396 [00:00<00:05, 2111.66it/s, train_loss=0.0239]\u001b[A\u001b[A\n",
      "\n",
      "Epoch 3:  13%|█▎        | 1664/12396 [00:00<00:05, 2111.66it/s, train_loss=0.0238]\u001b[A\u001b[A\n",
      "\n",
      "Epoch 3:  14%|█▍        | 1792/12396 [00:00<00:04, 2383.08it/s, train_loss=0.0238]\u001b[A\u001b[A\n",
      "\n",
      "Epoch 3:  14%|█▍        | 1792/12396 [00:00<00:04, 2383.08it/s, train_loss=0.0237]\u001b[A\u001b[A\n",
      "\n",
      "Epoch 3:  15%|█▌        | 1920/12396 [00:00<00:04, 2383.08it/s, train_loss=0.0237]\u001b[A\u001b[A\n",
      "\n",
      "Epoch 3:  17%|█▋        | 2048/12396 [00:00<00:04, 2383.08it/s, train_loss=0.0237]\u001b[A\u001b[A\n",
      "\n",
      "Epoch 3:  18%|█▊        | 2176/12396 [00:00<00:03, 2609.63it/s, train_loss=0.0237]\u001b[A\u001b[A\n",
      "\n",
      "Epoch 3:  18%|█▊        | 2176/12396 [00:00<00:03, 2609.63it/s, train_loss=0.0235]\u001b[A\u001b[A\n",
      "\n",
      "Epoch 3:  19%|█▊        | 2304/12396 [00:00<00:03, 2609.63it/s, train_loss=0.0235]\u001b[A\u001b[A\n",
      "\n",
      "Epoch 3:  20%|█▉        | 2432/12396 [00:00<00:03, 2609.63it/s, train_loss=0.023] \u001b[A\u001b[A\n",
      "\n",
      "Epoch 3:  21%|██        | 2560/12396 [00:00<00:03, 2805.76it/s, train_loss=0.023]\u001b[A\u001b[A\n",
      "\n",
      "Epoch 3:  21%|██        | 2560/12396 [00:01<00:03, 2805.76it/s, train_loss=0.0229]\u001b[A\u001b[A\n",
      "\n",
      "Epoch 3:  22%|██▏       | 2688/12396 [00:01<00:03, 2805.76it/s, train_loss=0.0233]\u001b[A\u001b[A\n",
      "\n",
      "Epoch 3:  23%|██▎       | 2816/12396 [00:01<00:03, 2805.76it/s, train_loss=0.0232]\u001b[A\u001b[A\n",
      "\n",
      "Epoch 3:  24%|██▎       | 2944/12396 [00:01<00:03, 2925.62it/s, train_loss=0.0232]\u001b[A\u001b[A\n",
      "\n",
      "Epoch 3:  24%|██▎       | 2944/12396 [00:01<00:03, 2925.62it/s, train_loss=0.0232]\u001b[A\u001b[A\n",
      "\n",
      "Epoch 3:  25%|██▍       | 3072/12396 [00:01<00:03, 2925.62it/s, train_loss=0.0231]\u001b[A\u001b[A\n",
      "\n",
      "Epoch 3:  26%|██▌       | 3200/12396 [00:01<00:03, 2925.62it/s, train_loss=0.023] \u001b[A\u001b[A\n",
      "\n",
      "Epoch 3:  27%|██▋       | 3328/12396 [00:01<00:03, 2924.32it/s, train_loss=0.023]\u001b[A\u001b[A\n",
      "\n",
      "Epoch 3:  27%|██▋       | 3328/12396 [00:01<00:03, 2924.32it/s, train_loss=0.0228]\u001b[A\u001b[A\n",
      "\n",
      "Epoch 3:  28%|██▊       | 3456/12396 [00:01<00:03, 2924.32it/s, train_loss=0.0225]\u001b[A\u001b[A\n",
      "\n",
      "Epoch 3:  29%|██▉       | 3584/12396 [00:01<00:03, 2924.32it/s, train_loss=0.0223]\u001b[A\u001b[A\n",
      "\n",
      "Epoch 3:  30%|██▉       | 3712/12396 [00:01<00:02, 2923.02it/s, train_loss=0.0223]\u001b[A\u001b[A\n",
      "\n",
      "Epoch 3:  30%|██▉       | 3712/12396 [00:01<00:02, 2923.02it/s, train_loss=0.0224]\u001b[A\u001b[A\n",
      "\n",
      "Epoch 3:  31%|███       | 3840/12396 [00:01<00:02, 2923.02it/s, train_loss=0.0223]\u001b[A\u001b[A\n",
      "\n",
      "Epoch 3:  32%|███▏      | 3968/12396 [00:01<00:02, 2923.02it/s, train_loss=0.0223]\u001b[A\u001b[A\n",
      "\n",
      "Epoch 3:  33%|███▎      | 4096/12396 [00:01<00:03, 2763.82it/s, train_loss=0.0223]\u001b[A\u001b[A\n",
      "\n",
      "Epoch 3:  33%|███▎      | 4096/12396 [00:01<00:03, 2763.82it/s, train_loss=0.0224]\u001b[A\u001b[A\n",
      "\n",
      "Epoch 3:  34%|███▍      | 4224/12396 [00:01<00:02, 2763.82it/s, train_loss=0.0225]\u001b[A\u001b[A\n",
      "\n",
      "Epoch 3:  35%|███▌      | 4352/12396 [00:01<00:02, 2763.82it/s, train_loss=0.0223]\u001b[A\u001b[A\n",
      "\n",
      "Epoch 3:  36%|███▌      | 4480/12396 [00:01<00:02, 2779.34it/s, train_loss=0.0223]\u001b[A\u001b[A\n",
      "\n",
      "Epoch 3:  36%|███▌      | 4480/12396 [00:01<00:02, 2779.34it/s, train_loss=0.0223]\u001b[A\u001b[A\n",
      "\n",
      "Epoch 3:  37%|███▋      | 4608/12396 [00:01<00:02, 2779.34it/s, train_loss=0.0216]\u001b[A\u001b[A\n",
      "\n",
      "Epoch 3:  38%|███▊      | 4736/12396 [00:01<00:02, 2779.34it/s, train_loss=0.0215]\u001b[A\u001b[A\n",
      "\n",
      "Epoch 3:  39%|███▉      | 4864/12396 [00:01<00:02, 2728.19it/s, train_loss=0.0215]\u001b[A\u001b[A\n",
      "\n",
      "Epoch 3:  39%|███▉      | 4864/12396 [00:01<00:02, 2728.19it/s, train_loss=0.0215]\u001b[A\u001b[A\n",
      "\n",
      "Epoch 3:  40%|████      | 4992/12396 [00:01<00:02, 2728.19it/s, train_loss=0.0215]\u001b[A\u001b[A\n",
      "\n",
      "Epoch 3:  41%|████▏     | 5120/12396 [00:01<00:02, 2728.19it/s, train_loss=0.0212]\u001b[A\u001b[A\n",
      "\n",
      "Epoch 3:  42%|████▏     | 5248/12396 [00:01<00:02, 2899.86it/s, train_loss=0.0212]\u001b[A\u001b[A\n",
      "\n",
      "Epoch 3:  42%|████▏     | 5248/12396 [00:01<00:02, 2899.86it/s, train_loss=0.0211]\u001b[A\u001b[A\n",
      "\n",
      "Epoch 3:  43%|████▎     | 5376/12396 [00:01<00:02, 2899.86it/s, train_loss=0.0209]\u001b[A\u001b[A\n",
      "\n",
      "Epoch 3:  44%|████▍     | 5504/12396 [00:02<00:02, 2899.86it/s, train_loss=0.0209]\u001b[A\u001b[A\n",
      "\n",
      "Epoch 3:  45%|████▌     | 5632/12396 [00:02<00:02, 2923.82it/s, train_loss=0.0209]\u001b[A\u001b[A\n",
      "\n",
      "Epoch 3:  45%|████▌     | 5632/12396 [00:02<00:02, 2923.82it/s, train_loss=0.0204]\u001b[A\u001b[A\n",
      "\n",
      "Epoch 3:  46%|████▋     | 5760/12396 [00:02<00:02, 2923.82it/s, train_loss=0.0201]\u001b[A\u001b[A\n",
      "\n",
      "Epoch 3:  47%|████▋     | 5888/12396 [00:02<00:02, 2923.82it/s, train_loss=0.0201]\u001b[A\u001b[A\n",
      "\n",
      "Epoch 3:  49%|████▊     | 6016/12396 [00:02<00:02, 2788.48it/s, train_loss=0.0201]\u001b[A\u001b[A\n",
      "\n",
      "Epoch 3:  49%|████▊     | 6016/12396 [00:02<00:02, 2788.48it/s, train_loss=0.0202]\u001b[A\u001b[A\n",
      "\n",
      "Epoch 3:  50%|████▉     | 6144/12396 [00:02<00:02, 2788.48it/s, train_loss=0.0202]\u001b[A\u001b[A\n",
      "\n",
      "Epoch 3:  51%|█████     | 6272/12396 [00:02<00:02, 2788.48it/s, train_loss=0.0193]\u001b[A\u001b[A\n",
      "\n",
      "Epoch 3:  52%|█████▏    | 6400/12396 [00:02<00:02, 2944.24it/s, train_loss=0.0193]\u001b[A\u001b[A\n",
      "\n",
      "Epoch 3:  52%|█████▏    | 6400/12396 [00:02<00:02, 2944.24it/s, train_loss=0.0192]\u001b[A\u001b[A\n",
      "\n",
      "Epoch 3:  53%|█████▎    | 6528/12396 [00:02<00:01, 2944.24it/s, train_loss=0.0191]\u001b[A\u001b[A\n",
      "\n",
      "Epoch 3:  54%|█████▎    | 6656/12396 [00:02<00:01, 2944.24it/s, train_loss=0.0191]\u001b[A\u001b[A\n",
      "\n",
      "Epoch 3:  55%|█████▍    | 6784/12396 [00:02<00:01, 2830.71it/s, train_loss=0.0191]\u001b[A\u001b[A\n",
      "\n",
      "Epoch 3:  55%|█████▍    | 6784/12396 [00:02<00:01, 2830.71it/s, train_loss=0.0194]\u001b[A\u001b[A\n",
      "\n",
      "Epoch 3:  56%|█████▌    | 6912/12396 [00:02<00:01, 2830.71it/s, train_loss=0.0193]\u001b[A\u001b[A\n",
      "\n",
      "Epoch 3:  57%|█████▋    | 7040/12396 [00:02<00:01, 2830.71it/s, train_loss=0.0194]\u001b[A\u001b[A\n",
      "\n",
      "Epoch 3:  58%|█████▊    | 7168/12396 [00:02<00:01, 2795.74it/s, train_loss=0.0194]\u001b[A\u001b[A\n",
      "\n",
      "Epoch 3:  58%|█████▊    | 7168/12396 [00:02<00:01, 2795.74it/s, train_loss=0.0189]\u001b[A\u001b[A\n",
      "\n",
      "Epoch 3:  59%|█████▉    | 7296/12396 [00:02<00:01, 2795.74it/s, train_loss=0.0188]\u001b[A\u001b[A\n",
      "\n",
      "Epoch 3:  60%|█████▉    | 7424/12396 [00:02<00:01, 2795.74it/s, train_loss=0.019] \u001b[A\u001b[A\n",
      "\n",
      "Epoch 3:  61%|██████    | 7552/12396 [00:02<00:01, 2772.67it/s, train_loss=0.019]\u001b[A\u001b[A\n",
      "\n",
      "Epoch 3:  61%|██████    | 7552/12396 [00:02<00:01, 2772.67it/s, train_loss=0.0187]\u001b[A\u001b[A\n",
      "\n",
      "Epoch 3:  62%|██████▏   | 7680/12396 [00:02<00:01, 2772.67it/s, train_loss=0.0183]\u001b[A\u001b[A\n",
      "\n",
      "Epoch 3:  63%|██████▎   | 7808/12396 [00:02<00:01, 2772.67it/s, train_loss=0.0182]\u001b[A\u001b[A\n",
      "\n",
      "Epoch 3:  64%|██████▍   | 7936/12396 [00:02<00:01, 2702.98it/s, train_loss=0.0182]\u001b[A\u001b[A\n",
      "\n",
      "Epoch 3:  64%|██████▍   | 7936/12396 [00:02<00:01, 2702.98it/s, train_loss=0.0182]\u001b[A\u001b[A\n",
      "\n",
      "Epoch 3:  65%|██████▌   | 8064/12396 [00:02<00:01, 2702.98it/s, train_loss=0.0181]\u001b[A\u001b[A\n",
      "\n",
      "Epoch 3:  66%|██████▌   | 8192/12396 [00:03<00:01, 2702.98it/s, train_loss=0.018] \u001b[A\u001b[A\n",
      "\n",
      "Epoch 3:  67%|██████▋   | 8320/12396 [00:03<00:01, 2652.37it/s, train_loss=0.018]\u001b[A\u001b[A\n",
      "\n",
      "Epoch 3:  67%|██████▋   | 8320/12396 [00:03<00:01, 2652.37it/s, train_loss=0.0179]\u001b[A\u001b[A\n",
      "\n",
      "Epoch 3:  68%|██████▊   | 8448/12396 [00:03<00:01, 2652.37it/s, train_loss=0.0178]\u001b[A\u001b[A\n",
      "\n",
      "Epoch 3:  69%|██████▉   | 8576/12396 [00:03<00:01, 2652.37it/s, train_loss=0.0181]\u001b[A\u001b[A\n",
      "\n",
      "Epoch 3:  70%|███████   | 8704/12396 [00:03<00:01, 2345.78it/s, train_loss=0.0181]\u001b[A\u001b[A\n",
      "\n",
      "Epoch 3:  70%|███████   | 8704/12396 [00:03<00:01, 2345.78it/s, train_loss=0.0183]\u001b[A\u001b[A\n",
      "\n",
      "Epoch 3:  71%|███████   | 8832/12396 [00:03<00:01, 2345.78it/s, train_loss=0.0179]\u001b[A\u001b[A\n",
      "\n",
      "Epoch 3:  72%|███████▏  | 8960/12396 [00:03<00:01, 2144.87it/s, train_loss=0.0179]\u001b[A\u001b[A\n",
      "\n",
      "Epoch 3:  72%|███████▏  | 8960/12396 [00:03<00:01, 2144.87it/s, train_loss=0.0176]\u001b[A\u001b[A\n",
      "\n"
     ]
    },
    {
     "name": "stderr",
     "output_type": "stream",
     "text": [
      "Epoch 3:  73%|███████▎  | 9088/12396 [00:03<00:01, 2144.87it/s, train_loss=0.0173]\u001b[A\u001b[A\n",
      "\n",
      "Epoch 3:  74%|███████▍  | 9216/12396 [00:03<00:01, 1969.26it/s, train_loss=0.0173]\u001b[A\u001b[A\n",
      "\n",
      "Epoch 3:  74%|███████▍  | 9216/12396 [00:03<00:01, 1969.26it/s, train_loss=0.0173]\u001b[A\u001b[A\n",
      "\n",
      "Epoch 3:  75%|███████▌  | 9344/12396 [00:03<00:01, 1969.26it/s, train_loss=0.0173]\u001b[A\u001b[A\n",
      "\n",
      "Epoch 3:  76%|███████▋  | 9472/12396 [00:03<00:01, 1892.53it/s, train_loss=0.0173]\u001b[A\u001b[A\n",
      "\n",
      "Epoch 3:  76%|███████▋  | 9472/12396 [00:03<00:01, 1892.53it/s, train_loss=0.0174]\u001b[A\u001b[A\n",
      "\n",
      "Epoch 3:  77%|███████▋  | 9600/12396 [00:03<00:01, 1892.53it/s, train_loss=0.0173]\u001b[A\u001b[A\n",
      "\n",
      "Epoch 3:  78%|███████▊  | 9728/12396 [00:03<00:01, 1915.41it/s, train_loss=0.0173]\u001b[A\u001b[A\n",
      "\n",
      "Epoch 3:  78%|███████▊  | 9728/12396 [00:03<00:01, 1915.41it/s, train_loss=0.0173]\u001b[A\u001b[A\n",
      "\n",
      "Epoch 3:  80%|███████▉  | 9856/12396 [00:03<00:01, 1915.41it/s, train_loss=0.0173]\u001b[A\u001b[A\n",
      "\n",
      "Epoch 3:  81%|████████  | 9984/12396 [00:03<00:01, 1915.41it/s, train_loss=0.0171]\u001b[A\u001b[A\n",
      "\n",
      "Epoch 3:  82%|████████▏ | 10112/12396 [00:03<00:01, 2069.29it/s, train_loss=0.0171]\u001b[A\u001b[A\n",
      "\n",
      "Epoch 3:  82%|████████▏ | 10112/12396 [00:04<00:01, 2069.29it/s, train_loss=0.0176]\u001b[A\u001b[A\n",
      "\n",
      "Epoch 3:  83%|████████▎ | 10240/12396 [00:04<00:01, 2069.29it/s, train_loss=0.0176]\u001b[A\u001b[A\n",
      "\n",
      "Epoch 3:  84%|████████▎ | 10368/12396 [00:04<00:00, 2069.29it/s, train_loss=0.0173]\u001b[A\u001b[A\n",
      "\n",
      "Epoch 3:  85%|████████▍ | 10496/12396 [00:04<00:00, 2305.53it/s, train_loss=0.0173]\u001b[A\u001b[A\n",
      "\n",
      "Epoch 3:  85%|████████▍ | 10496/12396 [00:04<00:00, 2305.53it/s, train_loss=0.0174]\u001b[A\u001b[A\n",
      "\n",
      "Epoch 3:  86%|████████▌ | 10624/12396 [00:04<00:00, 2305.53it/s, train_loss=0.017] \u001b[A\u001b[A\n",
      "\n",
      "Epoch 3:  87%|████████▋ | 10752/12396 [00:04<00:00, 2305.53it/s, train_loss=0.0164]\u001b[A\u001b[A\n",
      "\n",
      "Epoch 3:  88%|████████▊ | 10880/12396 [00:04<00:00, 2446.17it/s, train_loss=0.0164]\u001b[A\u001b[A\n",
      "\n",
      "Epoch 3:  88%|████████▊ | 10880/12396 [00:04<00:00, 2446.17it/s, train_loss=0.0166]\u001b[A\u001b[A\n",
      "\n",
      "Epoch 3:  89%|████████▉ | 11008/12396 [00:04<00:00, 2446.17it/s, train_loss=0.0166]\u001b[A\u001b[A\n",
      "\n",
      "Epoch 3:  90%|████████▉ | 11136/12396 [00:04<00:00, 2446.17it/s, train_loss=0.0164]\u001b[A\u001b[A\n",
      "\n",
      "Epoch 3:  91%|█████████ | 11264/12396 [00:04<00:00, 2603.87it/s, train_loss=0.0164]\u001b[A\u001b[A\n",
      "\n",
      "Epoch 3:  91%|█████████ | 11264/12396 [00:04<00:00, 2603.87it/s, train_loss=0.0164]\u001b[A\u001b[A\n",
      "\n",
      "Epoch 3:  92%|█████████▏| 11392/12396 [00:04<00:00, 2603.87it/s, train_loss=0.0164]\u001b[A\u001b[A\n",
      "\n",
      "Epoch 3:  93%|█████████▎| 11520/12396 [00:04<00:00, 2603.87it/s, train_loss=0.0164]\u001b[A\u001b[A\n",
      "\n",
      "Epoch 3:  94%|█████████▍| 11648/12396 [00:04<00:00, 2682.15it/s, train_loss=0.0164]\u001b[A\u001b[A\n",
      "\n",
      "Epoch 3:  94%|█████████▍| 11648/12396 [00:04<00:00, 2682.15it/s, train_loss=0.0164]\u001b[A\u001b[A\n",
      "\n",
      "Epoch 3:  95%|█████████▍| 11776/12396 [00:04<00:00, 2682.15it/s, train_loss=0.0166]\u001b[A\u001b[A\n",
      "\n",
      "Epoch 3:  96%|█████████▌| 11904/12396 [00:04<00:00, 2682.15it/s, train_loss=0.0167]\u001b[A\u001b[A\n",
      "\n",
      "Epoch 3:  97%|█████████▋| 12032/12396 [00:04<00:00, 2729.12it/s, train_loss=0.0167]\u001b[A\u001b[A\n",
      "\n",
      "Epoch 3:  97%|█████████▋| 12032/12396 [00:04<00:00, 2729.12it/s, train_loss=0.0166]\u001b[A\u001b[A\n",
      "\n",
      "Epoch 3:  98%|█████████▊| 12160/12396 [00:04<00:00, 2729.12it/s, train_loss=0.0164]\u001b[A\u001b[A\n",
      "\n",
      "Epoch 3:  99%|█████████▉| 12288/12396 [00:04<00:00, 2729.12it/s, train_loss=0.0162]\u001b[A\u001b[A\n",
      "\n",
      "Epoch 3: 100%|██████████| 12396/12396 [00:04<00:00, 2625.18it/s, train_loss=0.0162]\u001b[A\u001b[A\n",
      "\n",
      "Epoch 4:   0%|          | 0/12396 [00:00<?, ?it/s]\u001b[A\u001b[A\n",
      "\n",
      "Epoch 4:   0%|          | 0/12396 [00:00<?, ?it/s, train_loss=0.0157]\u001b[A\u001b[A\n",
      "\n",
      "Epoch 4:   1%|          | 128/12396 [00:00<00:13, 909.33it/s, train_loss=0.0156]\u001b[A\u001b[A\n",
      "\n",
      "Epoch 4:   2%|▏         | 256/12396 [00:00<00:06, 1802.12it/s, train_loss=0.0156]\u001b[A\u001b[A"
     ]
    },
    {
     "name": "stdout",
     "output_type": "stream",
     "text": [
      "Losses: train - 0.016, test = 0.023\n",
      "Test: accuracy - 0.992\n"
     ]
    },
    {
     "name": "stderr",
     "output_type": "stream",
     "text": [
      "\n",
      "\n",
      "Epoch 4:   2%|▏         | 256/12396 [00:00<00:06, 1802.12it/s, train_loss=0.0154]\u001b[A\u001b[A\n",
      "\n",
      "Epoch 4:   3%|▎         | 384/12396 [00:00<00:06, 1802.12it/s, train_loss=0.0154]\u001b[A\u001b[A\n",
      "\n",
      "Epoch 4:   4%|▍         | 512/12396 [00:00<00:06, 1829.76it/s, train_loss=0.0154]\u001b[A\u001b[A\n",
      "\n",
      "Epoch 4:   4%|▍         | 512/12396 [00:00<00:06, 1829.76it/s, train_loss=0.0154]\u001b[A\u001b[A\n",
      "\n",
      "Epoch 4:   5%|▌         | 640/12396 [00:00<00:06, 1829.76it/s, train_loss=0.015] \u001b[A\u001b[A\n",
      "\n",
      "Epoch 4:   6%|▌         | 768/12396 [00:00<00:07, 1634.79it/s, train_loss=0.015]\u001b[A\u001b[A\n",
      "\n",
      "Epoch 4:   6%|▌         | 768/12396 [00:00<00:07, 1634.79it/s, train_loss=0.015]\u001b[A\u001b[A\n",
      "\n",
      "Epoch 4:   7%|▋         | 896/12396 [00:00<00:07, 1634.79it/s, train_loss=0.0148]\u001b[A\u001b[A\n",
      "\n",
      "Epoch 4:   8%|▊         | 1024/12396 [00:00<00:06, 1634.79it/s, train_loss=0.0148]\u001b[A\u001b[A\n",
      "\n",
      "Epoch 4:   9%|▉         | 1152/12396 [00:00<00:06, 1758.30it/s, train_loss=0.0148]\u001b[A\u001b[A\n",
      "\n",
      "Epoch 4:   9%|▉         | 1152/12396 [00:00<00:06, 1758.30it/s, train_loss=0.0139]\u001b[A\u001b[A\n",
      "\n",
      "Epoch 4:  10%|█         | 1280/12396 [00:00<00:06, 1758.30it/s, train_loss=0.0139]\u001b[A\u001b[A\n",
      "\n",
      "Epoch 4:  11%|█▏        | 1408/12396 [00:00<00:06, 1767.74it/s, train_loss=0.0139]\u001b[A\u001b[A\n",
      "\n",
      "Epoch 4:  11%|█▏        | 1408/12396 [00:00<00:06, 1767.74it/s, train_loss=0.0138]\u001b[A\u001b[A\n",
      "\n",
      "Epoch 4:  12%|█▏        | 1536/12396 [00:00<00:06, 1767.74it/s, train_loss=0.0143]\u001b[A\u001b[A\n",
      "\n",
      "Epoch 4:  13%|█▎        | 1664/12396 [00:00<00:05, 1799.79it/s, train_loss=0.0143]\u001b[A\u001b[A\n",
      "\n",
      "Epoch 4:  13%|█▎        | 1664/12396 [00:01<00:05, 1799.79it/s, train_loss=0.0142]\u001b[A\u001b[A\n",
      "\n",
      "Epoch 4:  14%|█▍        | 1792/12396 [00:01<00:05, 1799.79it/s, train_loss=0.0138]\u001b[A\u001b[A\n",
      "\n",
      "Epoch 4:  15%|█▌        | 1920/12396 [00:01<00:05, 1751.38it/s, train_loss=0.0138]\u001b[A\u001b[A\n",
      "\n",
      "Epoch 4:  15%|█▌        | 1920/12396 [00:01<00:05, 1751.38it/s, train_loss=0.0138]\u001b[A\u001b[A\n",
      "\n",
      "Epoch 4:  17%|█▋        | 2048/12396 [00:01<00:05, 1751.38it/s, train_loss=0.0138]\u001b[A\u001b[A\n",
      "\n",
      "Epoch 4:  18%|█▊        | 2176/12396 [00:01<00:05, 1751.38it/s, train_loss=0.0135]\u001b[A\u001b[A\n",
      "\n",
      "Epoch 4:  19%|█▊        | 2304/12396 [00:01<00:05, 1985.48it/s, train_loss=0.0135]\u001b[A\u001b[A\n",
      "\n",
      "Epoch 4:  19%|█▊        | 2304/12396 [00:01<00:05, 1985.48it/s, train_loss=0.0134]\u001b[A\u001b[A\n",
      "\n",
      "Epoch 4:  20%|█▉        | 2432/12396 [00:01<00:05, 1985.48it/s, train_loss=0.0132]\u001b[A\u001b[A\n",
      "\n",
      "Epoch 4:  21%|██        | 2560/12396 [00:01<00:05, 1822.53it/s, train_loss=0.0132]\u001b[A\u001b[A\n",
      "\n",
      "Epoch 4:  21%|██        | 2560/12396 [00:01<00:05, 1822.53it/s, train_loss=0.0132]\u001b[A\u001b[A\n",
      "\n",
      "Epoch 4:  22%|██▏       | 2688/12396 [00:01<00:05, 1822.53it/s, train_loss=0.0132]\u001b[A\u001b[A\n",
      "\n",
      "Epoch 4:  23%|██▎       | 2816/12396 [00:01<00:05, 1829.51it/s, train_loss=0.0132]\u001b[A\u001b[A\n",
      "\n",
      "Epoch 4:  23%|██▎       | 2816/12396 [00:01<00:05, 1829.51it/s, train_loss=0.0134]\u001b[A\u001b[A\n",
      "\n",
      "Epoch 4:  24%|██▎       | 2944/12396 [00:01<00:05, 1829.51it/s, train_loss=0.0133]\u001b[A\u001b[A\n",
      "\n",
      "Epoch 4:  25%|██▍       | 3072/12396 [00:01<00:04, 1998.22it/s, train_loss=0.0133]\u001b[A\u001b[A\n",
      "\n",
      "Epoch 4:  25%|██▍       | 3072/12396 [00:01<00:04, 1998.22it/s, train_loss=0.013] \u001b[A\u001b[A\n",
      "\n",
      "Epoch 4:  26%|██▌       | 3200/12396 [00:01<00:04, 1998.22it/s, train_loss=0.0129]\u001b[A\u001b[A\n",
      "\n",
      "Epoch 4:  27%|██▋       | 3328/12396 [00:01<00:04, 1998.22it/s, train_loss=0.0129]\u001b[A\u001b[A\n",
      "\n",
      "Epoch 4:  28%|██▊       | 3456/12396 [00:01<00:04, 2193.08it/s, train_loss=0.0129]\u001b[A\u001b[A\n",
      "\n",
      "Epoch 4:  28%|██▊       | 3456/12396 [00:01<00:04, 2193.08it/s, train_loss=0.0128]\u001b[A\u001b[A\n",
      "\n",
      "Epoch 4:  29%|██▉       | 3584/12396 [00:01<00:04, 2193.08it/s, train_loss=0.0128]\u001b[A\u001b[A\n",
      "\n",
      "Epoch 4:  30%|██▉       | 3712/12396 [00:01<00:03, 2207.44it/s, train_loss=0.0128]\u001b[A\u001b[A\n",
      "\n",
      "Epoch 4:  30%|██▉       | 3712/12396 [00:01<00:03, 2207.44it/s, train_loss=0.0128]\u001b[A\u001b[A\n",
      "\n",
      "Epoch 4:  31%|███       | 3840/12396 [00:01<00:03, 2207.44it/s, train_loss=0.0127]\u001b[A\u001b[A\n",
      "\n",
      "Epoch 4:  32%|███▏      | 3968/12396 [00:01<00:03, 2244.86it/s, train_loss=0.0127]\u001b[A\u001b[A\n",
      "\n",
      "Epoch 4:  32%|███▏      | 3968/12396 [00:02<00:03, 2244.86it/s, train_loss=0.013] \u001b[A\u001b[A\n",
      "\n",
      "Epoch 4:  33%|███▎      | 4096/12396 [00:02<00:03, 2244.86it/s, train_loss=0.0125]\u001b[A\u001b[A\n",
      "\n",
      "Epoch 4:  34%|███▍      | 4224/12396 [00:02<00:03, 2298.45it/s, train_loss=0.0125]\u001b[A\u001b[A\n",
      "\n",
      "Epoch 4:  34%|███▍      | 4224/12396 [00:02<00:03, 2298.45it/s, train_loss=0.0123]\u001b[A\u001b[A\n",
      "\n",
      "Epoch 4:  35%|███▌      | 4352/12396 [00:02<00:03, 2298.45it/s, train_loss=0.0123]\u001b[A\u001b[A\n",
      "\n",
      "Epoch 4:  36%|███▌      | 4480/12396 [00:02<00:03, 2298.45it/s, train_loss=0.012] \u001b[A\u001b[A\n",
      "\n",
      "Epoch 4:  37%|███▋      | 4608/12396 [00:02<00:03, 2552.47it/s, train_loss=0.012]\u001b[A\u001b[A\n",
      "\n",
      "Epoch 4:  37%|███▋      | 4608/12396 [00:02<00:03, 2552.47it/s, train_loss=0.0118]\u001b[A\u001b[A\n",
      "\n",
      "Epoch 4:  38%|███▊      | 4736/12396 [00:02<00:03, 2552.47it/s, train_loss=0.0119]\u001b[A\u001b[A\n",
      "\n",
      "Epoch 4:  39%|███▉      | 4864/12396 [00:02<00:02, 2552.47it/s, train_loss=0.0117]\u001b[A\u001b[A\n",
      "\n",
      "Epoch 4:  40%|████      | 4992/12396 [00:02<00:03, 2448.73it/s, train_loss=0.0117]\u001b[A\u001b[A\n",
      "\n",
      "Epoch 4:  40%|████      | 4992/12396 [00:02<00:03, 2448.73it/s, train_loss=0.0117]\u001b[A\u001b[A\n",
      "\n",
      "Epoch 4:  41%|████▏     | 5120/12396 [00:02<00:02, 2448.73it/s, train_loss=0.0117]\u001b[A\u001b[A\n",
      "\n",
      "Epoch 4:  42%|████▏     | 5248/12396 [00:02<00:02, 2448.73it/s, train_loss=0.0117]\u001b[A\u001b[A\n",
      "\n",
      "Epoch 4:  43%|████▎     | 5376/12396 [00:02<00:02, 2531.06it/s, train_loss=0.0117]\u001b[A\u001b[A\n",
      "\n",
      "Epoch 4:  43%|████▎     | 5376/12396 [00:02<00:02, 2531.06it/s, train_loss=0.0116]\u001b[A\u001b[A\n",
      "\n",
      "Epoch 4:  44%|████▍     | 5504/12396 [00:02<00:02, 2531.06it/s, train_loss=0.0115]\u001b[A\u001b[A\n",
      "\n",
      "Epoch 4:  45%|████▌     | 5632/12396 [00:02<00:02, 2531.06it/s, train_loss=0.0115]\u001b[A\u001b[A\n",
      "\n",
      "Epoch 4:  46%|████▋     | 5760/12396 [00:02<00:02, 2606.09it/s, train_loss=0.0115]\u001b[A\u001b[A\n",
      "\n",
      "Epoch 4:  46%|████▋     | 5760/12396 [00:02<00:02, 2606.09it/s, train_loss=0.0114]\u001b[A\u001b[A\n",
      "\n",
      "Epoch 4:  47%|████▋     | 5888/12396 [00:02<00:02, 2606.09it/s, train_loss=0.0113]\u001b[A\u001b[A\n",
      "\n",
      "Epoch 4:  49%|████▊     | 6016/12396 [00:02<00:02, 2606.09it/s, train_loss=0.0112]\u001b[A\u001b[A\n",
      "\n",
      "Epoch 4:  50%|████▉     | 6144/12396 [00:02<00:02, 2607.64it/s, train_loss=0.0112]\u001b[A\u001b[A\n",
      "\n",
      "Epoch 4:  50%|████▉     | 6144/12396 [00:02<00:02, 2607.64it/s, train_loss=0.0114]\u001b[A\u001b[A\n",
      "\n",
      "Epoch 4:  51%|█████     | 6272/12396 [00:02<00:02, 2607.64it/s, train_loss=0.0113]\u001b[A\u001b[A\n",
      "\n",
      "Epoch 4:  52%|█████▏    | 6400/12396 [00:02<00:02, 2607.64it/s, train_loss=0.0112]\u001b[A\u001b[A\n",
      "\n",
      "Epoch 4:  53%|█████▎    | 6528/12396 [00:02<00:02, 2714.99it/s, train_loss=0.0112]\u001b[A\u001b[A\n",
      "\n",
      "Epoch 4:  53%|█████▎    | 6528/12396 [00:02<00:02, 2714.99it/s, train_loss=0.011] \u001b[A\u001b[A\n",
      "\n",
      "Epoch 4:  54%|█████▎    | 6656/12396 [00:03<00:02, 2714.99it/s, train_loss=0.0111]\u001b[A\u001b[A\n",
      "\n",
      "Epoch 4:  55%|█████▍    | 6784/12396 [00:03<00:02, 2714.99it/s, train_loss=0.0113]\u001b[A\u001b[A\n",
      "\n",
      "Epoch 4:  56%|█████▌    | 6912/12396 [00:03<00:01, 2840.53it/s, train_loss=0.0113]\u001b[A\u001b[A\n",
      "\n",
      "Epoch 4:  56%|█████▌    | 6912/12396 [00:03<00:01, 2840.53it/s, train_loss=0.0112]\u001b[A\u001b[A\n",
      "\n",
      "Epoch 4:  57%|█████▋    | 7040/12396 [00:03<00:01, 2840.53it/s, train_loss=0.0111]\u001b[A\u001b[A\n",
      "\n",
      "Epoch 4:  58%|█████▊    | 7168/12396 [00:03<00:01, 2840.53it/s, train_loss=0.0109]\u001b[A\u001b[A\n",
      "\n",
      "Epoch 4:  59%|█████▉    | 7296/12396 [00:03<00:01, 2822.93it/s, train_loss=0.0109]\u001b[A\u001b[A\n",
      "\n",
      "Epoch 4:  59%|█████▉    | 7296/12396 [00:03<00:01, 2822.93it/s, train_loss=0.0109]\u001b[A\u001b[A\n",
      "\n",
      "Epoch 4:  60%|█████▉    | 7424/12396 [00:03<00:01, 2822.93it/s, train_loss=0.0109]\u001b[A\u001b[A\n",
      "\n",
      "Epoch 4:  61%|██████    | 7552/12396 [00:03<00:01, 2822.93it/s, train_loss=0.0109]\u001b[A\u001b[A\n",
      "\n",
      "Epoch 4:  62%|██████▏   | 7680/12396 [00:03<00:01, 2731.03it/s, train_loss=0.0109]\u001b[A\u001b[A\n",
      "\n",
      "Epoch 4:  62%|██████▏   | 7680/12396 [00:03<00:01, 2731.03it/s, train_loss=0.011] \u001b[A\u001b[A\n",
      "\n",
      "Epoch 4:  63%|██████▎   | 7808/12396 [00:03<00:01, 2731.03it/s, train_loss=0.0107]\u001b[A\u001b[A\n",
      "\n",
      "Epoch 4:  64%|██████▍   | 7936/12396 [00:03<00:01, 2731.03it/s, train_loss=0.0107]\u001b[A\u001b[A\n",
      "\n",
      "Epoch 4:  65%|██████▌   | 8064/12396 [00:03<00:01, 2604.51it/s, train_loss=0.0107]\u001b[A\u001b[A\n",
      "\n",
      "Epoch 4:  65%|██████▌   | 8064/12396 [00:03<00:01, 2604.51it/s, train_loss=0.0106]\u001b[A\u001b[A\n",
      "\n",
      "Epoch 4:  66%|██████▌   | 8192/12396 [00:03<00:01, 2604.51it/s, train_loss=0.0106]\u001b[A\u001b[A\n",
      "\n",
      "Epoch 4:  67%|██████▋   | 8320/12396 [00:03<00:01, 2604.51it/s, train_loss=0.0105]\u001b[A\u001b[A\n",
      "\n",
      "Epoch 4:  68%|██████▊   | 8448/12396 [00:03<00:01, 2502.89it/s, train_loss=0.0105]\u001b[A\u001b[A\n",
      "\n",
      "Epoch 4:  68%|██████▊   | 8448/12396 [00:03<00:01, 2502.89it/s, train_loss=0.0101]\u001b[A\u001b[A\n",
      "\n",
      "Epoch 4:  69%|██████▉   | 8576/12396 [00:03<00:01, 2502.89it/s, train_loss=0.0102]\u001b[A\u001b[A\n",
      "\n"
     ]
    },
    {
     "name": "stderr",
     "output_type": "stream",
     "text": [
      "Epoch 4:  70%|███████   | 8704/12396 [00:03<00:01, 2455.77it/s, train_loss=0.0102]\u001b[A\u001b[A\n",
      "\n",
      "Epoch 4:  70%|███████   | 8704/12396 [00:03<00:01, 2455.77it/s, train_loss=0.0108]\u001b[A\u001b[A\n",
      "\n",
      "Epoch 4:  71%|███████   | 8832/12396 [00:03<00:01, 2455.77it/s, train_loss=0.0108]\u001b[A\u001b[A\n",
      "\n",
      "Epoch 4:  72%|███████▏  | 8960/12396 [00:03<00:01, 2446.33it/s, train_loss=0.0108]\u001b[A\u001b[A\n",
      "\n",
      "Epoch 4:  72%|███████▏  | 8960/12396 [00:03<00:01, 2446.33it/s, train_loss=0.0103]\u001b[A\u001b[A\n",
      "\n",
      "Epoch 4:  73%|███████▎  | 9088/12396 [00:03<00:01, 2446.33it/s, train_loss=0.0102]\u001b[A\u001b[A\n",
      "\n",
      "Epoch 4:  74%|███████▍  | 9216/12396 [00:03<00:01, 2371.94it/s, train_loss=0.0102]\u001b[A\u001b[A\n",
      "\n",
      "Epoch 4:  74%|███████▍  | 9216/12396 [00:04<00:01, 2371.94it/s, train_loss=0.0101]\u001b[A\u001b[A\n",
      "\n",
      "Epoch 4:  75%|███████▌  | 9344/12396 [00:04<00:01, 2371.94it/s, train_loss=0.0101]\u001b[A\u001b[A\n",
      "\n",
      "Epoch 4:  76%|███████▋  | 9472/12396 [00:04<00:01, 2371.94it/s, train_loss=0.0104]\u001b[A\u001b[A\n",
      "\n",
      "Epoch 4:  77%|███████▋  | 9600/12396 [00:04<00:01, 2465.38it/s, train_loss=0.0104]\u001b[A\u001b[A\n",
      "\n",
      "Epoch 4:  77%|███████▋  | 9600/12396 [00:04<00:01, 2465.38it/s, train_loss=0.0104]\u001b[A\u001b[A\n",
      "\n",
      "Epoch 4:  78%|███████▊  | 9728/12396 [00:04<00:01, 2465.38it/s, train_loss=0.0104]\u001b[A\u001b[A\n",
      "\n",
      "Epoch 4:  80%|███████▉  | 9856/12396 [00:04<00:01, 2465.38it/s, train_loss=0.0102]\u001b[A\u001b[A\n",
      "\n",
      "Epoch 4:  81%|████████  | 9984/12396 [00:04<00:00, 2632.28it/s, train_loss=0.0102]\u001b[A\u001b[A\n",
      "\n",
      "Epoch 4:  81%|████████  | 9984/12396 [00:04<00:00, 2632.28it/s, train_loss=0.0102]\u001b[A\u001b[A\n",
      "\n",
      "Epoch 4:  82%|████████▏ | 10112/12396 [00:04<00:00, 2632.28it/s, train_loss=0.0101]\u001b[A\u001b[A\n",
      "\n",
      "Epoch 4:  83%|████████▎ | 10240/12396 [00:04<00:00, 2632.28it/s, train_loss=0.01]  \u001b[A\u001b[A\n",
      "\n",
      "Epoch 4:  84%|████████▎ | 10368/12396 [00:04<00:00, 2747.01it/s, train_loss=0.01]\u001b[A\u001b[A\n",
      "\n",
      "Epoch 4:  84%|████████▎ | 10368/12396 [00:04<00:00, 2747.01it/s, train_loss=0.0103]\u001b[A\u001b[A\n",
      "\n",
      "Epoch 4:  85%|████████▍ | 10496/12396 [00:04<00:00, 2747.01it/s, train_loss=0.00983]\u001b[A\u001b[A\n",
      "\n",
      "Epoch 4:  86%|████████▌ | 10624/12396 [00:04<00:00, 2747.01it/s, train_loss=0.00975]\u001b[A\u001b[A\n",
      "\n",
      "Epoch 4:  87%|████████▋ | 10752/12396 [00:04<00:00, 2903.97it/s, train_loss=0.00975]\u001b[A\u001b[A\n",
      "\n",
      "Epoch 4:  87%|████████▋ | 10752/12396 [00:04<00:00, 2903.97it/s, train_loss=0.0097] \u001b[A\u001b[A\n",
      "\n",
      "Epoch 4:  88%|████████▊ | 10880/12396 [00:04<00:00, 2903.97it/s, train_loss=0.00962]\u001b[A\u001b[A\n",
      "\n",
      "Epoch 4:  89%|████████▉ | 11008/12396 [00:04<00:00, 2903.97it/s, train_loss=0.00966]\u001b[A\u001b[A\n",
      "\n",
      "Epoch 4:  90%|████████▉ | 11136/12396 [00:04<00:00, 2886.41it/s, train_loss=0.00966]\u001b[A\u001b[A\n",
      "\n",
      "Epoch 4:  90%|████████▉ | 11136/12396 [00:04<00:00, 2886.41it/s, train_loss=0.00966]\u001b[A\u001b[A\n",
      "\n",
      "Epoch 4:  91%|█████████ | 11264/12396 [00:04<00:00, 2886.41it/s, train_loss=0.00947]\u001b[A\u001b[A\n",
      "\n",
      "Epoch 4:  92%|█████████▏| 11392/12396 [00:04<00:00, 2886.41it/s, train_loss=0.00919]\u001b[A\u001b[A\n",
      "\n",
      "Epoch 4:  93%|█████████▎| 11520/12396 [00:04<00:00, 2875.33it/s, train_loss=0.00919]\u001b[A\u001b[A\n",
      "\n",
      "Epoch 4:  93%|█████████▎| 11520/12396 [00:04<00:00, 2875.33it/s, train_loss=0.00908]\u001b[A\u001b[A\n",
      "\n",
      "Epoch 4:  94%|█████████▍| 11648/12396 [00:04<00:00, 2875.33it/s, train_loss=0.0089] \u001b[A\u001b[A\n",
      "\n",
      "Epoch 4:  95%|█████████▍| 11776/12396 [00:04<00:00, 2875.33it/s, train_loss=0.00879]\u001b[A\u001b[A\n",
      "\n",
      "Epoch 4:  96%|█████████▌| 11904/12396 [00:04<00:00, 2908.45it/s, train_loss=0.00879]\u001b[A\u001b[A\n",
      "\n",
      "Epoch 4:  96%|█████████▌| 11904/12396 [00:04<00:00, 2908.45it/s, train_loss=0.00887]\u001b[A\u001b[A\n",
      "\n",
      "Epoch 4:  97%|█████████▋| 12032/12396 [00:04<00:00, 2908.45it/s, train_loss=0.00893]\u001b[A\u001b[A\n",
      "\n",
      "Epoch 4:  98%|█████████▊| 12160/12396 [00:05<00:00, 2908.45it/s, train_loss=0.00897]\u001b[A\u001b[A\n",
      "\n",
      "Epoch 4:  99%|█████████▉| 12288/12396 [00:05<00:00, 2984.66it/s, train_loss=0.00897]\u001b[A\u001b[A\n",
      "\n",
      "Epoch 4:  99%|█████████▉| 12288/12396 [00:05<00:00, 2984.66it/s, train_loss=0.00876]\u001b[A\u001b[A\n",
      "\n",
      "Epoch 4: 100%|██████████| 12396/12396 [00:05<00:00, 2442.12it/s, train_loss=0.00876]\u001b[A\u001b[A\n",
      "\n",
      "Epoch 5:   0%|          | 0/12396 [00:00<?, ?it/s]\u001b[A\u001b[A\n",
      "\n",
      "Epoch 5:   0%|          | 0/12396 [00:00<?, ?it/s, train_loss=0.00874]\u001b[A\u001b[A\n",
      "\n",
      "Epoch 5:   1%|          | 128/12396 [00:00<00:05, 2180.44it/s, train_loss=0.00878]\u001b[A\u001b[A\n",
      "\n",
      "Epoch 5:   2%|▏         | 256/12396 [00:00<00:04, 2644.57it/s, train_loss=0.00879]\u001b[A\u001b[A\n",
      "\n",
      "Epoch 5:   3%|▎         | 384/12396 [00:00<00:04, 2734.19it/s, train_loss=0.00884]\u001b[A\u001b[A\n",
      "\n",
      "Epoch 5:   4%|▍         | 512/12396 [00:00<00:03, 3564.95it/s, train_loss=0.00884]\u001b[A\u001b[A\n",
      "\n",
      "Epoch 5:   4%|▍         | 512/12396 [00:00<00:03, 3564.95it/s, train_loss=0.00877]\u001b[A\u001b[A"
     ]
    },
    {
     "name": "stdout",
     "output_type": "stream",
     "text": [
      "Losses: train - 0.009, test = 0.021\n",
      "Test: accuracy - 0.993\n"
     ]
    },
    {
     "name": "stderr",
     "output_type": "stream",
     "text": [
      "\n",
      "\n",
      "Epoch 5:   5%|▌         | 640/12396 [00:00<00:03, 3564.95it/s, train_loss=0.00881]\u001b[A\u001b[A\n",
      "\n",
      "Epoch 5:   6%|▌         | 768/12396 [00:00<00:03, 3564.95it/s, train_loss=0.0087] \u001b[A\u001b[A\n",
      "\n",
      "Epoch 5:   7%|▋         | 896/12396 [00:00<00:03, 3276.77it/s, train_loss=0.0087]\u001b[A\u001b[A\n",
      "\n",
      "Epoch 5:   7%|▋         | 896/12396 [00:00<00:03, 3276.77it/s, train_loss=0.00864]\u001b[A\u001b[A\n",
      "\n",
      "Epoch 5:   8%|▊         | 1024/12396 [00:00<00:03, 3276.77it/s, train_loss=0.00863]\u001b[A\u001b[A\n",
      "\n",
      "Epoch 5:   9%|▉         | 1152/12396 [00:00<00:03, 3276.77it/s, train_loss=0.00867]\u001b[A\u001b[A\n",
      "\n",
      "Epoch 5:  10%|█         | 1280/12396 [00:00<00:03, 3150.64it/s, train_loss=0.00867]\u001b[A\u001b[A\n",
      "\n",
      "Epoch 5:  10%|█         | 1280/12396 [00:00<00:03, 3150.64it/s, train_loss=0.00872]\u001b[A\u001b[A\n",
      "\n",
      "Epoch 5:  11%|█▏        | 1408/12396 [00:00<00:03, 3150.64it/s, train_loss=0.00877]\u001b[A\u001b[A\n",
      "\n",
      "Epoch 5:  12%|█▏        | 1536/12396 [00:00<00:03, 3150.64it/s, train_loss=0.0086] \u001b[A\u001b[A\n",
      "\n",
      "Epoch 5:  13%|█▎        | 1664/12396 [00:00<00:03, 2977.02it/s, train_loss=0.0086]\u001b[A\u001b[A\n",
      "\n",
      "Epoch 5:  13%|█▎        | 1664/12396 [00:00<00:03, 2977.02it/s, train_loss=0.00861]\u001b[A\u001b[A\n",
      "\n",
      "Epoch 5:  14%|█▍        | 1792/12396 [00:00<00:03, 2977.02it/s, train_loss=0.00863]\u001b[A\u001b[A\n",
      "\n",
      "Epoch 5:  15%|█▌        | 1920/12396 [00:00<00:03, 2824.28it/s, train_loss=0.00863]\u001b[A\u001b[A\n",
      "\n",
      "Epoch 5:  15%|█▌        | 1920/12396 [00:00<00:03, 2824.28it/s, train_loss=0.00813]\u001b[A\u001b[A\n",
      "\n",
      "Epoch 5:  17%|█▋        | 2048/12396 [00:00<00:03, 2824.28it/s, train_loss=0.0082] \u001b[A\u001b[A\n",
      "\n",
      "Epoch 5:  18%|█▊        | 2176/12396 [00:00<00:03, 2824.28it/s, train_loss=0.00824]\u001b[A\u001b[A\n",
      "\n",
      "Epoch 5:  19%|█▊        | 2304/12396 [00:00<00:03, 2931.62it/s, train_loss=0.00824]\u001b[A\u001b[A\n",
      "\n",
      "Epoch 5:  19%|█▊        | 2304/12396 [00:00<00:03, 2931.62it/s, train_loss=0.0082] \u001b[A\u001b[A\n",
      "\n",
      "Epoch 5:  20%|█▉        | 2432/12396 [00:00<00:03, 2931.62it/s, train_loss=0.00821]\u001b[A\u001b[A\n",
      "\n",
      "Epoch 5:  21%|██        | 2560/12396 [00:00<00:03, 2931.62it/s, train_loss=0.00837]\u001b[A\u001b[A\n",
      "\n",
      "Epoch 5:  22%|██▏       | 2688/12396 [00:00<00:03, 2872.58it/s, train_loss=0.00837]\u001b[A\u001b[A\n",
      "\n",
      "Epoch 5:  22%|██▏       | 2688/12396 [00:00<00:03, 2872.58it/s, train_loss=0.00832]\u001b[A\u001b[A\n",
      "\n",
      "Epoch 5:  23%|██▎       | 2816/12396 [00:01<00:03, 2872.58it/s, train_loss=0.00827]\u001b[A\u001b[A\n",
      "\n",
      "Epoch 5:  24%|██▎       | 2944/12396 [00:01<00:03, 2872.58it/s, train_loss=0.00821]\u001b[A\u001b[A\n",
      "\n",
      "Epoch 5:  25%|██▍       | 3072/12396 [00:01<00:03, 2954.48it/s, train_loss=0.00821]\u001b[A\u001b[A\n",
      "\n",
      "Epoch 5:  25%|██▍       | 3072/12396 [00:01<00:03, 2954.48it/s, train_loss=0.00813]\u001b[A\u001b[A\n",
      "\n",
      "Epoch 5:  26%|██▌       | 3200/12396 [00:01<00:03, 2954.48it/s, train_loss=0.00787]\u001b[A\u001b[A\n",
      "\n",
      "Epoch 5:  27%|██▋       | 3328/12396 [00:01<00:03, 2954.48it/s, train_loss=0.00782]\u001b[A\u001b[A\n",
      "\n",
      "Epoch 5:  28%|██▊       | 3456/12396 [00:01<00:03, 2918.24it/s, train_loss=0.00782]\u001b[A\u001b[A\n",
      "\n",
      "Epoch 5:  28%|██▊       | 3456/12396 [00:01<00:03, 2918.24it/s, train_loss=0.00778]\u001b[A\u001b[A\n",
      "\n",
      "Epoch 5:  29%|██▉       | 3584/12396 [00:01<00:03, 2918.24it/s, train_loss=0.00778]\u001b[A\u001b[A\n",
      "\n",
      "Epoch 5:  30%|██▉       | 3712/12396 [00:01<00:02, 2918.24it/s, train_loss=0.00765]\u001b[A\u001b[A\n",
      "\n",
      "Epoch 5:  31%|███       | 3840/12396 [00:01<00:03, 2753.51it/s, train_loss=0.00765]\u001b[A\u001b[A\n",
      "\n",
      "Epoch 5:  31%|███       | 3840/12396 [00:01<00:03, 2753.51it/s, train_loss=0.00765]\u001b[A\u001b[A\n",
      "\n",
      "Epoch 5:  32%|███▏      | 3968/12396 [00:01<00:03, 2753.51it/s, train_loss=0.00746]\u001b[A\u001b[A\n",
      "\n",
      "Epoch 5:  33%|███▎      | 4096/12396 [00:01<00:03, 2753.51it/s, train_loss=0.00788]\u001b[A\u001b[A\n",
      "\n",
      "Epoch 5:  34%|███▍      | 4224/12396 [00:01<00:03, 2708.27it/s, train_loss=0.00788]\u001b[A\u001b[A\n",
      "\n",
      "Epoch 5:  34%|███▍      | 4224/12396 [00:01<00:03, 2708.27it/s, train_loss=0.00786]\u001b[A\u001b[A\n",
      "\n",
      "Epoch 5:  35%|███▌      | 4352/12396 [00:01<00:02, 2708.27it/s, train_loss=0.00759]\u001b[A\u001b[A\n",
      "\n",
      "Epoch 5:  36%|███▌      | 4480/12396 [00:01<00:02, 2708.27it/s, train_loss=0.00761]\u001b[A\u001b[A\n",
      "\n",
      "Epoch 5:  37%|███▋      | 4608/12396 [00:01<00:02, 2647.94it/s, train_loss=0.00761]\u001b[A\u001b[A\n",
      "\n",
      "Epoch 5:  37%|███▋      | 4608/12396 [00:01<00:02, 2647.94it/s, train_loss=0.00759]\u001b[A\u001b[A\n",
      "\n",
      "Epoch 5:  38%|███▊      | 4736/12396 [00:01<00:02, 2647.94it/s, train_loss=0.00756]\u001b[A\u001b[A\n",
      "\n",
      "Epoch 5:  39%|███▉      | 4864/12396 [00:01<00:02, 2647.94it/s, train_loss=0.00755]\u001b[A\u001b[A\n",
      "\n",
      "Epoch 5:  40%|████      | 4992/12396 [00:01<00:02, 2743.96it/s, train_loss=0.00755]\u001b[A\u001b[A\n",
      "\n",
      "Epoch 5:  40%|████      | 4992/12396 [00:01<00:02, 2743.96it/s, train_loss=0.00756]\u001b[A\u001b[A\n",
      "\n",
      "Epoch 5:  41%|████▏     | 5120/12396 [00:01<00:02, 2743.96it/s, train_loss=0.00749]\u001b[A\u001b[A\n",
      "\n",
      "Epoch 5:  42%|████▏     | 5248/12396 [00:01<00:02, 2743.96it/s, train_loss=0.00751]\u001b[A\u001b[A\n",
      "\n",
      "Epoch 5:  43%|████▎     | 5376/12396 [00:01<00:02, 2730.76it/s, train_loss=0.00751]\u001b[A\u001b[A\n",
      "\n",
      "Epoch 5:  43%|████▎     | 5376/12396 [00:01<00:02, 2730.76it/s, train_loss=0.00757]\u001b[A\u001b[A\n",
      "\n",
      "Epoch 5:  44%|████▍     | 5504/12396 [00:01<00:02, 2730.76it/s, train_loss=0.00746]\u001b[A\u001b[A\n",
      "\n",
      "Epoch 5:  45%|████▌     | 5632/12396 [00:02<00:02, 2730.76it/s, train_loss=0.00738]\u001b[A\u001b[A\n",
      "\n",
      "Epoch 5:  46%|████▋     | 5760/12396 [00:02<00:02, 2666.96it/s, train_loss=0.00738]\u001b[A\u001b[A\n",
      "\n",
      "Epoch 5:  46%|████▋     | 5760/12396 [00:02<00:02, 2666.96it/s, train_loss=0.00736]\u001b[A\u001b[A\n",
      "\n",
      "Epoch 5:  47%|████▋     | 5888/12396 [00:02<00:02, 2666.96it/s, train_loss=0.0073] \u001b[A\u001b[A\n",
      "\n",
      "Epoch 5:  49%|████▊     | 6016/12396 [00:02<00:02, 2666.96it/s, train_loss=0.00737]\u001b[A\u001b[A\n",
      "\n",
      "Epoch 5:  50%|████▉     | 6144/12396 [00:02<00:02, 2678.39it/s, train_loss=0.00737]\u001b[A\u001b[A\n",
      "\n",
      "Epoch 5:  50%|████▉     | 6144/12396 [00:02<00:02, 2678.39it/s, train_loss=0.00738]\u001b[A\u001b[A\n",
      "\n",
      "Epoch 5:  51%|█████     | 6272/12396 [00:02<00:02, 2678.39it/s, train_loss=0.0074] \u001b[A\u001b[A\n",
      "\n",
      "Epoch 5:  52%|█████▏    | 6400/12396 [00:02<00:02, 2678.39it/s, train_loss=0.00744]\u001b[A\u001b[A\n",
      "\n",
      "Epoch 5:  53%|█████▎    | 6528/12396 [00:02<00:02, 2679.50it/s, train_loss=0.00744]\u001b[A\u001b[A\n",
      "\n",
      "Epoch 5:  53%|█████▎    | 6528/12396 [00:02<00:02, 2679.50it/s, train_loss=0.00733]\u001b[A\u001b[A\n",
      "\n",
      "Epoch 5:  54%|█████▎    | 6656/12396 [00:02<00:02, 2679.50it/s, train_loss=0.00734]\u001b[A\u001b[A\n",
      "\n",
      "Epoch 5:  55%|█████▍    | 6784/12396 [00:02<00:02, 2679.50it/s, train_loss=0.00729]\u001b[A\u001b[A\n",
      "\n",
      "Epoch 5:  56%|█████▌    | 6912/12396 [00:02<00:02, 2708.58it/s, train_loss=0.00729]\u001b[A\u001b[A\n",
      "\n",
      "Epoch 5:  56%|█████▌    | 6912/12396 [00:02<00:02, 2708.58it/s, train_loss=0.00724]\u001b[A\u001b[A\n",
      "\n",
      "Epoch 5:  57%|█████▋    | 7040/12396 [00:02<00:01, 2708.58it/s, train_loss=0.0072] \u001b[A\u001b[A\n",
      "\n",
      "Epoch 5:  58%|█████▊    | 7168/12396 [00:02<00:01, 2708.58it/s, train_loss=0.00694]\u001b[A\u001b[A\n",
      "\n",
      "Epoch 5:  59%|█████▉    | 7296/12396 [00:02<00:01, 2716.69it/s, train_loss=0.00694]\u001b[A\u001b[A\n",
      "\n",
      "Epoch 5:  59%|█████▉    | 7296/12396 [00:02<00:01, 2716.69it/s, train_loss=0.00682]\u001b[A\u001b[A\n",
      "\n",
      "Epoch 5:  60%|█████▉    | 7424/12396 [00:02<00:01, 2716.69it/s, train_loss=0.0068] \u001b[A\u001b[A\n",
      "\n",
      "Epoch 5:  61%|██████    | 7552/12396 [00:02<00:01, 2716.69it/s, train_loss=0.00676]\u001b[A\u001b[A\n",
      "\n",
      "Epoch 5:  62%|██████▏   | 7680/12396 [00:02<00:01, 2810.39it/s, train_loss=0.00676]\u001b[A\u001b[A\n",
      "\n",
      "Epoch 5:  62%|██████▏   | 7680/12396 [00:02<00:01, 2810.39it/s, train_loss=0.00672]\u001b[A\u001b[A\n",
      "\n",
      "Epoch 5:  63%|██████▎   | 7808/12396 [00:02<00:01, 2810.39it/s, train_loss=0.00652]\u001b[A\u001b[A\n",
      "\n",
      "Epoch 5:  64%|██████▍   | 7936/12396 [00:02<00:01, 2810.39it/s, train_loss=0.00664]\u001b[A\u001b[A\n",
      "\n",
      "Epoch 5:  65%|██████▌   | 8064/12396 [00:02<00:01, 2778.68it/s, train_loss=0.00664]\u001b[A\u001b[A\n",
      "\n",
      "Epoch 5:  65%|██████▌   | 8064/12396 [00:02<00:01, 2778.68it/s, train_loss=0.00643]\u001b[A\u001b[A\n",
      "\n",
      "Epoch 5:  66%|██████▌   | 8192/12396 [00:02<00:01, 2778.68it/s, train_loss=0.00656]\u001b[A\u001b[A\n",
      "\n",
      "Epoch 5:  67%|██████▋   | 8320/12396 [00:03<00:01, 2778.68it/s, train_loss=0.00655]\u001b[A\u001b[A\n",
      "\n",
      "Epoch 5:  68%|██████▊   | 8448/12396 [00:03<00:01, 2735.13it/s, train_loss=0.00655]\u001b[A\u001b[A\n",
      "\n",
      "Epoch 5:  68%|██████▊   | 8448/12396 [00:03<00:01, 2735.13it/s, train_loss=0.00661]\u001b[A\u001b[A\n",
      "\n",
      "Epoch 5:  69%|██████▉   | 8576/12396 [00:03<00:01, 2735.13it/s, train_loss=0.00663]\u001b[A\u001b[A\n",
      "\n",
      "Epoch 5:  70%|███████   | 8704/12396 [00:03<00:01, 2735.13it/s, train_loss=0.00662]\u001b[A\u001b[A\n",
      "\n",
      "Epoch 5:  71%|███████   | 8832/12396 [00:03<00:01, 2734.92it/s, train_loss=0.00662]\u001b[A\u001b[A\n",
      "\n",
      "Epoch 5:  71%|███████   | 8832/12396 [00:03<00:01, 2734.92it/s, train_loss=0.00662]\u001b[A\u001b[A\n",
      "\n",
      "Epoch 5:  72%|███████▏  | 8960/12396 [00:03<00:01, 2734.92it/s, train_loss=0.00656]\u001b[A\u001b[A\n",
      "\n",
      "Epoch 5:  73%|███████▎  | 9088/12396 [00:03<00:01, 2734.92it/s, train_loss=0.00598]\u001b[A\u001b[A\n",
      "\n",
      "Epoch 5:  74%|███████▍  | 9216/12396 [00:03<00:01, 2736.34it/s, train_loss=0.00598]\u001b[A\u001b[A\n",
      "\n"
     ]
    },
    {
     "name": "stderr",
     "output_type": "stream",
     "text": [
      "Epoch 5:  74%|███████▍  | 9216/12396 [00:03<00:01, 2736.34it/s, train_loss=0.00602]\u001b[A\u001b[A\n",
      "\n",
      "Epoch 5:  75%|███████▌  | 9344/12396 [00:03<00:01, 2736.34it/s, train_loss=0.0061] \u001b[A\u001b[A\n",
      "\n",
      "Epoch 5:  76%|███████▋  | 9472/12396 [00:03<00:01, 2736.34it/s, train_loss=0.00646]\u001b[A\u001b[A\n",
      "\n",
      "Epoch 5:  77%|███████▋  | 9600/12396 [00:03<00:01, 2563.87it/s, train_loss=0.00646]\u001b[A\u001b[A\n",
      "\n",
      "Epoch 5:  77%|███████▋  | 9600/12396 [00:03<00:01, 2563.87it/s, train_loss=0.00644]\u001b[A\u001b[A\n",
      "\n",
      "Epoch 5:  78%|███████▊  | 9728/12396 [00:03<00:01, 2563.87it/s, train_loss=0.00649]\u001b[A\u001b[A\n",
      "\n",
      "Epoch 5:  80%|███████▉  | 9856/12396 [00:03<00:00, 2563.87it/s, train_loss=0.00627]\u001b[A\u001b[A\n",
      "\n",
      "Epoch 5:  81%|████████  | 9984/12396 [00:03<00:00, 2555.31it/s, train_loss=0.00627]\u001b[A\u001b[A\n",
      "\n",
      "Epoch 5:  81%|████████  | 9984/12396 [00:03<00:00, 2555.31it/s, train_loss=0.00617]\u001b[A\u001b[A\n",
      "\n",
      "Epoch 5:  82%|████████▏ | 10112/12396 [00:03<00:00, 2555.31it/s, train_loss=0.0062]\u001b[A\u001b[A\n",
      "\n",
      "Epoch 5:  83%|████████▎ | 10240/12396 [00:03<00:00, 2555.31it/s, train_loss=0.0063]\u001b[A\u001b[A\n",
      "\n",
      "Epoch 5:  84%|████████▎ | 10368/12396 [00:03<00:00, 2626.60it/s, train_loss=0.0063]\u001b[A\u001b[A\n",
      "\n",
      "Epoch 5:  84%|████████▎ | 10368/12396 [00:03<00:00, 2626.60it/s, train_loss=0.00627]\u001b[A\u001b[A\n",
      "\n",
      "Epoch 5:  85%|████████▍ | 10496/12396 [00:03<00:00, 2626.60it/s, train_loss=0.00625]\u001b[A\u001b[A\n",
      "\n",
      "Epoch 5:  86%|████████▌ | 10624/12396 [00:03<00:00, 2626.60it/s, train_loss=0.00634]\u001b[A\u001b[A\n",
      "\n",
      "Epoch 5:  87%|████████▋ | 10752/12396 [00:03<00:00, 2702.38it/s, train_loss=0.00634]\u001b[A\u001b[A\n",
      "\n",
      "Epoch 5:  87%|████████▋ | 10752/12396 [00:03<00:00, 2702.38it/s, train_loss=0.00608]\u001b[A\u001b[A\n",
      "\n",
      "Epoch 5:  88%|████████▊ | 10880/12396 [00:03<00:00, 2702.38it/s, train_loss=0.0061] \u001b[A\u001b[A\n",
      "\n",
      "Epoch 5:  89%|████████▉ | 11008/12396 [00:04<00:00, 2702.38it/s, train_loss=0.0061]\u001b[A\u001b[A\n",
      "\n",
      "Epoch 5:  90%|████████▉ | 11136/12396 [00:04<00:00, 2715.99it/s, train_loss=0.0061]\u001b[A\u001b[A\n",
      "\n",
      "Epoch 5:  90%|████████▉ | 11136/12396 [00:04<00:00, 2715.99it/s, train_loss=0.00615]\u001b[A\u001b[A\n",
      "\n",
      "Epoch 5:  91%|█████████ | 11264/12396 [00:04<00:00, 2715.99it/s, train_loss=0.00617]\u001b[A\u001b[A\n",
      "\n",
      "Epoch 5:  92%|█████████▏| 11392/12396 [00:04<00:00, 2715.99it/s, train_loss=0.00634]\u001b[A\u001b[A\n",
      "\n",
      "Epoch 5:  93%|█████████▎| 11520/12396 [00:04<00:00, 2731.03it/s, train_loss=0.00634]\u001b[A\u001b[A\n",
      "\n",
      "Epoch 5:  93%|█████████▎| 11520/12396 [00:04<00:00, 2731.03it/s, train_loss=0.00634]\u001b[A\u001b[A\n",
      "\n",
      "Epoch 5:  94%|█████████▍| 11648/12396 [00:04<00:00, 2731.03it/s, train_loss=0.00635]\u001b[A\u001b[A\n",
      "\n",
      "Epoch 5:  95%|█████████▍| 11776/12396 [00:04<00:00, 2731.03it/s, train_loss=0.00643]\u001b[A\u001b[A\n",
      "\n",
      "Epoch 5:  96%|█████████▌| 11904/12396 [00:04<00:00, 2843.70it/s, train_loss=0.00643]\u001b[A\u001b[A\n",
      "\n",
      "Epoch 5:  96%|█████████▌| 11904/12396 [00:04<00:00, 2843.70it/s, train_loss=0.00648]\u001b[A\u001b[A\n",
      "\n",
      "Epoch 5:  97%|█████████▋| 12032/12396 [00:04<00:00, 2843.70it/s, train_loss=0.00651]\u001b[A\u001b[A\n",
      "\n",
      "Epoch 5:  98%|█████████▊| 12160/12396 [00:04<00:00, 2843.70it/s, train_loss=0.00652]\u001b[A\u001b[A\n",
      "\n",
      "Epoch 5:  99%|█████████▉| 12288/12396 [00:04<00:00, 2868.26it/s, train_loss=0.00652]\u001b[A\u001b[A\n",
      "\n",
      "Epoch 5:  99%|█████████▉| 12288/12396 [00:04<00:00, 2868.26it/s, train_loss=0.00646]\u001b[A\u001b[A\n",
      "\n",
      "Epoch 5: 100%|██████████| 12396/12396 [00:04<00:00, 2768.04it/s, train_loss=0.00646]\u001b[A\u001b[A"
     ]
    },
    {
     "name": "stdout",
     "output_type": "stream",
     "text": [
      "Losses: train - 0.006, test = 0.022\n",
      "Test: accuracy - 0.993\n",
      "Early stopping\n"
     ]
    }
   ],
   "source": [
    "epochs = 10\n",
    "losses = []\n",
    "# нужно для early stopping, то есть трекать лучший лосс на валидации\n",
    "best_test_loss = 10.\n",
    "\n",
    "for n_epoch in range(epochs):\n",
    "    \n",
    "    train_losses = []\n",
    "    test_losses = []\n",
    "    test_preds = []\n",
    "    test_targets = []\n",
    "    \n",
    "    progress_bar = tqdm(total=len(train_loader.dataset), desc='Epoch {}'.format(n_epoch + 1))\n",
    "    \n",
    "    for x, y in train_loader:\n",
    "        \n",
    "        x = x.view(x.shape[0], -1)\n",
    "        y = y.unsqueeze(1).float()\n",
    "        \n",
    "        optimizer.zero_grad()\n",
    "        \n",
    "        pred = model(x)\n",
    "        \n",
    "        loss = criterion(pred, y.float())\n",
    "        \n",
    "        loss.backward()\n",
    "        \n",
    "        optimizer.step()\n",
    "        \n",
    "        train_losses.append(loss.item())\n",
    "        losses.append(loss.item())\n",
    "        \n",
    "        progress_bar.set_postfix(train_loss = np.mean(losses[-100:]))\n",
    "\n",
    "        progress_bar.update(x.shape[0])\n",
    "        \n",
    "    progress_bar.close()\n",
    "    \n",
    "    for x, y in test_loader:\n",
    "        \n",
    "        x = x.view(x.shape[0], -1)\n",
    "        y = y.unsqueeze(1).float()\n",
    "\n",
    "        with torch.no_grad():\n",
    "            \n",
    "            pred = model(x)\n",
    "            \n",
    "        test_preds.append(pred.numpy())\n",
    "        test_targets.append(y.numpy())\n",
    "\n",
    "        loss = criterion(pred, y)\n",
    "\n",
    "        test_losses.append(loss.item())\n",
    "        \n",
    "    mean_test_loss = np.mean(test_losses)\n",
    "        \n",
    "    print('Losses: train - {:.3f}, test = {:.3f}'.format(np.mean(train_losses), mean_test_loss))\n",
    "    \n",
    "    test_preds = np.concatenate(test_preds)\n",
    "    test_preds = test_preds.squeeze()\n",
    "    test_targets = np.concatenate(test_targets).squeeze()\n",
    "    \n",
    "    test_preds[test_preds > 0.5] = 1\n",
    "    test_preds[test_preds <= 0.5] = 0\n",
    "    \n",
    "    accurary = accuracy_score(test_targets, test_preds)\n",
    "\n",
    "    print('Test: accuracy - {:.3f}'.format(accurary))\n",
    "        \n",
    "    # как раз early stopping\n",
    "    # то есть: если наша функция потерь на валидационном датасете стала расти, то прекращаем обучение\n",
    "    # рост фунции потерь на валидационном датасете говорит о переобучении\n",
    "    # пожалуй, самый популярный метод валидации для нейронных сетей\n",
    "    if mean_test_loss < best_test_loss:\n",
    "        best_test_loss = mean_test_loss\n",
    "    else:\n",
    "        print('Early stopping')\n",
    "        break    "
   ]
  },
  {
   "cell_type": "code",
   "execution_count": 0,
   "metadata": {
    "colab": {},
    "colab_type": "code",
    "id": "U4URcBJPN_Ow",
    "outputId": "c5b2dd03-5307-4d95-80e5-99a3b65a3f65"
   },
   "outputs": [
    {
     "data": {
      "image/png": "[encoded data removed]",
      "text/plain": [
       "<Figure size 1008x864 with 1 Axes>"
      ]
     },
     "metadata": {
      "needs_background": "light",
      "tags": []
     },
     "output_type": "display_data"
    }
   ],
   "source": [
    "plt.figure(figsize=(14, 12))\n",
    "plt.plot(losses)\n",
    "plt.grid()\n",
    "plt.title('Training process')\n",
    "plt.xlabel('Iterations')\n",
    "plt.ylabel('Loss function');"
   ]
  },
  {
   "cell_type": "code",
   "execution_count": 0,
   "metadata": {
    "colab": {},
    "colab_type": "code",
    "id": "ADR-X_GTN_Pz"
   },
   "outputs": [],
   "source": []
  },
  {
   "cell_type": "markdown",
   "metadata": {
    "colab_type": "text",
    "id": "6VLPaxhzOSKR"
   },
   "source": [
    "# Word2vec"
   ]
  }
 ],
 "metadata": {
  "accelerator": "GPU",
  "colab": {
   "name": "Homework 1.ipynb",
   "provenance": [
    {
     "file_id": "https://github.com/BobaZooba/HSE-Deep-Learning-in-NLP-Course/blob/master/week_01/neural_network/Homework%201.1.ipynb",
     "timestamp": 1572683345924
    }
   ]
  },
  "kernelspec": {
   "display_name": "Python 3",
   "language": "python",
   "name": "python3"
  },
  "language_info": {
   "codemirror_mode": {
    "name": "ipython",
    "version": 3
   },
   "file_extension": ".py",
   "mimetype": "text/x-python",
   "name": "python",
   "nbconvert_exporter": "python",
   "pygments_lexer": "ipython3",
   "version": "3.6.8"
  }
 },
 "nbformat": 4,
 "nbformat_minor": 1
}
