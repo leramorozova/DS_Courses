{
 "cells": [
  {
   "cell_type": "markdown",
   "metadata": {},
   "source": [
    "# TODO\n",
    "\n",
    "- улучшить парсер (убрать пустые тексты)\n",
    "- убрать наны из текстов!!!!\n",
    "- передвинуть CV после метрик\n",
    "\n",
    "\n",
    "## Метрики\n",
    "+ + длина текста\n",
    "+ + max min tf-idf\n",
    "+ 0 max и min косинусное расстояние между парами слов (соседних и не соседних, если успеем посчитать), tf-idf взвешенное (умножать каждое слово на tf-idf этого слова для этого документа),\n",
    "____________\n",
    "+ вытащить пять самых частотных слов из текста (слово с самым высоким tf-idf - классификация с помощью правил в зависимости от пересечения самых значимых слов для группы со словами в данном документе)\n",
    "+ средний вектор текста сравнить со средними по каждой группе (взять центроид текста и сравнить с центроидом группы)\n",
    "+ то же самое, только по пяти частотным словам\n",
    "\n",
    "## Модели\n",
    "+ логистическая регрессия\n",
    "+ случайный лес (выкинуть матрицы текстов)\n",
    "+ [xgboost](https://www.kaggle.com/stuarthallows/using-xgboost-with-scikit-learn)\n",
    "+ классификация до и после понижения размерности фичей (только все инты) с помощью Principal Composition Analysis\n",
    "\n",
    "! делать конфьюжен матрикс\n",
    "\n",
    "sns.heatmap(data=confusion_matrix(twenty_test.target, predicted), annot=True, fmt=\"d\", cbar=False, xticklabels=categories, yticklabels=categories)"
   ]
  },
  {
   "cell_type": "code",
   "execution_count": 2,
   "metadata": {
    "colab": {
     "base_uri": "https://localhost:8080/",
     "height": 242
    },
    "colab_type": "code",
    "id": "H0Epx-f8LqGR",
    "outputId": "b597bf3a-3f85-44d2-ab43-e64575122d4f"
   },
   "outputs": [
    {
     "data": {
      "text/html": [
       "<div>\n",
       "<style scoped>\n",
       "    .dataframe tbody tr th:only-of-type {\n",
       "        vertical-align: middle;\n",
       "    }\n",
       "\n",
       "    .dataframe tbody tr th {\n",
       "        vertical-align: top;\n",
       "    }\n",
       "\n",
       "    .dataframe thead th {\n",
       "        text-align: right;\n",
       "    }\n",
       "</style>\n",
       "<table border=\"1\" class=\"dataframe\">\n",
       "  <thead>\n",
       "    <tr style=\"text-align: right;\">\n",
       "      <th></th>\n",
       "      <th>text</th>\n",
       "      <th>group</th>\n",
       "    </tr>\n",
       "    <tr>\n",
       "      <th>id</th>\n",
       "      <th></th>\n",
       "      <th></th>\n",
       "    </tr>\n",
       "  </thead>\n",
       "  <tbody>\n",
       "    <tr>\n",
       "      <th>2688</th>\n",
       "      <td>КУДАХ И ТОРНАДО\\n\\nочень скучаю по торнадо. ме...</td>\n",
       "      <td>kudah</td>\n",
       "    </tr>\n",
       "    <tr>\n",
       "      <th>2997</th>\n",
       "      <td>В КУДАХЕ ТОННЕЛЬ, НО НЕ ДЛЯ ПОБЕГА\\n\\nкудах оп...</td>\n",
       "      <td>kudah</td>\n",
       "    </tr>\n",
       "    <tr>\n",
       "      <th>1414</th>\n",
       "      <td>NaN</td>\n",
       "      <td>telegony</td>\n",
       "    </tr>\n",
       "    <tr>\n",
       "      <th>1752</th>\n",
       "      <td>NaN</td>\n",
       "      <td>telegony</td>\n",
       "    </tr>\n",
       "    <tr>\n",
       "      <th>931</th>\n",
       "      <td>NaN</td>\n",
       "      <td>krishnaits</td>\n",
       "    </tr>\n",
       "  </tbody>\n",
       "</table>\n",
       "</div>"
      ],
      "text/plain": [
       "                                                   text       group\n",
       "id                                                                 \n",
       "2688  КУДАХ И ТОРНАДО\\n\\nочень скучаю по торнадо. ме...       kudah\n",
       "2997  В КУДАХЕ ТОННЕЛЬ, НО НЕ ДЛЯ ПОБЕГА\\n\\nкудах оп...       kudah\n",
       "1414                                                NaN    telegony\n",
       "1752                                                NaN    telegony\n",
       "931                                                 NaN  krishnaits"
      ]
     },
     "execution_count": 2,
     "metadata": {},
     "output_type": "execute_result"
    }
   ],
   "source": [
    "import pandas as pd\n",
    "import numpy as np\n",
    "import matplotlib.pyplot as plt\n",
    "plt.style.use('ggplot')\n",
    "import matplotlib\n",
    "%matplotlib inline\n",
    "import random\n",
    "import warnings\n",
    "\n",
    "df = pd.read_csv('data.csv', index_col='id')\n",
    "df = df.sample(frac=1)\n",
    "df.head()"
   ]
  },
  {
   "cell_type": "code",
   "execution_count": 3,
   "metadata": {
    "colab": {},
    "colab_type": "code",
    "id": "DaA-XZZ_-myv"
   },
   "outputs": [],
   "source": [
    "import warnings\n",
    "warnings.filterwarnings('ignore')"
   ]
  },
  {
   "cell_type": "code",
   "execution_count": 4,
   "metadata": {
    "colab": {
     "base_uri": "https://localhost:8080/",
     "height": 166
    },
    "colab_type": "code",
    "id": "DXC3AW1V_zNr",
    "outputId": "df51260e-f0c8-470a-e220-9b7b6d98e701"
   },
   "outputs": [
    {
     "data": {
      "text/html": [
       "<div>\n",
       "<style scoped>\n",
       "    .dataframe tbody tr th:only-of-type {\n",
       "        vertical-align: middle;\n",
       "    }\n",
       "\n",
       "    .dataframe tbody tr th {\n",
       "        vertical-align: top;\n",
       "    }\n",
       "\n",
       "    .dataframe thead th {\n",
       "        text-align: right;\n",
       "    }\n",
       "</style>\n",
       "<table border=\"1\" class=\"dataframe\">\n",
       "  <thead>\n",
       "    <tr style=\"text-align: right;\">\n",
       "      <th></th>\n",
       "      <th>text</th>\n",
       "      <th>group</th>\n",
       "    </tr>\n",
       "  </thead>\n",
       "  <tbody>\n",
       "    <tr>\n",
       "      <th>count</th>\n",
       "      <td>2447</td>\n",
       "      <td>3000</td>\n",
       "    </tr>\n",
       "    <tr>\n",
       "      <th>unique</th>\n",
       "      <td>2429</td>\n",
       "      <td>5</td>\n",
       "    </tr>\n",
       "    <tr>\n",
       "      <th>top</th>\n",
       "      <td>Доброе утро!</td>\n",
       "      <td>podkoren</td>\n",
       "    </tr>\n",
       "    <tr>\n",
       "      <th>freq</th>\n",
       "      <td>5</td>\n",
       "      <td>600</td>\n",
       "    </tr>\n",
       "  </tbody>\n",
       "</table>\n",
       "</div>"
      ],
      "text/plain": [
       "                text     group\n",
       "count           2447      3000\n",
       "unique          2429         5\n",
       "top     Доброе утро!  podkoren\n",
       "freq               5       600"
      ]
     },
     "execution_count": 4,
     "metadata": {},
     "output_type": "execute_result"
    }
   ],
   "source": [
    "df.describe(include=[np.object])"
   ]
  },
  {
   "cell_type": "code",
   "execution_count": 5,
   "metadata": {
    "colab": {
     "base_uri": "https://localhost:8080/",
     "height": 67
    },
    "colab_type": "code",
    "id": "hCyF9ATDAAwg",
    "outputId": "013c715c-6bb5-4f2d-bf7a-a465933cc855"
   },
   "outputs": [
    {
     "name": "stderr",
     "output_type": "stream",
     "text": [
      "[nltk_data] Downloading package punkt to /home/valeria/nltk_data...\n",
      "[nltk_data]   Package punkt is already up-to-date!\n"
     ]
    }
   ],
   "source": [
    "import nltk\n",
    "import re\n",
    "from pymystem3 import Mystem\n",
    "\n",
    "nltk.download('punkt')\n",
    "mystem_analyzer = Mystem()\n",
    "\n",
    "lemmatized = []\n",
    "unlemmatized = []\n",
    "\n",
    "for doc in df['text']:\n",
    "    text = re.sub(\"<br>\", \"\", str(doc))\n",
    "    word_list = nltk.word_tokenize(text)\n",
    "    unlemmatized.append(word_list)\n",
    "    lemmatized.append([mystem_analyzer.lemmatize(word)[0] for word in word_list])"
   ]
  },
  {
   "cell_type": "code",
   "execution_count": 6,
   "metadata": {
    "colab": {},
    "colab_type": "code",
    "id": "csNWujUCAG-U"
   },
   "outputs": [
    {
     "name": "stdout",
     "output_type": "stream",
     "text": [
      "Количество токенов в датасете: 692543\n",
      "Количество уникальных лемм: 37248\n"
     ]
    }
   ],
   "source": [
    "from itertools import chain\n",
    "\n",
    "count_unlem = 0\n",
    "\n",
    "for el in unlemmatized:\n",
    "    count_unlem += len(el)\n",
    "\n",
    "cont_lemmatized = list(chain.from_iterable(lemmatized))\n",
    "\n",
    "print(\"Количество токенов в датасете:\", count_unlem)\n",
    "print(\"Количество уникальных лемм:\", len(set(cont_lemmatized)))"
   ]
  },
  {
   "cell_type": "code",
   "execution_count": 7,
   "metadata": {
    "colab": {},
    "colab_type": "code",
    "id": "Q8ZSjGM-AH0u"
   },
   "outputs": [
    {
     "name": "stdout",
     "output_type": "stream",
     "text": [
      "Среднее количество слов на документ: 230\n",
      "Среднее количество символов на документ: 1281\n"
     ]
    }
   ],
   "source": [
    "words_per_doc = np.mean([len(text) for text in unlemmatized])\n",
    "symbols_per_doc = np.mean([len(str(doc)) for doc in df[\"text\"]])\n",
    "\n",
    "print(\"Среднее количество слов на документ:\", int(words_per_doc))\n",
    "print(\"Среднее количество символов на документ:\", int(symbols_per_doc))"
   ]
  },
  {
   "cell_type": "code",
   "execution_count": 8,
   "metadata": {},
   "outputs": [],
   "source": [
    "from nltk.corpus import stopwords\n",
    "import pymorphy2 as pm2\n",
    "\n",
    "pmm = pm2.MorphAnalyzer()\n",
    "russian_stopwords = stopwords.words(\"russian\")\n",
    "\n",
    "# сюда добавить парсинг получше\n",
    "def parse(text):\n",
    "    text = re.sub(r'[^\\w\\s]','', str(text))\n",
    "    text = re.sub(\"[0-9A-Za-z#_=]\", \"\", text)\n",
    "    text = [pmm.normal_forms(x)[0] for x in text.split() if x not in russian_stopwords]\n",
    "    if text == [np.nan]:\n",
    "        return(['nan'])\n",
    "    return text\n",
    "\n",
    "df['text'] = df['text'].apply(parse)"
   ]
  },
  {
   "cell_type": "code",
   "execution_count": 9,
   "metadata": {},
   "outputs": [
    {
     "data": {
      "text/html": [
       "<div>\n",
       "<style scoped>\n",
       "    .dataframe tbody tr th:only-of-type {\n",
       "        vertical-align: middle;\n",
       "    }\n",
       "\n",
       "    .dataframe tbody tr th {\n",
       "        vertical-align: top;\n",
       "    }\n",
       "\n",
       "    .dataframe thead th {\n",
       "        text-align: right;\n",
       "    }\n",
       "</style>\n",
       "<table border=\"1\" class=\"dataframe\">\n",
       "  <thead>\n",
       "    <tr style=\"text-align: right;\">\n",
       "      <th></th>\n",
       "      <th>text</th>\n",
       "      <th>group</th>\n",
       "    </tr>\n",
       "    <tr>\n",
       "      <th>id</th>\n",
       "      <th></th>\n",
       "      <th></th>\n",
       "    </tr>\n",
       "  </thead>\n",
       "  <tbody>\n",
       "    <tr>\n",
       "      <th>2688</th>\n",
       "      <td>[куд, и, торнадо, очень, скучать, торнадо, хле...</td>\n",
       "      <td>kudah</td>\n",
       "    </tr>\n",
       "    <tr>\n",
       "      <th>2997</th>\n",
       "      <td>[в, кудах, тоннель, но, не, для, побег, куд, с...</td>\n",
       "      <td>kudah</td>\n",
       "    </tr>\n",
       "    <tr>\n",
       "      <th>1414</th>\n",
       "      <td>[]</td>\n",
       "      <td>telegony</td>\n",
       "    </tr>\n",
       "    <tr>\n",
       "      <th>1752</th>\n",
       "      <td>[]</td>\n",
       "      <td>telegony</td>\n",
       "    </tr>\n",
       "    <tr>\n",
       "      <th>931</th>\n",
       "      <td>[]</td>\n",
       "      <td>krishnaits</td>\n",
       "    </tr>\n",
       "  </tbody>\n",
       "</table>\n",
       "</div>"
      ],
      "text/plain": [
       "                                                   text       group\n",
       "id                                                                 \n",
       "2688  [куд, и, торнадо, очень, скучать, торнадо, хле...       kudah\n",
       "2997  [в, кудах, тоннель, но, не, для, побег, куд, с...       kudah\n",
       "1414                                                 []    telegony\n",
       "1752                                                 []    telegony\n",
       "931                                                  []  krishnaits"
      ]
     },
     "execution_count": 9,
     "metadata": {},
     "output_type": "execute_result"
    }
   ],
   "source": [
    "df.head(5)"
   ]
  },
  {
   "cell_type": "markdown",
   "metadata": {},
   "source": [
    "## TF-IDF"
   ]
  },
  {
   "cell_type": "code",
   "execution_count": 12,
   "metadata": {},
   "outputs": [],
   "source": [
    "from gensim.models import TfidfModel\n",
    "from gensim.corpora import Dictionary\n",
    "from gensim.utils import simple_preprocess\n",
    "\n",
    "dct = Dictionary()\n",
    "\n",
    "dct.add_documents(list(df[\"text\"]))\n",
    "corpus = []\n",
    "for idx, row in df.iterrows():\n",
    "    corpus.append(dct.doc2bow(row['text']))\n",
    "tf_idf = TfidfModel(corpus)"
   ]
  },
  {
   "cell_type": "code",
   "execution_count": 13,
   "metadata": {},
   "outputs": [],
   "source": [
    "vectors = [tf_idf[doc] for doc in corpus]"
   ]
  },
  {
   "cell_type": "code",
   "execution_count": 14,
   "metadata": {},
   "outputs": [
    {
     "data": {
      "text/plain": [
       "{'антропология': 0.13193552536887726,\n",
       " 'большой': 0.05344479063789524,\n",
       " 'братец': 0.15032721936852053,\n",
       " 'вдохнуть': 0.1552589573836702,\n",
       " 'весь': 0.09518281651471602,\n",
       " 'вечность': 0.12109074706973376,\n",
       " 'воскликнуть': 0.12866292143201075,\n",
       " 'вряд': 0.0921973472432415,\n",
       " 'вывод': 0.08963642679724876,\n",
       " 'выполнить': 0.09274880429267256,\n",
       " 'выпустить': 0.10163798396933127,\n",
       " 'глубоко': 0.09776731505494081,\n",
       " 'говориться': 0.08528866133929136,\n",
       " 'грань': 0.11552077925803443,\n",
       " 'должный': 0.047119136143471956,\n",
       " 'дорогой': 0.07444388304014787,\n",
       " 'ещё': 0.03700306878934491,\n",
       " 'закончиться': 0.09923202700494284,\n",
       " 'знать': 0.042512466224095914,\n",
       " 'и': 0.030564587722126505,\n",
       " 'иметь': 0.15479264270676557,\n",
       " 'исследование': 0.09574388920952373,\n",
       " 'история': 0.05175899247409029,\n",
       " 'итог': 0.15131470121113363,\n",
       " 'конец': 0.05233391859077387,\n",
       " 'корень': 0.16205688399197954,\n",
       " 'который': 0.057524361579211584,\n",
       " 'кто': 0.05415846801491459,\n",
       " 'культурный': 0.08451657979140888,\n",
       " 'литература': 0.07831455195453832,\n",
       " 'любезный': 0.2278949484369536,\n",
       " 'мир': 0.08662737943154218,\n",
       " 'мы': 0.04472015772603271,\n",
       " 'наверное': 0.07516360968426027,\n",
       " 'накопиться': 0.1190673212243167,\n",
       " 'написать': 0.12213430783772948,\n",
       " 'начать': 0.050348369477472434,\n",
       " 'неправильно': 0.11111261574306833,\n",
       " 'но': 0.07989594404243831,\n",
       " 'нужный': 0.06446575171348243,\n",
       " 'нуль': 0.13193552536887726,\n",
       " 'он': 0.03578510859821467,\n",
       " 'описывать': 0.08963642679724876,\n",
       " 'оспорить': 0.12332754056761826,\n",
       " 'отмахнуться': 0.14665097258241122,\n",
       " 'отпустить': 0.11552077925803443,\n",
       " 'повсюду': 0.08915933025368182,\n",
       " 'под': 0.1661037356828137,\n",
       " 'позиция': 0.07374775829142846,\n",
       " 'пойти': 0.05379863054077589,\n",
       " 'последний': 0.05770500998119683,\n",
       " 'потаённый': 0.08528866133929136,\n",
       " 'поэтому': 0.049384892678207996,\n",
       " 'предыдущий': 0.09062404220368386,\n",
       " 'пройти': 0.07018366369684628,\n",
       " 'проникнуться': 0.1258280629566023,\n",
       " 'прорасти': 0.09707119030622141,\n",
       " 'прорастить': 0.12866292143201075,\n",
       " 'простой': 0.0668010600179327,\n",
       " 'проходить': 0.0724204571947308,\n",
       " 'прочитать': 0.081352568944098,\n",
       " 'пустой': 0.09274880429267256,\n",
       " 'развить': 0.10861209335408431,\n",
       " 'рассказать': 0.07642018366594976,\n",
       " 'род': 0.08168172131600042,\n",
       " 'рука': 0.05470992506434565,\n",
       " 'свой': 0.026377785983011402,\n",
       " 'сестричка': 0.17384507351159462,\n",
       " 'сладкий': 0.1139474742184768,\n",
       " 'смотреть': 0.054524509888226366,\n",
       " 'смысл': 0.06359910474100436,\n",
       " 'смысловой': 0.12866292143201075,\n",
       " 'современный': 0.06781219886469077,\n",
       " 'социология': 0.13580619428326773,\n",
       " 'спорый': 0.09449471111807431,\n",
       " 'сумма': 0.10982556091950327,\n",
       " 'счастливо': 0.2344401563106866,\n",
       " 'такой': 0.06999606354752955,\n",
       " 'текст': 0.06851407775430984,\n",
       " 'тот': 0.07879541231448094,\n",
       " 'трактат': 0.35720196367295004,\n",
       " 'учёт': 0.12332754056761826,\n",
       " 'часть': 0.058692625387631904,\n",
       " 'что': 0.04364284208767351,\n",
       " 'это': 0.04453482448561032,\n",
       " 'являться': 0.05728039777269051}"
      ]
     },
     "execution_count": 14,
     "metadata": {},
     "output_type": "execute_result"
    }
   ],
   "source": [
    "vectors = [{dct[el[0]]: el[1] for el in vector} for vector in vectors]\n",
    "vectors[0]"
   ]
  },
  {
   "cell_type": "markdown",
   "metadata": {},
   "source": [
    "## Embeddings"
   ]
  },
  {
   "cell_type": "code",
   "execution_count": 88,
   "metadata": {},
   "outputs": [
    {
     "name": "stdout",
     "output_type": "stream",
     "text": [
      "--2019-06-06 23:14:42--  http://corpus.leeds.ac.uk/tools/ru/ruwac-parsed.out.xz\n",
      "Распознаётся corpus.leeds.ac.uk (corpus.leeds.ac.uk)… 129.11.80.147\n",
      "Подключение к corpus.leeds.ac.uk (corpus.leeds.ac.uk)|129.11.80.147|:80... соединение установлено.\n",
      "HTTP-запрос отправлен. Ожидание ответа… 200 OK\n",
      "Длина: 9768295304 (9,1G) [application/x-xz]\n",
      "Сохранение в: «ruwac-parsed.out.xz.1»\n",
      "\n",
      "ruwac-parsed.out.xz   0%[                    ]   6,39M  1,41MB/s    ост 2h 8m  ^C\n"
     ]
    }
   ],
   "source": [
    "!wget \"http://corpus.leeds.ac.uk/tools/ru/ruwac-parsed.out.xz\""
   ]
  },
  {
   "cell_type": "code",
   "execution_count": 15,
   "metadata": {},
   "outputs": [],
   "source": [
    "import lzma\n",
    "import os\n",
    "from collections import Counter\n",
    "from datetime import datetime\n",
    "from gensim.corpora import Dictionary\n",
    "from gensim.models import TfidfModel, LsiModel\n",
    "from progressbar import progressbar\n",
    "from sklearn import svm\n",
    "from sklearn.exceptions import UndefinedMetricWarning\n",
    "from sklearn import metrics \n",
    "from sklearn.model_selection import LeaveOneOut, cross_val_score, GridSearchCV, train_test_split\n",
    "from string import punctuation as punct\n",
    "from string import ascii_letters as latin\n",
    "from tqdm import tqdm\n",
    "punct += '»«'\n",
    "\n",
    "corpus_archive_filename = 'ruwac-parsed.out.xz'\n",
    "corpus_filename = 'corpus.txt'\n",
    "premodel_filename = 'small.model'\n",
    "vocabulary_filename = 'freq.txt'\n",
    "model_filename = 'full.model'\n",
    "sample_directory = 'sample'\n",
    "manual_filename = 'manual_metrics.csv'\n",
    "df_filename = 'data.csv'\n",
    "lsi_model_small_filename = 'small_lsi.model'\n",
    "wordlist_filename = 'wordlist.json'\n",
    "idfs_filename = 'idfs.json'"
   ]
  },
  {
   "cell_type": "code",
   "execution_count": null,
   "metadata": {},
   "outputs": [],
   "source": [
    "with lzma.open(corpus_archive_filename, mode='rt', encoding='utf-8') as f:\n",
    "    with open(corpus_filename, mode='w', encoding='utf-8') as t:\n",
    "        current = []\n",
    "        for line_number, line in enumerate(f):\n",
    "            if line_number % 10000000 == 0:\n",
    "                print(line_number, datetime.now().time(), file=open('archive_log.txt', 'a', encoding='utf-8'))\n",
    "            l = line.split('\\t')\n",
    "            if len(l) == 7:\n",
    "                lemm = l[3]\n",
    "                sent = l[1]\n",
    "                if sent == 'SENT':\n",
    "                    if set(latin).intersection(set(''.join(current))) == set():\n",
    "                        current.append('\\n')\n",
    "                        print(' '.join(current), file=t, end='')\n",
    "                    current = []\n",
    "                elif lemm not in punct:\n",
    "                    current.append(lemm)"
   ]
  },
  {
   "cell_type": "code",
   "execution_count": 16,
   "metadata": {},
   "outputs": [],
   "source": [
    "from gensim.models import Word2Vec"
   ]
  },
  {
   "cell_type": "code",
   "execution_count": 17,
   "metadata": {},
   "outputs": [],
   "source": [
    "sentences = list(df[\"text\"])"
   ]
  },
  {
   "cell_type": "code",
   "execution_count": 18,
   "metadata": {},
   "outputs": [],
   "source": [
    "premodel = Word2Vec(sentences, sg=1, min_count=1, workers=1, size=100)"
   ]
  },
  {
   "cell_type": "code",
   "execution_count": 20,
   "metadata": {
    "scrolled": true
   },
   "outputs": [
    {
     "data": {
      "text/plain": [
       "('любезный', <gensim.models.keyedvectors.Vocab at 0x7fc0745843c8>)"
      ]
     },
     "execution_count": 20,
     "metadata": {},
     "output_type": "execute_result"
    }
   ],
   "source": [
    "list(premodel.wv.vocab.items())[0]"
   ]
  },
  {
   "cell_type": "code",
   "execution_count": 21,
   "metadata": {},
   "outputs": [
    {
     "data": {
      "text/plain": [
       "0.92137635"
      ]
     },
     "execution_count": 21,
     "metadata": {},
     "output_type": "execute_result"
    }
   ],
   "source": [
    "premodel.similarity('сестричка', 'убить')"
   ]
  },
  {
   "cell_type": "code",
   "execution_count": 147,
   "metadata": {},
   "outputs": [],
   "source": [
    "addition = \"\\n\"\n",
    "\n",
    "for sent in sentences:\n",
    "    addition += \" \".join(sent) + '\\n'\n",
    "    \n",
    "with open(corpus_filename, mode='a', encoding='utf-8') as t:\n",
    "    t.write(addition)"
   ]
  },
  {
   "cell_type": "code",
   "execution_count": 22,
   "metadata": {},
   "outputs": [],
   "source": [
    "def get_vocabulary(filename):\n",
    "    with open(filename, 'r', encoding='utf-8') as file:\n",
    "        for line in file:\n",
    "            for word in line.split():\n",
    "                yield word\n",
    "\n",
    "def get_sentences(filename):\n",
    "    with open(filename, 'r', encoding='utf-8') as file:\n",
    "        for line in file:\n",
    "            yield line.split()"
   ]
  },
  {
   "cell_type": "code",
   "execution_count": 23,
   "metadata": {},
   "outputs": [
    {
     "name": "stderr",
     "output_type": "stream",
     "text": [
      "487263005it [04:24, 1842969.96it/s]\n"
     ]
    }
   ],
   "source": [
    "from collections import Counter\n",
    "\n",
    "word_freq = Counter(tqdm(get_vocabulary(corpus_filename)))"
   ]
  },
  {
   "cell_type": "code",
   "execution_count": 24,
   "metadata": {},
   "outputs": [],
   "source": [
    "model = Word2Vec(sg=1, min_count=1, workers=1, size=100)"
   ]
  },
  {
   "cell_type": "code",
   "execution_count": 25,
   "metadata": {},
   "outputs": [],
   "source": [
    "model.build_vocab_from_freq(word_freq)"
   ]
  },
  {
   "cell_type": "code",
   "execution_count": 26,
   "metadata": {},
   "outputs": [
    {
     "data": {
      "text/plain": [
       "(414160863, 487263005)"
      ]
     },
     "execution_count": 26,
     "metadata": {},
     "output_type": "execute_result"
    }
   ],
   "source": [
    "model.train(get_sentences(corpus_filename), epochs=1, total_examples=len(word_freq))"
   ]
  },
  {
   "cell_type": "code",
   "execution_count": 27,
   "metadata": {},
   "outputs": [],
   "source": [
    "model.save(\"new_model\")"
   ]
  },
  {
   "cell_type": "code",
   "execution_count": 28,
   "metadata": {},
   "outputs": [
    {
     "data": {
      "text/plain": [
       "[('это', <gensim.models.keyedvectors.Vocab at 0x7fc010fa0400>),\n",
       " ('тип', <gensim.models.keyedvectors.Vocab at 0x7fbff74fe0b8>),\n",
       " ('девушка', <gensim.models.keyedvectors.Vocab at 0x7fbff74fe2e8>),\n",
       " ('в', <gensim.models.keyedvectors.Vocab at 0x7fbff74fe048>),\n",
       " ('один', <gensim.models.keyedvectors.Vocab at 0x7fbff74fe438>),\n",
       " ('день', <gensim.models.keyedvectors.Vocab at 0x7fbff74fe2b0>),\n",
       " ('отмечать', <gensim.models.keyedvectors.Vocab at 0x7fbff74fe160>),\n",
       " ('что', <gensim.models.keyedvectors.Vocab at 0x7fbff74fe748>),\n",
       " ('на', <gensim.models.keyedvectors.Vocab at 0x7fbff74fe1d0>),\n",
       " ('себя', <gensim.models.keyedvectors.Vocab at 0x7fbff74fe278>)]"
      ]
     },
     "execution_count": 28,
     "metadata": {},
     "output_type": "execute_result"
    }
   ],
   "source": [
    "list(model.wv.vocab.items())[:10]"
   ]
  },
  {
   "cell_type": "code",
   "execution_count": 31,
   "metadata": {},
   "outputs": [
    {
     "data": {
      "text/plain": [
       "0.8574129"
      ]
     },
     "execution_count": 31,
     "metadata": {},
     "output_type": "execute_result"
    }
   ],
   "source": [
    "model.similarity('сестричка', 'бля')"
   ]
  },
  {
   "cell_type": "code",
   "execution_count": 32,
   "metadata": {},
   "outputs": [
    {
     "data": {
      "text/plain": [
       "array([ 0.39728817,  0.33759257,  0.7590469 ,  0.06518362, -0.00707845,\n",
       "        0.21875107, -0.278317  , -0.12087888, -0.8043595 ,  0.21836177,\n",
       "       -0.1006732 ,  0.3203989 , -0.51800084,  0.4067611 , -0.22997738,\n",
       "       -0.16281371,  0.1696374 ,  0.15048559,  0.21203   , -0.24017143,\n",
       "       -0.69083244,  0.49337438,  0.24594243, -0.14898317, -0.30758995,\n",
       "        0.43765056, -0.15040557, -0.26634857, -0.18923329, -0.21882819,\n",
       "        0.31550246, -0.10189518, -0.26420575,  0.03930803, -0.5591204 ,\n",
       "        0.20390655, -0.10754047, -0.46035388,  0.3988782 ,  0.66853565,\n",
       "        0.12194882,  0.20048839,  0.03152714,  0.22004724,  0.22344092,\n",
       "        0.08621364,  0.08817811,  0.41683516,  0.33218208, -0.2985513 ,\n",
       "       -0.06771833,  0.00605447,  0.36615172,  0.2530866 , -0.77041537,\n",
       "       -0.14882922, -0.09573819, -0.05361597, -0.24468362,  0.34957165,\n",
       "       -0.05098194, -0.8742342 , -0.05177836,  0.5112704 , -0.2002943 ,\n",
       "       -0.19358756,  0.31097212, -0.49275833, -0.12766156, -0.07742158,\n",
       "       -0.4029882 ,  0.36969715,  0.13992319, -0.45655802,  0.59568197,\n",
       "       -0.02112529,  0.5689996 ,  0.6724893 ,  0.07626089,  0.01725303,\n",
       "        0.67218053,  0.11353035, -0.24425855,  0.266504  , -0.44406065,\n",
       "       -0.65920866,  0.10980263,  0.25593096,  0.07252976,  0.12248405,\n",
       "        0.2623696 , -0.42185524,  0.00821995,  0.6418381 , -0.09160082,\n",
       "       -0.58450073, -0.3613225 , -0.16477717, -0.29235005,  0.36292914],\n",
       "      dtype=float32)"
      ]
     },
     "execution_count": 32,
     "metadata": {},
     "output_type": "execute_result"
    }
   ],
   "source": [
    "model.wv[\"антропология\"]"
   ]
  },
  {
   "cell_type": "code",
   "execution_count": 33,
   "metadata": {},
   "outputs": [
    {
     "data": {
      "text/html": [
       "<div>\n",
       "<style scoped>\n",
       "    .dataframe tbody tr th:only-of-type {\n",
       "        vertical-align: middle;\n",
       "    }\n",
       "\n",
       "    .dataframe tbody tr th {\n",
       "        vertical-align: top;\n",
       "    }\n",
       "\n",
       "    .dataframe thead th {\n",
       "        text-align: right;\n",
       "    }\n",
       "</style>\n",
       "<table border=\"1\" class=\"dataframe\">\n",
       "  <thead>\n",
       "    <tr style=\"text-align: right;\">\n",
       "      <th></th>\n",
       "      <th>text</th>\n",
       "      <th>group</th>\n",
       "      <th>weighted_vec</th>\n",
       "    </tr>\n",
       "    <tr>\n",
       "      <th>id</th>\n",
       "      <th></th>\n",
       "      <th></th>\n",
       "      <th></th>\n",
       "    </tr>\n",
       "  </thead>\n",
       "  <tbody>\n",
       "    <tr>\n",
       "      <th>0</th>\n",
       "      <td>[любезный, братец, сестричка, под, корень, зак...</td>\n",
       "      <td>podkoren</td>\n",
       "      <td>NaN</td>\n",
       "    </tr>\n",
       "    <tr>\n",
       "      <th>1</th>\n",
       "      <td>[завтра, воскресение, сообщество, появиться, п...</td>\n",
       "      <td>podkoren</td>\n",
       "      <td>NaN</td>\n",
       "    </tr>\n",
       "    <tr>\n",
       "      <th>2</th>\n",
       "      <td>[за, время, существование, наш, сообщество, со...</td>\n",
       "      <td>podkoren</td>\n",
       "      <td>NaN</td>\n",
       "    </tr>\n",
       "    <tr>\n",
       "      <th>3</th>\n",
       "      <td>[жизнь, продолжаться, продолжаться, дорога, на...</td>\n",
       "      <td>podkoren</td>\n",
       "      <td>NaN</td>\n",
       "    </tr>\n",
       "    <tr>\n",
       "      <th>4</th>\n",
       "      <td>[на, день, погибнуть, наш, автор, любимый, бра...</td>\n",
       "      <td>podkoren</td>\n",
       "      <td>NaN</td>\n",
       "    </tr>\n",
       "  </tbody>\n",
       "</table>\n",
       "</div>"
      ],
      "text/plain": [
       "                                                 text     group  weighted_vec\n",
       "id                                                                           \n",
       "0   [любезный, братец, сестричка, под, корень, зак...  podkoren           NaN\n",
       "1   [завтра, воскресение, сообщество, появиться, п...  podkoren           NaN\n",
       "2   [за, время, существование, наш, сообщество, со...  podkoren           NaN\n",
       "3   [жизнь, продолжаться, продолжаться, дорога, на...  podkoren           NaN\n",
       "4   [на, день, погибнуть, наш, автор, любимый, бра...  podkoren           NaN"
      ]
     },
     "execution_count": 33,
     "metadata": {},
     "output_type": "execute_result"
    }
   ],
   "source": [
    "df['weighted_vec'] = pd.Series(np.nan, index=df.index)\n",
    "df.head()"
   ]
  },
  {
   "cell_type": "code",
   "execution_count": 47,
   "metadata": {},
   "outputs": [
    {
     "data": {
      "text/plain": [
       "0"
      ]
     },
     "execution_count": 47,
     "metadata": {},
     "output_type": "execute_result"
    }
   ],
   "source": [
    "defect_words = 0\n",
    "\n",
    "def get_embs(word):\n",
    "    global defect_words\n",
    "    try:\n",
    "        word_emb = model.wv[re.sub(\"ё\", \"е\", str(word))]\n",
    "    except KeyError:\n",
    "        word_emb = np.zeros(100)\n",
    "        defect_words += 1\n",
    "    return word_emb\n",
    "\n",
    "def doc_to_vec(doc, vector):\n",
    "    vec = [get_embs(word) * vector[word] for word in doc]\n",
    "    return vec\n",
    "\n",
    "defect_words"
   ]
  },
  {
   "cell_type": "code",
   "execution_count": 48,
   "metadata": {},
   "outputs": [],
   "source": [
    "d2v = [doc_to_vec(df[\"text\"][doc], vectors[doc]) for doc in range(len(df[\"weighted_vec\"]))]\n",
    "df['weighted_vec'] = pd.Series(d2v, index=df.index)"
   ]
  },
  {
   "cell_type": "code",
   "execution_count": 49,
   "metadata": {},
   "outputs": [
    {
     "data": {
      "text/html": [
       "<div>\n",
       "<style scoped>\n",
       "    .dataframe tbody tr th:only-of-type {\n",
       "        vertical-align: middle;\n",
       "    }\n",
       "\n",
       "    .dataframe tbody tr th {\n",
       "        vertical-align: top;\n",
       "    }\n",
       "\n",
       "    .dataframe thead th {\n",
       "        text-align: right;\n",
       "    }\n",
       "</style>\n",
       "<table border=\"1\" class=\"dataframe\">\n",
       "  <thead>\n",
       "    <tr style=\"text-align: right;\">\n",
       "      <th></th>\n",
       "      <th>text</th>\n",
       "      <th>group</th>\n",
       "      <th>weighted_vec</th>\n",
       "      <th>word_length</th>\n",
       "      <th>symbol_length</th>\n",
       "      <th>max_idf</th>\n",
       "      <th>min_idf</th>\n",
       "    </tr>\n",
       "    <tr>\n",
       "      <th>id</th>\n",
       "      <th></th>\n",
       "      <th></th>\n",
       "      <th></th>\n",
       "      <th></th>\n",
       "      <th></th>\n",
       "      <th></th>\n",
       "      <th></th>\n",
       "    </tr>\n",
       "  </thead>\n",
       "  <tbody>\n",
       "    <tr>\n",
       "      <th>0</th>\n",
       "      <td>[любезный, братец, сестричка, под, корень, зак...</td>\n",
       "      <td>podkoren</td>\n",
       "      <td>[[-0.024145605, 0.11946748, 0.261655, -0.06556...</td>\n",
       "      <td>107</td>\n",
       "      <td>701</td>\n",
       "      <td>0.357202</td>\n",
       "      <td>0.026378</td>\n",
       "    </tr>\n",
       "    <tr>\n",
       "      <th>1</th>\n",
       "      <td>[завтра, воскресение, сообщество, появиться, п...</td>\n",
       "      <td>podkoren</td>\n",
       "      <td>[[-0.05039152, 0.057766065, 0.103294566, -0.01...</td>\n",
       "      <td>161</td>\n",
       "      <td>1062</td>\n",
       "      <td>0.384330</td>\n",
       "      <td>0.015935</td>\n",
       "    </tr>\n",
       "    <tr>\n",
       "      <th>2</th>\n",
       "      <td>[за, время, существование, наш, сообщество, со...</td>\n",
       "      <td>podkoren</td>\n",
       "      <td>[[-0.05420818, 0.03600782, 0.068977825, -0.006...</td>\n",
       "      <td>118</td>\n",
       "      <td>829</td>\n",
       "      <td>0.220884</td>\n",
       "      <td>0.020886</td>\n",
       "    </tr>\n",
       "    <tr>\n",
       "      <th>3</th>\n",
       "      <td>[жизнь, продолжаться, продолжаться, дорога, на...</td>\n",
       "      <td>podkoren</td>\n",
       "      <td>[[-0.027693467, 0.072877966, 0.056998827, -0.0...</td>\n",
       "      <td>240</td>\n",
       "      <td>1712</td>\n",
       "      <td>0.213519</td>\n",
       "      <td>0.017622</td>\n",
       "    </tr>\n",
       "    <tr>\n",
       "      <th>4</th>\n",
       "      <td>[на, день, погибнуть, наш, автор, любимый, бра...</td>\n",
       "      <td>podkoren</td>\n",
       "      <td>[[-0.053390473, 0.04924318, 0.08710171, 0.0078...</td>\n",
       "      <td>233</td>\n",
       "      <td>1519</td>\n",
       "      <td>0.425739</td>\n",
       "      <td>0.020320</td>\n",
       "    </tr>\n",
       "  </tbody>\n",
       "</table>\n",
       "</div>"
      ],
      "text/plain": [
       "                                                 text     group  \\\n",
       "id                                                                \n",
       "0   [любезный, братец, сестричка, под, корень, зак...  podkoren   \n",
       "1   [завтра, воскресение, сообщество, появиться, п...  podkoren   \n",
       "2   [за, время, существование, наш, сообщество, со...  podkoren   \n",
       "3   [жизнь, продолжаться, продолжаться, дорога, на...  podkoren   \n",
       "4   [на, день, погибнуть, наш, автор, любимый, бра...  podkoren   \n",
       "\n",
       "                                         weighted_vec  word_length  \\\n",
       "id                                                                   \n",
       "0   [[-0.024145605, 0.11946748, 0.261655, -0.06556...          107   \n",
       "1   [[-0.05039152, 0.057766065, 0.103294566, -0.01...          161   \n",
       "2   [[-0.05420818, 0.03600782, 0.068977825, -0.006...          118   \n",
       "3   [[-0.027693467, 0.072877966, 0.056998827, -0.0...          240   \n",
       "4   [[-0.053390473, 0.04924318, 0.08710171, 0.0078...          233   \n",
       "\n",
       "    symbol_length   max_idf   min_idf  \n",
       "id                                     \n",
       "0             701  0.357202  0.026378  \n",
       "1            1062  0.384330  0.015935  \n",
       "2             829  0.220884  0.020886  \n",
       "3            1712  0.213519  0.017622  \n",
       "4            1519  0.425739  0.020320  "
      ]
     },
     "execution_count": 49,
     "metadata": {},
     "output_type": "execute_result"
    }
   ],
   "source": [
    "df.head()"
   ]
  },
  {
   "cell_type": "code",
   "execution_count": 50,
   "metadata": {},
   "outputs": [
    {
     "data": {
      "text/html": [
       "<div>\n",
       "<style scoped>\n",
       "    .dataframe tbody tr th:only-of-type {\n",
       "        vertical-align: middle;\n",
       "    }\n",
       "\n",
       "    .dataframe tbody tr th {\n",
       "        vertical-align: top;\n",
       "    }\n",
       "\n",
       "    .dataframe thead th {\n",
       "        text-align: right;\n",
       "    }\n",
       "</style>\n",
       "<table border=\"1\" class=\"dataframe\">\n",
       "  <thead>\n",
       "    <tr style=\"text-align: right;\">\n",
       "      <th></th>\n",
       "      <th>text</th>\n",
       "      <th>group</th>\n",
       "      <th>weighted_vec</th>\n",
       "      <th>word_length</th>\n",
       "      <th>symbol_length</th>\n",
       "      <th>max_idf</th>\n",
       "      <th>min_idf</th>\n",
       "    </tr>\n",
       "    <tr>\n",
       "      <th>id</th>\n",
       "      <th></th>\n",
       "      <th></th>\n",
       "      <th></th>\n",
       "      <th></th>\n",
       "      <th></th>\n",
       "      <th></th>\n",
       "      <th></th>\n",
       "    </tr>\n",
       "  </thead>\n",
       "  <tbody>\n",
       "    <tr>\n",
       "      <th>0</th>\n",
       "      <td>[любезный, братец, сестричка, под, корень, зак...</td>\n",
       "      <td>podkoren</td>\n",
       "      <td>[[-0.024145605, 0.11946748, 0.261655, -0.06556...</td>\n",
       "      <td>107</td>\n",
       "      <td>701</td>\n",
       "      <td>0.357202</td>\n",
       "      <td>0.026378</td>\n",
       "    </tr>\n",
       "    <tr>\n",
       "      <th>1</th>\n",
       "      <td>[завтра, воскресение, сообщество, появиться, п...</td>\n",
       "      <td>podkoren</td>\n",
       "      <td>[[-0.05039152, 0.057766065, 0.103294566, -0.01...</td>\n",
       "      <td>161</td>\n",
       "      <td>1062</td>\n",
       "      <td>0.384330</td>\n",
       "      <td>0.015935</td>\n",
       "    </tr>\n",
       "    <tr>\n",
       "      <th>2</th>\n",
       "      <td>[за, время, существование, наш, сообщество, со...</td>\n",
       "      <td>podkoren</td>\n",
       "      <td>[[-0.05420818, 0.03600782, 0.068977825, -0.006...</td>\n",
       "      <td>118</td>\n",
       "      <td>829</td>\n",
       "      <td>0.220884</td>\n",
       "      <td>0.020886</td>\n",
       "    </tr>\n",
       "    <tr>\n",
       "      <th>3</th>\n",
       "      <td>[жизнь, продолжаться, продолжаться, дорога, на...</td>\n",
       "      <td>podkoren</td>\n",
       "      <td>[[-0.027693467, 0.072877966, 0.056998827, -0.0...</td>\n",
       "      <td>240</td>\n",
       "      <td>1712</td>\n",
       "      <td>0.213519</td>\n",
       "      <td>0.017622</td>\n",
       "    </tr>\n",
       "    <tr>\n",
       "      <th>4</th>\n",
       "      <td>[на, день, погибнуть, наш, автор, любимый, бра...</td>\n",
       "      <td>podkoren</td>\n",
       "      <td>[[-0.053390473, 0.04924318, 0.08710171, 0.0078...</td>\n",
       "      <td>233</td>\n",
       "      <td>1519</td>\n",
       "      <td>0.425739</td>\n",
       "      <td>0.020320</td>\n",
       "    </tr>\n",
       "  </tbody>\n",
       "</table>\n",
       "</div>"
      ],
      "text/plain": [
       "                                                 text     group  \\\n",
       "id                                                                \n",
       "0   [любезный, братец, сестричка, под, корень, зак...  podkoren   \n",
       "1   [завтра, воскресение, сообщество, появиться, п...  podkoren   \n",
       "2   [за, время, существование, наш, сообщество, со...  podkoren   \n",
       "3   [жизнь, продолжаться, продолжаться, дорога, на...  podkoren   \n",
       "4   [на, день, погибнуть, наш, автор, любимый, бра...  podkoren   \n",
       "\n",
       "                                         weighted_vec  word_length  \\\n",
       "id                                                                   \n",
       "0   [[-0.024145605, 0.11946748, 0.261655, -0.06556...          107   \n",
       "1   [[-0.05039152, 0.057766065, 0.103294566, -0.01...          161   \n",
       "2   [[-0.05420818, 0.03600782, 0.068977825, -0.006...          118   \n",
       "3   [[-0.027693467, 0.072877966, 0.056998827, -0.0...          240   \n",
       "4   [[-0.053390473, 0.04924318, 0.08710171, 0.0078...          233   \n",
       "\n",
       "    symbol_length   max_idf   min_idf  \n",
       "id                                     \n",
       "0             701  0.357202  0.026378  \n",
       "1            1062  0.384330  0.015935  \n",
       "2             829  0.220884  0.020886  \n",
       "3            1712  0.213519  0.017622  \n",
       "4            1519  0.425739  0.020320  "
      ]
     },
     "execution_count": 50,
     "metadata": {},
     "output_type": "execute_result"
    }
   ],
   "source": [
    "df['word_length'] = pd.Series([len(doc) for doc in df[\"text\"]], index=df.index)\n",
    "df.head()"
   ]
  },
  {
   "cell_type": "code",
   "execution_count": 51,
   "metadata": {},
   "outputs": [
    {
     "data": {
      "text/html": [
       "<div>\n",
       "<style scoped>\n",
       "    .dataframe tbody tr th:only-of-type {\n",
       "        vertical-align: middle;\n",
       "    }\n",
       "\n",
       "    .dataframe tbody tr th {\n",
       "        vertical-align: top;\n",
       "    }\n",
       "\n",
       "    .dataframe thead th {\n",
       "        text-align: right;\n",
       "    }\n",
       "</style>\n",
       "<table border=\"1\" class=\"dataframe\">\n",
       "  <thead>\n",
       "    <tr style=\"text-align: right;\">\n",
       "      <th></th>\n",
       "      <th>text</th>\n",
       "      <th>group</th>\n",
       "      <th>weighted_vec</th>\n",
       "      <th>word_length</th>\n",
       "      <th>symbol_length</th>\n",
       "      <th>max_idf</th>\n",
       "      <th>min_idf</th>\n",
       "    </tr>\n",
       "    <tr>\n",
       "      <th>id</th>\n",
       "      <th></th>\n",
       "      <th></th>\n",
       "      <th></th>\n",
       "      <th></th>\n",
       "      <th></th>\n",
       "      <th></th>\n",
       "      <th></th>\n",
       "    </tr>\n",
       "  </thead>\n",
       "  <tbody>\n",
       "    <tr>\n",
       "      <th>0</th>\n",
       "      <td>[любезный, братец, сестричка, под, корень, зак...</td>\n",
       "      <td>podkoren</td>\n",
       "      <td>[[-0.024145605, 0.11946748, 0.261655, -0.06556...</td>\n",
       "      <td>107</td>\n",
       "      <td>701</td>\n",
       "      <td>0.357202</td>\n",
       "      <td>0.026378</td>\n",
       "    </tr>\n",
       "    <tr>\n",
       "      <th>1</th>\n",
       "      <td>[завтра, воскресение, сообщество, появиться, п...</td>\n",
       "      <td>podkoren</td>\n",
       "      <td>[[-0.05039152, 0.057766065, 0.103294566, -0.01...</td>\n",
       "      <td>161</td>\n",
       "      <td>1062</td>\n",
       "      <td>0.384330</td>\n",
       "      <td>0.015935</td>\n",
       "    </tr>\n",
       "    <tr>\n",
       "      <th>2</th>\n",
       "      <td>[за, время, существование, наш, сообщество, со...</td>\n",
       "      <td>podkoren</td>\n",
       "      <td>[[-0.05420818, 0.03600782, 0.068977825, -0.006...</td>\n",
       "      <td>118</td>\n",
       "      <td>829</td>\n",
       "      <td>0.220884</td>\n",
       "      <td>0.020886</td>\n",
       "    </tr>\n",
       "    <tr>\n",
       "      <th>3</th>\n",
       "      <td>[жизнь, продолжаться, продолжаться, дорога, на...</td>\n",
       "      <td>podkoren</td>\n",
       "      <td>[[-0.027693467, 0.072877966, 0.056998827, -0.0...</td>\n",
       "      <td>240</td>\n",
       "      <td>1712</td>\n",
       "      <td>0.213519</td>\n",
       "      <td>0.017622</td>\n",
       "    </tr>\n",
       "    <tr>\n",
       "      <th>4</th>\n",
       "      <td>[на, день, погибнуть, наш, автор, любимый, бра...</td>\n",
       "      <td>podkoren</td>\n",
       "      <td>[[-0.053390473, 0.04924318, 0.08710171, 0.0078...</td>\n",
       "      <td>233</td>\n",
       "      <td>1519</td>\n",
       "      <td>0.425739</td>\n",
       "      <td>0.020320</td>\n",
       "    </tr>\n",
       "  </tbody>\n",
       "</table>\n",
       "</div>"
      ],
      "text/plain": [
       "                                                 text     group  \\\n",
       "id                                                                \n",
       "0   [любезный, братец, сестричка, под, корень, зак...  podkoren   \n",
       "1   [завтра, воскресение, сообщество, появиться, п...  podkoren   \n",
       "2   [за, время, существование, наш, сообщество, со...  podkoren   \n",
       "3   [жизнь, продолжаться, продолжаться, дорога, на...  podkoren   \n",
       "4   [на, день, погибнуть, наш, автор, любимый, бра...  podkoren   \n",
       "\n",
       "                                         weighted_vec  word_length  \\\n",
       "id                                                                   \n",
       "0   [[-0.024145605, 0.11946748, 0.261655, -0.06556...          107   \n",
       "1   [[-0.05039152, 0.057766065, 0.103294566, -0.01...          161   \n",
       "2   [[-0.05420818, 0.03600782, 0.068977825, -0.006...          118   \n",
       "3   [[-0.027693467, 0.072877966, 0.056998827, -0.0...          240   \n",
       "4   [[-0.053390473, 0.04924318, 0.08710171, 0.0078...          233   \n",
       "\n",
       "    symbol_length   max_idf   min_idf  \n",
       "id                                     \n",
       "0             701  0.357202  0.026378  \n",
       "1            1062  0.384330  0.015935  \n",
       "2             829  0.220884  0.020886  \n",
       "3            1712  0.213519  0.017622  \n",
       "4            1519  0.425739  0.020320  "
      ]
     },
     "execution_count": 51,
     "metadata": {},
     "output_type": "execute_result"
    }
   ],
   "source": [
    "def symbol_length(doc):\n",
    "    length = 0\n",
    "    for word in doc:\n",
    "        length += len(word)\n",
    "    return length\n",
    "\n",
    "df['symbol_length'] = pd.Series([symbol_length(doc) for doc in df[\"text\"]], index=df.index)\n",
    "df.head()"
   ]
  },
  {
   "cell_type": "code",
   "execution_count": 52,
   "metadata": {
    "scrolled": true
   },
   "outputs": [
    {
     "data": {
      "text/html": [
       "<div>\n",
       "<style scoped>\n",
       "    .dataframe tbody tr th:only-of-type {\n",
       "        vertical-align: middle;\n",
       "    }\n",
       "\n",
       "    .dataframe tbody tr th {\n",
       "        vertical-align: top;\n",
       "    }\n",
       "\n",
       "    .dataframe thead th {\n",
       "        text-align: right;\n",
       "    }\n",
       "</style>\n",
       "<table border=\"1\" class=\"dataframe\">\n",
       "  <thead>\n",
       "    <tr style=\"text-align: right;\">\n",
       "      <th></th>\n",
       "      <th>text</th>\n",
       "      <th>group</th>\n",
       "      <th>weighted_vec</th>\n",
       "      <th>word_length</th>\n",
       "      <th>symbol_length</th>\n",
       "      <th>max_idf</th>\n",
       "      <th>min_idf</th>\n",
       "    </tr>\n",
       "    <tr>\n",
       "      <th>id</th>\n",
       "      <th></th>\n",
       "      <th></th>\n",
       "      <th></th>\n",
       "      <th></th>\n",
       "      <th></th>\n",
       "      <th></th>\n",
       "      <th></th>\n",
       "    </tr>\n",
       "  </thead>\n",
       "  <tbody>\n",
       "    <tr>\n",
       "      <th>0</th>\n",
       "      <td>[любезный, братец, сестричка, под, корень, зак...</td>\n",
       "      <td>podkoren</td>\n",
       "      <td>[[-0.024145605, 0.11946748, 0.261655, -0.06556...</td>\n",
       "      <td>107</td>\n",
       "      <td>701</td>\n",
       "      <td>0.357202</td>\n",
       "      <td>0.026378</td>\n",
       "    </tr>\n",
       "    <tr>\n",
       "      <th>1</th>\n",
       "      <td>[завтра, воскресение, сообщество, появиться, п...</td>\n",
       "      <td>podkoren</td>\n",
       "      <td>[[-0.05039152, 0.057766065, 0.103294566, -0.01...</td>\n",
       "      <td>161</td>\n",
       "      <td>1062</td>\n",
       "      <td>0.384330</td>\n",
       "      <td>0.015935</td>\n",
       "    </tr>\n",
       "    <tr>\n",
       "      <th>2</th>\n",
       "      <td>[за, время, существование, наш, сообщество, со...</td>\n",
       "      <td>podkoren</td>\n",
       "      <td>[[-0.05420818, 0.03600782, 0.068977825, -0.006...</td>\n",
       "      <td>118</td>\n",
       "      <td>829</td>\n",
       "      <td>0.220884</td>\n",
       "      <td>0.020886</td>\n",
       "    </tr>\n",
       "    <tr>\n",
       "      <th>3</th>\n",
       "      <td>[жизнь, продолжаться, продолжаться, дорога, на...</td>\n",
       "      <td>podkoren</td>\n",
       "      <td>[[-0.027693467, 0.072877966, 0.056998827, -0.0...</td>\n",
       "      <td>240</td>\n",
       "      <td>1712</td>\n",
       "      <td>0.213519</td>\n",
       "      <td>0.017622</td>\n",
       "    </tr>\n",
       "    <tr>\n",
       "      <th>4</th>\n",
       "      <td>[на, день, погибнуть, наш, автор, любимый, бра...</td>\n",
       "      <td>podkoren</td>\n",
       "      <td>[[-0.053390473, 0.04924318, 0.08710171, 0.0078...</td>\n",
       "      <td>233</td>\n",
       "      <td>1519</td>\n",
       "      <td>0.425739</td>\n",
       "      <td>0.020320</td>\n",
       "    </tr>\n",
       "  </tbody>\n",
       "</table>\n",
       "</div>"
      ],
      "text/plain": [
       "                                                 text     group  \\\n",
       "id                                                                \n",
       "0   [любезный, братец, сестричка, под, корень, зак...  podkoren   \n",
       "1   [завтра, воскресение, сообщество, появиться, п...  podkoren   \n",
       "2   [за, время, существование, наш, сообщество, со...  podkoren   \n",
       "3   [жизнь, продолжаться, продолжаться, дорога, на...  podkoren   \n",
       "4   [на, день, погибнуть, наш, автор, любимый, бра...  podkoren   \n",
       "\n",
       "                                         weighted_vec  word_length  \\\n",
       "id                                                                   \n",
       "0   [[-0.024145605, 0.11946748, 0.261655, -0.06556...          107   \n",
       "1   [[-0.05039152, 0.057766065, 0.103294566, -0.01...          161   \n",
       "2   [[-0.05420818, 0.03600782, 0.068977825, -0.006...          118   \n",
       "3   [[-0.027693467, 0.072877966, 0.056998827, -0.0...          240   \n",
       "4   [[-0.053390473, 0.04924318, 0.08710171, 0.0078...          233   \n",
       "\n",
       "    symbol_length   max_idf   min_idf  \n",
       "id                                     \n",
       "0             701  0.357202  0.026378  \n",
       "1            1062  0.384330  0.015935  \n",
       "2             829  0.220884  0.020886  \n",
       "3            1712  0.213519  0.017622  \n",
       "4            1519  0.425739  0.020320  "
      ]
     },
     "execution_count": 52,
     "metadata": {},
     "output_type": "execute_result"
    }
   ],
   "source": [
    "def max_idf(vec):\n",
    "    ret = -2\n",
    "    for key in vec:\n",
    "        if vec[key] > ret:\n",
    "            ret = vec[key]\n",
    "    return ret\n",
    "\n",
    "def min_idf(vec):\n",
    "    ret = 2\n",
    "    for key in vec:\n",
    "        if vec[key] < ret:\n",
    "            ret = vec[key]\n",
    "    return ret\n",
    "\n",
    "df['max_idf'] = pd.Series([max_idf(vec) for vec in vectors], index=df.index)\n",
    "df['min_idf'] = pd.Series([min_idf(vec) for vec in vectors], index=df.index)\n",
    "\n",
    "df.head()"
   ]
  },
  {
   "cell_type": "markdown",
   "metadata": {},
   "source": [
    "Here we will redifine cosine similarity because we are retarded"
   ]
  },
  {
   "cell_type": "code",
   "execution_count": 53,
   "metadata": {},
   "outputs": [],
   "source": [
    "def cos_sim(v1, v2):\n",
    "    return np.inner(v1, v2) / (np.linalg.norm(v1) * np.linalg.norm(v2))"
   ]
  },
  {
   "cell_type": "code",
   "execution_count": 68,
   "metadata": {},
   "outputs": [],
   "source": [
    "def local_sym(vector_matrix):\n",
    "    sym_list = []\n",
    "    for i in range(len(vector_matrix)):\n",
    "        if i != 0:\n",
    "            sym_list.append(cos_sim(vector_matrix[i-1], vector_matrix[i]))\n",
    "    return sym_list\n",
    "\n",
    "def crutched_max(vec):\n",
    "    if len(vec) == 0:\n",
    "        return 0\n",
    "    else:\n",
    "        return max(vec)\n",
    "\n",
    "def crutched_mean(vec):\n",
    "    if len(vec) < 2:\n",
    "        return 0\n",
    "    else:\n",
    "        return np.nanmean(vec)"
   ]
  },
  {
   "cell_type": "code",
   "execution_count": 69,
   "metadata": {},
   "outputs": [
    {
     "data": {
      "text/html": [
       "<div>\n",
       "<style scoped>\n",
       "    .dataframe tbody tr th:only-of-type {\n",
       "        vertical-align: middle;\n",
       "    }\n",
       "\n",
       "    .dataframe tbody tr th {\n",
       "        vertical-align: top;\n",
       "    }\n",
       "\n",
       "    .dataframe thead th {\n",
       "        text-align: right;\n",
       "    }\n",
       "</style>\n",
       "<table border=\"1\" class=\"dataframe\">\n",
       "  <thead>\n",
       "    <tr style=\"text-align: right;\">\n",
       "      <th></th>\n",
       "      <th>text</th>\n",
       "      <th>group</th>\n",
       "      <th>weighted_vec</th>\n",
       "      <th>word_length</th>\n",
       "      <th>symbol_length</th>\n",
       "      <th>max_idf</th>\n",
       "      <th>min_idf</th>\n",
       "      <th>max_loc_sym</th>\n",
       "      <th>mean_loc_sym</th>\n",
       "    </tr>\n",
       "    <tr>\n",
       "      <th>id</th>\n",
       "      <th></th>\n",
       "      <th></th>\n",
       "      <th></th>\n",
       "      <th></th>\n",
       "      <th></th>\n",
       "      <th></th>\n",
       "      <th></th>\n",
       "      <th></th>\n",
       "      <th></th>\n",
       "    </tr>\n",
       "  </thead>\n",
       "  <tbody>\n",
       "    <tr>\n",
       "      <th>0</th>\n",
       "      <td>[любезный, братец, сестричка, под, корень, зак...</td>\n",
       "      <td>podkoren</td>\n",
       "      <td>[[-0.024145605, 0.11946748, 0.261655, -0.06556...</td>\n",
       "      <td>107</td>\n",
       "      <td>701</td>\n",
       "      <td>0.357202</td>\n",
       "      <td>0.026378</td>\n",
       "      <td>0.946426</td>\n",
       "      <td>0.841490</td>\n",
       "    </tr>\n",
       "    <tr>\n",
       "      <th>1</th>\n",
       "      <td>[завтра, воскресение, сообщество, появиться, п...</td>\n",
       "      <td>podkoren</td>\n",
       "      <td>[[-0.05039152, 0.057766065, 0.103294566, -0.01...</td>\n",
       "      <td>161</td>\n",
       "      <td>1062</td>\n",
       "      <td>0.384330</td>\n",
       "      <td>0.015935</td>\n",
       "      <td>0.946426</td>\n",
       "      <td>0.765385</td>\n",
       "    </tr>\n",
       "    <tr>\n",
       "      <th>2</th>\n",
       "      <td>[за, время, существование, наш, сообщество, со...</td>\n",
       "      <td>podkoren</td>\n",
       "      <td>[[-0.05420818, 0.03600782, 0.068977825, -0.006...</td>\n",
       "      <td>118</td>\n",
       "      <td>829</td>\n",
       "      <td>0.220884</td>\n",
       "      <td>0.020886</td>\n",
       "      <td>0.939897</td>\n",
       "      <td>0.774720</td>\n",
       "    </tr>\n",
       "    <tr>\n",
       "      <th>3</th>\n",
       "      <td>[жизнь, продолжаться, продолжаться, дорога, на...</td>\n",
       "      <td>podkoren</td>\n",
       "      <td>[[-0.027693467, 0.072877966, 0.056998827, -0.0...</td>\n",
       "      <td>240</td>\n",
       "      <td>1712</td>\n",
       "      <td>0.213519</td>\n",
       "      <td>0.017622</td>\n",
       "      <td>1.000000</td>\n",
       "      <td>0.767779</td>\n",
       "    </tr>\n",
       "    <tr>\n",
       "      <th>4</th>\n",
       "      <td>[на, день, погибнуть, наш, автор, любимый, бра...</td>\n",
       "      <td>podkoren</td>\n",
       "      <td>[[-0.053390473, 0.04924318, 0.08710171, 0.0078...</td>\n",
       "      <td>233</td>\n",
       "      <td>1519</td>\n",
       "      <td>0.425739</td>\n",
       "      <td>0.020320</td>\n",
       "      <td>0.946426</td>\n",
       "      <td>0.766841</td>\n",
       "    </tr>\n",
       "  </tbody>\n",
       "</table>\n",
       "</div>"
      ],
      "text/plain": [
       "                                                 text     group  \\\n",
       "id                                                                \n",
       "0   [любезный, братец, сестричка, под, корень, зак...  podkoren   \n",
       "1   [завтра, воскресение, сообщество, появиться, п...  podkoren   \n",
       "2   [за, время, существование, наш, сообщество, со...  podkoren   \n",
       "3   [жизнь, продолжаться, продолжаться, дорога, на...  podkoren   \n",
       "4   [на, день, погибнуть, наш, автор, любимый, бра...  podkoren   \n",
       "\n",
       "                                         weighted_vec  word_length  \\\n",
       "id                                                                   \n",
       "0   [[-0.024145605, 0.11946748, 0.261655, -0.06556...          107   \n",
       "1   [[-0.05039152, 0.057766065, 0.103294566, -0.01...          161   \n",
       "2   [[-0.05420818, 0.03600782, 0.068977825, -0.006...          118   \n",
       "3   [[-0.027693467, 0.072877966, 0.056998827, -0.0...          240   \n",
       "4   [[-0.053390473, 0.04924318, 0.08710171, 0.0078...          233   \n",
       "\n",
       "    symbol_length   max_idf   min_idf  max_loc_sym  mean_loc_sym  \n",
       "id                                                                \n",
       "0             701  0.357202  0.026378     0.946426      0.841490  \n",
       "1            1062  0.384330  0.015935     0.946426      0.765385  \n",
       "2             829  0.220884  0.020886     0.939897      0.774720  \n",
       "3            1712  0.213519  0.017622     1.000000      0.767779  \n",
       "4            1519  0.425739  0.020320     0.946426      0.766841  "
      ]
     },
     "execution_count": 69,
     "metadata": {},
     "output_type": "execute_result"
    }
   ],
   "source": [
    "df['max_loc_sym'] = pd.Series([crutched_max(local_sym(vec)) for vec in df['weighted_vec']], index=df.index)\n",
    "df['mean_loc_sym'] = pd.Series([crutched_mean(local_sym(vec)) for vec in df['weighted_vec']], index=df.index)\n",
    "\n",
    "df.head()"
   ]
  },
  {
   "cell_type": "code",
   "execution_count": 70,
   "metadata": {},
   "outputs": [
    {
     "data": {
      "text/html": [
       "<div>\n",
       "<style scoped>\n",
       "    .dataframe tbody tr th:only-of-type {\n",
       "        vertical-align: middle;\n",
       "    }\n",
       "\n",
       "    .dataframe tbody tr th {\n",
       "        vertical-align: top;\n",
       "    }\n",
       "\n",
       "    .dataframe thead th {\n",
       "        text-align: right;\n",
       "    }\n",
       "</style>\n",
       "<table border=\"1\" class=\"dataframe\">\n",
       "  <thead>\n",
       "    <tr style=\"text-align: right;\">\n",
       "      <th></th>\n",
       "      <th>text</th>\n",
       "      <th>group</th>\n",
       "      <th>weighted_vec</th>\n",
       "      <th>word_length</th>\n",
       "      <th>symbol_length</th>\n",
       "      <th>max_idf</th>\n",
       "      <th>min_idf</th>\n",
       "      <th>max_loc_sym</th>\n",
       "      <th>mean_loc_sym</th>\n",
       "    </tr>\n",
       "    <tr>\n",
       "      <th>id</th>\n",
       "      <th></th>\n",
       "      <th></th>\n",
       "      <th></th>\n",
       "      <th></th>\n",
       "      <th></th>\n",
       "      <th></th>\n",
       "      <th></th>\n",
       "      <th></th>\n",
       "      <th></th>\n",
       "    </tr>\n",
       "  </thead>\n",
       "  <tbody>\n",
       "    <tr>\n",
       "      <th>0</th>\n",
       "      <td>[любезный, братец, сестричка, под, корень, зак...</td>\n",
       "      <td>0</td>\n",
       "      <td>[[-0.024145605, 0.11946748, 0.261655, -0.06556...</td>\n",
       "      <td>107</td>\n",
       "      <td>701</td>\n",
       "      <td>0.357202</td>\n",
       "      <td>0.026378</td>\n",
       "      <td>0.946426</td>\n",
       "      <td>0.841490</td>\n",
       "    </tr>\n",
       "    <tr>\n",
       "      <th>1</th>\n",
       "      <td>[завтра, воскресение, сообщество, появиться, п...</td>\n",
       "      <td>0</td>\n",
       "      <td>[[-0.05039152, 0.057766065, 0.103294566, -0.01...</td>\n",
       "      <td>161</td>\n",
       "      <td>1062</td>\n",
       "      <td>0.384330</td>\n",
       "      <td>0.015935</td>\n",
       "      <td>0.946426</td>\n",
       "      <td>0.765385</td>\n",
       "    </tr>\n",
       "    <tr>\n",
       "      <th>2</th>\n",
       "      <td>[за, время, существование, наш, сообщество, со...</td>\n",
       "      <td>0</td>\n",
       "      <td>[[-0.05420818, 0.03600782, 0.068977825, -0.006...</td>\n",
       "      <td>118</td>\n",
       "      <td>829</td>\n",
       "      <td>0.220884</td>\n",
       "      <td>0.020886</td>\n",
       "      <td>0.939897</td>\n",
       "      <td>0.774720</td>\n",
       "    </tr>\n",
       "    <tr>\n",
       "      <th>3</th>\n",
       "      <td>[жизнь, продолжаться, продолжаться, дорога, на...</td>\n",
       "      <td>0</td>\n",
       "      <td>[[-0.027693467, 0.072877966, 0.056998827, -0.0...</td>\n",
       "      <td>240</td>\n",
       "      <td>1712</td>\n",
       "      <td>0.213519</td>\n",
       "      <td>0.017622</td>\n",
       "      <td>1.000000</td>\n",
       "      <td>0.767779</td>\n",
       "    </tr>\n",
       "    <tr>\n",
       "      <th>4</th>\n",
       "      <td>[на, день, погибнуть, наш, автор, любимый, бра...</td>\n",
       "      <td>0</td>\n",
       "      <td>[[-0.053390473, 0.04924318, 0.08710171, 0.0078...</td>\n",
       "      <td>233</td>\n",
       "      <td>1519</td>\n",
       "      <td>0.425739</td>\n",
       "      <td>0.020320</td>\n",
       "      <td>0.946426</td>\n",
       "      <td>0.766841</td>\n",
       "    </tr>\n",
       "  </tbody>\n",
       "</table>\n",
       "</div>"
      ],
      "text/plain": [
       "                                                 text  group  \\\n",
       "id                                                             \n",
       "0   [любезный, братец, сестричка, под, корень, зак...      0   \n",
       "1   [завтра, воскресение, сообщество, появиться, п...      0   \n",
       "2   [за, время, существование, наш, сообщество, со...      0   \n",
       "3   [жизнь, продолжаться, продолжаться, дорога, на...      0   \n",
       "4   [на, день, погибнуть, наш, автор, любимый, бра...      0   \n",
       "\n",
       "                                         weighted_vec  word_length  \\\n",
       "id                                                                   \n",
       "0   [[-0.024145605, 0.11946748, 0.261655, -0.06556...          107   \n",
       "1   [[-0.05039152, 0.057766065, 0.103294566, -0.01...          161   \n",
       "2   [[-0.05420818, 0.03600782, 0.068977825, -0.006...          118   \n",
       "3   [[-0.027693467, 0.072877966, 0.056998827, -0.0...          240   \n",
       "4   [[-0.053390473, 0.04924318, 0.08710171, 0.0078...          233   \n",
       "\n",
       "    symbol_length   max_idf   min_idf  max_loc_sym  mean_loc_sym  \n",
       "id                                                                \n",
       "0             701  0.357202  0.026378     0.946426      0.841490  \n",
       "1            1062  0.384330  0.015935     0.946426      0.765385  \n",
       "2             829  0.220884  0.020886     0.939897      0.774720  \n",
       "3            1712  0.213519  0.017622     1.000000      0.767779  \n",
       "4            1519  0.425739  0.020320     0.946426      0.766841  "
      ]
     },
     "execution_count": 70,
     "metadata": {},
     "output_type": "execute_result"
    }
   ],
   "source": [
    "source2id = {'podkoren': 0, \n",
    "             'telegony': 1,\n",
    "             'kudah': 2,\n",
    "             'ufo': 3, \n",
    "             'krishnaits': 4}\n",
    "\n",
    "id2source = {v:k for k, v in source2id.items()}\n",
    "df[\"group\"] = df[\"group\"].replace(source2id)\n",
    "\n",
    "df.head()"
   ]
  },
  {
   "cell_type": "code",
   "execution_count": 83,
   "metadata": {},
   "outputs": [
    {
     "data": {
      "text/html": [
       "<div>\n",
       "<style scoped>\n",
       "    .dataframe tbody tr th:only-of-type {\n",
       "        vertical-align: middle;\n",
       "    }\n",
       "\n",
       "    .dataframe tbody tr th {\n",
       "        vertical-align: top;\n",
       "    }\n",
       "\n",
       "    .dataframe thead th {\n",
       "        text-align: right;\n",
       "    }\n",
       "</style>\n",
       "<table border=\"1\" class=\"dataframe\">\n",
       "  <thead>\n",
       "    <tr style=\"text-align: right;\">\n",
       "      <th></th>\n",
       "      <th>group</th>\n",
       "      <th>word_length</th>\n",
       "      <th>symbol_length</th>\n",
       "      <th>max_idf</th>\n",
       "      <th>min_idf</th>\n",
       "      <th>max_loc_sym</th>\n",
       "      <th>mean_loc_sym</th>\n",
       "    </tr>\n",
       "    <tr>\n",
       "      <th>id</th>\n",
       "      <th></th>\n",
       "      <th></th>\n",
       "      <th></th>\n",
       "      <th></th>\n",
       "      <th></th>\n",
       "      <th></th>\n",
       "      <th></th>\n",
       "    </tr>\n",
       "  </thead>\n",
       "  <tbody>\n",
       "    <tr>\n",
       "      <th>0</th>\n",
       "      <td>0</td>\n",
       "      <td>107</td>\n",
       "      <td>701</td>\n",
       "      <td>0.357202</td>\n",
       "      <td>0.026378</td>\n",
       "      <td>0.946426</td>\n",
       "      <td>0.841490</td>\n",
       "    </tr>\n",
       "    <tr>\n",
       "      <th>1</th>\n",
       "      <td>0</td>\n",
       "      <td>161</td>\n",
       "      <td>1062</td>\n",
       "      <td>0.384330</td>\n",
       "      <td>0.015935</td>\n",
       "      <td>0.946426</td>\n",
       "      <td>0.765385</td>\n",
       "    </tr>\n",
       "    <tr>\n",
       "      <th>2</th>\n",
       "      <td>0</td>\n",
       "      <td>118</td>\n",
       "      <td>829</td>\n",
       "      <td>0.220884</td>\n",
       "      <td>0.020886</td>\n",
       "      <td>0.939897</td>\n",
       "      <td>0.774720</td>\n",
       "    </tr>\n",
       "    <tr>\n",
       "      <th>3</th>\n",
       "      <td>0</td>\n",
       "      <td>240</td>\n",
       "      <td>1712</td>\n",
       "      <td>0.213519</td>\n",
       "      <td>0.017622</td>\n",
       "      <td>1.000000</td>\n",
       "      <td>0.767779</td>\n",
       "    </tr>\n",
       "    <tr>\n",
       "      <th>4</th>\n",
       "      <td>0</td>\n",
       "      <td>233</td>\n",
       "      <td>1519</td>\n",
       "      <td>0.425739</td>\n",
       "      <td>0.020320</td>\n",
       "      <td>0.946426</td>\n",
       "      <td>0.766841</td>\n",
       "    </tr>\n",
       "  </tbody>\n",
       "</table>\n",
       "</div>"
      ],
      "text/plain": [
       "    group  word_length  symbol_length   max_idf   min_idf  max_loc_sym  \\\n",
       "id                                                                       \n",
       "0       0          107            701  0.357202  0.026378     0.946426   \n",
       "1       0          161           1062  0.384330  0.015935     0.946426   \n",
       "2       0          118            829  0.220884  0.020886     0.939897   \n",
       "3       0          240           1712  0.213519  0.017622     1.000000   \n",
       "4       0          233           1519  0.425739  0.020320     0.946426   \n",
       "\n",
       "    mean_loc_sym  \n",
       "id                \n",
       "0       0.841490  \n",
       "1       0.765385  \n",
       "2       0.774720  \n",
       "3       0.767779  \n",
       "4       0.766841  "
      ]
     },
     "execution_count": 83,
     "metadata": {},
     "output_type": "execute_result"
    }
   ],
   "source": [
    "unvec_data = df.drop(columns=['text', 'weighted_vec'])\n",
    "unvec_data.head()"
   ]
  },
  {
   "cell_type": "code",
   "execution_count": 84,
   "metadata": {},
   "outputs": [
    {
     "data": {
      "text/html": [
       "<div>\n",
       "<style scoped>\n",
       "    .dataframe tbody tr th:only-of-type {\n",
       "        vertical-align: middle;\n",
       "    }\n",
       "\n",
       "    .dataframe tbody tr th {\n",
       "        vertical-align: top;\n",
       "    }\n",
       "\n",
       "    .dataframe thead th {\n",
       "        text-align: right;\n",
       "    }\n",
       "</style>\n",
       "<table border=\"1\" class=\"dataframe\">\n",
       "  <thead>\n",
       "    <tr style=\"text-align: right;\">\n",
       "      <th></th>\n",
       "      <th>weighted_vec</th>\n",
       "      <th>group</th>\n",
       "    </tr>\n",
       "    <tr>\n",
       "      <th>id</th>\n",
       "      <th></th>\n",
       "      <th></th>\n",
       "    </tr>\n",
       "  </thead>\n",
       "  <tbody>\n",
       "    <tr>\n",
       "      <th>0</th>\n",
       "      <td>[[-0.024145605, 0.11946748, 0.261655, -0.06556...</td>\n",
       "      <td>0</td>\n",
       "    </tr>\n",
       "    <tr>\n",
       "      <th>1</th>\n",
       "      <td>[[-0.05039152, 0.057766065, 0.103294566, -0.01...</td>\n",
       "      <td>0</td>\n",
       "    </tr>\n",
       "    <tr>\n",
       "      <th>2</th>\n",
       "      <td>[[-0.05420818, 0.03600782, 0.068977825, -0.006...</td>\n",
       "      <td>0</td>\n",
       "    </tr>\n",
       "    <tr>\n",
       "      <th>3</th>\n",
       "      <td>[[-0.027693467, 0.072877966, 0.056998827, -0.0...</td>\n",
       "      <td>0</td>\n",
       "    </tr>\n",
       "    <tr>\n",
       "      <th>4</th>\n",
       "      <td>[[-0.053390473, 0.04924318, 0.08710171, 0.0078...</td>\n",
       "      <td>0</td>\n",
       "    </tr>\n",
       "  </tbody>\n",
       "</table>\n",
       "</div>"
      ],
      "text/plain": [
       "                                         weighted_vec  group\n",
       "id                                                          \n",
       "0   [[-0.024145605, 0.11946748, 0.261655, -0.06556...      0\n",
       "1   [[-0.05039152, 0.057766065, 0.103294566, -0.01...      0\n",
       "2   [[-0.05420818, 0.03600782, 0.068977825, -0.006...      0\n",
       "3   [[-0.027693467, 0.072877966, 0.056998827, -0.0...      0\n",
       "4   [[-0.053390473, 0.04924318, 0.08710171, 0.0078...      0"
      ]
     },
     "execution_count": 84,
     "metadata": {},
     "output_type": "execute_result"
    }
   ],
   "source": [
    "# possibly absolutely useless but I am retarded \n",
    "\n",
    "vec_data = df[['weighted_vec','group']]\n",
    "vec_data.head()"
   ]
  },
  {
   "cell_type": "code",
   "execution_count": 76,
   "metadata": {},
   "outputs": [],
   "source": [
    "def CV(df):\n",
    "    cross_val_folds = []\n",
    "    fold = []\n",
    "    for idx, row in df.iterrows():\n",
    "        fold.append(row)\n",
    "        if idx % (len(df) // 10) == 0:\n",
    "            cross_val_folds.append(fold)\n",
    "            fold = []\n",
    "    return cross_val_folds"
   ]
  },
  {
   "cell_type": "code",
   "execution_count": 87,
   "metadata": {},
   "outputs": [],
   "source": [
    "cross_val_folds = CV(unvec_data)[1:]"
   ]
  },
  {
   "cell_type": "code",
   "execution_count": 88,
   "metadata": {},
   "outputs": [
    {
     "name": "stdout",
     "output_type": "stream",
     "text": [
      "300\n",
      "300\n",
      "300\n",
      "300\n",
      "300\n",
      "300\n",
      "300\n",
      "300\n",
      "300\n"
     ]
    }
   ],
   "source": [
    "for el in cross_val_folds:\n",
    "    print(len(el))"
   ]
  },
  {
   "cell_type": "markdown",
   "metadata": {},
   "source": [
    "# Classification"
   ]
  },
  {
   "cell_type": "code",
   "execution_count": null,
   "metadata": {},
   "outputs": [],
   "source": []
  }
 ],
 "metadata": {
  "accelerator": "GPU",
  "colab": {
   "collapsed_sections": [],
   "name": "DS_Project_sect.ipynb",
   "provenance": [],
   "version": "0.3.2"
  },
  "kernelspec": {
   "display_name": "Python 3",
   "language": "python",
   "name": "python3"
  },
  "language_info": {
   "codemirror_mode": {
    "name": "ipython",
    "version": 3
   },
   "file_extension": ".py",
   "mimetype": "text/x-python",
   "name": "python",
   "nbconvert_exporter": "python",
   "pygments_lexer": "ipython3",
   "version": "3.6.7"
  }
 },
 "nbformat": 4,
 "nbformat_minor": 1
}
