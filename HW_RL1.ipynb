{
 "cells": [
  {
   "cell_type": "markdown",
   "metadata": {},
   "source": [
    "# ДЗ1 - имитационное обучение\n",
    "Крайний срок сдачи - 20.02.2019 23:59."
   ]
  },
  {
   "cell_type": "markdown",
   "metadata": {},
   "source": [
    "***\n",
    "Задача будет заключаться в том, чтобы провести эксперименты с имитационным обучением: смотреть, что такое клонирование поведеня и разобраться с алгоритмом DAgger.\n",
    "Вместо человека-демонстранта демонстрации будут даваться специальной предобученной \"экспертной\" стартегией. Ваша задача будет заключаться в реализации алгоритма клонирования и DAgger, сравнения их произвоодительости на нескольких простых задачах управления из пакета OpenAI Gym. Ваше решение в виде Jupyter тетрадки *с комментариями* нужно загрузить по [ссылке](https://www.dropbox.com/request/uNq18mDY284JdI7o5KgJ) с шаблоном имени \"Фамилия>\\_ИАД<номер группы>.ipynb\", например Панов_ИАД1.ipynb. Указывать ту группу, которую вы посещаете на семинарах.\n",
    "\n",
    "__Будьте винимательны!__ В заготовках кода ниже могут быть неточности! Их правка входит в задачу выполнения ДЗ! Как минимум, вам нужно дописывать строчик кода ниже пометок __Ваш код здесь__."
   ]
  },
  {
   "cell_type": "markdown",
   "metadata": {},
   "source": [
    "## Требования:\n",
    "### 1. __TensorFlow:__\n",
    "Инструкции-напоминания по установке здесь - https://www.tensorflow.org/get_started/os_setup. GPU не будет требоваться для выполнения ДЗ.\n",
    "### 2. __OpenAI Gym:__  \n",
    "Напоминание-инструкции по OpenAI Gym - https://gym.openai.com/docs. Используйте версию 0.10.5.\n",
    "### 3. __MuJoCo:__<br>\n",
    "Будем использовать набор симуляционных сред MuJoCo.  Загружайте версию 1.50 с http://mujoco.org/,  и версию  1.50.1.56  с https://github.com/openai/mujoco-py/. Для активации доступа можно испоьзовать ваше университетский аккаунт -  https://www.roboti.us/license.html.\n",
    "***"
   ]
  },
  {
   "cell_type": "markdown",
   "metadata": {},
   "source": [
    "Импортируем все необходимое:"
   ]
  },
  {
   "cell_type": "code",
   "execution_count": 8,
   "metadata": {
    "scrolled": true
   },
   "outputs": [
    {
     "name": "stdout",
     "output_type": "stream",
     "text": [
      "TensorFlow version : 1.11.0\n",
      "Gym version : 0.11.0\n"
     ]
    }
   ],
   "source": [
    "# ЧТОБЫ ПОСМОТРЕТЬ ВИЗУАЛИЗАЦИИ МОДЕЛЕЙ, НАДО ЗАКОММЕНТИТЬ env.close() И РАСКОММЕНТЕТЬ env.render()\n",
    "# Но если не раскомменчивать, кернел не умирает\n",
    "\n",
    "import os\n",
    "import pickle\n",
    "import tensorflow as tf\n",
    "print(\"TensorFlow version :\",tf.__version__)\n",
    "\n",
    "import numpy as np\n",
    "import tf_util\n",
    "import gym\n",
    "print(\"Gym version :\",gym.__version__)\n",
    "\n",
    "import glfw\n",
    "import load_policy\n",
    "from sklearn.utils import shuffle\n",
    "import matplotlib.pyplot as plt\n",
    "\n",
    "%matplotlib inline\n",
    "font = {'family': 'Verdana',\n",
    "        'weight': 'normal'}\n",
    "plt.rc('font', **font)"
   ]
  },
  {
   "cell_type": "markdown",
   "metadata": {},
   "source": [
    "***\n",
    "## Сборием статистику"
   ]
  },
  {
   "cell_type": "markdown",
   "metadata": {},
   "source": [
    " Генерируем статистику (roll-outs) по заданной экспертной стратегии в 3 шага:\n",
    " 1. Загружаем стратегию из файла и инициализируем окружение.\n",
    " 2. Начинаем сессию tensorflow.\n",
    " 3. В рамках сессии собираем данные: до конца эпизода в цикле выбираем экспертное действие, применяем его и сохраняем результаты."
   ]
  },
  {
   "cell_type": "code",
   "execution_count": 9,
   "metadata": {
    "scrolled": true
   },
   "outputs": [
    {
     "name": "stdout",
     "output_type": "stream",
     "text": [
      "loading and building expert policy\n",
      "obs (1, 376) (1, 376)\n",
      "loaded and built\n"
     ]
    }
   ],
   "source": [
    "#choose environment (Uncomment choosed one)\n",
    "env_name=\"Humanoid-v2\"\n",
    "#env_name=\"Ant-v2\"\n",
    "#env_name=\"HalfCheetah-v2\"\n",
    "#env_name=\"Hopper-v2\"\n",
    "#env_name=\"Reacher-v2\"\n",
    "#env_name=\"Walker2d-v2\"\n",
    "\n",
    "expert_policy_file = \"experts/\" + env_name + \".pkl\"\n",
    "\n",
    "print('loading and building expert policy')\n",
    "policy_fn = load_policy.load_policy(expert_policy_file)\n",
    "print('loaded and built')\n",
    "\n",
    "env = gym.make(env_name)\n",
    " \n",
    "def generate_rollouts(num_rollouts,max_steps,render=False):\n",
    "    with tf.Session():\n",
    "        tf_util.initialize()\n",
    "\n",
    "        returns = []\n",
    "        observations = []\n",
    "        actions = []\n",
    "\n",
    "        for i in range(num_rollouts):\n",
    "            obs = env.reset()\n",
    "            done = False\n",
    "            totalr = 0.\n",
    "            steps = 0\n",
    "            while not done:\n",
    "                # choose an action depending on the observation\n",
    "                action = policy_fn(obs[None,:])\n",
    "                # append sample to arrays\n",
    "                observations.append(obs)\n",
    "                actions.append(action)\n",
    "                # apply the action on the environment\n",
    "                obs, r, done, _ = env.step(action)\n",
    "                # calculate the total reward\n",
    "                totalr += r\n",
    "                steps += 1\n",
    "                # render the environment\n",
    "                if render==True:\n",
    "                    env.render()\n",
    "                #if steps % 100 == 0: print(\"%i/%i\"%(steps, max_steps))\n",
    "                if steps >= max_steps:\n",
    "                    break\n",
    "            # append the total reward\n",
    "            returns.append(totalr)\n",
    "        \n",
    "        # print the reward information\n",
    "        #print('returns', returns)\n",
    "        print('mean return', np.mean(returns))\n",
    "        print('std of return', np.std(returns))\n",
    "\n",
    "        expert_data = {'observations': np.array(observations),'actions': np.array(actions)}\n",
    "            \n",
    "        return expert_data"
   ]
  },
  {
   "cell_type": "markdown",
   "metadata": {},
   "source": [
    "Тестируем реализованную функцию: num_rollouts=4,max_steps=100,render=True"
   ]
  },
  {
   "cell_type": "markdown",
   "metadata": {},
   "source": [
    "Notes:\n",
    "- If the camera doesn't track the agent, prss __Tab__ to change the viewpoint\n",
    "- In some cases the jupyter notebok kernel will crash if you close the rendering window, __don't close the windows until finishing the execution of the whole notebook.__"
   ]
  },
  {
   "cell_type": "code",
   "execution_count": 3,
   "metadata": {},
   "outputs": [
    {
     "name": "stdout",
     "output_type": "stream",
     "text": [
      "WARNING:tensorflow:From /home/valeria/iad_hw/minor-module4/hw1/tf_util.py:91: all_variables (from tensorflow.python.ops.variables) is deprecated and will be removed after 2017-03-02.\n",
      "Instructions for updating:\n",
      "Please use tf.global_variables instead.\n",
      "WARNING:tensorflow:From /usr/local/lib/python3.6/dist-packages/tensorflow/python/util/tf_should_use.py:189: initialize_variables (from tensorflow.python.ops.variables) is deprecated and will be removed after 2017-03-02.\n",
      "Instructions for updating:\n",
      "Use `tf.variables_initializer` instead.\n",
      "Creating window glfw\n",
      "mean return 648.4772709159199\n",
      "std of return 12.217618417329849\n"
     ]
    }
   ],
   "source": [
    "generate_rollouts(num_rollouts=4,max_steps=100,render=True);"
   ]
  },
  {
   "cell_type": "markdown",
   "metadata": {},
   "source": [
    "***\n",
    "## 1. Клонирование поведения"
   ]
  },
  {
   "cell_type": "markdown",
   "metadata": {},
   "source": [
    "Клонирование поведения (Behavioural cloning, BC) - метод, с помощью когорого компьютерная программа обучается воспроизводить действия эксперта (человека). Действия эксперта записываются, а затем эта статистика используется как входные данные для алгоритма обучения. Этот алгоритм в результате формирует последовательность действий, по которым воспроизводится поведение эксперта."
   ]
  },
  {
   "cell_type": "markdown",
   "metadata": {},
   "source": [
    "Будем использовать стандартное обучение с учителем и использовать нейронную сеть для этого."
   ]
  },
  {
   "cell_type": "markdown",
   "metadata": {},
   "source": [
    "Кроме конструктора, вам нужно дореализовать метод __train__ класса __BC_Model__:"
   ]
  },
  {
   "cell_type": "code",
   "execution_count": 10,
   "metadata": {},
   "outputs": [],
   "source": [
    "class BC_Model(object):\n",
    "    def __init__(self, input_data, output_data, batch_size = 64, if_reset=False):\n",
    "        if if_reset is True:\n",
    "            tf.reset_default_graph() \n",
    "        # define tensorflow session\n",
    "        self.sess = tf.Session()\n",
    "        # input and output data , and their shapes\n",
    "        self.batch_size = batch_size\n",
    "        self.input_data = input_data\n",
    "        self.output_data = np.reshape(output_data, (output_data.shape[0], output_data.shape[2]))\n",
    "        self.input_shape = [self.batch_size, self.input_data.shape[-1]]\n",
    "        self.output_shape = [self.batch_size, self.output_data.shape[-1]]\n",
    "        \n",
    "        # placeholders for the neural network (input, model output and the expert output)\n",
    "        self.input_placeholder = tf.placeholder(tf.float32, shape = self.input_shape)\n",
    "        self.output_placeholder_expert = tf.placeholder(tf.float32, shape = self.output_shape)\n",
    "        self.output_placeholder_model = self.build_model(self.input_placeholder)\n",
    "        \n",
    "        # the loss function Mean squared error, (L2 stands for Least Square Errors)\n",
    "        ### Ваш код здесь - нужно добавить функцию потерь l2_loss ###]\n",
    "        self.loss = tf.nn.l2_loss(self.output_placeholder_model)\n",
    "        \n",
    "# Пробую многослойный перцептрон с двумя скрытыми слоями\n",
    "# Игра с гиперпараметрами практически не влияет на результат\n",
    "\n",
    "    def build_model(self, input_placeholder):\n",
    "        tf.set_random_seed(42)\n",
    "        w1 = tf.Variable(tf.random_normal([376, 300]))\n",
    "        w2 = tf.Variable(tf.random_normal([300, 300]))\n",
    "        w3 = tf.Variable(tf.random_normal([300, 17]))\n",
    "        inner_layer_1 = tf.add(tf.matmul(input_placeholder, w1), tf.Variable(tf.random_normal([300])))\n",
    "        relu = tf.nn.relu(inner_layer_1)\n",
    "        drop = tf.nn.dropout(relu, 0.25)\n",
    "        inner_layer_2 = tf.add(tf.matmul(inner_layer_1, w2), tf.Variable(tf.random_normal([300])))\n",
    "        relu_2 = tf.nn.relu(inner_layer_2)\n",
    "        drop_2 = tf.nn.dropout(relu_2, 0.25)\n",
    "        out_layer = tf.matmul(inner_layer_2, w3) + tf.Variable(tf.random_normal([17]))\n",
    "        out = tf.layers.dense(out_layer, units=17, activation=tf.nn.relu)\n",
    "        return out\n",
    "\n",
    "    def train(self, epochs=20, train_data=None, test_data=None):\n",
    "        # check train and test data\n",
    "        if train_data is None and test_data is None :\n",
    "            # split the input data to train and test if test and train data are not given\n",
    "            train_data, test_data = shuffle(self.input_data, self.output_data, random_state = 0)\n",
    "        else:\n",
    "            #reshape test data\n",
    "            test_data = np.reshape(test_data, (test_data.shape[0], test_data.shape[2]))\n",
    "        \n",
    "        # using Adam optimizer\n",
    "        optimizer = tf.train.AdamOptimizer().minimize(self.loss)\n",
    "        # define a saver\n",
    "        saver = tf.train.Saver()\n",
    "        \n",
    "        # number of batches\n",
    "        batch_idxs = len(train_data) // self.batch_size\n",
    "\n",
    "        # define a writer ()\n",
    "        writer = tf.summary.FileWriter(\"exp\")\n",
    "        \n",
    "        # add the graph (The model and all the variables) to the writer\n",
    "        writer.add_graph(self.sess.graph)\n",
    "\n",
    "        #initialize network variables\n",
    "        init_op = tf.global_variables_initializer()\n",
    "        self.sess.run(init_op)\n",
    "\n",
    "        #loop over epochs\n",
    "        for epoch in range(epochs):\n",
    "            #for each epoch loop over batches\n",
    "            for idx in range(batch_idxs):\n",
    "                # take a batch from training and test data\n",
    "                batch_train = train_data[idx * self.batch_size : (idx + 1) * self.batch_size]\n",
    "                batch_value = test_data[idx * self.batch_size : (idx + 1) * self.batch_size]\n",
    "                # run the optimizer to reduce the loss (we train the model to give us the same output for specific input)\n",
    "                feed_train = {self.input_placeholder : batch_train, self.output_placeholder_expert : batch_value}\n",
    "                self.sess.run(optimizer, feed_dict = feed_train)\n",
    "                    \n",
    "        # save the model\n",
    "        saver.save(self.sess, \"exp\" + \"/behavior_cloning_model\")\n",
    "\n",
    "    def sample(self, input):\n",
    "        #sample an action for a specified input\n",
    "        output = self.sess.run(self.output_placeholder_model, feed_dict = {self.input_placeholder : np.repeat(input[None, :], self.batch_size, axis = 0)})\n",
    "        return output[0]"
   ]
  },
  {
   "cell_type": "markdown",
   "metadata": {},
   "source": [
    "### Обучем модель на экспертных данных"
   ]
  },
  {
   "cell_type": "code",
   "execution_count": 11,
   "metadata": {
    "scrolled": true
   },
   "outputs": [
    {
     "name": "stdout",
     "output_type": "stream",
     "text": [
      "mean return 639.6567632493387\n",
      "std of return 9.818917793616457\n",
      "dimension of obs : (2000, 376)\n",
      "dimension of actions : (2000, 1, 17)\n"
     ]
    }
   ],
   "source": [
    "# generate expert data\n",
    "data = generate_rollouts(num_rollouts=20,max_steps=100,render=False);\n",
    "x = data['observations']\n",
    "y = data['actions']\n",
    "print('dimension of obs :', x.shape)\n",
    "print('dimension of actions :', y.shape)\n",
    "\n",
    "# shuffle data\n",
    "x, y = shuffle(x,y)\n",
    "\n",
    "# create an object from BC_Model class, and train it\n",
    "tf.set_random_seed(21)\n",
    "cloner = BC_Model(x,y, if_reset=True)\n",
    "cloner.train(train_data=x, test_data=y)"
   ]
  },
  {
   "cell_type": "markdown",
   "metadata": {},
   "source": [
    "### Испытываем модель"
   ]
  },
  {
   "cell_type": "code",
   "execution_count": 12,
   "metadata": {},
   "outputs": [
    {
     "name": "stdout",
     "output_type": "stream",
     "text": [
      "mean return 113.39168721144873\n",
      "std of return 2.3873321249850554\n"
     ]
    }
   ],
   "source": [
    "num_eval_rollouts=20\n",
    "# loop over runouts\n",
    "human_returns=[]\n",
    "for i in range(num_eval_rollouts):\n",
    "    # reset variables in each iteration\n",
    "    totalr = 0.\n",
    "    done = False\n",
    "    obs = env.reset()\n",
    "    # loop until the end of the episode\n",
    "    while not done:\n",
    "        # get an action from the trained model (output for specific observation as input)\n",
    "        #action = policy_fn(obs[None,:])\n",
    "        action = cloner.sample(obs)\n",
    "        # implement the action\n",
    "        obs,r,done,_ = env.step(action)\n",
    "        #env.render()\n",
    "        env.close()\n",
    "        totalr +=r\n",
    "    human_returns.append(totalr)\n",
    "\n",
    "print('mean return', np.mean(human_returns))\n",
    "print('std of return', np.std(human_returns))"
   ]
  },
  {
   "cell_type": "markdown",
   "metadata": {},
   "source": [
    "__Задание 1.1.__ Вам необходимо обучить модель на любых трех окружениях MoJoCo. Построить графики отдачи (totalr) в зависимости от количества набранной статистики (num_rollouts) для обучения."
   ]
  },
  {
   "cell_type": "code",
   "execution_count": 8,
   "metadata": {},
   "outputs": [
    {
     "data": {
      "image/png": "[encoded data removed]",
      "text/plain": [
       "<Figure size 432x288 with 1 Axes>"
      ]
     },
     "metadata": {
      "needs_background": "light"
     },
     "output_type": "display_data"
    }
   ],
   "source": [
    "# ГРАФИК ДЛЯ ЧЕЛОВЕЧКА\n",
    "plt.title(\"Humanoid-v2\")\n",
    "plt.plot([x for x in range(num_eval_rollouts)], human_returns)\n",
    "plt.xlabel(\"number of roll outs\")\n",
    "plt.ylabel(\"totalr\")\n",
    "\n",
    "plt.show()\n",
    "\n",
    "# Вывод - достаточно существенно влияет, на ~20 отдача подошла достаточно близко к экспертным данным"
   ]
  },
  {
   "cell_type": "code",
   "execution_count": 13,
   "metadata": {},
   "outputs": [
    {
     "name": "stdout",
     "output_type": "stream",
     "text": [
      "obs (1, 111) (1, 111)\n",
      "mean return 415.33333624795785\n",
      "std of return 30.449209494071038\n",
      "mean return -847587.6538717194\n",
      "std of return 439937.88304448425\n"
     ]
    }
   ],
   "source": [
    "env_name=\"Ant-v2\"\n",
    "\n",
    "class BC_Model_ant(object):\n",
    "    def __init__(self, input_data, output_data, batch_size = 64, if_reset=False):\n",
    "        if if_reset is True:\n",
    "            tf.reset_default_graph()\n",
    "        # define tensorflow session\n",
    "        self.sess = tf.Session()\n",
    "        # input and output data , and their shapes\n",
    "        self.batch_size = batch_size\n",
    "        self.input_data = input_data\n",
    "        self.output_data = np.reshape(output_data, (output_data.shape[0], output_data.shape[2]))\n",
    "        self.input_shape = [self.batch_size, self.input_data.shape[-1]]\n",
    "        self.output_shape = [self.batch_size, self.output_data.shape[-1]]\n",
    "        \n",
    "        # placeholders for the neural network (input, model output and the expert output)\n",
    "        self.input_placeholder = tf.placeholder(tf.float32, shape = self.input_shape)\n",
    "        self.output_placeholder_expert = tf.placeholder(tf.float32, shape = self.output_shape)\n",
    "        self.output_placeholder_model = self.build_model(self.input_placeholder)\n",
    "        \n",
    "        # the loss function Mean squared error, (L2 stands for Least Square Errors)\n",
    "        self.loss = tf.nn.l2_loss(self.output_placeholder_model)\n",
    "        \n",
    "\n",
    "    def build_model(self, input_placeholder):\n",
    "        tf.set_random_seed(42)\n",
    "        w1 = tf.Variable(tf.random_normal([111, 15]))\n",
    "        w2 = tf.Variable(tf.random_normal([15, 15]))\n",
    "        w3 = tf.Variable(tf.random_normal([15, 8]))\n",
    "        inner_layer_1 = tf.add(tf.matmul(input_placeholder, w1), tf.Variable(tf.random_normal([15])))\n",
    "        #relu = tf.nn.relu(inner_layer_1)\n",
    "        #drop = tf.nn.dropout(relu, 0.25)\n",
    "        inner_layer_2 = tf.add(tf.matmul(inner_layer_1, w2), tf.Variable(tf.random_normal([15])))\n",
    "        #relu_2 = tf.nn.relu(inner_layer_2)\n",
    "        #drop_2 = tf.nn.dropout(relu_2, 0.25)\n",
    "        out_layer = tf.matmul(inner_layer_2, w3) + tf.Variable(tf.random_normal([8]))\n",
    "        #out = tf.layers.dense(out_layer, units=6, activation=tf.nn.relu)\n",
    "        return out_layer\n",
    "\n",
    "    def train(self, epochs = 20, train_data = None, test_data = None):\n",
    "        # check train and test data\n",
    "        if train_data is None and test_data is None :\n",
    "            # split the input data to train and test if test and train data are not given\n",
    "            train_data, test_data = shuffle(self.input_data, self.output_data, random_state = 0)\n",
    "        else:\n",
    "            #reshape test data\n",
    "            test_data = np.reshape(test_data, (test_data.shape[0], test_data.shape[2]))\n",
    "        \n",
    "        # using Adam optimizer\n",
    "        optimizer = tf.train.AdamOptimizer().minimize(self.loss)\n",
    "        # define a saver\n",
    "        saver = tf.train.Saver()\n",
    "        \n",
    "        # number of batches\n",
    "        batch_idxs = len(train_data) // self.batch_size\n",
    "\n",
    "        # define a writer ()\n",
    "        writer = tf.summary.FileWriter(\"exp\")\n",
    "        \n",
    "        # add the graph (The model and all the variables) to the writer\n",
    "        writer.add_graph(self.sess.graph)\n",
    "\n",
    "        #initialize network variables\n",
    "        init_op = tf.global_variables_initializer()\n",
    "        self.sess.run(init_op)\n",
    "\n",
    "        #loop over epochs\n",
    "        for epoch in range(epochs):\n",
    "            #for each epoch loop over batches\n",
    "            for idx in range(batch_idxs):\n",
    "                # take a batch from training and test data\n",
    "                batch_train = train_data[idx * self.batch_size : (idx + 1) * self.batch_size]\n",
    "                batch_value = test_data[idx * self.batch_size : (idx + 1) * self.batch_size]\n",
    "                # run the optimizer to reduce the loss (we train the model to give us the same output for specific input)\n",
    "                feed_train = {self.input_placeholder : batch_train, self.output_placeholder_expert : batch_value}\n",
    "                self.sess.run(optimizer, feed_dict = feed_train)\n",
    "                    \n",
    "        # save the model\n",
    "        saver.save(self.sess, \"exp\" + \"/behavior_cloning_model\")\n",
    "\n",
    "    def sample(self, input):\n",
    "        #sample an action for a specified input\n",
    "        output = self.sess.run(self.output_placeholder_model, feed_dict = {self.input_placeholder : np.repeat(input[None, :], self.batch_size, axis = 0)})\n",
    "        return output[0]\n",
    "    \n",
    "# generate expert data\n",
    "expert_policy_file = \"experts/\" + env_name + \".pkl\"\n",
    "policy_fn = load_policy.load_policy(expert_policy_file)\n",
    "\n",
    "# make the environment\n",
    "env = gym.make(env_name)\n",
    "\n",
    "data = generate_rollouts(num_rollouts=20,max_steps=100,render=False);\n",
    "x = data['observations']\n",
    "y = data['actions']\n",
    "\n",
    "x, y = shuffle(x,y)\n",
    "\n",
    "cloner = BC_Model_ant(x,y, if_reset=True)\n",
    "cloner.train(epochs=20)\n",
    "\n",
    "num_eval_rollouts=20\n",
    "# loop over runouts\n",
    "ant_returns=[]\n",
    "for i in range(num_eval_rollouts):\n",
    "    # reset variables in each iteration\n",
    "    totalr = 0\n",
    "    done = False\n",
    "    obs = env.reset()\n",
    "    # loop until the end of the episode\n",
    "    while not done:\n",
    "        # get an action from the trained model (output for specific observation as input)\n",
    "        action = cloner.sample(obs)\n",
    "        # implement the action\n",
    "        obs,r,done,_ = env.step(action)\n",
    "        #env.render()\n",
    "        env.close()\n",
    "        totalr +=r\n",
    "    ant_returns.append(totalr)\n",
    "print('mean return', np.mean(ant_returns))\n",
    "print('std of return', np.std(ant_returns))"
   ]
  },
  {
   "cell_type": "code",
   "execution_count": 14,
   "metadata": {},
   "outputs": [
    {
     "name": "stderr",
     "output_type": "stream",
     "text": [
      "/usr/local/lib/python3.6/dist-packages/matplotlib/font_manager.py:1241: UserWarning: findfont: Font family ['Verdana'] not found. Falling back to DejaVu Sans.\n",
      "  (prop.get_family(), self.defaultFamily[fontext]))\n"
     ]
    },
    {
     "data": {
      "image/png": "[encoded data removed]",
      "text/plain": [
       "<Figure size 432x288 with 1 Axes>"
      ]
     },
     "metadata": {
      "needs_background": "light"
     },
     "output_type": "display_data"
    }
   ],
   "source": [
    "# ГРАФИК ДЛЯ ПАВУЧКА\n",
    "# Почему-то с этой же моделью все намного хуже...\n",
    "\n",
    "plt.title(\"Ant-v2\")\n",
    "plt.plot([x for x in range(num_eval_rollouts)], ant_returns)\n",
    "plt.xlabel(\"number of roll outs\")\n",
    "plt.ylabel(\"totalr\")\n",
    "\n",
    "plt.show()"
   ]
  },
  {
   "cell_type": "code",
   "execution_count": 3,
   "metadata": {
    "scrolled": true
   },
   "outputs": [
    {
     "name": "stdout",
     "output_type": "stream",
     "text": [
      "obs (1, 17) (1, 17)\n",
      "WARNING:tensorflow:From /home/valeria/iad_hw/minor-module4/hw1/tf_util.py:91: all_variables (from tensorflow.python.ops.variables) is deprecated and will be removed after 2017-03-02.\n",
      "Instructions for updating:\n",
      "Please use tf.global_variables instead.\n",
      "WARNING:tensorflow:From /usr/local/lib/python3.6/dist-packages/tensorflow/python/util/tf_should_use.py:189: initialize_variables (from tensorflow.python.ops.variables) is deprecated and will be removed after 2017-03-02.\n",
      "Instructions for updating:\n",
      "Use `tf.variables_initializer` instead.\n",
      "mean return 289.5423153160002\n",
      "std of return 14.955773740994983\n",
      "dimension of obs : (2000, 17)\n",
      "dimension of actions : (2000, 1, 6)\n",
      "mean return -52013712.2218867\n",
      "std of return 875049.7903697414\n"
     ]
    }
   ],
   "source": [
    "env_name=\"HalfCheetah-v2\"\n",
    "\n",
    "class BC_Model_cheet(object):\n",
    "    def __init__(self, input_data, output_data, batch_size = 64, if_reset=False):\n",
    "        if if_reset is True:\n",
    "            tf.reset_default_graph()\n",
    "        # define tensorflow session\n",
    "        self.sess = tf.Session()\n",
    "        # input and output data , and their shapes\n",
    "        self.batch_size = batch_size\n",
    "        self.input_data = input_data\n",
    "        self.output_data = np.reshape(output_data, (output_data.shape[0], output_data.shape[2]))\n",
    "        self.input_shape = [self.batch_size, self.input_data.shape[-1]]\n",
    "        self.output_shape = [self.batch_size, self.output_data.shape[-1]]\n",
    "        \n",
    "        # placeholders for the neural network (input, model output and the expert output)\n",
    "        self.input_placeholder = tf.placeholder(tf.float32, shape = self.input_shape)\n",
    "        self.output_placeholder_expert = tf.placeholder(tf.float32, shape = self.output_shape)\n",
    "        self.output_placeholder_model = self.build_model(self.input_placeholder)\n",
    "        \n",
    "        # the loss function Mean squared error, (L2 stands for Least Square Errors)\n",
    "        self.loss = tf.nn.l2_loss(self.output_placeholder_model)\n",
    "        \n",
    "\n",
    "    def build_model(self, input_placeholder):\n",
    "        tf.set_random_seed(42)\n",
    "        w1 = tf.Variable(tf.random_normal([17, 15]))\n",
    "        w2 = tf.Variable(tf.random_normal([15, 15]))\n",
    "        w3 = tf.Variable(tf.random_normal([15, 6]))\n",
    "        inner_layer_1 = tf.add(tf.matmul(input_placeholder, w1), tf.Variable(tf.random_normal([15])))\n",
    "        #relu = tf.nn.relu(inner_layer_1)\n",
    "        #drop = tf.nn.dropout(relu, 0.25)\n",
    "        inner_layer_2 = tf.add(tf.matmul(inner_layer_1, w2), tf.Variable(tf.random_normal([15])))\n",
    "        #relu_2 = tf.nn.relu(inner_layer_2)\n",
    "        #drop_2 = tf.nn.dropout(relu_2, 0.25)\n",
    "        out_layer = tf.matmul(inner_layer_2, w3) + tf.Variable(tf.random_normal([6]))\n",
    "        #out = tf.layers.dense(out_layer, units=6, activation=tf.nn.relu)\n",
    "        return out_layer\n",
    "\n",
    "    def train(self, epochs = 20, train_data = None, test_data = None):\n",
    "        # check train and test data\n",
    "        if train_data is None and test_data is None :\n",
    "            # split the input data to train and test if test and train data are not given\n",
    "            train_data, test_data = shuffle(self.input_data, self.output_data, random_state = 0)\n",
    "        else:\n",
    "            #reshape test data\n",
    "            test_data = np.reshape(test_data, (test_data.shape[0], test_data.shape[2]))\n",
    "        \n",
    "        # using Adam optimizer\n",
    "        optimizer = tf.train.AdamOptimizer().minimize(self.loss)\n",
    "        # define a saver\n",
    "        saver = tf.train.Saver()\n",
    "        \n",
    "        # number of batches\n",
    "        batch_idxs = len(train_data) // self.batch_size\n",
    "\n",
    "        # define a writer ()\n",
    "        writer = tf.summary.FileWriter(\"exp\")\n",
    "        \n",
    "        # add the graph (The model and all the variables) to the writer\n",
    "        writer.add_graph(self.sess.graph)\n",
    "\n",
    "        #initialize network variables\n",
    "        init_op = tf.global_variables_initializer()\n",
    "        self.sess.run(init_op)\n",
    "\n",
    "        #loop over epochs\n",
    "        for epoch in range(epochs):\n",
    "            #for each epoch loop over batches\n",
    "            for idx in range(batch_idxs):\n",
    "                # take a batch from training and test data\n",
    "                batch_train = train_data[idx * self.batch_size : (idx + 1) * self.batch_size]\n",
    "                batch_value = test_data[idx * self.batch_size : (idx + 1) * self.batch_size]\n",
    "                # run the optimizer to reduce the loss (we train the model to give us the same output for specific input)\n",
    "                feed_train = {self.input_placeholder : batch_train, self.output_placeholder_expert : batch_value}\n",
    "                self.sess.run(optimizer, feed_dict = feed_train)\n",
    "                    \n",
    "        # save the model\n",
    "        saver.save(self.sess, \"exp\" + \"/behavior_cloning_model\")\n",
    "\n",
    "    def sample(self, input):\n",
    "        #sample an action for a specified input\n",
    "        output = self.sess.run(self.output_placeholder_model, feed_dict = {self.input_placeholder : np.repeat(input[None, :], self.batch_size, axis = 0)})\n",
    "        return output[0]\n",
    "    \n",
    "# generate expert data\n",
    "expert_policy_file = \"experts/\" + env_name + \".pkl\"\n",
    "policy_fn = load_policy.load_policy(expert_policy_file)\n",
    "env = gym.make(env_name)\n",
    "\n",
    "data = generate_rollouts(num_rollouts=20,max_steps=100,render=False);\n",
    "x = data['observations']\n",
    "y = data['actions']\n",
    "print('dimension of obs :', x.shape)\n",
    "print('dimension of actions :', y.shape)\n",
    "\n",
    "# shuffle data\n",
    "x, y = shuffle(x,y)\n",
    "\n",
    "# create an object from BC_Model class, and train it\n",
    "cloner = BC_Model_cheet(x,y, if_reset=True)\n",
    "cloner.train()\n",
    "\n",
    "num_eval_rollouts=20\n",
    "# loop over runouts\n",
    "cheet_returns=[]\n",
    "for i in range(num_eval_rollouts):\n",
    "    # reset variables in each iteration\n",
    "    totalr = 0\n",
    "    done = False\n",
    "    obs = env.reset()\n",
    "    # loop until the end of the episode\n",
    "    while not done:\n",
    "        # get an action from the trained model (output for specific observation as input)\n",
    "        action = cloner.sample(obs)\n",
    "        # implement the action\n",
    "        obs,r,done,_ = env.step(action)\n",
    "        #env.render()\n",
    "        env.close()\n",
    "        totalr +=r\n",
    "    cheet_returns.append(totalr)\n",
    "print('mean return', np.mean(cheet_returns))\n",
    "print('std of return', np.std(cheet_returns))"
   ]
  },
  {
   "cell_type": "code",
   "execution_count": 4,
   "metadata": {},
   "outputs": [
    {
     "name": "stderr",
     "output_type": "stream",
     "text": [
      "/usr/local/lib/python3.6/dist-packages/matplotlib/font_manager.py:1241: UserWarning: findfont: Font family ['Verdana'] not found. Falling back to DejaVu Sans.\n",
      "  (prop.get_family(), self.defaultFamily[fontext]))\n"
     ]
    },
    {
     "data": {
      "image/png": "[encoded data removed]",
      "text/plain": [
       "<Figure size 432x288 with 1 Axes>"
      ]
     },
     "metadata": {
      "needs_background": "light"
     },
     "output_type": "display_data"
    }
   ],
   "source": [
    "# ГРАФИК ДЛЯ ЛИОПАРДА\n",
    "# тут тоже не очень, но он хотя бы двигается прямо\n",
    "\n",
    "plt.title(\"HalfCheetah-v2\")\n",
    "plt.plot([x for x in range(20)], cheet_returns)\n",
    "plt.xlabel(\"number of roll outs\")\n",
    "plt.ylabel(\"totalr\")\n",
    "\n",
    "plt.show()"
   ]
  },
  {
   "cell_type": "markdown",
   "metadata": {},
   "source": [
    "__Задание 1.2.__ Выберите один из гиперапараметров вашей модели, которые влияют на качество обучения (количество эпох, количество слоев и т.п.). Для одного из окружений постройте график влияния значения этого параметра на качество обучения (totalr)."
   ]
  },
  {
   "cell_type": "code",
   "execution_count": 86,
   "metadata": {},
   "outputs": [
    {
     "name": "stdout",
     "output_type": "stream",
     "text": [
      "mean return 642.5425247491171\n",
      "std of return 10.456716290494107\n",
      "AMOUNT OF EPOCHS: 0\n",
      "AMOUNT OF EPOCHS: 10\n",
      "AMOUNT OF EPOCHS: 20\n",
      "AMOUNT OF EPOCHS: 30\n",
      "AMOUNT OF EPOCHS: 40\n",
      "AMOUNT OF EPOCHS: 50\n",
      "AMOUNT OF EPOCHS: 60\n",
      "AMOUNT OF EPOCHS: 70\n",
      "AMOUNT OF EPOCHS: 80\n",
      "AMOUNT OF EPOCHS: 90\n",
      "AMOUNT OF EPOCHS: 100\n"
     ]
    }
   ],
   "source": [
    "epochs = [i for i in range(0, 110, 10)]\n",
    "res = []\n",
    "\n",
    "data = generate_rollouts(num_rollouts=20,max_steps=100,render=False)\n",
    "x = data['observations']\n",
    "y = data['actions']\n",
    "x, y = shuffle(x,y)\n",
    "\n",
    "for e in epochs:\n",
    "    print(\"AMOUNT OF EPOCHS:\", e)\n",
    "    cloner = BC_Model(x,y)\n",
    "    cloner.train(epochs=e)\n",
    "    num_eval_rollouts=50\n",
    "    returns=[]\n",
    "    for i in range(num_eval_rollouts):\n",
    "        totalr = 0\n",
    "        done = False\n",
    "        obs = env.reset()\n",
    "        while not done:\n",
    "            action = cloner.sample(obs)\n",
    "            obs,r,done,_ = env.step(action)\n",
    "            #env.render()\n",
    "            env.close()\n",
    "            totalr +=r\n",
    "        returns.append(totalr)\n",
    "    res.append(np.mean(returns))"
   ]
  },
  {
   "cell_type": "code",
   "execution_count": 87,
   "metadata": {},
   "outputs": [
    {
     "data": {
      "image/png": "[encoded data removed]",
      "text/plain": [
       "<Figure size 432x288 with 1 Axes>"
      ]
     },
     "metadata": {
      "needs_background": "light"
     },
     "output_type": "display_data"
    }
   ],
   "source": [
    "plt.plot(epochs, res)\n",
    "plt.xlabel(\"number of epochs\")\n",
    "plt.ylabel(\"totalr\")\n",
    "\n",
    "plt.show()\n",
    "\n",
    "# вывод - эпох должно быть в меру, после 20 эпох никакого роста нет"
   ]
  },
  {
   "cell_type": "markdown",
   "metadata": {},
   "source": [
    "***\n",
    "## 2. DAgger Algorithm"
   ]
  },
  {
   "cell_type": "markdown",
   "metadata": {},
   "source": [
    "Цель алгоритма DAgger (data Aggregation) - собрать статистику обучаемой модели, вместо экспертных данных. \n",
    "- Вначале мы тренируем BC_Model на собранных экспертных данных.\n",
    "- Запускаем модель на окружениие, собираем наблюдения.\n",
    "- Затем мы просим эксперта (человека) отметить, какие действия нужно совершать в полученных наблюдениях (по сути используем __policy_fn__).\n",
    "- Создаем новую коллекцию помеченных и экспертных данных.\n",
    "- Потворяем."
   ]
  },
  {
   "cell_type": "code",
   "execution_count": 9,
   "metadata": {},
   "outputs": [
    {
     "name": "stdout",
     "output_type": "stream",
     "text": [
      "loading and building expert policy\n",
      "obs (1, 376) (1, 376)\n",
      "loaded and built\n",
      "mean return 638.7835255546721\n",
      "std of return 10.944125517475088\n",
      "dimension of obs : (2000, 376)\n",
      "dimension of actions : (2000, 1, 17)\n"
     ]
    }
   ],
   "source": [
    "env_name=\"Humanoid-v2\"\n",
    "\n",
    "expert_policy_file = \"experts/\" + env_name + \".pkl\"\n",
    "\n",
    "print('loading and building expert policy')\n",
    "policy_fn = load_policy.load_policy(expert_policy_file)\n",
    "print('loaded and built')\n",
    "\n",
    "data = generate_rollouts(num_rollouts=20,max_steps=100,render=False)\n",
    "x = data['observations']\n",
    "y = data['actions']\n",
    "print('dimension of obs :', x.shape)\n",
    "print('dimension of actions :', y.shape)\n",
    "\n",
    "# shuffle data\n",
    "x, y = shuffle(x,y)\n",
    "\n",
    "cloner = BC_Model(x, y)\n",
    "cloner.train()\n",
    "\n",
    "with tf.Session():\n",
    "    DAgger_iter = 30\n",
    "    render = False\n",
    "    # DAgger loop\n",
    "    for i in range(DAgger_iter):\n",
    "        # reset in each iteration\n",
    "        new_obs = []\n",
    "        new_actions = []\n",
    "        obs = env.reset()\n",
    "        done = False\n",
    "        # collect data from model and expert\n",
    "        while not done:\n",
    "            # get an action from the model\n",
    "            ### Ваш код здесь - испольузуем оубченную модель ###\n",
    "            # action = ...\n",
    "            action = cloner.sample(obs)\n",
    "            obs, _, done, _ = env.step(action)\n",
    "            if render:\n",
    "                env.render()\n",
    "            # get the expert action for the same input\n",
    "            ### Ваш код здесь - испольузуем olicy_fn!! ###\n",
    "            # corrected_action = \n",
    "            corrected_action = policy_fn(obs[None,:])\n",
    "            # append the observation and expert action to the data set\n",
    "            new_obs.append(obs)\n",
    "            new_actions.append(corrected_action)\n",
    "        # re-order the data\n",
    "        x = np.concatenate((x, obs[None, :]), axis = 0)\n",
    "        y = np.concatenate((y, corrected_action[None, :]), axis = 0)\n",
    "        # train the model on the collected data\n",
    "        ### Ваш код здесь - дообучаем модель ###\n",
    "        # cloner.train...\n",
    "        cloner.train(train_data=x, test_data=y)"
   ]
  },
  {
   "cell_type": "markdown",
   "metadata": {},
   "source": [
    "### Проверяем работу"
   ]
  },
  {
   "cell_type": "code",
   "execution_count": 10,
   "metadata": {},
   "outputs": [
    {
     "name": "stdout",
     "output_type": "stream",
     "text": [
      "mean return 229.7761632816972\n",
      "std of return 66.08892824998522\n"
     ]
    }
   ],
   "source": [
    "num_eval_rollouts=20\n",
    "# loop over runouts\n",
    "hum_dagger_returns=[]\n",
    "for i in range(num_eval_rollouts):\n",
    "    # reset variables in each iteration\n",
    "    totalr=0\n",
    "    done=False\n",
    "    obs=env.reset()\n",
    "    # loop until the end of the episode\n",
    "    while not done:\n",
    "        # get an action from the trained model (output for specific observation as input)\n",
    "        action=cloner.sample(obs)\n",
    "        # implement the action\n",
    "        obs,r,done,_=env.step(action)\n",
    "        #env.render()\n",
    "        env.close()\n",
    "        totalr+=r\n",
    "    hum_dagger_returns.append(totalr)\n",
    "print('mean return', np.mean(hum_dagger_returns))\n",
    "print('std of return', np.std(hum_dagger_returns))"
   ]
  },
  {
   "cell_type": "code",
   "execution_count": 16,
   "metadata": {},
   "outputs": [
    {
     "data": {
      "image/png": "[encoded data removed]",
      "text/plain": [
       "<Figure size 432x288 with 1 Axes>"
      ]
     },
     "metadata": {
      "needs_background": "light"
     },
     "output_type": "display_data"
    }
   ],
   "source": [
    "plt.plot([x for x in range(20)], human_returns, label='BC')\n",
    "plt.plot([x for x in range(20)], hum_dagger_returns, label='DAgger')\n",
    "plt.legend(loc='best')\n",
    "plt.show()\n",
    "\n",
    "# Вывод - Даггер в среднем повышает величину возраграждения в сравнении с ВС у этого агента"
   ]
  },
  {
   "cell_type": "markdown",
   "metadata": {},
   "source": [
    "__Задание 2.1.__ Проверьте работу DAagger на всех задачах MoJoCo - укажите для какой задачи он работает лучше, чем простое клонирование. Покажите это на графиках."
   ]
  },
  {
   "cell_type": "code",
   "execution_count": 15,
   "metadata": {},
   "outputs": [
    {
     "name": "stdout",
     "output_type": "stream",
     "text": [
      "loading and building expert policy\n",
      "obs (1, 111) (1, 111)\n",
      "loaded and built\n",
      "mean return 433.4726998292009\n",
      "std of return 28.406819945126696\n",
      "dimension of obs : (2000, 111)\n",
      "dimension of actions : (2000, 1, 8)\n"
     ]
    }
   ],
   "source": [
    "env_name=\"Ant-v2\"\n",
    "\n",
    "expert_policy_file = \"experts/\" + env_name + \".pkl\"\n",
    "\n",
    "print('loading and building expert policy')\n",
    "policy_fn = load_policy.load_policy(expert_policy_file)\n",
    "print('loaded and built')\n",
    "\n",
    "env = gym.make(env_name)\n",
    "\n",
    "data = generate_rollouts(num_rollouts=20,max_steps=100,render=False)\n",
    "x = data['observations']\n",
    "y = data['actions']\n",
    "print('dimension of obs :', x.shape)\n",
    "print('dimension of actions :', y.shape)\n",
    "\n",
    "# shuffle data\n",
    "x, y = shuffle(x,y)\n",
    "\n",
    "cloner = BC_Model_ant(x, y)\n",
    "cloner.train()\n",
    "\n",
    "with tf.Session():\n",
    "    DAgger_iter = 30\n",
    "    render = False\n",
    "    # DAgger loop\n",
    "    for i in range(DAgger_iter):\n",
    "        # reset in each iteration\n",
    "        new_obs = []\n",
    "        new_actions = []\n",
    "        obs = env.reset()\n",
    "        done = False\n",
    "        # collect data from model and expert\n",
    "        while not done:\n",
    "            # get an action from the model\n",
    "            ### Ваш код здесь - испольузуем оубченную модель ###\n",
    "            # action = ...\n",
    "            action = cloner.sample(obs)\n",
    "            obs, _, done, _ = env.step(action)\n",
    "            if render:\n",
    "                env.render()\n",
    "            corrected_action = policy_fn(obs[None,:])\n",
    "            # append the observation and expert action to the data set\n",
    "            new_obs.append(obs)\n",
    "            new_actions.append(corrected_action)\n",
    "        # re-order the data\n",
    "        x = np.concatenate((x, obs[None, :]), axis = 0)\n",
    "        y = np.concatenate((y, corrected_action[None, :]), axis = 0)\n",
    "        cloner.train(train_data=x, test_data=y)"
   ]
  },
  {
   "cell_type": "code",
   "execution_count": 16,
   "metadata": {},
   "outputs": [
    {
     "name": "stdout",
     "output_type": "stream",
     "text": [
      "Creating window glfw\n",
      "mean return -2284589.963471208\n",
      "std of return 3953287.657924425\n"
     ]
    }
   ],
   "source": [
    "num_eval_rollouts=20\n",
    "# loop over runouts\n",
    "ant_dagger_returns=[]\n",
    "for i in range(num_eval_rollouts):\n",
    "    # reset variables in each iteration\n",
    "    totalr=0\n",
    "    done=False\n",
    "    obs=env.reset()\n",
    "    # loop until the end of the episode\n",
    "    while not done:\n",
    "        # get an action from the trained model (output for specific observation as input)\n",
    "        action=cloner.sample(obs)\n",
    "        # implement the action\n",
    "        obs,r,done,_=env.step(action)\n",
    "        #env.render()\n",
    "        env.close()\n",
    "        totalr+=r\n",
    "    ant_dagger_returns.append(totalr)\n",
    "print('mean return', np.mean(ant_dagger_returns))\n",
    "print('std of return', np.std(ant_dagger_returns))"
   ]
  },
  {
   "cell_type": "code",
   "execution_count": 22,
   "metadata": {},
   "outputs": [
    {
     "data": {
      "image/png": "[encoded data removed]",
      "text/plain": [
       "<Figure size 432x288 with 1 Axes>"
      ]
     },
     "metadata": {
      "needs_background": "light"
     },
     "output_type": "display_data"
    }
   ],
   "source": [
    "plt.plot([x for x in range(20)], ant_returns, label='BC')\n",
    "plt.plot([x for x in range(20)], ant_dagger_returns, label='DAgger')\n",
    "plt.legend(loc='best')\n",
    "plt.show()\n",
    "\n",
    "# Вывод - Даггер в среднем повышает величину возраглаждения в сравнении с ВС у этого агента,\n",
    "# но вообще что то фигня, что это"
   ]
  },
  {
   "cell_type": "code",
   "execution_count": 32,
   "metadata": {},
   "outputs": [
    {
     "name": "stdout",
     "output_type": "stream",
     "text": [
      "loading and building expert policy\n",
      "obs (1, 17) (1, 17)\n",
      "loaded and built\n",
      "mean return 283.57138329632653\n",
      "std of return 22.869741566147564\n",
      "dimension of obs : (2000, 17)\n",
      "dimension of actions : (2000, 1, 6)\n"
     ]
    }
   ],
   "source": [
    "env_name=\"HalfCheetah-v2\"\n",
    "\n",
    "expert_policy_file = \"experts/\" + env_name + \".pkl\"\n",
    "\n",
    "print('loading and building expert policy')\n",
    "policy_fn = load_policy.load_policy(expert_policy_file)\n",
    "print('loaded and built')\n",
    "\n",
    "env = gym.make(env_name)\n",
    "\n",
    "data = generate_rollouts(num_rollouts=20,max_steps=100,render=False)\n",
    "x = data['observations']\n",
    "y = data['actions']\n",
    "print('dimension of obs :', x.shape)\n",
    "print('dimension of actions :', y.shape)\n",
    "\n",
    "# shuffle data\n",
    "x, y = shuffle(x,y)\n",
    "\n",
    "cloner = BC_Model_cheet(x, y)\n",
    "cloner.train()\n",
    "\n",
    "with tf.Session():\n",
    "    DAgger_iter = 30\n",
    "    render = False\n",
    "    # DAgger loop\n",
    "    for i in range(DAgger_iter):\n",
    "        # reset in each iteration\n",
    "        new_obs = []\n",
    "        new_actions = []\n",
    "        obs = env.reset()\n",
    "        done = False\n",
    "        # collect data from model and expert\n",
    "        while not done:\n",
    "            action = cloner.sample(obs)\n",
    "            obs, _, done, _ = env.step(action)\n",
    "            if render:\n",
    "                env.render()\n",
    "            corrected_action = policy_fn(obs[None,:])\n",
    "            # append the observation and expert action to the data set\n",
    "            new_obs.append(obs)\n",
    "            new_actions.append(corrected_action)\n",
    "        # re-order the data\n",
    "        x = np.concatenate((x, obs[None, :]), axis = 0)\n",
    "        y = np.concatenate((y, corrected_action[None, :]), axis = 0)\n",
    "        cloner.train(train_data=x, test_data=y)"
   ]
  },
  {
   "cell_type": "code",
   "execution_count": 33,
   "metadata": {},
   "outputs": [
    {
     "name": "stdout",
     "output_type": "stream",
     "text": [
      "mean return -430.2392297915894\n",
      "std of return 215.5831602600348\n"
     ]
    }
   ],
   "source": [
    "num_eval_rollouts=20\n",
    "# loop over runouts\n",
    "cheet_dagger_returns=[]\n",
    "for i in range(num_eval_rollouts):\n",
    "    # reset variables in each iteration\n",
    "    totalr=0\n",
    "    done=False\n",
    "    obs=env.reset()\n",
    "    # loop until the end of the episode\n",
    "    while not done:\n",
    "        # get an action from the trained model (output for specific observation as input)\n",
    "        action=cloner.sample(obs)\n",
    "        # implement the action\n",
    "        obs,r,done,_=env.step(action)\n",
    "        #env.render()\n",
    "        env.close()\n",
    "        totalr+=r\n",
    "    cheet_dagger_returns.append(totalr)\n",
    "print('mean return', np.mean(cheet_dagger_returns))\n",
    "print('std of return', np.std(cheet_dagger_returns))"
   ]
  },
  {
   "cell_type": "code",
   "execution_count": 34,
   "metadata": {},
   "outputs": [
    {
     "data": {
      "image/png": "[encoded data removed]",
      "text/plain": [
       "<Figure size 432x288 with 1 Axes>"
      ]
     },
     "metadata": {
      "needs_background": "light"
     },
     "output_type": "display_data"
    }
   ],
   "source": [
    "plt.plot([x for x in range(20)], cheet_returns, label='BC')\n",
    "plt.plot([x for x in range(20)], cheet_dagger_returns, label='DAgger')\n",
    "plt.legend(loc='best')\n",
    "plt.show()\n",
    "\n",
    "# Тут BC кажется лучше, но опять же"
   ]
  },
  {
   "cell_type": "code",
   "execution_count": 4,
   "metadata": {},
   "outputs": [],
   "source": [
    "env_name=\"Hopper-v2\"\n",
    "\n",
    "class BC_Model_hopper(object):\n",
    "    def __init__(self, input_data, output_data, batch_size = 64, if_reset=False):\n",
    "        if if_reset is True:\n",
    "            tf.reset_default_graph()\n",
    "        # define tensorflow session\n",
    "        self.sess = tf.Session()\n",
    "        # input and output data , and their shapes\n",
    "        self.batch_size = batch_size\n",
    "        self.input_data = input_data\n",
    "        self.output_data = np.reshape(output_data, (output_data.shape[0], output_data.shape[2]))\n",
    "        self.input_shape = [self.batch_size, self.input_data.shape[-1]]\n",
    "        self.output_shape = [self.batch_size, self.output_data.shape[-1]]\n",
    "        \n",
    "        # placeholders for the neural network (input, model output and the expert output)\n",
    "        self.input_placeholder = tf.placeholder(tf.float32, shape = self.input_shape)\n",
    "        self.output_placeholder_expert = tf.placeholder(tf.float32, shape = self.output_shape)\n",
    "        self.output_placeholder_model = self.build_model(self.input_placeholder)\n",
    "        \n",
    "        # the loss function Mean squared error, (L2 stands for Least Square Errors)\n",
    "        self.loss = tf.nn.l2_loss(self.output_placeholder_model)\n",
    "        \n",
    "\n",
    "    def build_model(self, input_placeholder):\n",
    "        tf.set_random_seed(42)\n",
    "        w1 = tf.Variable(tf.random_normal([11, 15]))\n",
    "        w2 = tf.Variable(tf.random_normal([15, 15]))\n",
    "        w3 = tf.Variable(tf.random_normal([15, 64]))\n",
    "        inner_layer_1 = tf.add(tf.matmul(input_placeholder, w1), tf.Variable(tf.random_normal([15])))\n",
    "        relu = tf.nn.relu(inner_layer_1)\n",
    "        drop = tf.nn.dropout(relu, 0.25)\n",
    "        inner_layer_2 = tf.add(tf.matmul(drop, w2), tf.Variable(tf.random_normal([15])))\n",
    "        relu_2 = tf.nn.relu(inner_layer_2)\n",
    "        drop_2 = tf.nn.dropout(relu_2, 0.25)\n",
    "        out_layer = tf.matmul(drop_2, w3) + tf.Variable(tf.random_normal([64]))\n",
    "        out = tf.layers.dense(out_layer, units=3, activation=tf.nn.relu)\n",
    "        return out\n",
    "\n",
    "    def train(self, epochs = 20, train_data = None, test_data = None):\n",
    "        # check train and test data\n",
    "        if train_data is None and test_data is None :\n",
    "            # split the input data to train and test if test and train data are not given\n",
    "            train_data, test_data = shuffle(self.input_data, self.output_data, random_state = 0)\n",
    "        else:\n",
    "            #reshape test data\n",
    "            test_data = np.reshape(test_data, (test_data.shape[0], test_data.shape[2]))\n",
    "        \n",
    "        # using Adam optimizer\n",
    "        optimizer = tf.train.AdamOptimizer().minimize(self.loss)\n",
    "        # define a saver\n",
    "        saver = tf.train.Saver()\n",
    "        \n",
    "        # number of batches\n",
    "        batch_idxs = len(train_data) // self.batch_size\n",
    "\n",
    "        # define a writer ()\n",
    "        writer = tf.summary.FileWriter(\"exp\")\n",
    "        \n",
    "        # add the graph (The model and all the variables) to the writer\n",
    "        writer.add_graph(self.sess.graph)\n",
    "\n",
    "        #initialize network variables\n",
    "        init_op = tf.global_variables_initializer()\n",
    "        self.sess.run(init_op)\n",
    "\n",
    "        #loop over epochs\n",
    "        for epoch in range(epochs):\n",
    "            #for each epoch loop over batches\n",
    "            for idx in range(batch_idxs):\n",
    "                # take a batch from training and test data\n",
    "                batch_train = train_data[idx * self.batch_size : (idx + 1) * self.batch_size]\n",
    "                batch_value = test_data[idx * self.batch_size : (idx + 1) * self.batch_size]\n",
    "                # run the optimizer to reduce the loss (we train the model to give us the same output for specific input)\n",
    "                feed_train = {self.input_placeholder : batch_train, self.output_placeholder_expert : batch_value}\n",
    "                self.sess.run(optimizer, feed_dict = feed_train)\n",
    "                    \n",
    "        # save the model\n",
    "        saver.save(self.sess, \"exp\" + \"/behavior_cloning_model\")\n",
    "\n",
    "    def sample(self, input):\n",
    "        #sample an action for a specified input\n",
    "        output = self.sess.run(self.output_placeholder_model, feed_dict = {self.input_placeholder : np.repeat(input[None, :], self.batch_size, axis = 0)})\n",
    "        return output[0]"
   ]
  },
  {
   "cell_type": "code",
   "execution_count": 5,
   "metadata": {},
   "outputs": [
    {
     "name": "stdout",
     "output_type": "stream",
     "text": [
      "loading and building expert policy\n",
      "obs (1, 11) (1, 11)\n",
      "loaded and built\n",
      "mean return 228.08311340495771\n",
      "std of return 0.5779743746774755\n",
      "dimension of obs : (2000, 11)\n",
      "dimension of actions : (2000, 1, 3)\n"
     ]
    }
   ],
   "source": [
    "env_name=\"Hopper-v2\"\n",
    "\n",
    "expert_policy_file = \"experts/\" + env_name + \".pkl\"\n",
    "\n",
    "print('loading and building expert policy')\n",
    "policy_fn = load_policy.load_policy(expert_policy_file)\n",
    "print('loaded and built')\n",
    "\n",
    "env = gym.make(env_name)\n",
    "\n",
    "data = generate_rollouts(num_rollouts=20,max_steps=100,render=False)\n",
    "x = data['observations']\n",
    "y = data['actions']\n",
    "print('dimension of obs :', x.shape)\n",
    "print('dimension of actions :', y.shape)\n",
    "\n",
    "# shuffle data\n",
    "x, y = shuffle(x,y)\n",
    "\n",
    "cloner = BC_Model_hopper(x, y)\n",
    "cloner.train()\n",
    "\n",
    "with tf.Session():\n",
    "    DAgger_iter = 30\n",
    "    render = False\n",
    "    # DAgger loop\n",
    "    for i in range(DAgger_iter):\n",
    "        # reset in each iteration\n",
    "        new_obs = []\n",
    "        new_actions = []\n",
    "        obs = env.reset()\n",
    "        done = False\n",
    "        # collect data from model and expert\n",
    "        while not done:\n",
    "            action = cloner.sample(obs)\n",
    "            obs, _, done, _ = env.step(action)\n",
    "            if render:\n",
    "                env.render()\n",
    "            corrected_action = policy_fn(obs[None,:])\n",
    "            # append the observation and expert action to the data set\n",
    "            new_obs.append(obs)\n",
    "            new_actions.append(corrected_action)\n",
    "        # re-order the data\n",
    "        x = np.concatenate((x, obs[None, :]), axis = 0)\n",
    "        y = np.concatenate((y, corrected_action[None, :]), axis = 0)\n",
    "        cloner.train(train_data=x, test_data=y)"
   ]
  },
  {
   "cell_type": "code",
   "execution_count": 6,
   "metadata": {},
   "outputs": [
    {
     "name": "stdout",
     "output_type": "stream",
     "text": [
      "mean return 123.80991942265707\n",
      "std of return 27.929587967364583\n"
     ]
    }
   ],
   "source": [
    "num_eval_rollouts=20\n",
    "# loop over runouts\n",
    "hop_returns=[]\n",
    "for i in range(num_eval_rollouts):\n",
    "    # reset variables in each iteration\n",
    "    totalr=0\n",
    "    done=False\n",
    "    obs=env.reset()\n",
    "    # loop until the end of the episode\n",
    "    while not done:\n",
    "        # get an action from the trained model (output for specific observation as input)\n",
    "        action=cloner.sample(obs)\n",
    "        # implement the action\n",
    "        obs,r,done,_=env.step(action)\n",
    "        #env.render()\n",
    "        env.close()\n",
    "        totalr+=r\n",
    "    hop_returns.append(totalr)\n",
    "print('mean return', np.mean(hop_returns))\n",
    "print('std of return', np.std(hop_returns))"
   ]
  },
  {
   "cell_type": "code",
   "execution_count": 7,
   "metadata": {},
   "outputs": [],
   "source": [
    "env_name=\"Reacher-v2\"\n",
    "\n",
    "class BC_Model_reacher(object):\n",
    "    def __init__(self, input_data, output_data, batch_size = 64, if_reset=False):\n",
    "        if if_reset is True:\n",
    "            tf.reset_default_graph()\n",
    "        # define tensorflow session\n",
    "        self.sess = tf.Session()\n",
    "        # input and output data , and their shapes\n",
    "        self.batch_size = batch_size\n",
    "        self.input_data = input_data\n",
    "        self.output_data = np.reshape(output_data, (output_data.shape[0], output_data.shape[2]))\n",
    "        self.input_shape = [self.batch_size, self.input_data.shape[-1]]\n",
    "        self.output_shape = [self.batch_size, self.output_data.shape[-1]]\n",
    "        \n",
    "        # placeholders for the neural network (input, model output and the expert output)\n",
    "        self.input_placeholder = tf.placeholder(tf.float32, shape = self.input_shape)\n",
    "        self.output_placeholder_expert = tf.placeholder(tf.float32, shape = self.output_shape)\n",
    "        self.output_placeholder_model = self.build_model(self.input_placeholder)\n",
    "        \n",
    "        # the loss function Mean squared error, (L2 stands for Least Square Errors)\n",
    "        self.loss = tf.nn.l2_loss(self.output_placeholder_model)\n",
    "        \n",
    "\n",
    "    def build_model(self, input_placeholder):\n",
    "        tf.set_random_seed(42)\n",
    "        w1 = tf.Variable(tf.random_normal([11, 15]))\n",
    "        w2 = tf.Variable(tf.random_normal([15, 15]))\n",
    "        w3 = tf.Variable(tf.random_normal([15, 64]))\n",
    "        inner_layer_1 = tf.add(tf.matmul(input_placeholder, w1), tf.Variable(tf.random_normal([15])))\n",
    "        relu = tf.nn.relu(inner_layer_1)\n",
    "        drop = tf.nn.dropout(relu, 0.25)\n",
    "        inner_layer_2 = tf.add(tf.matmul(drop, w2), tf.Variable(tf.random_normal([15])))\n",
    "        relu_2 = tf.nn.relu(inner_layer_2)\n",
    "        drop_2 = tf.nn.dropout(relu_2, 0.25)\n",
    "        out_layer = tf.matmul(drop_2, w3) + tf.Variable(tf.random_normal([64]))\n",
    "        out = tf.layers.dense(out_layer, units=2, activation=tf.nn.relu)\n",
    "        return out\n",
    "\n",
    "    def train(self, epochs = 20, train_data = None, test_data = None):\n",
    "        # check train and test data\n",
    "        if train_data is None and test_data is None :\n",
    "            # split the input data to train and test if test and train data are not given\n",
    "            train_data, test_data = shuffle(self.input_data, self.output_data, random_state = 0)\n",
    "        else:\n",
    "            #reshape test data\n",
    "            test_data = np.reshape(test_data, (test_data.shape[0], test_data.shape[2]))\n",
    "        \n",
    "        # using Adam optimizer\n",
    "        optimizer = tf.train.AdamOptimizer().minimize(self.loss)\n",
    "        # define a saver\n",
    "        saver = tf.train.Saver()\n",
    "        \n",
    "        # number of batches\n",
    "        batch_idxs = len(train_data) // self.batch_size\n",
    "\n",
    "        # define a writer ()\n",
    "        writer = tf.summary.FileWriter(\"exp\")\n",
    "        \n",
    "        # add the graph (The model and all the variables) to the writer\n",
    "        writer.add_graph(self.sess.graph)\n",
    "\n",
    "        #initialize network variables\n",
    "        init_op = tf.global_variables_initializer()\n",
    "        self.sess.run(init_op)\n",
    "\n",
    "        #loop over epochs\n",
    "        for epoch in range(epochs):\n",
    "            #for each epoch loop over batches\n",
    "            for idx in range(batch_idxs):\n",
    "                # take a batch from training and test data\n",
    "                batch_train = train_data[idx * self.batch_size : (idx + 1) * self.batch_size]\n",
    "                batch_value = test_data[idx * self.batch_size : (idx + 1) * self.batch_size]\n",
    "                # run the optimizer to reduce the loss (we train the model to give us the same output for specific input)\n",
    "                feed_train = {self.input_placeholder : batch_train, self.output_placeholder_expert : batch_value}\n",
    "                self.sess.run(optimizer, feed_dict = feed_train)\n",
    "                    \n",
    "        # save the model\n",
    "        saver.save(self.sess, \"exp\" + \"/behavior_cloning_model\")\n",
    "\n",
    "    def sample(self, input):\n",
    "        #sample an action for a specified input\n",
    "        output = self.sess.run(self.output_placeholder_model, feed_dict = {self.input_placeholder : np.repeat(input[None, :], self.batch_size, axis = 0)})\n",
    "        return output[0]"
   ]
  },
  {
   "cell_type": "code",
   "execution_count": 8,
   "metadata": {},
   "outputs": [
    {
     "name": "stdout",
     "output_type": "stream",
     "text": [
      "loading and building expert policy\n",
      "obs (1, 11) (1, 11)\n",
      "loaded and built\n",
      "mean return -3.6993266792040544\n",
      "std of return 1.2272940599794264\n",
      "dimension of obs : (1000, 11)\n",
      "dimension of actions : (1000, 1, 2)\n"
     ]
    }
   ],
   "source": [
    "env_name=\"Reacher-v2\"\n",
    "\n",
    "expert_policy_file = \"experts/\" + env_name + \".pkl\"\n",
    "\n",
    "print('loading and building expert policy')\n",
    "policy_fn = load_policy.load_policy(expert_policy_file)\n",
    "print('loaded and built')\n",
    "\n",
    "env = gym.make(env_name)\n",
    "\n",
    "data = generate_rollouts(num_rollouts=20,max_steps=100,render=False)\n",
    "x = data['observations']\n",
    "y = data['actions']\n",
    "print('dimension of obs :', x.shape)\n",
    "print('dimension of actions :', y.shape)\n",
    "\n",
    "# shuffle data\n",
    "x, y = shuffle(x,y)\n",
    "\n",
    "cloner = BC_Model_reacher(x, y)\n",
    "cloner.train()\n",
    "\n",
    "with tf.Session():\n",
    "    DAgger_iter = 30\n",
    "    render = False\n",
    "    # DAgger loop\n",
    "    for i in range(DAgger_iter):\n",
    "        # reset in each iteration\n",
    "        new_obs = []\n",
    "        new_actions = []\n",
    "        obs = env.reset()\n",
    "        done = False\n",
    "        # collect data from model and expert\n",
    "        while not done:\n",
    "            action = cloner.sample(obs)\n",
    "            obs, _, done, _ = env.step(action)\n",
    "            if render:\n",
    "                env.render()\n",
    "            corrected_action = policy_fn(obs[None,:])\n",
    "            # append the observation and expert action to the data set\n",
    "            new_obs.append(obs)\n",
    "            new_actions.append(corrected_action)\n",
    "        # re-order the data\n",
    "        x = np.concatenate((x, obs[None, :]), axis = 0)\n",
    "        y = np.concatenate((y, corrected_action[None, :]), axis = 0)\n",
    "        cloner.train(train_data=x, test_data=y)"
   ]
  },
  {
   "cell_type": "code",
   "execution_count": 9,
   "metadata": {},
   "outputs": [
    {
     "name": "stdout",
     "output_type": "stream",
     "text": [
      "mean return -608.0012774360216\n",
      "std of return 612.1514573415986\n"
     ]
    }
   ],
   "source": [
    "num_eval_rollouts=20\n",
    "# loop over runouts\n",
    "reacher_returns=[]\n",
    "for i in range(num_eval_rollouts):\n",
    "    # reset variables in each iteration\n",
    "    totalr=0\n",
    "    done=False\n",
    "    obs=env.reset()\n",
    "    # loop until the end of the episode\n",
    "    while not done:\n",
    "        # get an action from the trained model (output for specific observation as input)\n",
    "        action=cloner.sample(obs)\n",
    "        # implement the action\n",
    "        obs,r,done,_=env.step(action)\n",
    "        #env.render()\n",
    "        env.close()\n",
    "        totalr+=r\n",
    "    reacher_returns.append(totalr)\n",
    "print('mean return', np.mean(reacher_returns))\n",
    "print('std of return', np.std(reacher_returns))"
   ]
  },
  {
   "cell_type": "code",
   "execution_count": 10,
   "metadata": {},
   "outputs": [],
   "source": [
    "env_name=\"Walker2d-v2\"\n",
    "\n",
    "class BC_Model_reacher(object):\n",
    "    def __init__(self, input_data, output_data, batch_size = 64, if_reset=False):\n",
    "        if if_reset is True:\n",
    "            tf.reset_default_graph()\n",
    "        # define tensorflow session\n",
    "        self.sess = tf.Session()\n",
    "        # input and output data , and their shapes\n",
    "        self.batch_size = batch_size\n",
    "        self.input_data = input_data\n",
    "        self.output_data = np.reshape(output_data, (output_data.shape[0], output_data.shape[2]))\n",
    "        self.input_shape = [self.batch_size, self.input_data.shape[-1]]\n",
    "        self.output_shape = [self.batch_size, self.output_data.shape[-1]]\n",
    "        \n",
    "        # placeholders for the neural network (input, model output and the expert output)\n",
    "        self.input_placeholder = tf.placeholder(tf.float32, shape = self.input_shape)\n",
    "        self.output_placeholder_expert = tf.placeholder(tf.float32, shape = self.output_shape)\n",
    "        self.output_placeholder_model = self.build_model(self.input_placeholder)\n",
    "        \n",
    "        # the loss function Mean squared error, (L2 stands for Least Square Errors)\n",
    "        self.loss = tf.nn.l2_loss(self.output_placeholder_model)\n",
    "        \n",
    "\n",
    "    def build_model(self, input_placeholder):\n",
    "        tf.set_random_seed(42)\n",
    "        w1 = tf.Variable(tf.random_normal([17, 15]))\n",
    "        w2 = tf.Variable(tf.random_normal([15, 15]))\n",
    "        w3 = tf.Variable(tf.random_normal([15, 64]))\n",
    "        inner_layer_1 = tf.add(tf.matmul(input_placeholder, w1), tf.Variable(tf.random_normal([15])))\n",
    "        relu = tf.nn.relu(inner_layer_1)\n",
    "        drop = tf.nn.dropout(relu, 0.25)\n",
    "        inner_layer_2 = tf.add(tf.matmul(drop, w2), tf.Variable(tf.random_normal([15])))\n",
    "        relu_2 = tf.nn.relu(inner_layer_2)\n",
    "        drop_2 = tf.nn.dropout(relu_2, 0.25)\n",
    "        out_layer = tf.matmul(drop_2, w3) + tf.Variable(tf.random_normal([64]))\n",
    "        out = tf.layers.dense(out_layer, units=6, activation=tf.nn.relu)\n",
    "        return out\n",
    "\n",
    "    def train(self, epochs = 20, train_data = None, test_data = None):\n",
    "        # check train and test data\n",
    "        if train_data is None and test_data is None :\n",
    "            # split the input data to train and test if test and train data are not given\n",
    "            train_data, test_data = shuffle(self.input_data, self.output_data, random_state = 0)\n",
    "        else:\n",
    "            #reshape test data\n",
    "            test_data = np.reshape(test_data, (test_data.shape[0], test_data.shape[2]))\n",
    "        \n",
    "        # using Adam optimizer\n",
    "        optimizer = tf.train.AdamOptimizer().minimize(self.loss)\n",
    "        # define a saver\n",
    "        saver = tf.train.Saver()\n",
    "        \n",
    "        # number of batches\n",
    "        batch_idxs = len(train_data) // self.batch_size\n",
    "\n",
    "        # define a writer ()\n",
    "        writer = tf.summary.FileWriter(\"exp\")\n",
    "        \n",
    "        # add the graph (The model and all the variables) to the writer\n",
    "        writer.add_graph(self.sess.graph)\n",
    "\n",
    "        #initialize network variables\n",
    "        init_op = tf.global_variables_initializer()\n",
    "        self.sess.run(init_op)\n",
    "\n",
    "        #loop over epochs\n",
    "        for epoch in range(epochs):\n",
    "            #for each epoch loop over batches\n",
    "            for idx in range(batch_idxs):\n",
    "                # take a batch from training and test data\n",
    "                batch_train = train_data[idx * self.batch_size : (idx + 1) * self.batch_size]\n",
    "                batch_value = test_data[idx * self.batch_size : (idx + 1) * self.batch_size]\n",
    "                # run the optimizer to reduce the loss (we train the model to give us the same output for specific input)\n",
    "                feed_train = {self.input_placeholder : batch_train, self.output_placeholder_expert : batch_value}\n",
    "                self.sess.run(optimizer, feed_dict = feed_train)\n",
    "                    \n",
    "        # save the model\n",
    "        saver.save(self.sess, \"exp\" + \"/behavior_cloning_model\")\n",
    "\n",
    "    def sample(self, input):\n",
    "        #sample an action for a specified input\n",
    "        output = self.sess.run(self.output_placeholder_model, feed_dict = {self.input_placeholder : np.repeat(input[None, :], self.batch_size, axis = 0)})\n",
    "        return output[0]"
   ]
  },
  {
   "cell_type": "code",
   "execution_count": 12,
   "metadata": {},
   "outputs": [
    {
     "name": "stdout",
     "output_type": "stream",
     "text": [
      "loading and building expert policy\n",
      "obs (1, 17) (1, 17)\n",
      "loaded and built\n",
      "mean return 221.4533857943277\n",
      "std of return 1.171880963605463\n",
      "dimension of obs : (2000, 17)\n",
      "dimension of actions : (2000, 1, 6)\n",
      "0\n",
      "1\n",
      "2\n",
      "3\n",
      "4\n",
      "5\n",
      "6\n",
      "7\n",
      "8\n",
      "9\n",
      "10\n",
      "11\n",
      "12\n",
      "13\n",
      "14\n",
      "15\n",
      "16\n",
      "17\n",
      "18\n",
      "19\n",
      "20\n",
      "21\n",
      "22\n",
      "23\n",
      "24\n",
      "25\n",
      "26\n",
      "27\n",
      "28\n",
      "29\n"
     ]
    }
   ],
   "source": [
    "env_name=\"Walker2d-v2\"\n",
    "\n",
    "expert_policy_file = \"experts/\" + env_name + \".pkl\"\n",
    "\n",
    "print('loading and building expert policy')\n",
    "policy_fn = load_policy.load_policy(expert_policy_file)\n",
    "print('loaded and built')\n",
    "\n",
    "env = gym.make(env_name)\n",
    "\n",
    "data = generate_rollouts(num_rollouts=20,max_steps=100,render=False)\n",
    "x = data['observations']\n",
    "y = data['actions']\n",
    "print('dimension of obs :', x.shape)\n",
    "print('dimension of actions :', y.shape)\n",
    "\n",
    "# shuffle data\n",
    "x, y = shuffle(x,y)\n",
    "\n",
    "cloner = BC_Model_reacher(x, y)\n",
    "cloner.train()\n",
    "\n",
    "with tf.Session():\n",
    "    DAgger_iter = 30\n",
    "    render = False\n",
    "    # DAgger loop\n",
    "    for i in range(DAgger_iter):\n",
    "        print(i)\n",
    "        # reset in each iteration\n",
    "        new_obs = []\n",
    "        new_actions = []\n",
    "        obs = env.reset()\n",
    "        done = False\n",
    "        # collect data from model and expert\n",
    "        while not done:\n",
    "            # get an action from the model\n",
    "            ### Ваш код здесь - испольузуем оубченную модель ###\n",
    "            # action = ...\n",
    "            action = cloner.sample(obs)\n",
    "            obs, _, done, _ = env.step(action)\n",
    "            if render:\n",
    "                env.render()\n",
    "            corrected_action = policy_fn(obs[None,:])\n",
    "            # append the observation and expert action to the data set\n",
    "            new_obs.append(obs)\n",
    "            new_actions.append(corrected_action)\n",
    "        # re-order the data\n",
    "        x = np.concatenate((x, obs[None, :]), axis = 0)\n",
    "        y = np.concatenate((y, corrected_action[None, :]), axis = 0)\n",
    "        cloner.train(train_data=x, test_data=y)"
   ]
  },
  {
   "cell_type": "code",
   "execution_count": 14,
   "metadata": {},
   "outputs": [
    {
     "name": "stdout",
     "output_type": "stream",
     "text": [
      "mean return 263.6282680292881\n",
      "std of return 100.0097035620857\n"
     ]
    }
   ],
   "source": [
    "num_eval_rollouts=20\n",
    "# loop over runouts\n",
    "walker_returns=[]\n",
    "for i in range(num_eval_rollouts):\n",
    "    # reset variables in each iteration\n",
    "    totalr=0\n",
    "    done=False\n",
    "    obs=env.reset()\n",
    "    # loop until the end of the episode\n",
    "    while not done:\n",
    "        # get an action from the trained model (output for specific observation as input)\n",
    "        action=cloner.sample(obs)\n",
    "        # implement the action\n",
    "        obs,r,done,_=env.step(action)\n",
    "        #env.render()\n",
    "        env.close()\n",
    "        totalr+=r\n",
    "    walker_returns.append(totalr)\n",
    "print('mean return', np.mean(walker_returns))\n",
    "print('std of return', np.std(walker_returns))"
   ]
  },
  {
   "cell_type": "code",
   "execution_count": 15,
   "metadata": {},
   "outputs": [
    {
     "name": "stderr",
     "output_type": "stream",
     "text": [
      "/usr/local/lib/python3.6/dist-packages/matplotlib/font_manager.py:1241: UserWarning: findfont: Font family ['Verdana'] not found. Falling back to DejaVu Sans.\n",
      "  (prop.get_family(), self.defaultFamily[fontext]))\n"
     ]
    },
    {
     "data": {
      "image/png": "[encoded data removed]",
      "text/plain": [
       "<Figure size 432x288 with 1 Axes>"
      ]
     },
     "metadata": {
      "needs_background": "light"
     },
     "output_type": "display_data"
    }
   ],
   "source": [
    "# У этих агентов +- одинаковые реводры на экспертных данных, можно сравнить на одном графике\n",
    "\n",
    "plt.plot([x for x in range(20)], hop_returns, label='hopper')\n",
    "plt.plot([x for x in range(20)], reacher_returns, label='reacher')\n",
    "plt.plot([x for x in range(20)], walker_returns, label='walker')\n",
    "plt.legend(loc='best')\n",
    "plt.show()\n",
    "\n",
    "# Вывод - Даггер в среднем повышает величину возраглаждения в сравнении с ВС, но вообще что то фигня, что это"
   ]
  },
  {
   "cell_type": "code",
   "execution_count": null,
   "metadata": {},
   "outputs": [],
   "source": [
    "# Вывод - волкер решается +- лучше всех среди задач"
   ]
  }
 ],
 "metadata": {
  "kernelspec": {
   "display_name": "Python 3",
   "language": "python",
   "name": "python3"
  },
  "language_info": {
   "codemirror_mode": {
    "name": "ipython",
    "version": 3
   },
   "file_extension": ".py",
   "mimetype": "text/x-python",
   "name": "python",
   "nbconvert_exporter": "python",
   "pygments_lexer": "ipython3",
   "version": "3.6.8"
  }
 },
 "nbformat": 4,
 "nbformat_minor": 2
}
