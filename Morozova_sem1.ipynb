{
 "cells": [
  {
   "cell_type": "code",
   "execution_count": 58,
   "metadata": {},
   "outputs": [],
   "source": [
    "import pandas as pd\n",
    "import numpy as np\n",
    "import os\n",
    "import matplotlib.pyplot as plt\n",
    "\n",
    "%matplotlib inline"
   ]
  },
  {
   "cell_type": "code",
   "execution_count": 59,
   "metadata": {},
   "outputs": [],
   "source": [
    "with open(os.path.join('.', 'communities.data'), 'r') as inf:\n",
    "    res = inf.readlines()\n",
    "res = [x.replace('\\n', '') for x in res]\n",
    "res = [x.split(',') for x in res]"
   ]
  },
  {
   "cell_type": "code",
   "execution_count": 3,
   "metadata": {},
   "outputs": [],
   "source": [
    "head = '''@attribute state numeric \n",
    "@attribute county numeric \n",
    "@attribute community numeric \n",
    "@attribute communityname string \n",
    "@attribute fold numeric \n",
    "@attribute population numeric \n",
    "@attribute householdsize numeric \n",
    "@attribute racepctblack numeric \n",
    "@attribute racePctWhite numeric \n",
    "@attribute racePctAsian numeric \n",
    "@attribute racePctHisp numeric \n",
    "@attribute agePct12t21 numeric \n",
    "@attribute agePct12t29 numeric \n",
    "@attribute agePct16t24 numeric \n",
    "@attribute agePct65up numeric \n",
    "@attribute numbUrban numeric \n",
    "@attribute pctUrban numeric \n",
    "@attribute medIncome numeric \n",
    "@attribute pctWWage numeric \n",
    "@attribute pctWFarmSelf numeric \n",
    "@attribute pctWInvInc numeric \n",
    "@attribute pctWSocSec numeric \n",
    "@attribute pctWPubAsst numeric \n",
    "@attribute pctWRetire numeric \n",
    "@attribute medFamInc numeric \n",
    "@attribute perCapInc numeric \n",
    "@attribute whitePerCap numeric \n",
    "@attribute blackPerCap numeric \n",
    "@attribute indianPerCap numeric \n",
    "@attribute AsianPerCap numeric \n",
    "@attribute OtherPerCap numeric \n",
    "@attribute HispPerCap numeric \n",
    "@attribute NumUnderPov numeric \n",
    "@attribute PctPopUnderPov numeric \n",
    "@attribute PctLess9thGrade numeric \n",
    "@attribute PctNotHSGrad numeric \n",
    "@attribute PctBSorMore numeric \n",
    "@attribute PctUnemployed numeric \n",
    "@attribute PctEmploy numeric \n",
    "@attribute PctEmplManu numeric \n",
    "@attribute PctEmplProfServ numeric \n",
    "@attribute PctOccupManu numeric \n",
    "@attribute PctOccupMgmtProf numeric \n",
    "@attribute MalePctDivorce numeric \n",
    "@attribute MalePctNevMarr numeric \n",
    "@attribute FemalePctDiv numeric \n",
    "@attribute TotalPctDiv numeric \n",
    "@attribute PersPerFam numeric \n",
    "@attribute PctFam2Par numeric \n",
    "@attribute PctKids2Par numeric \n",
    "@attribute PctYoungKids2Par numeric \n",
    "@attribute PctTeen2Par numeric \n",
    "@attribute PctWorkMomYoungKids numeric \n",
    "@attribute PctWorkMom numeric \n",
    "@attribute NumIlleg numeric \n",
    "@attribute PctIlleg numeric \n",
    "@attribute NumImmig numeric \n",
    "@attribute PctImmigRecent numeric \n",
    "@attribute PctImmigRec5 numeric \n",
    "@attribute PctImmigRec8 numeric \n",
    "@attribute PctImmigRec10 numeric \n",
    "@attribute PctRecentImmig numeric \n",
    "@attribute PctRecImmig5 numeric \n",
    "@attribute PctRecImmig8 numeric \n",
    "@attribute PctRecImmig10 numeric \n",
    "@attribute PctSpeakEnglOnly numeric \n",
    "@attribute PctNotSpeakEnglWell numeric \n",
    "@attribute PctLargHouseFam numeric \n",
    "@attribute PctLargHouseOccup numeric \n",
    "@attribute PersPerOccupHous numeric \n",
    "@attribute PersPerOwnOccHous numeric \n",
    "@attribute PersPerRentOccHous numeric \n",
    "@attribute PctPersOwnOccup numeric \n",
    "@attribute PctPersDenseHous numeric \n",
    "@attribute PctHousLess3BR numeric \n",
    "@attribute MedNumBR numeric \n",
    "@attribute HousVacant numeric \n",
    "@attribute PctHousOccup numeric \n",
    "@attribute PctHousOwnOcc numeric \n",
    "@attribute PctVacantBoarded numeric \n",
    "@attribute PctVacMore6Mos numeric \n",
    "@attribute MedYrHousBuilt numeric \n",
    "@attribute PctHousNoPhone numeric \n",
    "@attribute PctWOFullPlumb numeric \n",
    "@attribute OwnOccLowQuart numeric \n",
    "@attribute OwnOccMedVal numeric \n",
    "@attribute OwnOccHiQuart numeric \n",
    "@attribute RentLowQ numeric \n",
    "@attribute RentMedian numeric \n",
    "@attribute RentHighQ numeric \n",
    "@attribute MedRent numeric \n",
    "@attribute MedRentPctHousInc numeric \n",
    "@attribute MedOwnCostPctInc numeric \n",
    "@attribute MedOwnCostPctIncNoMtg numeric \n",
    "@attribute NumInShelters numeric \n",
    "@attribute NumStreet numeric \n",
    "@attribute PctForeignBorn numeric \n",
    "@attribute PctBornSameState numeric \n",
    "@attribute PctSameHouse85 numeric \n",
    "@attribute PctSameCity85 numeric \n",
    "@attribute PctSameState85 numeric \n",
    "@attribute LemasSwornFT numeric \n",
    "@attribute LemasSwFTPerPop numeric \n",
    "@attribute LemasSwFTFieldOps numeric \n",
    "@attribute LemasSwFTFieldPerPop numeric \n",
    "@attribute LemasTotalReq numeric \n",
    "@attribute LemasTotReqPerPop numeric \n",
    "@attribute PolicReqPerOffic numeric \n",
    "@attribute PolicPerPop numeric \n",
    "@attribute RacialMatchCommPol numeric \n",
    "@attribute PctPolicWhite numeric \n",
    "@attribute PctPolicBlack numeric \n",
    "@attribute PctPolicHisp numeric \n",
    "@attribute PctPolicAsian numeric \n",
    "@attribute PctPolicMinor numeric \n",
    "@attribute OfficAssgnDrugUnits numeric \n",
    "@attribute NumKindsDrugsSeiz numeric \n",
    "@attribute PolicAveOTWorked numeric \n",
    "@attribute LandArea numeric \n",
    "@attribute PopDens numeric \n",
    "@attribute PctUsePubTrans numeric \n",
    "@attribute PolicCars numeric \n",
    "@attribute PolicOperBudg numeric \n",
    "@attribute LemasPctPolicOnPatr numeric \n",
    "@attribute LemasGangUnitDeploy numeric \n",
    "@attribute LemasPctOfficDrugUn numeric \n",
    "@attribute PolicBudgPerPop numeric \n",
    "@attribute ViolentCrimesPerPop numeric'''"
   ]
  },
  {
   "cell_type": "code",
   "execution_count": 4,
   "metadata": {},
   "outputs": [],
   "source": [
    "goal = '@attribute ViolentCrimesPerPop numeric'"
   ]
  },
  {
   "cell_type": "code",
   "execution_count": 5,
   "metadata": {
    "scrolled": true
   },
   "outputs": [],
   "source": [
    "data = pd.DataFrame(res, columns=head.split('\\n'))"
   ]
  },
  {
   "cell_type": "code",
   "execution_count": 6,
   "metadata": {
    "scrolled": false
   },
   "outputs": [
    {
     "data": {
      "text/html": [
       "<div>\n",
       "<style scoped>\n",
       "    .dataframe tbody tr th:only-of-type {\n",
       "        vertical-align: middle;\n",
       "    }\n",
       "\n",
       "    .dataframe tbody tr th {\n",
       "        vertical-align: top;\n",
       "    }\n",
       "\n",
       "    .dataframe thead th {\n",
       "        text-align: right;\n",
       "    }\n",
       "</style>\n",
       "<table border=\"1\" class=\"dataframe\">\n",
       "  <thead>\n",
       "    <tr style=\"text-align: right;\">\n",
       "      <th></th>\n",
       "      <th>@attribute state numeric</th>\n",
       "      <th>@attribute county numeric</th>\n",
       "      <th>@attribute community numeric</th>\n",
       "      <th>@attribute communityname string</th>\n",
       "      <th>@attribute fold numeric</th>\n",
       "      <th>@attribute population numeric</th>\n",
       "      <th>@attribute householdsize numeric</th>\n",
       "      <th>@attribute racepctblack numeric</th>\n",
       "      <th>@attribute racePctWhite numeric</th>\n",
       "      <th>@attribute racePctAsian numeric</th>\n",
       "      <th>...</th>\n",
       "      <th>@attribute LandArea numeric</th>\n",
       "      <th>@attribute PopDens numeric</th>\n",
       "      <th>@attribute PctUsePubTrans numeric</th>\n",
       "      <th>@attribute PolicCars numeric</th>\n",
       "      <th>@attribute PolicOperBudg numeric</th>\n",
       "      <th>@attribute LemasPctPolicOnPatr numeric</th>\n",
       "      <th>@attribute LemasGangUnitDeploy numeric</th>\n",
       "      <th>@attribute LemasPctOfficDrugUn numeric</th>\n",
       "      <th>@attribute PolicBudgPerPop numeric</th>\n",
       "      <th>@attribute ViolentCrimesPerPop numeric</th>\n",
       "    </tr>\n",
       "  </thead>\n",
       "  <tbody>\n",
       "    <tr>\n",
       "      <th>0</th>\n",
       "      <td>8</td>\n",
       "      <td>?</td>\n",
       "      <td>?</td>\n",
       "      <td>Lakewoodcity</td>\n",
       "      <td>1</td>\n",
       "      <td>0.19</td>\n",
       "      <td>0.33</td>\n",
       "      <td>0.02</td>\n",
       "      <td>0.9</td>\n",
       "      <td>0.12</td>\n",
       "      <td>...</td>\n",
       "      <td>0.12</td>\n",
       "      <td>0.26</td>\n",
       "      <td>0.2</td>\n",
       "      <td>0.06</td>\n",
       "      <td>0.04</td>\n",
       "      <td>0.9</td>\n",
       "      <td>0.5</td>\n",
       "      <td>0.32</td>\n",
       "      <td>0.14</td>\n",
       "      <td>0.2</td>\n",
       "    </tr>\n",
       "    <tr>\n",
       "      <th>1</th>\n",
       "      <td>53</td>\n",
       "      <td>?</td>\n",
       "      <td>?</td>\n",
       "      <td>Tukwilacity</td>\n",
       "      <td>1</td>\n",
       "      <td>0</td>\n",
       "      <td>0.16</td>\n",
       "      <td>0.12</td>\n",
       "      <td>0.74</td>\n",
       "      <td>0.45</td>\n",
       "      <td>...</td>\n",
       "      <td>0.02</td>\n",
       "      <td>0.12</td>\n",
       "      <td>0.45</td>\n",
       "      <td>?</td>\n",
       "      <td>?</td>\n",
       "      <td>?</td>\n",
       "      <td>?</td>\n",
       "      <td>0</td>\n",
       "      <td>?</td>\n",
       "      <td>0.67</td>\n",
       "    </tr>\n",
       "    <tr>\n",
       "      <th>2</th>\n",
       "      <td>24</td>\n",
       "      <td>?</td>\n",
       "      <td>?</td>\n",
       "      <td>Aberdeentown</td>\n",
       "      <td>1</td>\n",
       "      <td>0</td>\n",
       "      <td>0.42</td>\n",
       "      <td>0.49</td>\n",
       "      <td>0.56</td>\n",
       "      <td>0.17</td>\n",
       "      <td>...</td>\n",
       "      <td>0.01</td>\n",
       "      <td>0.21</td>\n",
       "      <td>0.02</td>\n",
       "      <td>?</td>\n",
       "      <td>?</td>\n",
       "      <td>?</td>\n",
       "      <td>?</td>\n",
       "      <td>0</td>\n",
       "      <td>?</td>\n",
       "      <td>0.43</td>\n",
       "    </tr>\n",
       "    <tr>\n",
       "      <th>3</th>\n",
       "      <td>34</td>\n",
       "      <td>5</td>\n",
       "      <td>81440</td>\n",
       "      <td>Willingborotownship</td>\n",
       "      <td>1</td>\n",
       "      <td>0.04</td>\n",
       "      <td>0.77</td>\n",
       "      <td>1</td>\n",
       "      <td>0.08</td>\n",
       "      <td>0.12</td>\n",
       "      <td>...</td>\n",
       "      <td>0.02</td>\n",
       "      <td>0.39</td>\n",
       "      <td>0.28</td>\n",
       "      <td>?</td>\n",
       "      <td>?</td>\n",
       "      <td>?</td>\n",
       "      <td>?</td>\n",
       "      <td>0</td>\n",
       "      <td>?</td>\n",
       "      <td>0.12</td>\n",
       "    </tr>\n",
       "    <tr>\n",
       "      <th>4</th>\n",
       "      <td>42</td>\n",
       "      <td>95</td>\n",
       "      <td>6096</td>\n",
       "      <td>Bethlehemtownship</td>\n",
       "      <td>1</td>\n",
       "      <td>0.01</td>\n",
       "      <td>0.55</td>\n",
       "      <td>0.02</td>\n",
       "      <td>0.95</td>\n",
       "      <td>0.09</td>\n",
       "      <td>...</td>\n",
       "      <td>0.04</td>\n",
       "      <td>0.09</td>\n",
       "      <td>0.02</td>\n",
       "      <td>?</td>\n",
       "      <td>?</td>\n",
       "      <td>?</td>\n",
       "      <td>?</td>\n",
       "      <td>0</td>\n",
       "      <td>?</td>\n",
       "      <td>0.03</td>\n",
       "    </tr>\n",
       "  </tbody>\n",
       "</table>\n",
       "<p>5 rows × 128 columns</p>\n",
       "</div>"
      ],
      "text/plain": [
       "  @attribute state numeric  @attribute county numeric   \\\n",
       "0                         8                          ?   \n",
       "1                        53                          ?   \n",
       "2                        24                          ?   \n",
       "3                        34                          5   \n",
       "4                        42                         95   \n",
       "\n",
       "  @attribute community numeric  @attribute communityname string   \\\n",
       "0                             ?                     Lakewoodcity   \n",
       "1                             ?                      Tukwilacity   \n",
       "2                             ?                     Aberdeentown   \n",
       "3                         81440              Willingborotownship   \n",
       "4                          6096                Bethlehemtownship   \n",
       "\n",
       "  @attribute fold numeric  @attribute population numeric   \\\n",
       "0                        1                           0.19   \n",
       "1                        1                              0   \n",
       "2                        1                              0   \n",
       "3                        1                           0.04   \n",
       "4                        1                           0.01   \n",
       "\n",
       "  @attribute householdsize numeric  @attribute racepctblack numeric   \\\n",
       "0                              0.33                             0.02   \n",
       "1                              0.16                             0.12   \n",
       "2                              0.42                             0.49   \n",
       "3                              0.77                                1   \n",
       "4                              0.55                             0.02   \n",
       "\n",
       "  @attribute racePctWhite numeric  @attribute racePctAsian numeric   \\\n",
       "0                              0.9                             0.12   \n",
       "1                             0.74                             0.45   \n",
       "2                             0.56                             0.17   \n",
       "3                             0.08                             0.12   \n",
       "4                             0.95                             0.09   \n",
       "\n",
       "                   ...                   @attribute LandArea numeric   \\\n",
       "0                  ...                                           0.12   \n",
       "1                  ...                                           0.02   \n",
       "2                  ...                                           0.01   \n",
       "3                  ...                                           0.02   \n",
       "4                  ...                                           0.04   \n",
       "\n",
       "  @attribute PopDens numeric  @attribute PctUsePubTrans numeric   \\\n",
       "0                        0.26                                0.2   \n",
       "1                        0.12                               0.45   \n",
       "2                        0.21                               0.02   \n",
       "3                        0.39                               0.28   \n",
       "4                        0.09                               0.02   \n",
       "\n",
       "  @attribute PolicCars numeric  @attribute PolicOperBudg numeric   \\\n",
       "0                          0.06                              0.04   \n",
       "1                             ?                                 ?   \n",
       "2                             ?                                 ?   \n",
       "3                             ?                                 ?   \n",
       "4                             ?                                 ?   \n",
       "\n",
       "  @attribute LemasPctPolicOnPatr numeric   \\\n",
       "0                                     0.9   \n",
       "1                                       ?   \n",
       "2                                       ?   \n",
       "3                                       ?   \n",
       "4                                       ?   \n",
       "\n",
       "  @attribute LemasGangUnitDeploy numeric   \\\n",
       "0                                     0.5   \n",
       "1                                       ?   \n",
       "2                                       ?   \n",
       "3                                       ?   \n",
       "4                                       ?   \n",
       "\n",
       "  @attribute LemasPctOfficDrugUn numeric  @attribute PolicBudgPerPop numeric   \\\n",
       "0                                    0.32                                0.14   \n",
       "1                                       0                                   ?   \n",
       "2                                       0                                   ?   \n",
       "3                                       0                                   ?   \n",
       "4                                       0                                   ?   \n",
       "\n",
       "  @attribute ViolentCrimesPerPop numeric  \n",
       "0                                    0.2  \n",
       "1                                   0.67  \n",
       "2                                   0.43  \n",
       "3                                   0.12  \n",
       "4                                   0.03  \n",
       "\n",
       "[5 rows x 128 columns]"
      ]
     },
     "execution_count": 6,
     "metadata": {},
     "output_type": "execute_result"
    }
   ],
   "source": [
    "data.head()"
   ]
  },
  {
   "cell_type": "code",
   "execution_count": 7,
   "metadata": {},
   "outputs": [],
   "source": [
    "data = data.applymap(lambda x: x.replace('?', 'NaN'))"
   ]
  },
  {
   "cell_type": "code",
   "execution_count": 8,
   "metadata": {},
   "outputs": [
    {
     "data": {
      "text/plain": [
       "nan"
      ]
     },
     "execution_count": 8,
     "metadata": {},
     "output_type": "execute_result"
    }
   ],
   "source": [
    "float('NaN')"
   ]
  },
  {
   "cell_type": "code",
   "execution_count": 9,
   "metadata": {},
   "outputs": [],
   "source": [
    "def my_transfer(x):\n",
    "    if x == '?':\n",
    "        return np.nan\n",
    "    try:\n",
    "        return float(x)\n",
    "    except:\n",
    "        return x"
   ]
  },
  {
   "cell_type": "code",
   "execution_count": 10,
   "metadata": {},
   "outputs": [],
   "source": [
    "data = data.applymap(my_transfer)"
   ]
  },
  {
   "cell_type": "markdown",
   "metadata": {},
   "source": [
    "Заполнить пропуски в данных самыми частыми значениями в колонке для категориальных переменных и средним арифметическим для численных"
   ]
  },
  {
   "cell_type": "code",
   "execution_count": 11,
   "metadata": {},
   "outputs": [
    {
     "name": "stderr",
     "output_type": "stream",
     "text": [
      "/usr/local/lib/python3.6/dist-packages/ipykernel_launcher.py:3: SettingWithCopyWarning: \n",
      "A value is trying to be set on a copy of a slice from a DataFrame\n",
      "\n",
      "See the caveats in the documentation: http://pandas.pydata.org/pandas-docs/stable/indexing.html#indexing-view-versus-copy\n",
      "  This is separate from the ipykernel package so we can avoid doing imports until\n"
     ]
    },
    {
     "data": {
      "text/html": [
       "<div>\n",
       "<style scoped>\n",
       "    .dataframe tbody tr th:only-of-type {\n",
       "        vertical-align: middle;\n",
       "    }\n",
       "\n",
       "    .dataframe tbody tr th {\n",
       "        vertical-align: top;\n",
       "    }\n",
       "\n",
       "    .dataframe thead th {\n",
       "        text-align: right;\n",
       "    }\n",
       "</style>\n",
       "<table border=\"1\" class=\"dataframe\">\n",
       "  <thead>\n",
       "    <tr style=\"text-align: right;\">\n",
       "      <th></th>\n",
       "      <th>@attribute state numeric</th>\n",
       "      <th>@attribute county numeric</th>\n",
       "      <th>@attribute community numeric</th>\n",
       "      <th>@attribute communityname string</th>\n",
       "      <th>@attribute fold numeric</th>\n",
       "      <th>@attribute population numeric</th>\n",
       "      <th>@attribute householdsize numeric</th>\n",
       "      <th>@attribute racepctblack numeric</th>\n",
       "      <th>@attribute racePctWhite numeric</th>\n",
       "      <th>@attribute racePctAsian numeric</th>\n",
       "      <th>...</th>\n",
       "      <th>@attribute LandArea numeric</th>\n",
       "      <th>@attribute PopDens numeric</th>\n",
       "      <th>@attribute PctUsePubTrans numeric</th>\n",
       "      <th>@attribute PolicCars numeric</th>\n",
       "      <th>@attribute PolicOperBudg numeric</th>\n",
       "      <th>@attribute LemasPctPolicOnPatr numeric</th>\n",
       "      <th>@attribute LemasGangUnitDeploy numeric</th>\n",
       "      <th>@attribute LemasPctOfficDrugUn numeric</th>\n",
       "      <th>@attribute PolicBudgPerPop numeric</th>\n",
       "      <th>@attribute ViolentCrimesPerPop numeric</th>\n",
       "    </tr>\n",
       "  </thead>\n",
       "  <tbody>\n",
       "    <tr>\n",
       "      <th>0</th>\n",
       "      <td>8.0</td>\n",
       "      <td>58.826829</td>\n",
       "      <td>46188.336597</td>\n",
       "      <td>Lakewoodcity</td>\n",
       "      <td>1.0</td>\n",
       "      <td>0.19</td>\n",
       "      <td>0.33</td>\n",
       "      <td>0.02</td>\n",
       "      <td>0.90</td>\n",
       "      <td>0.12</td>\n",
       "      <td>...</td>\n",
       "      <td>0.12</td>\n",
       "      <td>0.26</td>\n",
       "      <td>0.20</td>\n",
       "      <td>0.060000</td>\n",
       "      <td>0.040000</td>\n",
       "      <td>0.900000</td>\n",
       "      <td>0.500000</td>\n",
       "      <td>0.32</td>\n",
       "      <td>0.140000</td>\n",
       "      <td>0.20</td>\n",
       "    </tr>\n",
       "    <tr>\n",
       "      <th>1</th>\n",
       "      <td>53.0</td>\n",
       "      <td>58.826829</td>\n",
       "      <td>46188.336597</td>\n",
       "      <td>Tukwilacity</td>\n",
       "      <td>1.0</td>\n",
       "      <td>0.00</td>\n",
       "      <td>0.16</td>\n",
       "      <td>0.12</td>\n",
       "      <td>0.74</td>\n",
       "      <td>0.45</td>\n",
       "      <td>...</td>\n",
       "      <td>0.02</td>\n",
       "      <td>0.12</td>\n",
       "      <td>0.45</td>\n",
       "      <td>0.163103</td>\n",
       "      <td>0.076708</td>\n",
       "      <td>0.698589</td>\n",
       "      <td>0.440439</td>\n",
       "      <td>0.00</td>\n",
       "      <td>0.195078</td>\n",
       "      <td>0.67</td>\n",
       "    </tr>\n",
       "    <tr>\n",
       "      <th>2</th>\n",
       "      <td>24.0</td>\n",
       "      <td>58.826829</td>\n",
       "      <td>46188.336597</td>\n",
       "      <td>Aberdeentown</td>\n",
       "      <td>1.0</td>\n",
       "      <td>0.00</td>\n",
       "      <td>0.42</td>\n",
       "      <td>0.49</td>\n",
       "      <td>0.56</td>\n",
       "      <td>0.17</td>\n",
       "      <td>...</td>\n",
       "      <td>0.01</td>\n",
       "      <td>0.21</td>\n",
       "      <td>0.02</td>\n",
       "      <td>0.163103</td>\n",
       "      <td>0.076708</td>\n",
       "      <td>0.698589</td>\n",
       "      <td>0.440439</td>\n",
       "      <td>0.00</td>\n",
       "      <td>0.195078</td>\n",
       "      <td>0.43</td>\n",
       "    </tr>\n",
       "    <tr>\n",
       "      <th>3</th>\n",
       "      <td>34.0</td>\n",
       "      <td>5.000000</td>\n",
       "      <td>81440.000000</td>\n",
       "      <td>Willingborotownship</td>\n",
       "      <td>1.0</td>\n",
       "      <td>0.04</td>\n",
       "      <td>0.77</td>\n",
       "      <td>1.00</td>\n",
       "      <td>0.08</td>\n",
       "      <td>0.12</td>\n",
       "      <td>...</td>\n",
       "      <td>0.02</td>\n",
       "      <td>0.39</td>\n",
       "      <td>0.28</td>\n",
       "      <td>0.163103</td>\n",
       "      <td>0.076708</td>\n",
       "      <td>0.698589</td>\n",
       "      <td>0.440439</td>\n",
       "      <td>0.00</td>\n",
       "      <td>0.195078</td>\n",
       "      <td>0.12</td>\n",
       "    </tr>\n",
       "    <tr>\n",
       "      <th>4</th>\n",
       "      <td>42.0</td>\n",
       "      <td>95.000000</td>\n",
       "      <td>6096.000000</td>\n",
       "      <td>Bethlehemtownship</td>\n",
       "      <td>1.0</td>\n",
       "      <td>0.01</td>\n",
       "      <td>0.55</td>\n",
       "      <td>0.02</td>\n",
       "      <td>0.95</td>\n",
       "      <td>0.09</td>\n",
       "      <td>...</td>\n",
       "      <td>0.04</td>\n",
       "      <td>0.09</td>\n",
       "      <td>0.02</td>\n",
       "      <td>0.163103</td>\n",
       "      <td>0.076708</td>\n",
       "      <td>0.698589</td>\n",
       "      <td>0.440439</td>\n",
       "      <td>0.00</td>\n",
       "      <td>0.195078</td>\n",
       "      <td>0.03</td>\n",
       "    </tr>\n",
       "  </tbody>\n",
       "</table>\n",
       "<p>5 rows × 128 columns</p>\n",
       "</div>"
      ],
      "text/plain": [
       "   @attribute state numeric   @attribute county numeric   \\\n",
       "0                        8.0                   58.826829   \n",
       "1                       53.0                   58.826829   \n",
       "2                       24.0                   58.826829   \n",
       "3                       34.0                    5.000000   \n",
       "4                       42.0                   95.000000   \n",
       "\n",
       "   @attribute community numeric  @attribute communityname string   \\\n",
       "0                   46188.336597                     Lakewoodcity   \n",
       "1                   46188.336597                      Tukwilacity   \n",
       "2                   46188.336597                     Aberdeentown   \n",
       "3                   81440.000000              Willingborotownship   \n",
       "4                    6096.000000                Bethlehemtownship   \n",
       "\n",
       "   @attribute fold numeric   @attribute population numeric   \\\n",
       "0                       1.0                            0.19   \n",
       "1                       1.0                            0.00   \n",
       "2                       1.0                            0.00   \n",
       "3                       1.0                            0.04   \n",
       "4                       1.0                            0.01   \n",
       "\n",
       "   @attribute householdsize numeric   @attribute racepctblack numeric   \\\n",
       "0                               0.33                              0.02   \n",
       "1                               0.16                              0.12   \n",
       "2                               0.42                              0.49   \n",
       "3                               0.77                              1.00   \n",
       "4                               0.55                              0.02   \n",
       "\n",
       "   @attribute racePctWhite numeric   @attribute racePctAsian numeric   \\\n",
       "0                              0.90                              0.12   \n",
       "1                              0.74                              0.45   \n",
       "2                              0.56                              0.17   \n",
       "3                              0.08                              0.12   \n",
       "4                              0.95                              0.09   \n",
       "\n",
       "                    ...                    @attribute LandArea numeric   \\\n",
       "0                   ...                                            0.12   \n",
       "1                   ...                                            0.02   \n",
       "2                   ...                                            0.01   \n",
       "3                   ...                                            0.02   \n",
       "4                   ...                                            0.04   \n",
       "\n",
       "   @attribute PopDens numeric   @attribute PctUsePubTrans numeric   \\\n",
       "0                         0.26                                0.20   \n",
       "1                         0.12                                0.45   \n",
       "2                         0.21                                0.02   \n",
       "3                         0.39                                0.28   \n",
       "4                         0.09                                0.02   \n",
       "\n",
       "   @attribute PolicCars numeric   @attribute PolicOperBudg numeric   \\\n",
       "0                       0.060000                           0.040000   \n",
       "1                       0.163103                           0.076708   \n",
       "2                       0.163103                           0.076708   \n",
       "3                       0.163103                           0.076708   \n",
       "4                       0.163103                           0.076708   \n",
       "\n",
       "   @attribute LemasPctPolicOnPatr numeric   \\\n",
       "0                                 0.900000   \n",
       "1                                 0.698589   \n",
       "2                                 0.698589   \n",
       "3                                 0.698589   \n",
       "4                                 0.698589   \n",
       "\n",
       "   @attribute LemasGangUnitDeploy numeric   \\\n",
       "0                                 0.500000   \n",
       "1                                 0.440439   \n",
       "2                                 0.440439   \n",
       "3                                 0.440439   \n",
       "4                                 0.440439   \n",
       "\n",
       "   @attribute LemasPctOfficDrugUn numeric   \\\n",
       "0                                     0.32   \n",
       "1                                     0.00   \n",
       "2                                     0.00   \n",
       "3                                     0.00   \n",
       "4                                     0.00   \n",
       "\n",
       "   @attribute PolicBudgPerPop numeric   @attribute ViolentCrimesPerPop numeric  \n",
       "0                             0.140000                                    0.20  \n",
       "1                             0.195078                                    0.67  \n",
       "2                             0.195078                                    0.43  \n",
       "3                             0.195078                                    0.12  \n",
       "4                             0.195078                                    0.03  \n",
       "\n",
       "[5 rows x 128 columns]"
      ]
     },
     "execution_count": 11,
     "metadata": {},
     "output_type": "execute_result"
    }
   ],
   "source": [
    "for el in data:\n",
    "    if \"numeric\" in el:\n",
    "        data[el][np.isnan(data[el])] = np.nanmean(data[el])\n",
    "        \n",
    "data.head()"
   ]
  },
  {
   "cell_type": "markdown",
   "metadata": {},
   "source": [
    "Сделать onehot encoding"
   ]
  },
  {
   "cell_type": "code",
   "execution_count": 52,
   "metadata": {},
   "outputs": [],
   "source": [
    "del data[\"@attribute communityname string \"]"
   ]
  },
  {
   "cell_type": "code",
   "execution_count": 53,
   "metadata": {},
   "outputs": [
    {
     "data": {
      "text/html": [
       "<div>\n",
       "<style scoped>\n",
       "    .dataframe tbody tr th:only-of-type {\n",
       "        vertical-align: middle;\n",
       "    }\n",
       "\n",
       "    .dataframe tbody tr th {\n",
       "        vertical-align: top;\n",
       "    }\n",
       "\n",
       "    .dataframe thead th {\n",
       "        text-align: right;\n",
       "    }\n",
       "</style>\n",
       "<table border=\"1\" class=\"dataframe\">\n",
       "  <thead>\n",
       "    <tr style=\"text-align: right;\">\n",
       "      <th></th>\n",
       "      <th>@attribute state numeric</th>\n",
       "      <th>@attribute county numeric</th>\n",
       "      <th>@attribute community numeric</th>\n",
       "      <th>@attribute fold numeric</th>\n",
       "      <th>@attribute population numeric</th>\n",
       "      <th>@attribute householdsize numeric</th>\n",
       "      <th>@attribute racepctblack numeric</th>\n",
       "      <th>@attribute racePctWhite numeric</th>\n",
       "      <th>@attribute racePctAsian numeric</th>\n",
       "      <th>@attribute racePctHisp numeric</th>\n",
       "      <th>...</th>\n",
       "      <th>@attribute LandArea numeric</th>\n",
       "      <th>@attribute PopDens numeric</th>\n",
       "      <th>@attribute PctUsePubTrans numeric</th>\n",
       "      <th>@attribute PolicCars numeric</th>\n",
       "      <th>@attribute PolicOperBudg numeric</th>\n",
       "      <th>@attribute LemasPctPolicOnPatr numeric</th>\n",
       "      <th>@attribute LemasGangUnitDeploy numeric</th>\n",
       "      <th>@attribute LemasPctOfficDrugUn numeric</th>\n",
       "      <th>@attribute PolicBudgPerPop numeric</th>\n",
       "      <th>@attribute ViolentCrimesPerPop numeric</th>\n",
       "    </tr>\n",
       "  </thead>\n",
       "  <tbody>\n",
       "    <tr>\n",
       "      <th>0</th>\n",
       "      <td>8.0</td>\n",
       "      <td>58.826829</td>\n",
       "      <td>46188.336597</td>\n",
       "      <td>1.0</td>\n",
       "      <td>0.19</td>\n",
       "      <td>0.33</td>\n",
       "      <td>0.02</td>\n",
       "      <td>0.90</td>\n",
       "      <td>0.12</td>\n",
       "      <td>0.17</td>\n",
       "      <td>...</td>\n",
       "      <td>0.12</td>\n",
       "      <td>0.26</td>\n",
       "      <td>0.20</td>\n",
       "      <td>0.060000</td>\n",
       "      <td>0.040000</td>\n",
       "      <td>0.900000</td>\n",
       "      <td>0.500000</td>\n",
       "      <td>0.32</td>\n",
       "      <td>0.140000</td>\n",
       "      <td>0.20</td>\n",
       "    </tr>\n",
       "    <tr>\n",
       "      <th>1</th>\n",
       "      <td>53.0</td>\n",
       "      <td>58.826829</td>\n",
       "      <td>46188.336597</td>\n",
       "      <td>1.0</td>\n",
       "      <td>0.00</td>\n",
       "      <td>0.16</td>\n",
       "      <td>0.12</td>\n",
       "      <td>0.74</td>\n",
       "      <td>0.45</td>\n",
       "      <td>0.07</td>\n",
       "      <td>...</td>\n",
       "      <td>0.02</td>\n",
       "      <td>0.12</td>\n",
       "      <td>0.45</td>\n",
       "      <td>0.163103</td>\n",
       "      <td>0.076708</td>\n",
       "      <td>0.698589</td>\n",
       "      <td>0.440439</td>\n",
       "      <td>0.00</td>\n",
       "      <td>0.195078</td>\n",
       "      <td>0.67</td>\n",
       "    </tr>\n",
       "    <tr>\n",
       "      <th>2</th>\n",
       "      <td>24.0</td>\n",
       "      <td>58.826829</td>\n",
       "      <td>46188.336597</td>\n",
       "      <td>1.0</td>\n",
       "      <td>0.00</td>\n",
       "      <td>0.42</td>\n",
       "      <td>0.49</td>\n",
       "      <td>0.56</td>\n",
       "      <td>0.17</td>\n",
       "      <td>0.04</td>\n",
       "      <td>...</td>\n",
       "      <td>0.01</td>\n",
       "      <td>0.21</td>\n",
       "      <td>0.02</td>\n",
       "      <td>0.163103</td>\n",
       "      <td>0.076708</td>\n",
       "      <td>0.698589</td>\n",
       "      <td>0.440439</td>\n",
       "      <td>0.00</td>\n",
       "      <td>0.195078</td>\n",
       "      <td>0.43</td>\n",
       "    </tr>\n",
       "    <tr>\n",
       "      <th>3</th>\n",
       "      <td>34.0</td>\n",
       "      <td>5.000000</td>\n",
       "      <td>81440.000000</td>\n",
       "      <td>1.0</td>\n",
       "      <td>0.04</td>\n",
       "      <td>0.77</td>\n",
       "      <td>1.00</td>\n",
       "      <td>0.08</td>\n",
       "      <td>0.12</td>\n",
       "      <td>0.10</td>\n",
       "      <td>...</td>\n",
       "      <td>0.02</td>\n",
       "      <td>0.39</td>\n",
       "      <td>0.28</td>\n",
       "      <td>0.163103</td>\n",
       "      <td>0.076708</td>\n",
       "      <td>0.698589</td>\n",
       "      <td>0.440439</td>\n",
       "      <td>0.00</td>\n",
       "      <td>0.195078</td>\n",
       "      <td>0.12</td>\n",
       "    </tr>\n",
       "    <tr>\n",
       "      <th>4</th>\n",
       "      <td>42.0</td>\n",
       "      <td>95.000000</td>\n",
       "      <td>6096.000000</td>\n",
       "      <td>1.0</td>\n",
       "      <td>0.01</td>\n",
       "      <td>0.55</td>\n",
       "      <td>0.02</td>\n",
       "      <td>0.95</td>\n",
       "      <td>0.09</td>\n",
       "      <td>0.05</td>\n",
       "      <td>...</td>\n",
       "      <td>0.04</td>\n",
       "      <td>0.09</td>\n",
       "      <td>0.02</td>\n",
       "      <td>0.163103</td>\n",
       "      <td>0.076708</td>\n",
       "      <td>0.698589</td>\n",
       "      <td>0.440439</td>\n",
       "      <td>0.00</td>\n",
       "      <td>0.195078</td>\n",
       "      <td>0.03</td>\n",
       "    </tr>\n",
       "  </tbody>\n",
       "</table>\n",
       "<p>5 rows × 127 columns</p>\n",
       "</div>"
      ],
      "text/plain": [
       "   @attribute state numeric   @attribute county numeric   \\\n",
       "0                        8.0                   58.826829   \n",
       "1                       53.0                   58.826829   \n",
       "2                       24.0                   58.826829   \n",
       "3                       34.0                    5.000000   \n",
       "4                       42.0                   95.000000   \n",
       "\n",
       "   @attribute community numeric   @attribute fold numeric   \\\n",
       "0                   46188.336597                       1.0   \n",
       "1                   46188.336597                       1.0   \n",
       "2                   46188.336597                       1.0   \n",
       "3                   81440.000000                       1.0   \n",
       "4                    6096.000000                       1.0   \n",
       "\n",
       "   @attribute population numeric   @attribute householdsize numeric   \\\n",
       "0                            0.19                               0.33   \n",
       "1                            0.00                               0.16   \n",
       "2                            0.00                               0.42   \n",
       "3                            0.04                               0.77   \n",
       "4                            0.01                               0.55   \n",
       "\n",
       "   @attribute racepctblack numeric   @attribute racePctWhite numeric   \\\n",
       "0                              0.02                              0.90   \n",
       "1                              0.12                              0.74   \n",
       "2                              0.49                              0.56   \n",
       "3                              1.00                              0.08   \n",
       "4                              0.02                              0.95   \n",
       "\n",
       "   @attribute racePctAsian numeric   @attribute racePctHisp numeric   \\\n",
       "0                              0.12                             0.17   \n",
       "1                              0.45                             0.07   \n",
       "2                              0.17                             0.04   \n",
       "3                              0.12                             0.10   \n",
       "4                              0.09                             0.05   \n",
       "\n",
       "                    ...                    @attribute LandArea numeric   \\\n",
       "0                   ...                                            0.12   \n",
       "1                   ...                                            0.02   \n",
       "2                   ...                                            0.01   \n",
       "3                   ...                                            0.02   \n",
       "4                   ...                                            0.04   \n",
       "\n",
       "   @attribute PopDens numeric   @attribute PctUsePubTrans numeric   \\\n",
       "0                         0.26                                0.20   \n",
       "1                         0.12                                0.45   \n",
       "2                         0.21                                0.02   \n",
       "3                         0.39                                0.28   \n",
       "4                         0.09                                0.02   \n",
       "\n",
       "   @attribute PolicCars numeric   @attribute PolicOperBudg numeric   \\\n",
       "0                       0.060000                           0.040000   \n",
       "1                       0.163103                           0.076708   \n",
       "2                       0.163103                           0.076708   \n",
       "3                       0.163103                           0.076708   \n",
       "4                       0.163103                           0.076708   \n",
       "\n",
       "   @attribute LemasPctPolicOnPatr numeric   \\\n",
       "0                                 0.900000   \n",
       "1                                 0.698589   \n",
       "2                                 0.698589   \n",
       "3                                 0.698589   \n",
       "4                                 0.698589   \n",
       "\n",
       "   @attribute LemasGangUnitDeploy numeric   \\\n",
       "0                                 0.500000   \n",
       "1                                 0.440439   \n",
       "2                                 0.440439   \n",
       "3                                 0.440439   \n",
       "4                                 0.440439   \n",
       "\n",
       "   @attribute LemasPctOfficDrugUn numeric   \\\n",
       "0                                     0.32   \n",
       "1                                     0.00   \n",
       "2                                     0.00   \n",
       "3                                     0.00   \n",
       "4                                     0.00   \n",
       "\n",
       "   @attribute PolicBudgPerPop numeric   @attribute ViolentCrimesPerPop numeric  \n",
       "0                             0.140000                                    0.20  \n",
       "1                             0.195078                                    0.67  \n",
       "2                             0.195078                                    0.43  \n",
       "3                             0.195078                                    0.12  \n",
       "4                             0.195078                                    0.03  \n",
       "\n",
       "[5 rows x 127 columns]"
      ]
     },
     "execution_count": 53,
     "metadata": {},
     "output_type": "execute_result"
    }
   ],
   "source": [
    "data.head()"
   ]
  },
  {
   "cell_type": "markdown",
   "metadata": {},
   "source": [
    "Построить матрицу корреляции и вывести ее heatmap"
   ]
  },
  {
   "cell_type": "code",
   "execution_count": 60,
   "metadata": {},
   "outputs": [
    {
     "data": {
      "text/plain": [
       "<matplotlib.axes._subplots.AxesSubplot at 0x7fc079b7f748>"
      ]
     },
     "execution_count": 60,
     "metadata": {},
     "output_type": "execute_result"
    },
    {
     "data": {
      "image/png": "[encoded data removed]",
      "text/plain": [
       "<Figure size 720x576 with 2 Axes>"
      ]
     },
     "metadata": {
      "needs_background": "light"
     },
     "output_type": "display_data"
    }
   ],
   "source": [
    "import seaborn as sns\n",
    "from matplotlib.colors import ListedColormap\n",
    "\n",
    "fig, ax = plt.subplots(figsize=(10,8))\n",
    "sns.heatmap(data.corr(), ax=ax, cmap=ListedColormap(['red', 'yellow', 'green']))"
   ]
  },
  {
   "cell_type": "markdown",
   "metadata": {},
   "source": [
    "Построить график распределения (hist) для целевой переменнойы"
   ]
  },
  {
   "cell_type": "code",
   "execution_count": 85,
   "metadata": {},
   "outputs": [],
   "source": [
    "goal_plot = {}\n",
    "\n",
    "for el in data[goal]:\n",
    "    if el not in goal_plot:\n",
    "        goal_plot[el] = 1\n",
    "    else:\n",
    "        goal_plot[el] += 1\n",
    "        \n",
    "xs = []\n",
    "bins = []\n",
    "\n",
    "for x in goal_plot:\n",
    "    xs.append(x)\n",
    "    bins.append(goal_plot[x])"
   ]
  },
  {
   "cell_type": "code",
   "execution_count": 142,
   "metadata": {},
   "outputs": [
    {
     "data": {
      "text/plain": [
       "<matplotlib.axes._subplots.AxesSubplot at 0x130ce9c88>"
      ]
     },
     "execution_count": 142,
     "metadata": {},
     "output_type": "execute_result"
    },
    {
     "data": {
      "image/png": "[encoded data removed]",
      "text/plain": [
       "<Figure size 432x288 with 1 Axes>"
      ]
     },
     "metadata": {
      "needs_background": "light"
     },
     "output_type": "display_data"
    }
   ],
   "source": [
    "plt.bar(xs, bins)"
   ]
  },
  {
   "cell_type": "markdown",
   "metadata": {},
   "source": [
    "Построить график суммарного количества престплений по штатам (barplot)"
   ]
  },
  {
   "cell_type": "code",
   "execution_count": 106,
   "metadata": {
    "scrolled": true
   },
   "outputs": [
    {
     "data": {
      "text/plain": [
       "46"
      ]
     },
     "execution_count": 106,
     "metadata": {},
     "output_type": "execute_result"
    }
   ],
   "source": [
    "data['@attribute state numeric '].nunique()"
   ]
  },
  {
   "cell_type": "code",
   "execution_count": 96,
   "metadata": {},
   "outputs": [],
   "source": [
    "states_plot = {}\n",
    "\n",
    "for i in range(len(data['@attribute state numeric '])):\n",
    "    if data['@attribute state numeric '][i] not in states_plot:\n",
    "        states_plot[data['@attribute state numeric '][i]] = 1\n",
    "    else:\n",
    "        states_plot[data['@attribute state numeric '][i]] += 1\n",
    "        \n",
    "xs = []\n",
    "bins = []\n",
    "\n",
    "for x in states_plot:\n",
    "    xs.append(x)\n",
    "    bins.append(states_plot[x])"
   ]
  },
  {
   "cell_type": "code",
   "execution_count": null,
   "metadata": {
    "scrolled": false
   },
   "outputs": [],
   "source": []
  },
  {
   "cell_type": "markdown",
   "metadata": {},
   "source": [
    "Построить простую линейную регрессию и оценить score на test и train"
   ]
  },
  {
   "cell_type": "code",
   "execution_count": 97,
   "metadata": {},
   "outputs": [],
   "source": [
    "from sklearn.model_selection import train_test_split\n",
    "from sklearn.linear_model import LinearRegression, Lasso, Ridge"
   ]
  },
  {
   "cell_type": "code",
   "execution_count": 98,
   "metadata": {},
   "outputs": [],
   "source": [
    "X_train, X_test, y_train, y_test = train_test_split(\\\n",
    "                            data[data.columns[:-1]], data[data.columns[-1]], test_size=0.33, random_state=41)"
   ]
  },
  {
   "cell_type": "code",
   "execution_count": 99,
   "metadata": {},
   "outputs": [],
   "source": [
    "numeric = [x for x in X_test.columns if 'numeric' in x]"
   ]
  },
  {
   "cell_type": "code",
   "execution_count": 100,
   "metadata": {
    "scrolled": true
   },
   "outputs": [],
   "source": [
    "#### данные здесь должны быть предобработаны на прошлом шаге и все NaN и строковые значения закодированы числами\n",
    "X_train = X_train[numeric]\n",
    "X_test = X_test[numeric]\n",
    "\n",
    "X_train = X_train.fillna(0)\n",
    "X_test = X_test.fillna(0)"
   ]
  },
  {
   "cell_type": "code",
   "execution_count": 101,
   "metadata": {},
   "outputs": [
    {
     "name": "stdout",
     "output_type": "stream",
     "text": [
      "CPU times: user 200 ms, sys: 352 ms, total: 552 ms\n",
      "Wall time: 343 ms\n"
     ]
    }
   ],
   "source": [
    "%%time\n",
    "lr = LinearRegression()\n",
    "lr.fit(X_train,y_train)"
   ]
  },
  {
   "cell_type": "code",
   "execution_count": 138,
   "metadata": {},
   "outputs": [
    {
     "data": {
      "text/plain": [
       "0.6787403671358658"
      ]
     },
     "execution_count": 138,
     "metadata": {},
     "output_type": "execute_result"
    }
   ],
   "source": [
    "lr.score(X_test, y_test)"
   ]
  },
  {
   "cell_type": "code",
   "execution_count": 139,
   "metadata": {},
   "outputs": [
    {
     "data": {
      "text/plain": [
       "0.7020974778517466"
      ]
     },
     "execution_count": 139,
     "metadata": {},
     "output_type": "execute_result"
    }
   ],
   "source": [
    "lr.score(X_train, y_train)"
   ]
  },
  {
   "cell_type": "markdown",
   "metadata": {},
   "source": [
    "Теперь построить L1 регрессию и оценить важность фичей"
   ]
  },
  {
   "cell_type": "markdown",
   "metadata": {},
   "source": [
    "$$(1 / (2 * n_samples)) * ||y - Xw||^2_2 + alpha * ||w||_1$$"
   ]
  },
  {
   "cell_type": "code",
   "execution_count": null,
   "metadata": {},
   "outputs": [],
   "source": [
    "#### your code here"
   ]
  },
  {
   "cell_type": "code",
   "execution_count": 102,
   "metadata": {},
   "outputs": [
    {
     "data": {
      "text/plain": [
       "Lasso(alpha=1.0, copy_X=True, fit_intercept=True, max_iter=1000,\n",
       "   normalize=False, positive=False, precompute=False, random_state=None,\n",
       "   selection='cyclic', tol=0.0001, warm_start=False)"
      ]
     },
     "execution_count": 102,
     "metadata": {},
     "output_type": "execute_result"
    }
   ],
   "source": [
    "lass = Lasso()\n",
    "lass.fit(X_train,y_train)"
   ]
  },
  {
   "cell_type": "code",
   "execution_count": 103,
   "metadata": {},
   "outputs": [
    {
     "data": {
      "text/plain": [
       "-0.006280623641708783"
      ]
     },
     "execution_count": 103,
     "metadata": {},
     "output_type": "execute_result"
    }
   ],
   "source": [
    "lass.fit(X_train, y_train)\n",
    "lass.score(X_test, y_test)"
   ]
  },
  {
   "cell_type": "code",
   "execution_count": 104,
   "metadata": {},
   "outputs": [],
   "source": [
    "from sklearn.model_selection import GridSearchCV"
   ]
  },
  {
   "cell_type": "code",
   "execution_count": 105,
   "metadata": {},
   "outputs": [],
   "source": [
    "parameters = {'alpha' : np.linspace(0.01, 0.1, 5)}"
   ]
  },
  {
   "cell_type": "code",
   "execution_count": 106,
   "metadata": {},
   "outputs": [],
   "source": [
    "clf = GridSearchCV(lass, parameters, cv=2)"
   ]
  },
  {
   "cell_type": "code",
   "execution_count": 107,
   "metadata": {},
   "outputs": [
    {
     "data": {
      "text/plain": [
       "GridSearchCV(cv=2, error_score='raise-deprecating',\n",
       "       estimator=Lasso(alpha=1.0, copy_X=True, fit_intercept=True, max_iter=1000,\n",
       "   normalize=False, positive=False, precompute=False, random_state=None,\n",
       "   selection='cyclic', tol=0.0001, warm_start=False),\n",
       "       fit_params=None, iid='warn', n_jobs=None,\n",
       "       param_grid={'alpha': array([0.01  , 0.0325, 0.055 , 0.0775, 0.1   ])},\n",
       "       pre_dispatch='2*n_jobs', refit=True, return_train_score='warn',\n",
       "       scoring=None, verbose=0)"
      ]
     },
     "execution_count": 107,
     "metadata": {},
     "output_type": "execute_result"
    }
   ],
   "source": [
    "clf.fit(X_train, y_train)"
   ]
  },
  {
   "cell_type": "code",
   "execution_count": 108,
   "metadata": {},
   "outputs": [
    {
     "data": {
      "text/plain": [
       "Lasso(alpha=0.01, copy_X=True, fit_intercept=True, max_iter=1000,\n",
       "   normalize=False, positive=False, precompute=False, random_state=None,\n",
       "   selection='cyclic', tol=0.0001, warm_start=False)"
      ]
     },
     "execution_count": 108,
     "metadata": {},
     "output_type": "execute_result"
    }
   ],
   "source": [
    "clf.best_estimator_"
   ]
  },
  {
   "cell_type": "code",
   "execution_count": 109,
   "metadata": {},
   "outputs": [
    {
     "data": {
      "text/plain": [
       "0.5641651517605639"
      ]
     },
     "execution_count": 109,
     "metadata": {},
     "output_type": "execute_result"
    }
   ],
   "source": [
    "clf.score(X_test, y_test)"
   ]
  },
  {
   "cell_type": "code",
   "execution_count": 110,
   "metadata": {},
   "outputs": [
    {
     "data": {
      "text/plain": [
       "0.5504475089688335"
      ]
     },
     "execution_count": 110,
     "metadata": {},
     "output_type": "execute_result"
    }
   ],
   "source": [
    "clf.score(X_train, y_train)"
   ]
  },
  {
   "cell_type": "code",
   "execution_count": 139,
   "metadata": {},
   "outputs": [
    {
     "data": {
      "text/plain": [
       "<BarContainer object of 5 artists>"
      ]
     },
     "execution_count": 139,
     "metadata": {},
     "output_type": "execute_result"
    },
    {
     "data": {
      "image/png": "[encoded data removed]",
      "text/plain": [
       "<Figure size 432x288 with 1 Axes>"
      ]
     },
     "metadata": {
      "needs_background": "light"
     },
     "output_type": "display_data"
    }
   ],
   "source": [
    "bins = []\n",
    "\n",
    "for a in parameters[\"alpha\"]:\n",
    "    lasso_ = Lasso(alpha=a)\n",
    "    lasso_.fit(X_train, y_train)\n",
    "    tf = lasso_.coef_ > 0\n",
    "    bins.append(tf.sum())\n",
    "\n",
    "plt.bar(parameters[\"alpha\"], bins)"
   ]
  },
  {
   "cell_type": "markdown",
   "metadata": {},
   "source": [
    "Постройте график зависимости активных фичей (w>0) от парметра alpha"
   ]
  },
  {
   "cell_type": "code",
   "execution_count": 180,
   "metadata": {},
   "outputs": [
    {
     "name": "stderr",
     "output_type": "stream",
     "text": [
      "100%|██████████| 30/30 [00:00<00:00, 26154.46it/s]\n"
     ]
    }
   ],
   "source": [
    "from tqdm import tqdm\n",
    "for alpha in tqdm(np.linspace(0.0001, 0.7, 30)):\n",
    "    continue"
   ]
  },
  {
   "cell_type": "markdown",
   "metadata": {},
   "source": [
    "Теперь сделайте Ridge regression после того, как вы получите активные фичи из L1"
   ]
  },
  {
   "cell_type": "code",
   "execution_count": 141,
   "metadata": {},
   "outputs": [
    {
     "data": {
      "text/plain": [
       "0.6921523651106776"
      ]
     },
     "execution_count": 141,
     "metadata": {},
     "output_type": "execute_result"
    }
   ],
   "source": [
    "ridge_ = Ridge()\n",
    "ridge_.fit(X_train, y_train)\n",
    "ridge_.score(X_test, y_test)"
   ]
  },
  {
   "cell_type": "code",
   "execution_count": 178,
   "metadata": {},
   "outputs": [],
   "source": [
    "### Decision tree regressor"
   ]
  },
  {
   "cell_type": "code",
   "execution_count": 143,
   "metadata": {},
   "outputs": [],
   "source": [
    "from sklearn.tree import DecisionTreeRegressor"
   ]
  },
  {
   "cell_type": "code",
   "execution_count": 144,
   "metadata": {},
   "outputs": [
    {
     "data": {
      "text/plain": [
       "0.28780223487088197"
      ]
     },
     "execution_count": 144,
     "metadata": {},
     "output_type": "execute_result"
    }
   ],
   "source": [
    "dtg = DecisionTreeRegressor()\n",
    "dtg.fit(X_train, y_train)\n",
    "dtg.score(X_test, y_test)"
   ]
  },
  {
   "cell_type": "markdown",
   "metadata": {},
   "source": [
    "Проведите GridSearch по параметрам и найдите лучшую модель (L1 или Decision tree или L2)"
   ]
  },
  {
   "cell_type": "code",
   "execution_count": 149,
   "metadata": {},
   "outputs": [
    {
     "data": {
      "text/plain": [
       "0.6862836450003365"
      ]
     },
     "execution_count": 149,
     "metadata": {},
     "output_type": "execute_result"
    }
   ],
   "source": [
    "clf_ridge = GridSearchCV(ridge_, parameters, cv=2)\n",
    "clf_ridge.fit(X_train, y_train)\n",
    "clf_ridge.score(X_test, y_test)"
   ]
  },
  {
   "cell_type": "code",
   "execution_count": 147,
   "metadata": {},
   "outputs": [
    {
     "data": {
      "text/plain": [
       "0.4339080927562347"
      ]
     },
     "execution_count": 147,
     "metadata": {},
     "output_type": "execute_result"
    }
   ],
   "source": [
    "max_depth = {\"max_depth\": [x for x in range(1, 101, 10)]}\n",
    "\n",
    "clf_dtg = GridSearchCV(dtg, max_depth, cv=2)\n",
    "clf_dtg.fit(X_train, y_train)\n",
    "clf_dtg.score(X_test, y_test)"
   ]
  },
  {
   "cell_type": "code",
   "execution_count": 150,
   "metadata": {},
   "outputs": [],
   "source": [
    "# В общем лучше всего себя показала Ridge Regression"
   ]
  },
  {
   "cell_type": "code",
   "execution_count": null,
   "metadata": {},
   "outputs": [],
   "source": []
  }
 ],
 "metadata": {
  "kernelspec": {
   "display_name": "Python 3",
   "language": "python",
   "name": "python3"
  },
  "language_info": {
   "codemirror_mode": {
    "name": "ipython",
    "version": 3
   },
   "file_extension": ".py",
   "mimetype": "text/x-python",
   "name": "python",
   "nbconvert_exporter": "python",
   "pygments_lexer": "ipython3",
   "version": "3.6.8"
  }
 },
 "nbformat": 4,
 "nbformat_minor": 2
}
